{
 "nbformat": 4,
 "nbformat_minor": 0,
 "metadata": {
  "colab": {
   "provenance": []
  },
  "kernelspec": {
   "name": "python3",
   "language": "python",
   "display_name": "Python 3 (ipykernel)"
  },
  "language_info": {
   "name": "python"
  }
 },
 "cells": [
  {
   "cell_type": "markdown",
   "source": [
    "# Практическая работа"
   ],
   "metadata": {
    "id": "m9QWlN-lq0qw"
   }
  },
  {
   "cell_type": "markdown",
   "source": [
    "# Задача"
   ],
   "metadata": {
    "id": "4Nb7eTxYWWUe"
   }
  },
  {
   "cell_type": "code",
   "execution_count": 2,
   "outputs": [],
   "source": [
    "import pandas as pd\n",
    "import numpy as np\n",
    "import pickle\n",
    "\n",
    "# from category_encoders.one_hot import OneHotEncoder\n",
    "from sklearn.model_selection import train_test_split, GridSearchCV\n",
    "from sklearn.preprocessing import StandardScaler, PolynomialFeatures, OneHotEncoder\n",
    "from sklearn.metrics import precision_score, recall_score, f1_score, accuracy_score, roc_auc_score, roc_curve, confusion_matrix\n",
    "from sklearn.calibration import CalibratedClassifierCV\n",
    "\n",
    "from sklearn.linear_model import LogisticRegression\n",
    "from sklearn.svm import SVC\n",
    "\n",
    "from sklearn.pipeline import Pipeline\n",
    "from sklearn.compose import make_column_transformer"
   ],
   "metadata": {
    "collapsed": false,
    "ExecuteTime": {
     "end_time": "2023-12-22T05:42:43.657419200Z",
     "start_time": "2023-12-22T05:42:13.983315300Z"
    }
   }
  },
  {
   "cell_type": "markdown",
   "source": [
    "Один из способов повысить эффективность взаимодействия банка с клиентами — отправлять предложение о новой услуге не всем клиентам, а только некоторым, которые выбираются по принципу наибольшей склонности к отклику на это предложение.\n",
    "\n",
    "Задача заключается в том, чтобы предложить алгоритм, который будет выдавать склонность клиента к положительному или отрицательному отклику на предложение банка. Предполагается, что, получив такие оценки для некоторого множества клиентов, банк обратится с предложением только к тем, от кого ожидается положительный отклик.\n"
   ],
   "metadata": {
    "id": "ug5TQChn6KiJ"
   }
  },
  {
   "cell_type": "markdown",
   "source": [
    "## Задание 1\n",
    "\n",
    "В предыдущем задании вы собрали всю информацию о клиентах в одну таблицу, где одна строчка соответствует полной информации об одном клиенте.\n",
    "\n",
    "Загрузите эту таблицу."
   ],
   "metadata": {
    "id": "GERgJvyYmQEZ"
   }
  },
  {
   "cell_type": "code",
   "source": [
    "df = pd.read_pickle('df_clean.p')"
   ],
   "metadata": {
    "id": "AnHaqRF4uzxP",
    "ExecuteTime": {
     "end_time": "2023-12-20T13:26:42.870421300Z",
     "start_time": "2023-12-20T13:26:42.791357300Z"
    }
   },
   "execution_count": 98,
   "outputs": []
  },
  {
   "cell_type": "markdown",
   "source": [
    "Посмотрим на распределение категориальных и числовых столбцов:"
   ],
   "metadata": {
    "collapsed": false
   }
  },
  {
   "cell_type": "code",
   "execution_count": 35,
   "outputs": [
    {
     "data": {
      "text/plain": "int64      9\nobject     7\nfloat64    7\nName: count, dtype: int64"
     },
     "execution_count": 35,
     "metadata": {},
     "output_type": "execute_result"
    }
   ],
   "source": [
    "df.dtypes.value_counts()"
   ],
   "metadata": {
    "collapsed": false,
    "ExecuteTime": {
     "end_time": "2023-12-19T09:24:45.430290300Z",
     "start_time": "2023-12-19T09:24:45.414243100Z"
    }
   }
  },
  {
   "cell_type": "code",
   "execution_count": 44,
   "outputs": [
    {
     "data": {
      "text/plain": "GEN_INDUSTRY\nТорговля                                     2385\nДругие сферы                                 1709\nМеталлургия/Промышленность/Машиностроение    1356\nГосударственная служба                       1286\nЗдравоохранение                              1177\nОбразование                                   998\nТранспорт                                     787\nСельское хозяйство                            702\nСтроительство                                 573\nКоммунальное хоз-во/Дорожные службы           533\nРесторанный бизнес/Общественное питание       408\nНаука                                         403\nНефтегазовая промышленность                   225\nСборочные производства                        172\nБанк/Финансы                                  169\nЭнергетика                                    145\nРазвлечения/Искусство                         141\nЧОП/Детективная д-ть                          136\nИнформационные услуги                         108\nСалоны красоты и здоровья                      99\nИнформационные технологии                      85\nХимия/Парфюмерия/Фармацевтика                  63\nСМИ/Реклама/PR-агенства                        49\nЮридические услуги/нотариальные услуги         47\nСтрахование                                    28\nТуризм                                         20\nНедвижимость                                   16\nУправляющая компания                           12\nЛогистика                                      11\nПодбор персонала                                8\nМаркетинг                                       4\nName: count, dtype: int64"
     },
     "execution_count": 44,
     "metadata": {},
     "output_type": "execute_result"
    }
   ],
   "source": [
    "df.GEN_INDUSTRY.value_counts()"
   ],
   "metadata": {
    "collapsed": false,
    "ExecuteTime": {
     "end_time": "2023-12-19T09:58:15.565321800Z",
     "start_time": "2023-12-19T09:58:15.555765700Z"
    }
   }
  },
  {
   "cell_type": "code",
   "execution_count": 45,
   "outputs": [
    {
     "data": {
      "text/plain": "GEN_TITLE\nСпециалист                        7009\nРабочий                           3075\nСлужащий                           904\nРуководитель среднего звена        697\nРаботник сферы услуг               563\nВысококвалифиц. специалист         549\nРуководитель высшего звена         427\nИндивидуальный предприниматель     217\nДругое                             177\nРуководитель низшего звена         136\nВоеннослужащий по контракту         88\nПартнер                             13\nName: count, dtype: int64"
     },
     "execution_count": 45,
     "metadata": {},
     "output_type": "execute_result"
    }
   ],
   "source": [
    "df.GEN_TITLE.value_counts()"
   ],
   "metadata": {
    "collapsed": false,
    "ExecuteTime": {
     "end_time": "2023-12-19T09:59:28.903144500Z",
     "start_time": "2023-12-19T09:59:28.895258900Z"
    }
   }
  },
  {
   "cell_type": "code",
   "execution_count": 47,
   "outputs": [
    {
     "data": {
      "text/plain": "FAMILY_INCOME\nот 10000 до 20000 руб.    6339\nот 20000 до 50000 руб.    5882\nот 5000 до 10000 руб.     1121\nсвыше 50000 руб.           486\nдо 5000 руб.                27\nName: count, dtype: int64"
     },
     "execution_count": 47,
     "metadata": {},
     "output_type": "execute_result"
    }
   ],
   "source": [
    "df.FAMILY_INCOME.value_counts()"
   ],
   "metadata": {
    "collapsed": false,
    "ExecuteTime": {
     "end_time": "2023-12-19T09:59:53.667606700Z",
     "start_time": "2023-12-19T09:59:53.662941200Z"
    }
   }
  },
  {
   "cell_type": "markdown",
   "source": [
    "Для обучения линейных моделей категориальные столбцы придётся закодировать. Не планирую заморачиваться с кодировкой, буду использовать обычный OHE "
   ],
   "metadata": {
    "collapsed": false
   }
  },
  {
   "cell_type": "code",
   "execution_count": 41,
   "outputs": [],
   "source": [
    "# df = df.astype({'GENDER': 'bool', 'DEPENDANTS': 'bool', 'SOCSTATUS_WORK_FL': 'bool', 'SOCSTATUS_PENS_FL': 'bool', 'FL_PRESENCE_FL': 'bool', 'OWN_AUTO': 'bool', 'TARGET': 'bool'})"
   ],
   "metadata": {
    "collapsed": false,
    "ExecuteTime": {
     "end_time": "2023-12-19T09:50:09.197577200Z",
     "start_time": "2023-12-19T09:50:09.187706900Z"
    }
   }
  },
  {
   "cell_type": "markdown",
   "source": [
    "## Логистическая регрессия (с параметрами по умолчанию), настройка порогов для оптимизации метрик"
   ],
   "metadata": {
    "collapsed": false
   }
  },
  {
   "cell_type": "markdown",
   "source": [
    "На тренировочных данных обучите линейную модель классификации для предсказания целевой переменной (столбец `TARGET`).\n",
    "\n",
    "Сделайте прогноз вероятности отклика на рекламную кампанию для тестовых данных."
   ],
   "metadata": {
    "id": "KlT4qPSAu-iJ"
   }
  },
  {
   "cell_type": "markdown",
   "source": [
    "Разбейте данные на тренировочную и тестовую часть в пропорции 80% к 20%, зафиксируйте `random_state = 42`."
   ],
   "metadata": {
    "id": "qrbnMjIHu1hq"
   }
  },
  {
   "cell_type": "markdown",
   "source": [
    "У нас есть два столбца, которые по сути представляют собой уникальный индентификатор - id заёщика (ID) и id кредитного договора (AGREEMENT_RK). Для обучения эти данные выглядят бесполезные. С учетом того, что нам предстоит предсказать поведение клиента, я удалю id кредитного договора, а id заёмщика сделаю индексом, через который впоследствие будет удобно обращаться к данным пользователя для индивидуального прогноза или идентификации результатов."
   ],
   "metadata": {
    "collapsed": false
   }
  },
  {
   "cell_type": "code",
   "execution_count": 227,
   "outputs": [],
   "source": [
    "X = df.drop(columns = ['TARGET', 'AGREEMENT_RK']).reset_index(drop=True).set_index('ID')\n",
    "y = df.TARGET"
   ],
   "metadata": {
    "collapsed": false,
    "ExecuteTime": {
     "end_time": "2023-12-22T16:32:35.534314700Z",
     "start_time": "2023-12-22T16:32:35.441675600Z"
    }
   }
  },
  {
   "cell_type": "code",
   "execution_count": null,
   "outputs": [],
   "source": [
    "pd.to_pickle(X, 'X.p', compression='gzip')\n",
    "pd.to_pickle(y, 'y.p', compression='gzip')"
   ],
   "metadata": {
    "collapsed": false
   }
  },
  {
   "cell_type": "code",
   "execution_count": 101,
   "outputs": [
    {
     "data": {
      "text/plain": "           AGE  GENDER EDUCATION  MARITAL_STATUS  CHILD_TOTAL  DEPENDANTS  \\\nID                                                                          \n106817880   31       1    Высшее  Состою в браке            1           1   \n\n           SOCSTATUS_WORK_FL  SOCSTATUS_PENS_FL  FACT_ADDRESS_PROVINCE  \\\nID                                                                       \n106817880                  1                  0  Нижегородская область   \n\n           FL_PRESENCE_FL  OWN_AUTO  CREDIT  TERM  FST_PAYMENT GEN_INDUSTRY  \\\nID                                                                            \n106817880               0         0  3000.0   3.0       690.95  Образование   \n\n          GEN_TITLE                        JOB_DIR  WORK_TIME  \\\nID                                                              \n106817880   Рабочий  Участие в основ. деятельности       12.0   \n\n                    FAMILY_INCOME  PERSONAL_INCOME  \nID                                                  \n106817880  от 20000 до 50000 руб.           5000.0  ",
      "text/html": "<div>\n<style scoped>\n    .dataframe tbody tr th:only-of-type {\n        vertical-align: middle;\n    }\n\n    .dataframe tbody tr th {\n        vertical-align: top;\n    }\n\n    .dataframe thead th {\n        text-align: right;\n    }\n</style>\n<table border=\"1\" class=\"dataframe\">\n  <thead>\n    <tr style=\"text-align: right;\">\n      <th></th>\n      <th>AGE</th>\n      <th>GENDER</th>\n      <th>EDUCATION</th>\n      <th>MARITAL_STATUS</th>\n      <th>CHILD_TOTAL</th>\n      <th>DEPENDANTS</th>\n      <th>SOCSTATUS_WORK_FL</th>\n      <th>SOCSTATUS_PENS_FL</th>\n      <th>FACT_ADDRESS_PROVINCE</th>\n      <th>FL_PRESENCE_FL</th>\n      <th>OWN_AUTO</th>\n      <th>CREDIT</th>\n      <th>TERM</th>\n      <th>FST_PAYMENT</th>\n      <th>GEN_INDUSTRY</th>\n      <th>GEN_TITLE</th>\n      <th>JOB_DIR</th>\n      <th>WORK_TIME</th>\n      <th>FAMILY_INCOME</th>\n      <th>PERSONAL_INCOME</th>\n    </tr>\n    <tr>\n      <th>ID</th>\n      <th></th>\n      <th></th>\n      <th></th>\n      <th></th>\n      <th></th>\n      <th></th>\n      <th></th>\n      <th></th>\n      <th></th>\n      <th></th>\n      <th></th>\n      <th></th>\n      <th></th>\n      <th></th>\n      <th></th>\n      <th></th>\n      <th></th>\n      <th></th>\n      <th></th>\n      <th></th>\n    </tr>\n  </thead>\n  <tbody>\n    <tr>\n      <th>106817880</th>\n      <td>31</td>\n      <td>1</td>\n      <td>Высшее</td>\n      <td>Состою в браке</td>\n      <td>1</td>\n      <td>1</td>\n      <td>1</td>\n      <td>0</td>\n      <td>Нижегородская область</td>\n      <td>0</td>\n      <td>0</td>\n      <td>3000.0</td>\n      <td>3.0</td>\n      <td>690.95</td>\n      <td>Образование</td>\n      <td>Рабочий</td>\n      <td>Участие в основ. деятельности</td>\n      <td>12.0</td>\n      <td>от 20000 до 50000 руб.</td>\n      <td>5000.0</td>\n    </tr>\n  </tbody>\n</table>\n</div>"
     },
     "execution_count": 101,
     "metadata": {},
     "output_type": "execute_result"
    }
   ],
   "source": [
    "X.sample()"
   ],
   "metadata": {
    "collapsed": false,
    "ExecuteTime": {
     "end_time": "2023-12-20T13:35:56.294322900Z",
     "start_time": "2023-12-20T13:35:56.288886600Z"
    }
   }
  },
  {
   "cell_type": "code",
   "execution_count": 102,
   "outputs": [
    {
     "data": {
      "text/plain": "14368    0.0\nName: TARGET, dtype: float64"
     },
     "execution_count": 102,
     "metadata": {},
     "output_type": "execute_result"
    }
   ],
   "source": [
    "y.sample()"
   ],
   "metadata": {
    "collapsed": false,
    "ExecuteTime": {
     "end_time": "2023-12-20T13:41:29.530865700Z",
     "start_time": "2023-12-20T13:41:29.372194100Z"
    }
   }
  },
  {
   "cell_type": "code",
   "execution_count": 103,
   "outputs": [
    {
     "data": {
      "text/plain": "TARGET\n0.0    12093\n1.0     1762\nName: count, dtype: int64"
     },
     "execution_count": 103,
     "metadata": {},
     "output_type": "execute_result"
    }
   ],
   "source": [
    "y.value_counts()"
   ],
   "metadata": {
    "collapsed": false,
    "ExecuteTime": {
     "end_time": "2023-12-20T13:42:08.882167200Z",
     "start_time": "2023-12-20T13:42:08.872487400Z"
    }
   }
  },
  {
   "cell_type": "markdown",
   "source": [
    "Наши данные сильно несбалансированные. Для обучения моделей есть смысл использовать параметр stratify, чтобы разбивка на трейн и тест была происходила пропорционально классам в датасете "
   ],
   "metadata": {
    "collapsed": false
   }
  },
  {
   "cell_type": "code",
   "execution_count": 238,
   "outputs": [],
   "source": [
    "X_train, X_test, y_train, y_test = train_test_split(X, y, test_size=0.2, stratify=y, random_state=42)"
   ],
   "metadata": {
    "id": "W__PbhFeu1qC",
    "ExecuteTime": {
     "end_time": "2023-12-22T16:35:48.743251Z",
     "start_time": "2023-12-22T16:35:48.711506400Z"
    }
   }
  },
  {
   "cell_type": "code",
   "execution_count": 206,
   "outputs": [
    {
     "data": {
      "text/plain": "13033    0.0\n7958     0.0\n4392     0.0\n6484     0.0\n12648    0.0\n        ... \n10952    1.0\n15596    0.0\n1132     0.0\n545      0.0\n8642     0.0\nName: TARGET, Length: 2771, dtype: float64"
     },
     "execution_count": 206,
     "metadata": {},
     "output_type": "execute_result"
    }
   ],
   "source": [
    "y_test"
   ],
   "metadata": {
    "collapsed": false,
    "ExecuteTime": {
     "end_time": "2023-12-22T15:45:22.887515400Z",
     "start_time": "2023-12-22T15:45:22.829615500Z"
    }
   }
  },
  {
   "cell_type": "markdown",
   "source": [
    "В следующих четырёх строчках кода ниже, я пробовал облегчить себе задачу и провернуть всё в едином пайплайне. Однако постоянно сталкивался с разным набором ошибок (то памяти не хватало, то ему не нравилась спарс-матрицы, то категориальные столбцы не очень дружат в реализацией OHE в sklearn. В итоге пришлось пойти длинным путём и использовать стороннюю библиотеку"
   ],
   "metadata": {
    "collapsed": false
   }
  },
  {
   "cell_type": "code",
   "execution_count": 239,
   "outputs": [
    {
     "data": {
      "text/plain": "Index(['EDUCATION', 'MARITAL_STATUS', 'FACT_ADDRESS_PROVINCE', 'GEN_INDUSTRY',\n       'GEN_TITLE', 'JOB_DIR', 'FAMILY_INCOME'],\n      dtype='object')"
     },
     "execution_count": 239,
     "metadata": {},
     "output_type": "execute_result"
    }
   ],
   "source": [
    "columns = X_train.select_dtypes('object').columns\n",
    "columns"
   ],
   "metadata": {
    "id": "9Uc5AmYXvgOb",
    "ExecuteTime": {
     "end_time": "2023-12-22T16:35:52.244509400Z",
     "start_time": "2023-12-22T16:35:52.218750400Z"
    }
   }
  },
  {
   "cell_type": "code",
   "execution_count": 230,
   "outputs": [],
   "source": [
    "# from sklearn.preprocessing import OneHotEncoder"
   ],
   "metadata": {
    "collapsed": false,
    "ExecuteTime": {
     "end_time": "2023-12-22T16:33:21.011445100Z",
     "start_time": "2023-12-22T16:33:20.962378400Z"
    }
   }
  },
  {
   "cell_type": "code",
   "execution_count": 126,
   "outputs": [],
   "source": [
    "pipe = Pipeline([\n",
    "    ('encoder', OneHotEncoder(categories=list(columns), drop='first', sparse_output=False)),\n",
    "    ('scaler', StandardScaler()),\n",
    "    ('features', PolynomialFeatures(degree=2)),\n",
    "    ('model', LogisticRegression())\n",
    "    ])"
   ],
   "metadata": {
    "collapsed": false,
    "ExecuteTime": {
     "end_time": "2023-12-20T13:58:36.013899800Z",
     "start_time": "2023-12-20T13:58:36.003874300Z"
    }
   }
  },
  {
   "cell_type": "code",
   "execution_count": 124,
   "outputs": [
    {
     "ename": "ValueError",
     "evalue": "Shape mismatch: if categories is an array, it has to be of shape (n_features,).",
     "output_type": "error",
     "traceback": [
      "\u001B[1;31m---------------------------------------------------------------------------\u001B[0m",
      "\u001B[1;31mValueError\u001B[0m                                Traceback (most recent call last)",
      "Cell \u001B[1;32mIn[124], line 1\u001B[0m\n\u001B[1;32m----> 1\u001B[0m \u001B[43mpipe\u001B[49m\u001B[38;5;241;43m.\u001B[39;49m\u001B[43mfit\u001B[49m\u001B[43m(\u001B[49m\u001B[43mX_train\u001B[49m\u001B[43m,\u001B[49m\u001B[43m \u001B[49m\u001B[43my_train\u001B[49m\u001B[43m)\u001B[49m\n\u001B[0;32m      3\u001B[0m pred_pipe \u001B[38;5;241m=\u001B[39m pipe\u001B[38;5;241m.\u001B[39mpredict(X_test)\n\u001B[0;32m      4\u001B[0m recall_score(y_test, pred_pipe)\n",
      "File \u001B[1;32mD:\\OneDrive\\IT\\Projects\\banks-clients\\.venv\\Lib\\site-packages\\sklearn\\base.py:1152\u001B[0m, in \u001B[0;36m_fit_context.<locals>.decorator.<locals>.wrapper\u001B[1;34m(estimator, *args, **kwargs)\u001B[0m\n\u001B[0;32m   1145\u001B[0m     estimator\u001B[38;5;241m.\u001B[39m_validate_params()\n\u001B[0;32m   1147\u001B[0m \u001B[38;5;28;01mwith\u001B[39;00m config_context(\n\u001B[0;32m   1148\u001B[0m     skip_parameter_validation\u001B[38;5;241m=\u001B[39m(\n\u001B[0;32m   1149\u001B[0m         prefer_skip_nested_validation \u001B[38;5;129;01mor\u001B[39;00m global_skip_validation\n\u001B[0;32m   1150\u001B[0m     )\n\u001B[0;32m   1151\u001B[0m ):\n\u001B[1;32m-> 1152\u001B[0m     \u001B[38;5;28;01mreturn\u001B[39;00m \u001B[43mfit_method\u001B[49m\u001B[43m(\u001B[49m\u001B[43mestimator\u001B[49m\u001B[43m,\u001B[49m\u001B[43m \u001B[49m\u001B[38;5;241;43m*\u001B[39;49m\u001B[43margs\u001B[49m\u001B[43m,\u001B[49m\u001B[43m \u001B[49m\u001B[38;5;241;43m*\u001B[39;49m\u001B[38;5;241;43m*\u001B[39;49m\u001B[43mkwargs\u001B[49m\u001B[43m)\u001B[49m\n",
      "File \u001B[1;32mD:\\OneDrive\\IT\\Projects\\banks-clients\\.venv\\Lib\\site-packages\\sklearn\\pipeline.py:423\u001B[0m, in \u001B[0;36mPipeline.fit\u001B[1;34m(self, X, y, **fit_params)\u001B[0m\n\u001B[0;32m    397\u001B[0m \u001B[38;5;250m\u001B[39m\u001B[38;5;124;03m\"\"\"Fit the model.\u001B[39;00m\n\u001B[0;32m    398\u001B[0m \n\u001B[0;32m    399\u001B[0m \u001B[38;5;124;03mFit all the transformers one after the other and transform the\u001B[39;00m\n\u001B[1;32m   (...)\u001B[0m\n\u001B[0;32m    420\u001B[0m \u001B[38;5;124;03m    Pipeline with fitted steps.\u001B[39;00m\n\u001B[0;32m    421\u001B[0m \u001B[38;5;124;03m\"\"\"\u001B[39;00m\n\u001B[0;32m    422\u001B[0m fit_params_steps \u001B[38;5;241m=\u001B[39m \u001B[38;5;28mself\u001B[39m\u001B[38;5;241m.\u001B[39m_check_fit_params(\u001B[38;5;241m*\u001B[39m\u001B[38;5;241m*\u001B[39mfit_params)\n\u001B[1;32m--> 423\u001B[0m Xt \u001B[38;5;241m=\u001B[39m \u001B[38;5;28;43mself\u001B[39;49m\u001B[38;5;241;43m.\u001B[39;49m\u001B[43m_fit\u001B[49m\u001B[43m(\u001B[49m\u001B[43mX\u001B[49m\u001B[43m,\u001B[49m\u001B[43m \u001B[49m\u001B[43my\u001B[49m\u001B[43m,\u001B[49m\u001B[43m \u001B[49m\u001B[38;5;241;43m*\u001B[39;49m\u001B[38;5;241;43m*\u001B[39;49m\u001B[43mfit_params_steps\u001B[49m\u001B[43m)\u001B[49m\n\u001B[0;32m    424\u001B[0m \u001B[38;5;28;01mwith\u001B[39;00m _print_elapsed_time(\u001B[38;5;124m\"\u001B[39m\u001B[38;5;124mPipeline\u001B[39m\u001B[38;5;124m\"\u001B[39m, \u001B[38;5;28mself\u001B[39m\u001B[38;5;241m.\u001B[39m_log_message(\u001B[38;5;28mlen\u001B[39m(\u001B[38;5;28mself\u001B[39m\u001B[38;5;241m.\u001B[39msteps) \u001B[38;5;241m-\u001B[39m \u001B[38;5;241m1\u001B[39m)):\n\u001B[0;32m    425\u001B[0m     \u001B[38;5;28;01mif\u001B[39;00m \u001B[38;5;28mself\u001B[39m\u001B[38;5;241m.\u001B[39m_final_estimator \u001B[38;5;241m!=\u001B[39m \u001B[38;5;124m\"\u001B[39m\u001B[38;5;124mpassthrough\u001B[39m\u001B[38;5;124m\"\u001B[39m:\n",
      "File \u001B[1;32mD:\\OneDrive\\IT\\Projects\\banks-clients\\.venv\\Lib\\site-packages\\sklearn\\pipeline.py:377\u001B[0m, in \u001B[0;36mPipeline._fit\u001B[1;34m(self, X, y, **fit_params_steps)\u001B[0m\n\u001B[0;32m    375\u001B[0m     cloned_transformer \u001B[38;5;241m=\u001B[39m clone(transformer)\n\u001B[0;32m    376\u001B[0m \u001B[38;5;66;03m# Fit or load from cache the current transformer\u001B[39;00m\n\u001B[1;32m--> 377\u001B[0m X, fitted_transformer \u001B[38;5;241m=\u001B[39m \u001B[43mfit_transform_one_cached\u001B[49m\u001B[43m(\u001B[49m\n\u001B[0;32m    378\u001B[0m \u001B[43m    \u001B[49m\u001B[43mcloned_transformer\u001B[49m\u001B[43m,\u001B[49m\n\u001B[0;32m    379\u001B[0m \u001B[43m    \u001B[49m\u001B[43mX\u001B[49m\u001B[43m,\u001B[49m\n\u001B[0;32m    380\u001B[0m \u001B[43m    \u001B[49m\u001B[43my\u001B[49m\u001B[43m,\u001B[49m\n\u001B[0;32m    381\u001B[0m \u001B[43m    \u001B[49m\u001B[38;5;28;43;01mNone\u001B[39;49;00m\u001B[43m,\u001B[49m\n\u001B[0;32m    382\u001B[0m \u001B[43m    \u001B[49m\u001B[43mmessage_clsname\u001B[49m\u001B[38;5;241;43m=\u001B[39;49m\u001B[38;5;124;43m\"\u001B[39;49m\u001B[38;5;124;43mPipeline\u001B[39;49m\u001B[38;5;124;43m\"\u001B[39;49m\u001B[43m,\u001B[49m\n\u001B[0;32m    383\u001B[0m \u001B[43m    \u001B[49m\u001B[43mmessage\u001B[49m\u001B[38;5;241;43m=\u001B[39;49m\u001B[38;5;28;43mself\u001B[39;49m\u001B[38;5;241;43m.\u001B[39;49m\u001B[43m_log_message\u001B[49m\u001B[43m(\u001B[49m\u001B[43mstep_idx\u001B[49m\u001B[43m)\u001B[49m\u001B[43m,\u001B[49m\n\u001B[0;32m    384\u001B[0m \u001B[43m    \u001B[49m\u001B[38;5;241;43m*\u001B[39;49m\u001B[38;5;241;43m*\u001B[39;49m\u001B[43mfit_params_steps\u001B[49m\u001B[43m[\u001B[49m\u001B[43mname\u001B[49m\u001B[43m]\u001B[49m\u001B[43m,\u001B[49m\n\u001B[0;32m    385\u001B[0m \u001B[43m\u001B[49m\u001B[43m)\u001B[49m\n\u001B[0;32m    386\u001B[0m \u001B[38;5;66;03m# Replace the transformer of the step with the fitted\u001B[39;00m\n\u001B[0;32m    387\u001B[0m \u001B[38;5;66;03m# transformer. This is necessary when loading the transformer\u001B[39;00m\n\u001B[0;32m    388\u001B[0m \u001B[38;5;66;03m# from the cache.\u001B[39;00m\n\u001B[0;32m    389\u001B[0m \u001B[38;5;28mself\u001B[39m\u001B[38;5;241m.\u001B[39msteps[step_idx] \u001B[38;5;241m=\u001B[39m (name, fitted_transformer)\n",
      "File \u001B[1;32mD:\\OneDrive\\IT\\Projects\\banks-clients\\.venv\\Lib\\site-packages\\joblib\\memory.py:353\u001B[0m, in \u001B[0;36mNotMemorizedFunc.__call__\u001B[1;34m(self, *args, **kwargs)\u001B[0m\n\u001B[0;32m    352\u001B[0m \u001B[38;5;28;01mdef\u001B[39;00m \u001B[38;5;21m__call__\u001B[39m(\u001B[38;5;28mself\u001B[39m, \u001B[38;5;241m*\u001B[39margs, \u001B[38;5;241m*\u001B[39m\u001B[38;5;241m*\u001B[39mkwargs):\n\u001B[1;32m--> 353\u001B[0m     \u001B[38;5;28;01mreturn\u001B[39;00m \u001B[38;5;28;43mself\u001B[39;49m\u001B[38;5;241;43m.\u001B[39;49m\u001B[43mfunc\u001B[49m\u001B[43m(\u001B[49m\u001B[38;5;241;43m*\u001B[39;49m\u001B[43margs\u001B[49m\u001B[43m,\u001B[49m\u001B[43m \u001B[49m\u001B[38;5;241;43m*\u001B[39;49m\u001B[38;5;241;43m*\u001B[39;49m\u001B[43mkwargs\u001B[49m\u001B[43m)\u001B[49m\n",
      "File \u001B[1;32mD:\\OneDrive\\IT\\Projects\\banks-clients\\.venv\\Lib\\site-packages\\sklearn\\pipeline.py:957\u001B[0m, in \u001B[0;36m_fit_transform_one\u001B[1;34m(transformer, X, y, weight, message_clsname, message, **fit_params)\u001B[0m\n\u001B[0;32m    955\u001B[0m \u001B[38;5;28;01mwith\u001B[39;00m _print_elapsed_time(message_clsname, message):\n\u001B[0;32m    956\u001B[0m     \u001B[38;5;28;01mif\u001B[39;00m \u001B[38;5;28mhasattr\u001B[39m(transformer, \u001B[38;5;124m\"\u001B[39m\u001B[38;5;124mfit_transform\u001B[39m\u001B[38;5;124m\"\u001B[39m):\n\u001B[1;32m--> 957\u001B[0m         res \u001B[38;5;241m=\u001B[39m \u001B[43mtransformer\u001B[49m\u001B[38;5;241;43m.\u001B[39;49m\u001B[43mfit_transform\u001B[49m\u001B[43m(\u001B[49m\u001B[43mX\u001B[49m\u001B[43m,\u001B[49m\u001B[43m \u001B[49m\u001B[43my\u001B[49m\u001B[43m,\u001B[49m\u001B[43m \u001B[49m\u001B[38;5;241;43m*\u001B[39;49m\u001B[38;5;241;43m*\u001B[39;49m\u001B[43mfit_params\u001B[49m\u001B[43m)\u001B[49m\n\u001B[0;32m    958\u001B[0m     \u001B[38;5;28;01melse\u001B[39;00m:\n\u001B[0;32m    959\u001B[0m         res \u001B[38;5;241m=\u001B[39m transformer\u001B[38;5;241m.\u001B[39mfit(X, y, \u001B[38;5;241m*\u001B[39m\u001B[38;5;241m*\u001B[39mfit_params)\u001B[38;5;241m.\u001B[39mtransform(X)\n",
      "File \u001B[1;32mD:\\OneDrive\\IT\\Projects\\banks-clients\\.venv\\Lib\\site-packages\\sklearn\\utils\\_set_output.py:157\u001B[0m, in \u001B[0;36m_wrap_method_output.<locals>.wrapped\u001B[1;34m(self, X, *args, **kwargs)\u001B[0m\n\u001B[0;32m    155\u001B[0m \u001B[38;5;129m@wraps\u001B[39m(f)\n\u001B[0;32m    156\u001B[0m \u001B[38;5;28;01mdef\u001B[39;00m \u001B[38;5;21mwrapped\u001B[39m(\u001B[38;5;28mself\u001B[39m, X, \u001B[38;5;241m*\u001B[39margs, \u001B[38;5;241m*\u001B[39m\u001B[38;5;241m*\u001B[39mkwargs):\n\u001B[1;32m--> 157\u001B[0m     data_to_wrap \u001B[38;5;241m=\u001B[39m \u001B[43mf\u001B[49m\u001B[43m(\u001B[49m\u001B[38;5;28;43mself\u001B[39;49m\u001B[43m,\u001B[49m\u001B[43m \u001B[49m\u001B[43mX\u001B[49m\u001B[43m,\u001B[49m\u001B[43m \u001B[49m\u001B[38;5;241;43m*\u001B[39;49m\u001B[43margs\u001B[49m\u001B[43m,\u001B[49m\u001B[43m \u001B[49m\u001B[38;5;241;43m*\u001B[39;49m\u001B[38;5;241;43m*\u001B[39;49m\u001B[43mkwargs\u001B[49m\u001B[43m)\u001B[49m\n\u001B[0;32m    158\u001B[0m     \u001B[38;5;28;01mif\u001B[39;00m \u001B[38;5;28misinstance\u001B[39m(data_to_wrap, \u001B[38;5;28mtuple\u001B[39m):\n\u001B[0;32m    159\u001B[0m         \u001B[38;5;66;03m# only wrap the first output for cross decomposition\u001B[39;00m\n\u001B[0;32m    160\u001B[0m         return_tuple \u001B[38;5;241m=\u001B[39m (\n\u001B[0;32m    161\u001B[0m             _wrap_data_with_container(method, data_to_wrap[\u001B[38;5;241m0\u001B[39m], X, \u001B[38;5;28mself\u001B[39m),\n\u001B[0;32m    162\u001B[0m             \u001B[38;5;241m*\u001B[39mdata_to_wrap[\u001B[38;5;241m1\u001B[39m:],\n\u001B[0;32m    163\u001B[0m         )\n",
      "File \u001B[1;32mD:\\OneDrive\\IT\\Projects\\banks-clients\\.venv\\Lib\\site-packages\\sklearn\\base.py:919\u001B[0m, in \u001B[0;36mTransformerMixin.fit_transform\u001B[1;34m(self, X, y, **fit_params)\u001B[0m\n\u001B[0;32m    916\u001B[0m     \u001B[38;5;28;01mreturn\u001B[39;00m \u001B[38;5;28mself\u001B[39m\u001B[38;5;241m.\u001B[39mfit(X, \u001B[38;5;241m*\u001B[39m\u001B[38;5;241m*\u001B[39mfit_params)\u001B[38;5;241m.\u001B[39mtransform(X)\n\u001B[0;32m    917\u001B[0m \u001B[38;5;28;01melse\u001B[39;00m:\n\u001B[0;32m    918\u001B[0m     \u001B[38;5;66;03m# fit method of arity 2 (supervised transformation)\u001B[39;00m\n\u001B[1;32m--> 919\u001B[0m     \u001B[38;5;28;01mreturn\u001B[39;00m \u001B[38;5;28;43mself\u001B[39;49m\u001B[38;5;241;43m.\u001B[39;49m\u001B[43mfit\u001B[49m\u001B[43m(\u001B[49m\u001B[43mX\u001B[49m\u001B[43m,\u001B[49m\u001B[43m \u001B[49m\u001B[43my\u001B[49m\u001B[43m,\u001B[49m\u001B[43m \u001B[49m\u001B[38;5;241;43m*\u001B[39;49m\u001B[38;5;241;43m*\u001B[39;49m\u001B[43mfit_params\u001B[49m\u001B[43m)\u001B[49m\u001B[38;5;241m.\u001B[39mtransform(X)\n",
      "File \u001B[1;32mD:\\OneDrive\\IT\\Projects\\banks-clients\\.venv\\Lib\\site-packages\\sklearn\\base.py:1152\u001B[0m, in \u001B[0;36m_fit_context.<locals>.decorator.<locals>.wrapper\u001B[1;34m(estimator, *args, **kwargs)\u001B[0m\n\u001B[0;32m   1145\u001B[0m     estimator\u001B[38;5;241m.\u001B[39m_validate_params()\n\u001B[0;32m   1147\u001B[0m \u001B[38;5;28;01mwith\u001B[39;00m config_context(\n\u001B[0;32m   1148\u001B[0m     skip_parameter_validation\u001B[38;5;241m=\u001B[39m(\n\u001B[0;32m   1149\u001B[0m         prefer_skip_nested_validation \u001B[38;5;129;01mor\u001B[39;00m global_skip_validation\n\u001B[0;32m   1150\u001B[0m     )\n\u001B[0;32m   1151\u001B[0m ):\n\u001B[1;32m-> 1152\u001B[0m     \u001B[38;5;28;01mreturn\u001B[39;00m \u001B[43mfit_method\u001B[49m\u001B[43m(\u001B[49m\u001B[43mestimator\u001B[49m\u001B[43m,\u001B[49m\u001B[43m \u001B[49m\u001B[38;5;241;43m*\u001B[39;49m\u001B[43margs\u001B[49m\u001B[43m,\u001B[49m\u001B[43m \u001B[49m\u001B[38;5;241;43m*\u001B[39;49m\u001B[38;5;241;43m*\u001B[39;49m\u001B[43mkwargs\u001B[49m\u001B[43m)\u001B[49m\n",
      "File \u001B[1;32mD:\\OneDrive\\IT\\Projects\\banks-clients\\.venv\\Lib\\site-packages\\sklearn\\preprocessing\\_encoders.py:985\u001B[0m, in \u001B[0;36mOneHotEncoder.fit\u001B[1;34m(self, X, y)\u001B[0m\n\u001B[0;32m    975\u001B[0m     warnings\u001B[38;5;241m.\u001B[39mwarn(\n\u001B[0;32m    976\u001B[0m         (\n\u001B[0;32m    977\u001B[0m             \u001B[38;5;124m\"\u001B[39m\u001B[38;5;124m`sparse` was renamed to `sparse_output` in version 1.2 and \u001B[39m\u001B[38;5;124m\"\u001B[39m\n\u001B[1;32m   (...)\u001B[0m\n\u001B[0;32m    981\u001B[0m         \u001B[38;5;167;01mFutureWarning\u001B[39;00m,\n\u001B[0;32m    982\u001B[0m     )\n\u001B[0;32m    983\u001B[0m     \u001B[38;5;28mself\u001B[39m\u001B[38;5;241m.\u001B[39msparse_output \u001B[38;5;241m=\u001B[39m \u001B[38;5;28mself\u001B[39m\u001B[38;5;241m.\u001B[39msparse\n\u001B[1;32m--> 985\u001B[0m \u001B[38;5;28;43mself\u001B[39;49m\u001B[38;5;241;43m.\u001B[39;49m\u001B[43m_fit\u001B[49m\u001B[43m(\u001B[49m\n\u001B[0;32m    986\u001B[0m \u001B[43m    \u001B[49m\u001B[43mX\u001B[49m\u001B[43m,\u001B[49m\n\u001B[0;32m    987\u001B[0m \u001B[43m    \u001B[49m\u001B[43mhandle_unknown\u001B[49m\u001B[38;5;241;43m=\u001B[39;49m\u001B[38;5;28;43mself\u001B[39;49m\u001B[38;5;241;43m.\u001B[39;49m\u001B[43mhandle_unknown\u001B[49m\u001B[43m,\u001B[49m\n\u001B[0;32m    988\u001B[0m \u001B[43m    \u001B[49m\u001B[43mforce_all_finite\u001B[49m\u001B[38;5;241;43m=\u001B[39;49m\u001B[38;5;124;43m\"\u001B[39;49m\u001B[38;5;124;43mallow-nan\u001B[39;49m\u001B[38;5;124;43m\"\u001B[39;49m\u001B[43m,\u001B[49m\n\u001B[0;32m    989\u001B[0m \u001B[43m\u001B[49m\u001B[43m)\u001B[49m\n\u001B[0;32m    990\u001B[0m \u001B[38;5;28mself\u001B[39m\u001B[38;5;241m.\u001B[39m_set_drop_idx()\n\u001B[0;32m    991\u001B[0m \u001B[38;5;28mself\u001B[39m\u001B[38;5;241m.\u001B[39m_n_features_outs \u001B[38;5;241m=\u001B[39m \u001B[38;5;28mself\u001B[39m\u001B[38;5;241m.\u001B[39m_compute_n_features_outs()\n",
      "File \u001B[1;32mD:\\OneDrive\\IT\\Projects\\banks-clients\\.venv\\Lib\\site-packages\\sklearn\\preprocessing\\_encoders.py:85\u001B[0m, in \u001B[0;36m_BaseEncoder._fit\u001B[1;34m(self, X, handle_unknown, force_all_finite, return_counts, return_and_ignore_missing_for_infrequent)\u001B[0m\n\u001B[0;32m     83\u001B[0m \u001B[38;5;28;01mif\u001B[39;00m \u001B[38;5;28mself\u001B[39m\u001B[38;5;241m.\u001B[39mcategories \u001B[38;5;241m!=\u001B[39m \u001B[38;5;124m\"\u001B[39m\u001B[38;5;124mauto\u001B[39m\u001B[38;5;124m\"\u001B[39m:\n\u001B[0;32m     84\u001B[0m     \u001B[38;5;28;01mif\u001B[39;00m \u001B[38;5;28mlen\u001B[39m(\u001B[38;5;28mself\u001B[39m\u001B[38;5;241m.\u001B[39mcategories) \u001B[38;5;241m!=\u001B[39m n_features:\n\u001B[1;32m---> 85\u001B[0m         \u001B[38;5;28;01mraise\u001B[39;00m \u001B[38;5;167;01mValueError\u001B[39;00m(\n\u001B[0;32m     86\u001B[0m             \u001B[38;5;124m\"\u001B[39m\u001B[38;5;124mShape mismatch: if categories is an array,\u001B[39m\u001B[38;5;124m\"\u001B[39m\n\u001B[0;32m     87\u001B[0m             \u001B[38;5;124m\"\u001B[39m\u001B[38;5;124m it has to be of shape (n_features,).\u001B[39m\u001B[38;5;124m\"\u001B[39m\n\u001B[0;32m     88\u001B[0m         )\n\u001B[0;32m     90\u001B[0m \u001B[38;5;28mself\u001B[39m\u001B[38;5;241m.\u001B[39mcategories_ \u001B[38;5;241m=\u001B[39m []\n\u001B[0;32m     91\u001B[0m category_counts \u001B[38;5;241m=\u001B[39m []\n",
      "\u001B[1;31mValueError\u001B[0m: Shape mismatch: if categories is an array, it has to be of shape (n_features,)."
     ]
    }
   ],
   "source": [
    "pipe.fit(X_train, y_train)\n",
    "\n",
    "pred_pipe = pipe.predict(X_test)\n",
    "recall_score(y_test, pred_pipe)"
   ],
   "metadata": {
    "collapsed": false,
    "ExecuteTime": {
     "end_time": "2023-12-20T13:55:13.190157200Z",
     "start_time": "2023-12-20T13:55:13.125342400Z"
    }
   }
  },
  {
   "cell_type": "markdown",
   "source": [
    "Итак, кодируем сторонней библиотекой"
   ],
   "metadata": {
    "collapsed": false
   }
  },
  {
   "cell_type": "code",
   "execution_count": 37,
   "outputs": [
    {
     "data": {
      "text/plain": "((11084, 20), (2771, 20))"
     },
     "execution_count": 37,
     "metadata": {},
     "output_type": "execute_result"
    }
   ],
   "source": [
    "X_train.shape, X_test.shape"
   ],
   "metadata": {
    "collapsed": false,
    "ExecuteTime": {
     "end_time": "2023-12-19T17:22:16.751852500Z",
     "start_time": "2023-12-19T17:22:16.726482400Z"
    }
   }
  },
  {
   "cell_type": "code",
   "execution_count": 233,
   "outputs": [],
   "source": [],
   "metadata": {
    "collapsed": false,
    "ExecuteTime": {
     "end_time": "2023-12-22T16:34:23.738126100Z",
     "start_time": "2023-12-22T16:34:23.677698100Z"
    }
   }
  },
  {
   "cell_type": "code",
   "execution_count": 240,
   "outputs": [],
   "source": [
    "from category_encoders.one_hot import OneHotEncoder\n",
    "ohe_enc = OneHotEncoder(cols=columns)\n",
    "X_train = pd.DataFrame(ohe_enc.fit_transform(X_train), index=X_train.index)\n",
    "X_test = pd.DataFrame(ohe_enc.transform(X_test), index=X_test.index)"
   ],
   "metadata": {
    "collapsed": false,
    "ExecuteTime": {
     "end_time": "2023-12-22T16:36:08.519015700Z",
     "start_time": "2023-12-22T16:36:08.297029500Z"
    }
   }
  },
  {
   "cell_type": "code",
   "execution_count": 241,
   "outputs": [
    {
     "data": {
      "text/plain": "((11084, 164), (2771, 164))"
     },
     "execution_count": 241,
     "metadata": {},
     "output_type": "execute_result"
    }
   ],
   "source": [
    "X_train.shape, X_test.shape"
   ],
   "metadata": {
    "collapsed": false,
    "ExecuteTime": {
     "end_time": "2023-12-22T16:36:13.501696700Z",
     "start_time": "2023-12-22T16:36:13.423247200Z"
    }
   }
  },
  {
   "cell_type": "code",
   "execution_count": 242,
   "outputs": [],
   "source": [
    "scaler = StandardScaler()\n",
    "X_train = pd.DataFrame(scaler.fit_transform(X_train), columns =X_train.columns, index=X_train.index)\n",
    "X_test = pd.DataFrame(scaler.transform(X_test), columns =X_test.columns, index=X_test.index)"
   ],
   "metadata": {
    "collapsed": false,
    "ExecuteTime": {
     "end_time": "2023-12-22T16:36:21.460660200Z",
     "start_time": "2023-12-22T16:36:21.368673Z"
    }
   }
  },
  {
   "cell_type": "code",
   "execution_count": 243,
   "outputs": [
    {
     "data": {
      "text/plain": "                AGE    GENDER  EDUCATION_1  EDUCATION_2  EDUCATION_3  \\\nID                                                                     \n106818368  0.399082  0.753345    -0.868535    -0.526828     1.536498   \n\n           EDUCATION_4  EDUCATION_5  EDUCATION_6  EDUCATION_7  \\\nID                                                              \n106818368    -0.197965    -0.128119    -0.009499    -0.035562   \n\n           MARITAL_STATUS_1  ...  JOB_DIR_8  JOB_DIR_9  JOB_DIR_10  WORK_TIME  \\\nID                           ...                                                \n106818368         -0.561929  ...  -0.123682  -0.026875   -0.066636   -0.00163   \n\n           FAMILY_INCOME_1  FAMILY_INCOME_2  FAMILY_INCOME_3  FAMILY_INCOME_4  \\\nID                                                                              \n106818368         1.095282        -0.861839        -0.192486        -0.297816   \n\n           FAMILY_INCOME_5  PERSONAL_INCOME  \nID                                           \n106818368        -0.044596        -0.469906  \n\n[1 rows x 164 columns]",
      "text/html": "<div>\n<style scoped>\n    .dataframe tbody tr th:only-of-type {\n        vertical-align: middle;\n    }\n\n    .dataframe tbody tr th {\n        vertical-align: top;\n    }\n\n    .dataframe thead th {\n        text-align: right;\n    }\n</style>\n<table border=\"1\" class=\"dataframe\">\n  <thead>\n    <tr style=\"text-align: right;\">\n      <th></th>\n      <th>AGE</th>\n      <th>GENDER</th>\n      <th>EDUCATION_1</th>\n      <th>EDUCATION_2</th>\n      <th>EDUCATION_3</th>\n      <th>EDUCATION_4</th>\n      <th>EDUCATION_5</th>\n      <th>EDUCATION_6</th>\n      <th>EDUCATION_7</th>\n      <th>MARITAL_STATUS_1</th>\n      <th>...</th>\n      <th>JOB_DIR_8</th>\n      <th>JOB_DIR_9</th>\n      <th>JOB_DIR_10</th>\n      <th>WORK_TIME</th>\n      <th>FAMILY_INCOME_1</th>\n      <th>FAMILY_INCOME_2</th>\n      <th>FAMILY_INCOME_3</th>\n      <th>FAMILY_INCOME_4</th>\n      <th>FAMILY_INCOME_5</th>\n      <th>PERSONAL_INCOME</th>\n    </tr>\n    <tr>\n      <th>ID</th>\n      <th></th>\n      <th></th>\n      <th></th>\n      <th></th>\n      <th></th>\n      <th></th>\n      <th></th>\n      <th></th>\n      <th></th>\n      <th></th>\n      <th></th>\n      <th></th>\n      <th></th>\n      <th></th>\n      <th></th>\n      <th></th>\n      <th></th>\n      <th></th>\n      <th></th>\n      <th></th>\n      <th></th>\n    </tr>\n  </thead>\n  <tbody>\n    <tr>\n      <th>106818368</th>\n      <td>0.399082</td>\n      <td>0.753345</td>\n      <td>-0.868535</td>\n      <td>-0.526828</td>\n      <td>1.536498</td>\n      <td>-0.197965</td>\n      <td>-0.128119</td>\n      <td>-0.009499</td>\n      <td>-0.035562</td>\n      <td>-0.561929</td>\n      <td>...</td>\n      <td>-0.123682</td>\n      <td>-0.026875</td>\n      <td>-0.066636</td>\n      <td>-0.00163</td>\n      <td>1.095282</td>\n      <td>-0.861839</td>\n      <td>-0.192486</td>\n      <td>-0.297816</td>\n      <td>-0.044596</td>\n      <td>-0.469906</td>\n    </tr>\n  </tbody>\n</table>\n<p>1 rows × 164 columns</p>\n</div>"
     },
     "execution_count": 243,
     "metadata": {},
     "output_type": "execute_result"
    }
   ],
   "source": [
    "X_train.sample()"
   ],
   "metadata": {
    "collapsed": false,
    "ExecuteTime": {
     "end_time": "2023-12-22T16:36:26.986023200Z",
     "start_time": "2023-12-22T16:36:26.950587500Z"
    }
   }
  },
  {
   "cell_type": "code",
   "execution_count": 151,
   "outputs": [
    {
     "data": {
      "text/plain": "((11084, 164), (2771, 164))"
     },
     "execution_count": 151,
     "metadata": {},
     "output_type": "execute_result"
    }
   ],
   "source": [
    "X_train.shape, X_test.shape"
   ],
   "metadata": {
    "collapsed": false,
    "ExecuteTime": {
     "end_time": "2023-12-20T14:16:45.698214400Z",
     "start_time": "2023-12-20T14:16:45.687830900Z"
    }
   }
  },
  {
   "cell_type": "code",
   "execution_count": 152,
   "outputs": [],
   "source": [
    "model = LogisticRegression()"
   ],
   "metadata": {
    "collapsed": false,
    "ExecuteTime": {
     "end_time": "2023-12-20T14:17:57.642274300Z",
     "start_time": "2023-12-20T14:17:57.625752200Z"
    }
   }
  },
  {
   "cell_type": "code",
   "execution_count": 153,
   "outputs": [
    {
     "data": {
      "text/plain": "LogisticRegression()",
      "text/html": "<style>#sk-container-id-2 {color: black;}#sk-container-id-2 pre{padding: 0;}#sk-container-id-2 div.sk-toggleable {background-color: white;}#sk-container-id-2 label.sk-toggleable__label {cursor: pointer;display: block;width: 100%;margin-bottom: 0;padding: 0.3em;box-sizing: border-box;text-align: center;}#sk-container-id-2 label.sk-toggleable__label-arrow:before {content: \"▸\";float: left;margin-right: 0.25em;color: #696969;}#sk-container-id-2 label.sk-toggleable__label-arrow:hover:before {color: black;}#sk-container-id-2 div.sk-estimator:hover label.sk-toggleable__label-arrow:before {color: black;}#sk-container-id-2 div.sk-toggleable__content {max-height: 0;max-width: 0;overflow: hidden;text-align: left;background-color: #f0f8ff;}#sk-container-id-2 div.sk-toggleable__content pre {margin: 0.2em;color: black;border-radius: 0.25em;background-color: #f0f8ff;}#sk-container-id-2 input.sk-toggleable__control:checked~div.sk-toggleable__content {max-height: 200px;max-width: 100%;overflow: auto;}#sk-container-id-2 input.sk-toggleable__control:checked~label.sk-toggleable__label-arrow:before {content: \"▾\";}#sk-container-id-2 div.sk-estimator input.sk-toggleable__control:checked~label.sk-toggleable__label {background-color: #d4ebff;}#sk-container-id-2 div.sk-label input.sk-toggleable__control:checked~label.sk-toggleable__label {background-color: #d4ebff;}#sk-container-id-2 input.sk-hidden--visually {border: 0;clip: rect(1px 1px 1px 1px);clip: rect(1px, 1px, 1px, 1px);height: 1px;margin: -1px;overflow: hidden;padding: 0;position: absolute;width: 1px;}#sk-container-id-2 div.sk-estimator {font-family: monospace;background-color: #f0f8ff;border: 1px dotted black;border-radius: 0.25em;box-sizing: border-box;margin-bottom: 0.5em;}#sk-container-id-2 div.sk-estimator:hover {background-color: #d4ebff;}#sk-container-id-2 div.sk-parallel-item::after {content: \"\";width: 100%;border-bottom: 1px solid gray;flex-grow: 1;}#sk-container-id-2 div.sk-label:hover label.sk-toggleable__label {background-color: #d4ebff;}#sk-container-id-2 div.sk-serial::before {content: \"\";position: absolute;border-left: 1px solid gray;box-sizing: border-box;top: 0;bottom: 0;left: 50%;z-index: 0;}#sk-container-id-2 div.sk-serial {display: flex;flex-direction: column;align-items: center;background-color: white;padding-right: 0.2em;padding-left: 0.2em;position: relative;}#sk-container-id-2 div.sk-item {position: relative;z-index: 1;}#sk-container-id-2 div.sk-parallel {display: flex;align-items: stretch;justify-content: center;background-color: white;position: relative;}#sk-container-id-2 div.sk-item::before, #sk-container-id-2 div.sk-parallel-item::before {content: \"\";position: absolute;border-left: 1px solid gray;box-sizing: border-box;top: 0;bottom: 0;left: 50%;z-index: -1;}#sk-container-id-2 div.sk-parallel-item {display: flex;flex-direction: column;z-index: 1;position: relative;background-color: white;}#sk-container-id-2 div.sk-parallel-item:first-child::after {align-self: flex-end;width: 50%;}#sk-container-id-2 div.sk-parallel-item:last-child::after {align-self: flex-start;width: 50%;}#sk-container-id-2 div.sk-parallel-item:only-child::after {width: 0;}#sk-container-id-2 div.sk-dashed-wrapped {border: 1px dashed gray;margin: 0 0.4em 0.5em 0.4em;box-sizing: border-box;padding-bottom: 0.4em;background-color: white;}#sk-container-id-2 div.sk-label label {font-family: monospace;font-weight: bold;display: inline-block;line-height: 1.2em;}#sk-container-id-2 div.sk-label-container {text-align: center;}#sk-container-id-2 div.sk-container {/* jupyter's `normalize.less` sets `[hidden] { display: none; }` but bootstrap.min.css set `[hidden] { display: none !important; }` so we also need the `!important` here to be able to override the default hidden behavior on the sphinx rendered scikit-learn.org. See: https://github.com/scikit-learn/scikit-learn/issues/21755 */display: inline-block !important;position: relative;}#sk-container-id-2 div.sk-text-repr-fallback {display: none;}</style><div id=\"sk-container-id-2\" class=\"sk-top-container\"><div class=\"sk-text-repr-fallback\"><pre>LogisticRegression()</pre><b>In a Jupyter environment, please rerun this cell to show the HTML representation or trust the notebook. <br />On GitHub, the HTML representation is unable to render, please try loading this page with nbviewer.org.</b></div><div class=\"sk-container\" hidden><div class=\"sk-item\"><div class=\"sk-estimator sk-toggleable\"><input class=\"sk-toggleable__control sk-hidden--visually\" id=\"sk-estimator-id-2\" type=\"checkbox\" checked><label for=\"sk-estimator-id-2\" class=\"sk-toggleable__label sk-toggleable__label-arrow\">LogisticRegression</label><div class=\"sk-toggleable__content\"><pre>LogisticRegression()</pre></div></div></div></div></div>"
     },
     "execution_count": 153,
     "metadata": {},
     "output_type": "execute_result"
    }
   ],
   "source": [
    "model.fit(X_train, y_train)"
   ],
   "metadata": {
    "collapsed": false,
    "ExecuteTime": {
     "end_time": "2023-12-20T14:18:09.422483500Z",
     "start_time": "2023-12-20T14:18:09.300537200Z"
    }
   }
  },
  {
   "cell_type": "code",
   "execution_count": 154,
   "outputs": [],
   "source": [
    "y_pred = model.predict(X_test)"
   ],
   "metadata": {
    "collapsed": false,
    "ExecuteTime": {
     "end_time": "2023-12-20T14:18:18.567342Z",
     "start_time": "2023-12-20T14:18:18.549924300Z"
    }
   }
  },
  {
   "cell_type": "code",
   "execution_count": 155,
   "outputs": [
    {
     "data": {
      "text/plain": "0.002840909090909091"
     },
     "execution_count": 155,
     "metadata": {},
     "output_type": "execute_result"
    }
   ],
   "source": [
    "recall_score(y_test, y_pred)"
   ],
   "metadata": {
    "collapsed": false,
    "ExecuteTime": {
     "end_time": "2023-12-20T14:18:21.268234500Z",
     "start_time": "2023-12-20T14:18:21.249574800Z"
    }
   }
  },
  {
   "cell_type": "code",
   "execution_count": 156,
   "outputs": [
    {
     "data": {
      "text/plain": "0.8715265247203176"
     },
     "execution_count": 156,
     "metadata": {},
     "output_type": "execute_result"
    }
   ],
   "source": [
    "accuracy_score(y_test, y_pred)"
   ],
   "metadata": {
    "collapsed": false,
    "ExecuteTime": {
     "end_time": "2023-12-20T14:18:27.724301800Z",
     "start_time": "2023-12-20T14:18:27.715106200Z"
    }
   }
  },
  {
   "cell_type": "markdown",
   "source": [
    "Переведите вероятности в классы по стандартному порогу (0.5) и на тестовом наборе данных вычислите метрики:\n",
    "\n",
    "* accuracy\n",
    "* precision\n",
    "* recall\n",
    "* f1-score"
   ],
   "metadata": {
    "id": "DU2v7ELEvgGF"
   }
  },
  {
   "cell_type": "code",
   "execution_count": 65,
   "outputs": [
    {
     "data": {
      "text/plain": "TARGET\n0.0    12093\n1.0     1762\nName: count, dtype: int64"
     },
     "execution_count": 65,
     "metadata": {},
     "output_type": "execute_result"
    }
   ],
   "source": [
    "y.value_counts()"
   ],
   "metadata": {
    "collapsed": false,
    "ExecuteTime": {
     "end_time": "2023-12-19T17:37:05.499618400Z",
     "start_time": "2023-12-19T17:37:05.488304600Z"
    }
   }
  },
  {
   "cell_type": "code",
   "execution_count": 158,
   "outputs": [],
   "source": [
    "y_prob = model.predict_proba(X_test)[:,1]"
   ],
   "metadata": {
    "collapsed": false,
    "ExecuteTime": {
     "end_time": "2023-12-20T14:18:58.286738400Z",
     "start_time": "2023-12-20T14:18:58.273057Z"
    }
   }
  },
  {
   "cell_type": "code",
   "execution_count": 159,
   "outputs": [
    {
     "data": {
      "text/plain": "array([0.07741067, 0.08188389, 0.20035837, ..., 0.3687718 , 0.143651  ,\n       0.04691201])"
     },
     "execution_count": 159,
     "metadata": {},
     "output_type": "execute_result"
    }
   ],
   "source": [
    "y_prob"
   ],
   "metadata": {
    "collapsed": false,
    "ExecuteTime": {
     "end_time": "2023-12-20T14:19:01.229211800Z",
     "start_time": "2023-12-20T14:19:01.222060100Z"
    }
   }
  },
  {
   "cell_type": "code",
   "execution_count": 183,
   "outputs": [
    {
     "name": "stdout",
     "output_type": "stream",
     "text": [
      "accuracy=0.8715265247203176, precision=0.16666666666666666, recall=0.002840909090909091, f1=0.00558659217877095\n"
     ]
    }
   ],
   "source": [
    "y_trhold = y_prob > 0.5\n",
    "accuracy = accuracy_score(y_test, y_trhold)\n",
    "precision = precision_score(y_test, y_trhold)\n",
    "recall = recall_score(y_test, y_trhold)\n",
    "f1 = f1_score(y_test, y_trhold)\n",
    "print(f'{accuracy=}, {precision=}, {recall=}, {f1=}')"
   ],
   "metadata": {
    "collapsed": false,
    "ExecuteTime": {
     "end_time": "2023-12-20T14:42:48.962270100Z",
     "start_time": "2023-12-20T14:42:48.946979700Z"
    }
   }
  },
  {
   "cell_type": "code",
   "execution_count": 182,
   "outputs": [
    {
     "name": "stdout",
     "output_type": "stream",
     "text": [
      "accuracy=0.4926019487549621, precision=0.15690104166666666, recall=0.6846590909090909, f1=0.2552966101694915\n"
     ]
    }
   ],
   "source": [
    "y_trhold = y_prob > 0.10\n",
    "accuracy = accuracy_score(y_test, y_trhold)\n",
    "precision = precision_score(y_test, y_trhold)\n",
    "recall = recall_score(y_test, y_trhold)\n",
    "f1 = f1_score(y_test, y_trhold)\n",
    "print(f'{accuracy=}, {precision=}, {recall=}, {f1=}')"
   ],
   "metadata": {
    "collapsed": false,
    "ExecuteTime": {
     "end_time": "2023-12-20T14:42:39.493734600Z",
     "start_time": "2023-12-20T14:42:39.482718600Z"
    }
   }
  },
  {
   "cell_type": "markdown",
   "source": [
    "Целевая метрика для задачи - полнота, так как нам нужно найти максимум клиентов, кто может откликнуться на рекламу.\n",
    "\n",
    "Но при этом точность не должна просесть, поэтому за ней тоже следим."
   ],
   "metadata": {
    "id": "Ft9XQp4Dxs-Z"
   }
  },
  {
   "cell_type": "markdown",
   "source": [
    "Разбейте тренировочные данные на `train` и `val` части в пропорции 3 к 1.\n",
    "\n",
    "В цикле:\n",
    "\n",
    "* переберите пороги от 0 до 1 с шагом 0.01\n",
    "* вычислите для каждого порога значение метрик precision и recall\n",
    "* подберите такой порог, при котором recall не меньше 0.66, а точность максимальна."
   ],
   "metadata": {
    "id": "JFPAsh0-xWak"
   }
  },
  {
   "cell_type": "code",
   "source": [
    "Xtrain, Xval, ytrain, yval = train_test_split(X_train, y_train, test_size=1/3, stratify=y_train)\n",
    "\n",
    "Xtrain.shape, Xval.shape"
   ],
   "metadata": {
    "id": "jTs9xG4AyQ5t",
    "ExecuteTime": {
     "end_time": "2023-12-20T17:36:00.249972300Z",
     "start_time": "2023-12-20T17:36:00.237528100Z"
    }
   },
   "execution_count": 304,
   "outputs": [
    {
     "data": {
      "text/plain": "((7389, 20), (3695, 20))"
     },
     "execution_count": 304,
     "metadata": {},
     "output_type": "execute_result"
    }
   ]
  },
  {
   "cell_type": "code",
   "execution_count": null,
   "outputs": [],
   "source": [],
   "metadata": {
    "collapsed": false
   }
  },
  {
   "cell_type": "code",
   "execution_count": 316,
   "outputs": [],
   "source": [
    "Xtrain, Xval, ytrain, yval = train_test_split(X_train, y_train, test_size=1/3, stratify=y_train)\n",
    "\n",
    "num_cols = X_train.select_dtypes(include=np.number).columns\n",
    "cat_cols = X_train.select_dtypes(exclude=np.number).columns\n",
    "\n",
    "trans = make_column_transformer((StandardScaler(), num_cols), \n",
    "                            (OneHotEncoder(), cat_cols), remainder='passthrough')\n",
    "\n",
    "val_model = Pipeline([\n",
    "    ('encoder', trans),\n",
    "    ('features', PolynomialFeatures(degree=2)),\n",
    "    ('model', LogisticRegression(max_iter=1000))\n",
    "])\n",
    "val_model.fit(Xtrain, ytrain)\n",
    "pred_probability = val_model.predict_proba(Xval)[:, 1]"
   ],
   "metadata": {
    "collapsed": false,
    "ExecuteTime": {
     "end_time": "2023-12-20T17:46:13.611758500Z",
     "start_time": "2023-12-20T17:46:07.642921Z"
    }
   }
  },
  {
   "cell_type": "code",
   "execution_count": 306,
   "outputs": [
    {
     "data": {
      "text/plain": "Pipeline(steps=[('encoder',\n                 ColumnTransformer(remainder='passthrough',\n                                   transformers=[('standardscaler',\n                                                  StandardScaler(),\n                                                  Index(['AGE', 'GENDER', 'CHILD_TOTAL', 'DEPENDANTS', 'SOCSTATUS_WORK_FL',\n       'SOCSTATUS_PENS_FL', 'FL_PRESENCE_FL', 'OWN_AUTO', 'CREDIT', 'TERM',\n       'FST_PAYMENT', 'WORK_TIME', 'PERSONAL_INCOME'],\n      dtype='object')),\n                                                 ('onehotencoder',\n                                                  OneHotEncoder(),\n                                                  Index(['EDUCATION', 'MARITAL_STATUS', 'FACT_ADDRESS_PROVINCE', 'GEN_INDUSTRY',\n       'GEN_TITLE', 'JOB_DIR', 'FAMILY_INCOME'],\n      dtype='object'))])),\n                ('features', PolynomialFeatures()),\n                ('model', LogisticRegression(max_iter=1000))])",
      "text/html": "<style>#sk-container-id-15 {color: black;}#sk-container-id-15 pre{padding: 0;}#sk-container-id-15 div.sk-toggleable {background-color: white;}#sk-container-id-15 label.sk-toggleable__label {cursor: pointer;display: block;width: 100%;margin-bottom: 0;padding: 0.3em;box-sizing: border-box;text-align: center;}#sk-container-id-15 label.sk-toggleable__label-arrow:before {content: \"▸\";float: left;margin-right: 0.25em;color: #696969;}#sk-container-id-15 label.sk-toggleable__label-arrow:hover:before {color: black;}#sk-container-id-15 div.sk-estimator:hover label.sk-toggleable__label-arrow:before {color: black;}#sk-container-id-15 div.sk-toggleable__content {max-height: 0;max-width: 0;overflow: hidden;text-align: left;background-color: #f0f8ff;}#sk-container-id-15 div.sk-toggleable__content pre {margin: 0.2em;color: black;border-radius: 0.25em;background-color: #f0f8ff;}#sk-container-id-15 input.sk-toggleable__control:checked~div.sk-toggleable__content {max-height: 200px;max-width: 100%;overflow: auto;}#sk-container-id-15 input.sk-toggleable__control:checked~label.sk-toggleable__label-arrow:before {content: \"▾\";}#sk-container-id-15 div.sk-estimator input.sk-toggleable__control:checked~label.sk-toggleable__label {background-color: #d4ebff;}#sk-container-id-15 div.sk-label input.sk-toggleable__control:checked~label.sk-toggleable__label {background-color: #d4ebff;}#sk-container-id-15 input.sk-hidden--visually {border: 0;clip: rect(1px 1px 1px 1px);clip: rect(1px, 1px, 1px, 1px);height: 1px;margin: -1px;overflow: hidden;padding: 0;position: absolute;width: 1px;}#sk-container-id-15 div.sk-estimator {font-family: monospace;background-color: #f0f8ff;border: 1px dotted black;border-radius: 0.25em;box-sizing: border-box;margin-bottom: 0.5em;}#sk-container-id-15 div.sk-estimator:hover {background-color: #d4ebff;}#sk-container-id-15 div.sk-parallel-item::after {content: \"\";width: 100%;border-bottom: 1px solid gray;flex-grow: 1;}#sk-container-id-15 div.sk-label:hover label.sk-toggleable__label {background-color: #d4ebff;}#sk-container-id-15 div.sk-serial::before {content: \"\";position: absolute;border-left: 1px solid gray;box-sizing: border-box;top: 0;bottom: 0;left: 50%;z-index: 0;}#sk-container-id-15 div.sk-serial {display: flex;flex-direction: column;align-items: center;background-color: white;padding-right: 0.2em;padding-left: 0.2em;position: relative;}#sk-container-id-15 div.sk-item {position: relative;z-index: 1;}#sk-container-id-15 div.sk-parallel {display: flex;align-items: stretch;justify-content: center;background-color: white;position: relative;}#sk-container-id-15 div.sk-item::before, #sk-container-id-15 div.sk-parallel-item::before {content: \"\";position: absolute;border-left: 1px solid gray;box-sizing: border-box;top: 0;bottom: 0;left: 50%;z-index: -1;}#sk-container-id-15 div.sk-parallel-item {display: flex;flex-direction: column;z-index: 1;position: relative;background-color: white;}#sk-container-id-15 div.sk-parallel-item:first-child::after {align-self: flex-end;width: 50%;}#sk-container-id-15 div.sk-parallel-item:last-child::after {align-self: flex-start;width: 50%;}#sk-container-id-15 div.sk-parallel-item:only-child::after {width: 0;}#sk-container-id-15 div.sk-dashed-wrapped {border: 1px dashed gray;margin: 0 0.4em 0.5em 0.4em;box-sizing: border-box;padding-bottom: 0.4em;background-color: white;}#sk-container-id-15 div.sk-label label {font-family: monospace;font-weight: bold;display: inline-block;line-height: 1.2em;}#sk-container-id-15 div.sk-label-container {text-align: center;}#sk-container-id-15 div.sk-container {/* jupyter's `normalize.less` sets `[hidden] { display: none; }` but bootstrap.min.css set `[hidden] { display: none !important; }` so we also need the `!important` here to be able to override the default hidden behavior on the sphinx rendered scikit-learn.org. See: https://github.com/scikit-learn/scikit-learn/issues/21755 */display: inline-block !important;position: relative;}#sk-container-id-15 div.sk-text-repr-fallback {display: none;}</style><div id=\"sk-container-id-15\" class=\"sk-top-container\"><div class=\"sk-text-repr-fallback\"><pre>Pipeline(steps=[(&#x27;encoder&#x27;,\n                 ColumnTransformer(remainder=&#x27;passthrough&#x27;,\n                                   transformers=[(&#x27;standardscaler&#x27;,\n                                                  StandardScaler(),\n                                                  Index([&#x27;AGE&#x27;, &#x27;GENDER&#x27;, &#x27;CHILD_TOTAL&#x27;, &#x27;DEPENDANTS&#x27;, &#x27;SOCSTATUS_WORK_FL&#x27;,\n       &#x27;SOCSTATUS_PENS_FL&#x27;, &#x27;FL_PRESENCE_FL&#x27;, &#x27;OWN_AUTO&#x27;, &#x27;CREDIT&#x27;, &#x27;TERM&#x27;,\n       &#x27;FST_PAYMENT&#x27;, &#x27;WORK_TIME&#x27;, &#x27;PERSONAL_INCOME&#x27;],\n      dtype=&#x27;object&#x27;)),\n                                                 (&#x27;onehotencoder&#x27;,\n                                                  OneHotEncoder(),\n                                                  Index([&#x27;EDUCATION&#x27;, &#x27;MARITAL_STATUS&#x27;, &#x27;FACT_ADDRESS_PROVINCE&#x27;, &#x27;GEN_INDUSTRY&#x27;,\n       &#x27;GEN_TITLE&#x27;, &#x27;JOB_DIR&#x27;, &#x27;FAMILY_INCOME&#x27;],\n      dtype=&#x27;object&#x27;))])),\n                (&#x27;features&#x27;, PolynomialFeatures()),\n                (&#x27;model&#x27;, LogisticRegression(max_iter=1000))])</pre><b>In a Jupyter environment, please rerun this cell to show the HTML representation or trust the notebook. <br />On GitHub, the HTML representation is unable to render, please try loading this page with nbviewer.org.</b></div><div class=\"sk-container\" hidden><div class=\"sk-item sk-dashed-wrapped\"><div class=\"sk-label-container\"><div class=\"sk-label sk-toggleable\"><input class=\"sk-toggleable__control sk-hidden--visually\" id=\"sk-estimator-id-101\" type=\"checkbox\" ><label for=\"sk-estimator-id-101\" class=\"sk-toggleable__label sk-toggleable__label-arrow\">Pipeline</label><div class=\"sk-toggleable__content\"><pre>Pipeline(steps=[(&#x27;encoder&#x27;,\n                 ColumnTransformer(remainder=&#x27;passthrough&#x27;,\n                                   transformers=[(&#x27;standardscaler&#x27;,\n                                                  StandardScaler(),\n                                                  Index([&#x27;AGE&#x27;, &#x27;GENDER&#x27;, &#x27;CHILD_TOTAL&#x27;, &#x27;DEPENDANTS&#x27;, &#x27;SOCSTATUS_WORK_FL&#x27;,\n       &#x27;SOCSTATUS_PENS_FL&#x27;, &#x27;FL_PRESENCE_FL&#x27;, &#x27;OWN_AUTO&#x27;, &#x27;CREDIT&#x27;, &#x27;TERM&#x27;,\n       &#x27;FST_PAYMENT&#x27;, &#x27;WORK_TIME&#x27;, &#x27;PERSONAL_INCOME&#x27;],\n      dtype=&#x27;object&#x27;)),\n                                                 (&#x27;onehotencoder&#x27;,\n                                                  OneHotEncoder(),\n                                                  Index([&#x27;EDUCATION&#x27;, &#x27;MARITAL_STATUS&#x27;, &#x27;FACT_ADDRESS_PROVINCE&#x27;, &#x27;GEN_INDUSTRY&#x27;,\n       &#x27;GEN_TITLE&#x27;, &#x27;JOB_DIR&#x27;, &#x27;FAMILY_INCOME&#x27;],\n      dtype=&#x27;object&#x27;))])),\n                (&#x27;features&#x27;, PolynomialFeatures()),\n                (&#x27;model&#x27;, LogisticRegression(max_iter=1000))])</pre></div></div></div><div class=\"sk-serial\"><div class=\"sk-item sk-dashed-wrapped\"><div class=\"sk-label-container\"><div class=\"sk-label sk-toggleable\"><input class=\"sk-toggleable__control sk-hidden--visually\" id=\"sk-estimator-id-102\" type=\"checkbox\" ><label for=\"sk-estimator-id-102\" class=\"sk-toggleable__label sk-toggleable__label-arrow\">encoder: ColumnTransformer</label><div class=\"sk-toggleable__content\"><pre>ColumnTransformer(remainder=&#x27;passthrough&#x27;,\n                  transformers=[(&#x27;standardscaler&#x27;, StandardScaler(),\n                                 Index([&#x27;AGE&#x27;, &#x27;GENDER&#x27;, &#x27;CHILD_TOTAL&#x27;, &#x27;DEPENDANTS&#x27;, &#x27;SOCSTATUS_WORK_FL&#x27;,\n       &#x27;SOCSTATUS_PENS_FL&#x27;, &#x27;FL_PRESENCE_FL&#x27;, &#x27;OWN_AUTO&#x27;, &#x27;CREDIT&#x27;, &#x27;TERM&#x27;,\n       &#x27;FST_PAYMENT&#x27;, &#x27;WORK_TIME&#x27;, &#x27;PERSONAL_INCOME&#x27;],\n      dtype=&#x27;object&#x27;)),\n                                (&#x27;onehotencoder&#x27;, OneHotEncoder(),\n                                 Index([&#x27;EDUCATION&#x27;, &#x27;MARITAL_STATUS&#x27;, &#x27;FACT_ADDRESS_PROVINCE&#x27;, &#x27;GEN_INDUSTRY&#x27;,\n       &#x27;GEN_TITLE&#x27;, &#x27;JOB_DIR&#x27;, &#x27;FAMILY_INCOME&#x27;],\n      dtype=&#x27;object&#x27;))])</pre></div></div></div><div class=\"sk-parallel\"><div class=\"sk-parallel-item\"><div class=\"sk-item\"><div class=\"sk-label-container\"><div class=\"sk-label sk-toggleable\"><input class=\"sk-toggleable__control sk-hidden--visually\" id=\"sk-estimator-id-103\" type=\"checkbox\" ><label for=\"sk-estimator-id-103\" class=\"sk-toggleable__label sk-toggleable__label-arrow\">standardscaler</label><div class=\"sk-toggleable__content\"><pre>Index([&#x27;AGE&#x27;, &#x27;GENDER&#x27;, &#x27;CHILD_TOTAL&#x27;, &#x27;DEPENDANTS&#x27;, &#x27;SOCSTATUS_WORK_FL&#x27;,\n       &#x27;SOCSTATUS_PENS_FL&#x27;, &#x27;FL_PRESENCE_FL&#x27;, &#x27;OWN_AUTO&#x27;, &#x27;CREDIT&#x27;, &#x27;TERM&#x27;,\n       &#x27;FST_PAYMENT&#x27;, &#x27;WORK_TIME&#x27;, &#x27;PERSONAL_INCOME&#x27;],\n      dtype=&#x27;object&#x27;)</pre></div></div></div><div class=\"sk-serial\"><div class=\"sk-item\"><div class=\"sk-estimator sk-toggleable\"><input class=\"sk-toggleable__control sk-hidden--visually\" id=\"sk-estimator-id-104\" type=\"checkbox\" ><label for=\"sk-estimator-id-104\" class=\"sk-toggleable__label sk-toggleable__label-arrow\">StandardScaler</label><div class=\"sk-toggleable__content\"><pre>StandardScaler()</pre></div></div></div></div></div></div><div class=\"sk-parallel-item\"><div class=\"sk-item\"><div class=\"sk-label-container\"><div class=\"sk-label sk-toggleable\"><input class=\"sk-toggleable__control sk-hidden--visually\" id=\"sk-estimator-id-105\" type=\"checkbox\" ><label for=\"sk-estimator-id-105\" class=\"sk-toggleable__label sk-toggleable__label-arrow\">onehotencoder</label><div class=\"sk-toggleable__content\"><pre>Index([&#x27;EDUCATION&#x27;, &#x27;MARITAL_STATUS&#x27;, &#x27;FACT_ADDRESS_PROVINCE&#x27;, &#x27;GEN_INDUSTRY&#x27;,\n       &#x27;GEN_TITLE&#x27;, &#x27;JOB_DIR&#x27;, &#x27;FAMILY_INCOME&#x27;],\n      dtype=&#x27;object&#x27;)</pre></div></div></div><div class=\"sk-serial\"><div class=\"sk-item\"><div class=\"sk-estimator sk-toggleable\"><input class=\"sk-toggleable__control sk-hidden--visually\" id=\"sk-estimator-id-106\" type=\"checkbox\" ><label for=\"sk-estimator-id-106\" class=\"sk-toggleable__label sk-toggleable__label-arrow\">OneHotEncoder</label><div class=\"sk-toggleable__content\"><pre>OneHotEncoder()</pre></div></div></div></div></div></div><div class=\"sk-parallel-item\"><div class=\"sk-item\"><div class=\"sk-label-container\"><div class=\"sk-label sk-toggleable\"><input class=\"sk-toggleable__control sk-hidden--visually\" id=\"sk-estimator-id-107\" type=\"checkbox\" ><label for=\"sk-estimator-id-107\" class=\"sk-toggleable__label sk-toggleable__label-arrow\">remainder</label><div class=\"sk-toggleable__content\"><pre>[]</pre></div></div></div><div class=\"sk-serial\"><div class=\"sk-item\"><div class=\"sk-estimator sk-toggleable\"><input class=\"sk-toggleable__control sk-hidden--visually\" id=\"sk-estimator-id-108\" type=\"checkbox\" ><label for=\"sk-estimator-id-108\" class=\"sk-toggleable__label sk-toggleable__label-arrow\">passthrough</label><div class=\"sk-toggleable__content\"><pre>passthrough</pre></div></div></div></div></div></div></div></div><div class=\"sk-item\"><div class=\"sk-estimator sk-toggleable\"><input class=\"sk-toggleable__control sk-hidden--visually\" id=\"sk-estimator-id-109\" type=\"checkbox\" ><label for=\"sk-estimator-id-109\" class=\"sk-toggleable__label sk-toggleable__label-arrow\">PolynomialFeatures</label><div class=\"sk-toggleable__content\"><pre>PolynomialFeatures()</pre></div></div></div><div class=\"sk-item\"><div class=\"sk-estimator sk-toggleable\"><input class=\"sk-toggleable__control sk-hidden--visually\" id=\"sk-estimator-id-110\" type=\"checkbox\" ><label for=\"sk-estimator-id-110\" class=\"sk-toggleable__label sk-toggleable__label-arrow\">LogisticRegression</label><div class=\"sk-toggleable__content\"><pre>LogisticRegression(max_iter=1000)</pre></div></div></div></div></div></div></div>"
     },
     "execution_count": 306,
     "metadata": {},
     "output_type": "execute_result"
    }
   ],
   "source": [
    "val_model.fit(Xtrain, ytrain)"
   ],
   "metadata": {
    "collapsed": false,
    "ExecuteTime": {
     "end_time": "2023-12-20T17:36:12.696204100Z",
     "start_time": "2023-12-20T17:36:07.361923300Z"
    }
   }
  },
  {
   "cell_type": "code",
   "execution_count": 317,
   "outputs": [
    {
     "data": {
      "text/plain": "array([0.0619966 , 0.00187708, 0.3838538 , ..., 0.02408115, 0.01138025,\n       0.02962157])"
     },
     "execution_count": 317,
     "metadata": {},
     "output_type": "execute_result"
    }
   ],
   "source": [
    "pred_probability"
   ],
   "metadata": {
    "collapsed": false,
    "ExecuteTime": {
     "end_time": "2023-12-20T17:46:41.933499100Z",
     "start_time": "2023-12-20T17:46:41.916929400Z"
    }
   }
  },
  {
   "cell_type": "code",
   "execution_count": 322,
   "outputs": [
    {
     "name": "stdout",
     "output_type": "stream",
     "text": [
      "thr=0.0, new_recall=1.0, precision=0.12719891745602166\n",
      "thr=0.01, new_recall=0.7957446808510639, precision=0.13856984068173397\n",
      "thr=0.02, new_recall=0.7106382978723405, precision=0.14604285089637078\n",
      "thr=0.03, new_recall=0.6638297872340425, precision=0.15339233038348082\n",
      "thr=0.04, new_recall=0.6127659574468085, precision=0.15542363734484618\n",
      "thr=0.05, new_recall=0.5765957446808511, precision=0.1602602010644589\n",
      "thr=0.06, new_recall=0.548936170212766, precision=0.1634980988593156\n",
      "thr=0.07, new_recall=0.5255319148936171, precision=0.16689189189189188\n",
      "thr=0.08, new_recall=0.4957446808510638, precision=0.16642857142857143\n",
      "thr=0.09, new_recall=0.4765957446808511, precision=0.1691842900302115\n",
      "thr=0.1, new_recall=0.4595744680851064, precision=0.17170111287758347\n",
      "thr=0.11, new_recall=0.42340425531914894, precision=0.16569525395503748\n",
      "thr=0.12, new_recall=0.4021276595744681, precision=0.16535433070866143\n",
      "thr=0.13, new_recall=0.3872340425531915, precision=0.16743330266789327\n",
      "thr=0.14, new_recall=0.3553191489361702, precision=0.16104146576663453\n",
      "thr=0.15, new_recall=0.3425531914893617, precision=0.16148445336008024\n",
      "thr=0.16, new_recall=0.32978723404255317, precision=0.16145833333333334\n",
      "thr=0.17, new_recall=0.3191489361702128, precision=0.16339869281045752\n",
      "thr=0.18, new_recall=0.30851063829787234, precision=0.1638418079096045\n",
      "thr=0.19, new_recall=0.30425531914893617, precision=0.1672514619883041\n",
      "thr=0.2, new_recall=0.28297872340425534, precision=0.16160388821385177\n",
      "thr=0.21, new_recall=0.28085106382978725, precision=0.16417910447761194\n",
      "thr=0.22, new_recall=0.2723404255319149, precision=0.165374677002584\n",
      "thr=0.23, new_recall=0.2574468085106383, precision=0.16176470588235295\n",
      "thr=0.24, new_recall=0.2531914893617021, precision=0.16301369863013698\n",
      "thr=0.25, new_recall=0.2404255319148936, precision=0.16212338593974174\n",
      "thr=0.26, new_recall=0.23191489361702128, precision=0.16415662650602408\n",
      "thr=0.27, new_recall=0.22340425531914893, precision=0.16329704510108864\n",
      "thr=0.28, new_recall=0.21914893617021278, precision=0.1648\n",
      "thr=0.29, new_recall=0.20851063829787234, precision=0.16306156405990016\n",
      "thr=0.3, new_recall=0.2, precision=0.16234887737478412\n",
      "thr=0.31, new_recall=0.19148936170212766, precision=0.16129032258064516\n",
      "thr=0.32, new_recall=0.18723404255319148, precision=0.16326530612244897\n",
      "thr=0.33, new_recall=0.18085106382978725, precision=0.1640926640926641\n",
      "thr=0.34, new_recall=0.1702127659574468, precision=0.1606425702811245\n",
      "thr=0.35000000000000003, new_recall=0.16595744680851063, precision=0.16149068322981366\n",
      "thr=0.36, new_recall=0.1595744680851064, precision=0.1592356687898089\n",
      "thr=0.37, new_recall=0.1574468085106383, precision=0.16371681415929204\n",
      "thr=0.38, new_recall=0.15106382978723404, precision=0.16063348416289594\n",
      "thr=0.39, new_recall=0.14468085106382977, precision=0.15813953488372093\n",
      "thr=0.4, new_recall=0.14042553191489363, precision=0.15714285714285714\n",
      "thr=0.41000000000000003, new_recall=0.13829787234042554, precision=0.15892420537897312\n",
      "thr=0.42, new_recall=0.13404255319148936, precision=0.1590909090909091\n",
      "thr=0.43, new_recall=0.1276595744680851, precision=0.15706806282722513\n",
      "thr=0.44, new_recall=0.12340425531914893, precision=0.15633423180592992\n",
      "thr=0.45, new_recall=0.12340425531914893, precision=0.1615598885793872\n",
      "thr=0.46, new_recall=0.12127659574468085, precision=0.16521739130434782\n",
      "thr=0.47000000000000003, new_recall=0.11702127659574468, precision=0.16417910447761194\n",
      "thr=0.48, new_recall=0.1148936170212766, precision=0.16718266253869968\n",
      "thr=0.49, new_recall=0.1127659574468085, precision=0.16878980891719744\n",
      "thr=0.5, new_recall=0.10851063829787234, precision=0.16943521594684385\n",
      "thr=0.51, new_recall=0.10638297872340426, precision=0.1694915254237288\n",
      "thr=0.52, new_recall=0.10425531914893617, precision=0.17314487632508835\n",
      "thr=0.53, new_recall=0.10212765957446808, precision=0.17328519855595667\n",
      "thr=0.54, new_recall=0.09361702127659574, precision=0.16923076923076924\n",
      "thr=0.55, new_recall=0.09148936170212765, precision=0.16996047430830039\n",
      "thr=0.56, new_recall=0.09148936170212765, precision=0.17338709677419356\n",
      "thr=0.5700000000000001, new_recall=0.08936170212765958, precision=0.175\n",
      "thr=0.58, new_recall=0.0851063829787234, precision=0.17391304347826086\n",
      "thr=0.59, new_recall=0.08085106382978724, precision=0.16964285714285715\n",
      "thr=0.6, new_recall=0.07659574468085106, precision=0.1643835616438356\n",
      "thr=0.61, new_recall=0.07021276595744681, precision=0.15639810426540285\n",
      "thr=0.62, new_recall=0.06808510638297872, precision=0.1568627450980392\n",
      "thr=0.63, new_recall=0.06595744680851064, precision=0.15422885572139303\n",
      "thr=0.64, new_recall=0.06595744680851064, precision=0.15897435897435896\n",
      "thr=0.65, new_recall=0.06382978723404255, precision=0.15789473684210525\n",
      "thr=0.66, new_recall=0.059574468085106386, precision=0.15555555555555556\n",
      "thr=0.67, new_recall=0.05531914893617021, precision=0.15384615384615385\n",
      "thr=0.68, new_recall=0.05531914893617021, precision=0.15476190476190477\n",
      "thr=0.6900000000000001, new_recall=0.05319148936170213, precision=0.15625\n",
      "thr=0.7000000000000001, new_recall=0.05106382978723404, precision=0.15384615384615385\n",
      "thr=0.71, new_recall=0.04680851063829787, precision=0.1476510067114094\n",
      "thr=0.72, new_recall=0.04680851063829787, precision=0.15384615384615385\n",
      "thr=0.73, new_recall=0.04468085106382979, precision=0.15\n",
      "thr=0.74, new_recall=0.04468085106382979, precision=0.1590909090909091\n",
      "thr=0.75, new_recall=0.0425531914893617, precision=0.15503875968992248\n",
      "thr=0.76, new_recall=0.0425531914893617, precision=0.16129032258064516\n",
      "thr=0.77, new_recall=0.0425531914893617, precision=0.1694915254237288\n",
      "thr=0.78, new_recall=0.04042553191489362, precision=0.17272727272727273\n",
      "thr=0.79, new_recall=0.03829787234042553, precision=0.17475728155339806\n",
      "thr=0.8, new_recall=0.03829787234042553, precision=0.18181818181818182\n",
      "thr=0.81, new_recall=0.036170212765957444, precision=0.18478260869565216\n",
      "thr=0.8200000000000001, new_recall=0.031914893617021274, precision=0.1724137931034483\n",
      "thr=0.8300000000000001, new_recall=0.029787234042553193, precision=0.17073170731707318\n",
      "thr=0.84, new_recall=0.027659574468085105, precision=0.16455696202531644\n",
      "thr=0.85, new_recall=0.02553191489361702, precision=0.16216216216216217\n",
      "thr=0.86, new_recall=0.023404255319148935, precision=0.15942028985507245\n",
      "thr=0.87, new_recall=0.023404255319148935, precision=0.16417910447761194\n",
      "thr=0.88, new_recall=0.02127659574468085, precision=0.15384615384615385\n",
      "thr=0.89, new_recall=0.02127659574468085, precision=0.15625\n",
      "thr=0.9, new_recall=0.019148936170212766, precision=0.16363636363636364\n",
      "thr=0.91, new_recall=0.019148936170212766, precision=0.16981132075471697\n",
      "thr=0.92, new_recall=0.01702127659574468, precision=0.16\n",
      "thr=0.93, new_recall=0.01276595744680851, precision=0.13636363636363635\n",
      "thr=0.9400000000000001, new_recall=0.010638297872340425, precision=0.13513513513513514\n",
      "thr=0.9500000000000001, new_recall=0.00851063829787234, precision=0.12121212121212122\n",
      "thr=0.96, new_recall=0.00851063829787234, precision=0.12903225806451613\n",
      "thr=0.97, new_recall=0.006382978723404255, precision=0.12\n",
      "thr=0.98, new_recall=0.006382978723404255, precision=0.1875\n",
      "thr=0.99, new_recall=0.006382978723404255, precision=0.3\n",
      "\n",
      "Лучший результат: BestThr=0.03, BestRec=0.6638297872340425, Acc_max=0.4912043301759134\n"
     ]
    }
   ],
   "source": [
    "BestRec = -1\n",
    "BestThr = -1\n",
    "Acc_max = -1\n",
    "\n",
    "for thr in np.arange(0, 1, 0.01):\n",
    "    pred_class = pred_probability >= thr\n",
    "    new_recall = recall_score(yval, pred_class)\n",
    "    new_accuracy = accuracy_score(yval, pred_class)\n",
    "    precision = precision_score(yval, pred_class)\n",
    "    print(f'{thr=}, {new_recall=}, {precision=}')\n",
    "    if new_accuracy >= Acc_max and new_recall > 0.66:\n",
    "      BestRec = new_recall\n",
    "      BestThr = thr\n",
    "      Acc_max = new_accuracy\n",
    "print (f'\\nЛучший результат: {BestThr=}, {BestRec=}, {Acc_max=}')"
   ],
   "metadata": {
    "collapsed": false,
    "ExecuteTime": {
     "end_time": "2023-12-20T18:27:29.381721300Z",
     "start_time": "2023-12-20T18:27:28.908860100Z"
    }
   }
  },
  {
   "cell_type": "markdown",
   "source": [
    "Для выбранного порога посчитайте все метрики на тестовых данных. Сильно ли они отличаются от метрик на валидации?"
   ],
   "metadata": {
    "id": "39s_laFMyQfN"
   }
  },
  {
   "cell_type": "markdown",
   "source": [
    " Заново обучу модель на исходных тренировочных данных (`X_train`, `y_train`), и предскажу вероятности на тесте и переведу их в классы по найденному порогу."
   ],
   "metadata": {
    "collapsed": false
   }
  },
  {
   "cell_type": "code",
   "execution_count": 323,
   "outputs": [],
   "source": [
    "X_train, X_test, y_train, y_test = train_test_split(X, y, test_size=0.2, stratify=y, random_state=42)"
   ],
   "metadata": {
    "collapsed": false,
    "ExecuteTime": {
     "end_time": "2023-12-20T18:57:06.845152500Z",
     "start_time": "2023-12-20T18:57:06.798686400Z"
    }
   }
  },
  {
   "cell_type": "markdown",
   "source": [
    "Долго мучился, но кажется победил работу с пайплайном. Так, конечно, проще, но часто возникают неочевидные проблемы из-за OHE кодировщика"
   ],
   "metadata": {
    "collapsed": false
   }
  },
  {
   "cell_type": "code",
   "execution_count": 324,
   "outputs": [
    {
     "data": {
      "text/plain": "Pipeline(steps=[('encoder',\n                 ColumnTransformer(transformers=[('standardscaler',\n                                                  StandardScaler(),\n                                                  Index(['AGE', 'GENDER', 'CHILD_TOTAL', 'DEPENDANTS', 'SOCSTATUS_WORK_FL',\n       'SOCSTATUS_PENS_FL', 'FL_PRESENCE_FL', 'OWN_AUTO', 'CREDIT', 'TERM',\n       'FST_PAYMENT', 'WORK_TIME', 'PERSONAL_INCOME'],\n      dtype='object')),\n                                                 ('onehotencoder',\n                                                  OneHotEncoder(),\n                                                  Index(['EDUCATION', 'MARITAL_STATUS', 'FACT_ADDRESS_PROVINCE', 'GEN_INDUSTRY',\n       'GEN_TITLE', 'JOB_DIR', 'FAMILY_INCOME'],\n      dtype='object'))])),\n                ('features', PolynomialFeatures()),\n                ('model', LogisticRegression(max_iter=1000))])",
      "text/html": "<style>#sk-container-id-16 {color: black;}#sk-container-id-16 pre{padding: 0;}#sk-container-id-16 div.sk-toggleable {background-color: white;}#sk-container-id-16 label.sk-toggleable__label {cursor: pointer;display: block;width: 100%;margin-bottom: 0;padding: 0.3em;box-sizing: border-box;text-align: center;}#sk-container-id-16 label.sk-toggleable__label-arrow:before {content: \"▸\";float: left;margin-right: 0.25em;color: #696969;}#sk-container-id-16 label.sk-toggleable__label-arrow:hover:before {color: black;}#sk-container-id-16 div.sk-estimator:hover label.sk-toggleable__label-arrow:before {color: black;}#sk-container-id-16 div.sk-toggleable__content {max-height: 0;max-width: 0;overflow: hidden;text-align: left;background-color: #f0f8ff;}#sk-container-id-16 div.sk-toggleable__content pre {margin: 0.2em;color: black;border-radius: 0.25em;background-color: #f0f8ff;}#sk-container-id-16 input.sk-toggleable__control:checked~div.sk-toggleable__content {max-height: 200px;max-width: 100%;overflow: auto;}#sk-container-id-16 input.sk-toggleable__control:checked~label.sk-toggleable__label-arrow:before {content: \"▾\";}#sk-container-id-16 div.sk-estimator input.sk-toggleable__control:checked~label.sk-toggleable__label {background-color: #d4ebff;}#sk-container-id-16 div.sk-label input.sk-toggleable__control:checked~label.sk-toggleable__label {background-color: #d4ebff;}#sk-container-id-16 input.sk-hidden--visually {border: 0;clip: rect(1px 1px 1px 1px);clip: rect(1px, 1px, 1px, 1px);height: 1px;margin: -1px;overflow: hidden;padding: 0;position: absolute;width: 1px;}#sk-container-id-16 div.sk-estimator {font-family: monospace;background-color: #f0f8ff;border: 1px dotted black;border-radius: 0.25em;box-sizing: border-box;margin-bottom: 0.5em;}#sk-container-id-16 div.sk-estimator:hover {background-color: #d4ebff;}#sk-container-id-16 div.sk-parallel-item::after {content: \"\";width: 100%;border-bottom: 1px solid gray;flex-grow: 1;}#sk-container-id-16 div.sk-label:hover label.sk-toggleable__label {background-color: #d4ebff;}#sk-container-id-16 div.sk-serial::before {content: \"\";position: absolute;border-left: 1px solid gray;box-sizing: border-box;top: 0;bottom: 0;left: 50%;z-index: 0;}#sk-container-id-16 div.sk-serial {display: flex;flex-direction: column;align-items: center;background-color: white;padding-right: 0.2em;padding-left: 0.2em;position: relative;}#sk-container-id-16 div.sk-item {position: relative;z-index: 1;}#sk-container-id-16 div.sk-parallel {display: flex;align-items: stretch;justify-content: center;background-color: white;position: relative;}#sk-container-id-16 div.sk-item::before, #sk-container-id-16 div.sk-parallel-item::before {content: \"\";position: absolute;border-left: 1px solid gray;box-sizing: border-box;top: 0;bottom: 0;left: 50%;z-index: -1;}#sk-container-id-16 div.sk-parallel-item {display: flex;flex-direction: column;z-index: 1;position: relative;background-color: white;}#sk-container-id-16 div.sk-parallel-item:first-child::after {align-self: flex-end;width: 50%;}#sk-container-id-16 div.sk-parallel-item:last-child::after {align-self: flex-start;width: 50%;}#sk-container-id-16 div.sk-parallel-item:only-child::after {width: 0;}#sk-container-id-16 div.sk-dashed-wrapped {border: 1px dashed gray;margin: 0 0.4em 0.5em 0.4em;box-sizing: border-box;padding-bottom: 0.4em;background-color: white;}#sk-container-id-16 div.sk-label label {font-family: monospace;font-weight: bold;display: inline-block;line-height: 1.2em;}#sk-container-id-16 div.sk-label-container {text-align: center;}#sk-container-id-16 div.sk-container {/* jupyter's `normalize.less` sets `[hidden] { display: none; }` but bootstrap.min.css set `[hidden] { display: none !important; }` so we also need the `!important` here to be able to override the default hidden behavior on the sphinx rendered scikit-learn.org. See: https://github.com/scikit-learn/scikit-learn/issues/21755 */display: inline-block !important;position: relative;}#sk-container-id-16 div.sk-text-repr-fallback {display: none;}</style><div id=\"sk-container-id-16\" class=\"sk-top-container\"><div class=\"sk-text-repr-fallback\"><pre>Pipeline(steps=[(&#x27;encoder&#x27;,\n                 ColumnTransformer(transformers=[(&#x27;standardscaler&#x27;,\n                                                  StandardScaler(),\n                                                  Index([&#x27;AGE&#x27;, &#x27;GENDER&#x27;, &#x27;CHILD_TOTAL&#x27;, &#x27;DEPENDANTS&#x27;, &#x27;SOCSTATUS_WORK_FL&#x27;,\n       &#x27;SOCSTATUS_PENS_FL&#x27;, &#x27;FL_PRESENCE_FL&#x27;, &#x27;OWN_AUTO&#x27;, &#x27;CREDIT&#x27;, &#x27;TERM&#x27;,\n       &#x27;FST_PAYMENT&#x27;, &#x27;WORK_TIME&#x27;, &#x27;PERSONAL_INCOME&#x27;],\n      dtype=&#x27;object&#x27;)),\n                                                 (&#x27;onehotencoder&#x27;,\n                                                  OneHotEncoder(),\n                                                  Index([&#x27;EDUCATION&#x27;, &#x27;MARITAL_STATUS&#x27;, &#x27;FACT_ADDRESS_PROVINCE&#x27;, &#x27;GEN_INDUSTRY&#x27;,\n       &#x27;GEN_TITLE&#x27;, &#x27;JOB_DIR&#x27;, &#x27;FAMILY_INCOME&#x27;],\n      dtype=&#x27;object&#x27;))])),\n                (&#x27;features&#x27;, PolynomialFeatures()),\n                (&#x27;model&#x27;, LogisticRegression(max_iter=1000))])</pre><b>In a Jupyter environment, please rerun this cell to show the HTML representation or trust the notebook. <br />On GitHub, the HTML representation is unable to render, please try loading this page with nbviewer.org.</b></div><div class=\"sk-container\" hidden><div class=\"sk-item sk-dashed-wrapped\"><div class=\"sk-label-container\"><div class=\"sk-label sk-toggleable\"><input class=\"sk-toggleable__control sk-hidden--visually\" id=\"sk-estimator-id-111\" type=\"checkbox\" ><label for=\"sk-estimator-id-111\" class=\"sk-toggleable__label sk-toggleable__label-arrow\">Pipeline</label><div class=\"sk-toggleable__content\"><pre>Pipeline(steps=[(&#x27;encoder&#x27;,\n                 ColumnTransformer(transformers=[(&#x27;standardscaler&#x27;,\n                                                  StandardScaler(),\n                                                  Index([&#x27;AGE&#x27;, &#x27;GENDER&#x27;, &#x27;CHILD_TOTAL&#x27;, &#x27;DEPENDANTS&#x27;, &#x27;SOCSTATUS_WORK_FL&#x27;,\n       &#x27;SOCSTATUS_PENS_FL&#x27;, &#x27;FL_PRESENCE_FL&#x27;, &#x27;OWN_AUTO&#x27;, &#x27;CREDIT&#x27;, &#x27;TERM&#x27;,\n       &#x27;FST_PAYMENT&#x27;, &#x27;WORK_TIME&#x27;, &#x27;PERSONAL_INCOME&#x27;],\n      dtype=&#x27;object&#x27;)),\n                                                 (&#x27;onehotencoder&#x27;,\n                                                  OneHotEncoder(),\n                                                  Index([&#x27;EDUCATION&#x27;, &#x27;MARITAL_STATUS&#x27;, &#x27;FACT_ADDRESS_PROVINCE&#x27;, &#x27;GEN_INDUSTRY&#x27;,\n       &#x27;GEN_TITLE&#x27;, &#x27;JOB_DIR&#x27;, &#x27;FAMILY_INCOME&#x27;],\n      dtype=&#x27;object&#x27;))])),\n                (&#x27;features&#x27;, PolynomialFeatures()),\n                (&#x27;model&#x27;, LogisticRegression(max_iter=1000))])</pre></div></div></div><div class=\"sk-serial\"><div class=\"sk-item sk-dashed-wrapped\"><div class=\"sk-label-container\"><div class=\"sk-label sk-toggleable\"><input class=\"sk-toggleable__control sk-hidden--visually\" id=\"sk-estimator-id-112\" type=\"checkbox\" ><label for=\"sk-estimator-id-112\" class=\"sk-toggleable__label sk-toggleable__label-arrow\">encoder: ColumnTransformer</label><div class=\"sk-toggleable__content\"><pre>ColumnTransformer(transformers=[(&#x27;standardscaler&#x27;, StandardScaler(),\n                                 Index([&#x27;AGE&#x27;, &#x27;GENDER&#x27;, &#x27;CHILD_TOTAL&#x27;, &#x27;DEPENDANTS&#x27;, &#x27;SOCSTATUS_WORK_FL&#x27;,\n       &#x27;SOCSTATUS_PENS_FL&#x27;, &#x27;FL_PRESENCE_FL&#x27;, &#x27;OWN_AUTO&#x27;, &#x27;CREDIT&#x27;, &#x27;TERM&#x27;,\n       &#x27;FST_PAYMENT&#x27;, &#x27;WORK_TIME&#x27;, &#x27;PERSONAL_INCOME&#x27;],\n      dtype=&#x27;object&#x27;)),\n                                (&#x27;onehotencoder&#x27;, OneHotEncoder(),\n                                 Index([&#x27;EDUCATION&#x27;, &#x27;MARITAL_STATUS&#x27;, &#x27;FACT_ADDRESS_PROVINCE&#x27;, &#x27;GEN_INDUSTRY&#x27;,\n       &#x27;GEN_TITLE&#x27;, &#x27;JOB_DIR&#x27;, &#x27;FAMILY_INCOME&#x27;],\n      dtype=&#x27;object&#x27;))])</pre></div></div></div><div class=\"sk-parallel\"><div class=\"sk-parallel-item\"><div class=\"sk-item\"><div class=\"sk-label-container\"><div class=\"sk-label sk-toggleable\"><input class=\"sk-toggleable__control sk-hidden--visually\" id=\"sk-estimator-id-113\" type=\"checkbox\" ><label for=\"sk-estimator-id-113\" class=\"sk-toggleable__label sk-toggleable__label-arrow\">standardscaler</label><div class=\"sk-toggleable__content\"><pre>Index([&#x27;AGE&#x27;, &#x27;GENDER&#x27;, &#x27;CHILD_TOTAL&#x27;, &#x27;DEPENDANTS&#x27;, &#x27;SOCSTATUS_WORK_FL&#x27;,\n       &#x27;SOCSTATUS_PENS_FL&#x27;, &#x27;FL_PRESENCE_FL&#x27;, &#x27;OWN_AUTO&#x27;, &#x27;CREDIT&#x27;, &#x27;TERM&#x27;,\n       &#x27;FST_PAYMENT&#x27;, &#x27;WORK_TIME&#x27;, &#x27;PERSONAL_INCOME&#x27;],\n      dtype=&#x27;object&#x27;)</pre></div></div></div><div class=\"sk-serial\"><div class=\"sk-item\"><div class=\"sk-estimator sk-toggleable\"><input class=\"sk-toggleable__control sk-hidden--visually\" id=\"sk-estimator-id-114\" type=\"checkbox\" ><label for=\"sk-estimator-id-114\" class=\"sk-toggleable__label sk-toggleable__label-arrow\">StandardScaler</label><div class=\"sk-toggleable__content\"><pre>StandardScaler()</pre></div></div></div></div></div></div><div class=\"sk-parallel-item\"><div class=\"sk-item\"><div class=\"sk-label-container\"><div class=\"sk-label sk-toggleable\"><input class=\"sk-toggleable__control sk-hidden--visually\" id=\"sk-estimator-id-115\" type=\"checkbox\" ><label for=\"sk-estimator-id-115\" class=\"sk-toggleable__label sk-toggleable__label-arrow\">onehotencoder</label><div class=\"sk-toggleable__content\"><pre>Index([&#x27;EDUCATION&#x27;, &#x27;MARITAL_STATUS&#x27;, &#x27;FACT_ADDRESS_PROVINCE&#x27;, &#x27;GEN_INDUSTRY&#x27;,\n       &#x27;GEN_TITLE&#x27;, &#x27;JOB_DIR&#x27;, &#x27;FAMILY_INCOME&#x27;],\n      dtype=&#x27;object&#x27;)</pre></div></div></div><div class=\"sk-serial\"><div class=\"sk-item\"><div class=\"sk-estimator sk-toggleable\"><input class=\"sk-toggleable__control sk-hidden--visually\" id=\"sk-estimator-id-116\" type=\"checkbox\" ><label for=\"sk-estimator-id-116\" class=\"sk-toggleable__label sk-toggleable__label-arrow\">OneHotEncoder</label><div class=\"sk-toggleable__content\"><pre>OneHotEncoder()</pre></div></div></div></div></div></div></div></div><div class=\"sk-item\"><div class=\"sk-estimator sk-toggleable\"><input class=\"sk-toggleable__control sk-hidden--visually\" id=\"sk-estimator-id-117\" type=\"checkbox\" ><label for=\"sk-estimator-id-117\" class=\"sk-toggleable__label sk-toggleable__label-arrow\">PolynomialFeatures</label><div class=\"sk-toggleable__content\"><pre>PolynomialFeatures()</pre></div></div></div><div class=\"sk-item\"><div class=\"sk-estimator sk-toggleable\"><input class=\"sk-toggleable__control sk-hidden--visually\" id=\"sk-estimator-id-118\" type=\"checkbox\" ><label for=\"sk-estimator-id-118\" class=\"sk-toggleable__label sk-toggleable__label-arrow\">LogisticRegression</label><div class=\"sk-toggleable__content\"><pre>LogisticRegression(max_iter=1000)</pre></div></div></div></div></div></div></div>"
     },
     "execution_count": 324,
     "metadata": {},
     "output_type": "execute_result"
    }
   ],
   "source": [
    "trans = make_column_transformer((StandardScaler(), num_cols), \n",
    "                            (OneHotEncoder(), cat_cols))\n",
    "\n",
    "pipe = Pipeline([\n",
    "    ('encoder', trans),\n",
    "    ('features', PolynomialFeatures(degree=2)),\n",
    "    ('model', LogisticRegression(max_iter=1000))\n",
    "])\n",
    "\n",
    "pipe.fit(X_train, y_train)"
   ],
   "metadata": {
    "collapsed": false,
    "ExecuteTime": {
     "end_time": "2023-12-20T18:59:11.143870600Z",
     "start_time": "2023-12-20T18:59:02.401979200Z"
    }
   }
  },
  {
   "cell_type": "code",
   "execution_count": 325,
   "outputs": [],
   "source": [
    "pred_probability = pipe.predict_proba(X_test)[:, 1]"
   ],
   "metadata": {
    "collapsed": false,
    "ExecuteTime": {
     "end_time": "2023-12-20T19:00:27.612931600Z",
     "start_time": "2023-12-20T19:00:27.567883600Z"
    }
   }
  },
  {
   "cell_type": "code",
   "execution_count": 327,
   "outputs": [
    {
     "name": "stdout",
     "output_type": "stream",
     "text": [
      "accuracy=0.43305665824612055, precision=0.13568439928272563, recall=0.6448863636363636, f1=0.22419753086419755\n"
     ]
    }
   ],
   "source": [
    "y_trhold = pred_probability > BestThr\n",
    "accuracy = accuracy_score(y_test, y_trhold)\n",
    "precision = precision_score(y_test, y_trhold)\n",
    "recall = recall_score(y_test, y_trhold)\n",
    "f1 = f1_score(y_test, y_trhold)\n",
    "print(f'{accuracy=}, {precision=}, {recall=}, {f1=}')"
   ],
   "metadata": {
    "collapsed": false,
    "ExecuteTime": {
     "end_time": "2023-12-20T19:03:27.945657600Z",
     "start_time": "2023-12-20T19:03:27.905115600Z"
    }
   }
  },
  {
   "cell_type": "code",
   "execution_count": 352,
   "outputs": [
    {
     "data": {
      "text/plain": "array([[ 973, 1446],\n       [ 125,  227]], dtype=int64)"
     },
     "execution_count": 352,
     "metadata": {},
     "output_type": "execute_result"
    }
   ],
   "source": [
    "confusion_matrix(y_test, y_trhold)"
   ],
   "metadata": {
    "collapsed": false,
    "ExecuteTime": {
     "end_time": "2023-12-21T07:35:27.627791800Z",
     "start_time": "2023-12-21T07:35:27.408620300Z"
    }
   }
  },
  {
   "cell_type": "markdown",
   "source": [
    "Результаты на тесте отличаются от результатов на валидации. и recall и accuracy немного просели, однако Уровень recall остался не неплохом уровне в 0.64.\n",
    "Сами по себе уровни precision и accuracy мне кажутся довольно низкими: при заданном уровне recall нашей маркетинговой службе придётся сделать довольно много лишней работы в отношении тех клиентов, которые не согласятся на сотрудничество. При этом 1/3 потенциальных клиентов, которые могли бы сотрудничать с банком, будут упущены в списках и не отработаны. "
   ],
   "metadata": {
    "collapsed": false
   }
  },
  {
   "cell_type": "markdown",
   "source": [
    "Выведите на экран в виде таблицы топ-6 признаков с наибольшими по модулю весами модели."
   ],
   "metadata": {
    "id": "LH7vX8nqyj5r"
   }
  },
  {
   "cell_type": "code",
   "execution_count": 332,
   "outputs": [
    {
     "data": {
      "text/plain": "array(['1', 'standardscaler__AGE', 'standardscaler__GENDER', ...,\n       'onehotencoder__FAMILY_INCOME_от 5000 до 10000 руб.^2',\n       'onehotencoder__FAMILY_INCOME_от 5000 до 10000 руб. onehotencoder__FAMILY_INCOME_свыше 50000 руб.',\n       'onehotencoder__FAMILY_INCOME_свыше 50000 руб.^2'], dtype=object)"
     },
     "execution_count": 332,
     "metadata": {},
     "output_type": "execute_result"
    }
   ],
   "source": [
    "pipe[:-1].get_feature_names_out()"
   ],
   "metadata": {
    "collapsed": false,
    "ExecuteTime": {
     "end_time": "2023-12-20T19:17:32.309079500Z",
     "start_time": "2023-12-20T19:17:32.218970100Z"
    }
   }
  },
  {
   "cell_type": "code",
   "execution_count": 342,
   "outputs": [
    {
     "data": {
      "text/plain": "array([[ 0.00139845, -0.19203255,  0.0411108 , ..., -0.08234983,\n         0.        ,  0.17765374]])"
     },
     "execution_count": 342,
     "metadata": {},
     "output_type": "execute_result"
    }
   ],
   "source": [
    "pipe[-1].coef_"
   ],
   "metadata": {
    "collapsed": false,
    "ExecuteTime": {
     "end_time": "2023-12-20T19:23:15.452071300Z",
     "start_time": "2023-12-20T19:23:15.434488900Z"
    }
   }
  },
  {
   "cell_type": "code",
   "execution_count": 344,
   "outputs": [
    {
     "data": {
      "text/plain": "array(['1', 'x0', 'x1', ..., 'x162^2', 'x162 x163', 'x163^2'],\n      dtype=object)"
     },
     "execution_count": 344,
     "metadata": {},
     "output_type": "execute_result"
    }
   ],
   "source": [
    "pipe[1].get_feature_names_out()"
   ],
   "metadata": {
    "collapsed": false,
    "ExecuteTime": {
     "end_time": "2023-12-20T19:26:39.973921100Z",
     "start_time": "2023-12-20T19:26:39.860921500Z"
    }
   }
  },
  {
   "cell_type": "markdown",
   "source": [
    "С учётом того, что я использовал полиномиальные фичи и пайплайн, мне сложно проанализировать веса: признаков очень много, и кодировщики зашифровали названия столбцов не вполне очевидно.\n",
    "В целом мне кажется, что использование полиномиальных фичей было возможно слишком избыточной штукой. Но упрощять и проверять эту теорию мне уже лениво. Сохраним прогнозы и обученную модель"
   ],
   "metadata": {
    "collapsed": false
   }
  },
  {
   "cell_type": "code",
   "execution_count": 345,
   "outputs": [],
   "source": [
    "X_test['predictions'] = pred_probability\n",
    "\n",
    "X_test[['predictions']].to_csv(\"PredictionsChurn.csv\", index=False)"
   ],
   "metadata": {
    "collapsed": false,
    "ExecuteTime": {
     "end_time": "2023-12-20T19:34:42.517169900Z",
     "start_time": "2023-12-20T19:34:41.666017800Z"
    }
   }
  },
  {
   "cell_type": "code",
   "execution_count": 346,
   "outputs": [],
   "source": [
    "with open('model.pickle', 'wb') as f:\n",
    "    pickle.dump(pipe, f)"
   ],
   "metadata": {
    "collapsed": false,
    "ExecuteTime": {
     "end_time": "2023-12-20T19:35:50.545893400Z",
     "start_time": "2023-12-20T19:35:50.255804100Z"
    }
   }
  },
  {
   "cell_type": "code",
   "execution_count": 347,
   "outputs": [],
   "source": [
    "with open('model.pickle', 'rb') as f:\n",
    "    model = pickle.load(f)"
   ],
   "metadata": {
    "collapsed": false,
    "ExecuteTime": {
     "end_time": "2023-12-20T19:37:20.778761300Z",
     "start_time": "2023-12-20T19:37:20.755806400Z"
    }
   }
  },
  {
   "cell_type": "code",
   "execution_count": 350,
   "outputs": [
    {
     "data": {
      "text/plain": "array([56, 1, 'Высшее', 'Не состоял в браке', 2, 0, 1, 1,\n       'Иркутская область', 0, 0, 12550.0, 10.0, 3200.0, 'Строительство',\n       'Другое', 'Вспомогательный техперсонал', 36.0,\n       'от 10000 до 20000 руб.', 16000.0, 0.01077674597751144],\n      dtype=object)"
     },
     "execution_count": 350,
     "metadata": {},
     "output_type": "execute_result"
    }
   ],
   "source": [
    "X_test.iloc[1,].values  # Так будем выводить сведения об объекте"
   ],
   "metadata": {
    "collapsed": false,
    "ExecuteTime": {
     "end_time": "2023-12-20T19:39:46.049307Z",
     "start_time": "2023-12-20T19:39:46.044654500Z"
    }
   }
  },
  {
   "cell_type": "code",
   "execution_count": 349,
   "outputs": [
    {
     "data": {
      "text/plain": "array([False])"
     },
     "execution_count": 349,
     "metadata": {},
     "output_type": "execute_result"
    }
   ],
   "source": [
    "model.predict_proba(X_test.iloc[486,:].to_frame().T)[:,1] > BestThr  # а так будем получать предсказания"
   ],
   "metadata": {
    "collapsed": false,
    "ExecuteTime": {
     "end_time": "2023-12-20T19:38:24.651252800Z",
     "start_time": "2023-12-20T19:38:24.618027700Z"
    }
   }
  },
  {
   "cell_type": "markdown",
   "source": [
    "## Лог.регрессия и SVM, регуляризация"
   ],
   "metadata": {
    "collapsed": false
   }
  },
  {
   "cell_type": "markdown",
   "source": [
    "В этот раз обойдусь без полиномиальных фичей"
   ],
   "metadata": {
    "collapsed": false
   }
  },
  {
   "cell_type": "code",
   "execution_count": 253,
   "outputs": [],
   "source": [
    "X = pd.read_pickle('X.p', compression='gzip')\n",
    "y = pd.read_pickle('y.p', compression='gzip')\n",
    "\n",
    "X_train, X_test, y_train, y_test = train_test_split(X, y, test_size=0.2, stratify=y, random_state=42)"
   ],
   "metadata": {
    "collapsed": false,
    "ExecuteTime": {
     "end_time": "2023-12-22T16:57:23.130920600Z",
     "start_time": "2023-12-22T16:57:22.700378100Z"
    }
   }
  },
  {
   "cell_type": "code",
   "execution_count": 7,
   "outputs": [],
   "source": [
    "import pickle\n",
    "\n",
    "with open('ohe.pickle', 'rb') as f:\n",
    "    ohe_enc = pickle.load(f)\n",
    "    \n",
    "with open('scaler.pickle', 'rb') as f:\n",
    "    scaler = pickle.load(f)"
   ],
   "metadata": {
    "collapsed": false,
    "ExecuteTime": {
     "end_time": "2023-12-22T05:49:49.153434Z",
     "start_time": "2023-12-22T05:49:43.981493300Z"
    }
   }
  },
  {
   "cell_type": "code",
   "execution_count": 254,
   "outputs": [],
   "source": [
    "X_train = pd.DataFrame(ohe_enc.transform(X_train), index=X_train.index)\n",
    "X_test = pd.DataFrame(ohe_enc.transform(X_test), index=X_test.index)\n",
    "X_train = pd.DataFrame(scaler.transform(X_train), columns =X_train.columns, index=X_train.index)\n",
    "X_test = pd.DataFrame(scaler.transform(X_test), columns =X_test.columns, index=X_test.index)"
   ],
   "metadata": {
    "collapsed": false,
    "ExecuteTime": {
     "end_time": "2023-12-22T16:57:25.300152700Z",
     "start_time": "2023-12-22T16:57:25.159858100Z"
    }
   }
  },
  {
   "cell_type": "code",
   "execution_count": 9,
   "outputs": [
    {
     "data": {
      "text/plain": "                AGE    GENDER  EDUCATION_1  EDUCATION_2  EDUCATION_3  \\\nID                                                                     \n106808150 -0.638438  0.754228    -0.863430     1.888638    -0.651252   \n106810986  1.607043  0.754228    -0.863430     1.888638    -0.651252   \n106807679 -1.199808 -1.325858     1.158171    -0.529482    -0.651252   \n106816628  0.390741  0.754228     1.158171    -0.529482    -0.651252   \n106807602  1.700605  0.754228    -0.863430    -0.529482     1.535503   \n\n           EDUCATION_4  EDUCATION_5  EDUCATION_6  EDUCATION_7  \\\nID                                                              \n106808150    -0.199436    -0.128482    -0.039193    -0.009499   \n106810986    -0.199436    -0.128482    -0.039193    -0.009499   \n106807679    -0.199436    -0.128482    -0.039193    -0.009499   \n106816628    -0.199436    -0.128482    -0.039193    -0.009499   \n106807602    -0.199436    -0.128482    -0.039193    -0.009499   \n\n           MARITAL_STATUS_1  ...  JOB_DIR_8  JOB_DIR_9  JOB_DIR_10  WORK_TIME  \\\nID                           ...                                                \n106808150          0.776461  ...  -0.186871  -0.075001   -0.026875  -0.007783   \n106810986         -1.287894  ...  -0.186871  -0.075001   -0.026875  -0.011307   \n106807679          0.776461  ...  -0.186871  -0.075001   -0.026875  -0.012409   \n106816628          0.776461  ...  -0.186871  -0.075001   -0.026875  -0.010426   \n106807602         -1.287894  ...  -0.186871  -0.075001   -0.026875  -0.006461   \n\n           FAMILY_INCOME_1  FAMILY_INCOME_2  FAMILY_INCOME_3  FAMILY_INCOME_4  \\\nID                                                                              \n106808150         1.087938        -0.858664        -0.189185        -0.296558   \n106810986         1.087938        -0.858664        -0.189185        -0.296558   \n106807679        -0.919170         1.164600        -0.189185        -0.296558   \n106816628         1.087938        -0.858664        -0.189185        -0.296558   \n106807602        -0.919170         1.164600        -0.189185        -0.296558   \n\n           FAMILY_INCOME_5  PERSONAL_INCOME  \nID                                           \n106808150        -0.047546        -0.714982  \n106810986        -0.047546         0.178995  \n106807679        -0.047546         0.290742  \n106816628        -0.047546        -0.759680  \n106807602        -0.047546         0.625983  \n\n[5 rows x 164 columns]",
      "text/html": "<div>\n<style scoped>\n    .dataframe tbody tr th:only-of-type {\n        vertical-align: middle;\n    }\n\n    .dataframe tbody tr th {\n        vertical-align: top;\n    }\n\n    .dataframe thead th {\n        text-align: right;\n    }\n</style>\n<table border=\"1\" class=\"dataframe\">\n  <thead>\n    <tr style=\"text-align: right;\">\n      <th></th>\n      <th>AGE</th>\n      <th>GENDER</th>\n      <th>EDUCATION_1</th>\n      <th>EDUCATION_2</th>\n      <th>EDUCATION_3</th>\n      <th>EDUCATION_4</th>\n      <th>EDUCATION_5</th>\n      <th>EDUCATION_6</th>\n      <th>EDUCATION_7</th>\n      <th>MARITAL_STATUS_1</th>\n      <th>...</th>\n      <th>JOB_DIR_8</th>\n      <th>JOB_DIR_9</th>\n      <th>JOB_DIR_10</th>\n      <th>WORK_TIME</th>\n      <th>FAMILY_INCOME_1</th>\n      <th>FAMILY_INCOME_2</th>\n      <th>FAMILY_INCOME_3</th>\n      <th>FAMILY_INCOME_4</th>\n      <th>FAMILY_INCOME_5</th>\n      <th>PERSONAL_INCOME</th>\n    </tr>\n    <tr>\n      <th>ID</th>\n      <th></th>\n      <th></th>\n      <th></th>\n      <th></th>\n      <th></th>\n      <th></th>\n      <th></th>\n      <th></th>\n      <th></th>\n      <th></th>\n      <th></th>\n      <th></th>\n      <th></th>\n      <th></th>\n      <th></th>\n      <th></th>\n      <th></th>\n      <th></th>\n      <th></th>\n      <th></th>\n      <th></th>\n    </tr>\n  </thead>\n  <tbody>\n    <tr>\n      <th>106808150</th>\n      <td>-0.638438</td>\n      <td>0.754228</td>\n      <td>-0.863430</td>\n      <td>1.888638</td>\n      <td>-0.651252</td>\n      <td>-0.199436</td>\n      <td>-0.128482</td>\n      <td>-0.039193</td>\n      <td>-0.009499</td>\n      <td>0.776461</td>\n      <td>...</td>\n      <td>-0.186871</td>\n      <td>-0.075001</td>\n      <td>-0.026875</td>\n      <td>-0.007783</td>\n      <td>1.087938</td>\n      <td>-0.858664</td>\n      <td>-0.189185</td>\n      <td>-0.296558</td>\n      <td>-0.047546</td>\n      <td>-0.714982</td>\n    </tr>\n    <tr>\n      <th>106810986</th>\n      <td>1.607043</td>\n      <td>0.754228</td>\n      <td>-0.863430</td>\n      <td>1.888638</td>\n      <td>-0.651252</td>\n      <td>-0.199436</td>\n      <td>-0.128482</td>\n      <td>-0.039193</td>\n      <td>-0.009499</td>\n      <td>-1.287894</td>\n      <td>...</td>\n      <td>-0.186871</td>\n      <td>-0.075001</td>\n      <td>-0.026875</td>\n      <td>-0.011307</td>\n      <td>1.087938</td>\n      <td>-0.858664</td>\n      <td>-0.189185</td>\n      <td>-0.296558</td>\n      <td>-0.047546</td>\n      <td>0.178995</td>\n    </tr>\n    <tr>\n      <th>106807679</th>\n      <td>-1.199808</td>\n      <td>-1.325858</td>\n      <td>1.158171</td>\n      <td>-0.529482</td>\n      <td>-0.651252</td>\n      <td>-0.199436</td>\n      <td>-0.128482</td>\n      <td>-0.039193</td>\n      <td>-0.009499</td>\n      <td>0.776461</td>\n      <td>...</td>\n      <td>-0.186871</td>\n      <td>-0.075001</td>\n      <td>-0.026875</td>\n      <td>-0.012409</td>\n      <td>-0.919170</td>\n      <td>1.164600</td>\n      <td>-0.189185</td>\n      <td>-0.296558</td>\n      <td>-0.047546</td>\n      <td>0.290742</td>\n    </tr>\n    <tr>\n      <th>106816628</th>\n      <td>0.390741</td>\n      <td>0.754228</td>\n      <td>1.158171</td>\n      <td>-0.529482</td>\n      <td>-0.651252</td>\n      <td>-0.199436</td>\n      <td>-0.128482</td>\n      <td>-0.039193</td>\n      <td>-0.009499</td>\n      <td>0.776461</td>\n      <td>...</td>\n      <td>-0.186871</td>\n      <td>-0.075001</td>\n      <td>-0.026875</td>\n      <td>-0.010426</td>\n      <td>1.087938</td>\n      <td>-0.858664</td>\n      <td>-0.189185</td>\n      <td>-0.296558</td>\n      <td>-0.047546</td>\n      <td>-0.759680</td>\n    </tr>\n    <tr>\n      <th>106807602</th>\n      <td>1.700605</td>\n      <td>0.754228</td>\n      <td>-0.863430</td>\n      <td>-0.529482</td>\n      <td>1.535503</td>\n      <td>-0.199436</td>\n      <td>-0.128482</td>\n      <td>-0.039193</td>\n      <td>-0.009499</td>\n      <td>-1.287894</td>\n      <td>...</td>\n      <td>-0.186871</td>\n      <td>-0.075001</td>\n      <td>-0.026875</td>\n      <td>-0.006461</td>\n      <td>-0.919170</td>\n      <td>1.164600</td>\n      <td>-0.189185</td>\n      <td>-0.296558</td>\n      <td>-0.047546</td>\n      <td>0.625983</td>\n    </tr>\n  </tbody>\n</table>\n<p>5 rows × 164 columns</p>\n</div>"
     },
     "execution_count": 9,
     "metadata": {},
     "output_type": "execute_result"
    }
   ],
   "source": [
    "X_test.head()"
   ],
   "metadata": {
    "collapsed": false,
    "ExecuteTime": {
     "end_time": "2023-12-22T05:51:09.220165300Z",
     "start_time": "2023-12-22T05:51:09.200759900Z"
    }
   }
  },
  {
   "cell_type": "code",
   "execution_count": 430,
   "outputs": [],
   "source": [
    "trans = make_column_transformer((StandardScaler(), num_cols), \n",
    "                            (OneHotEncoder(), cat_cols))\n",
    "\n",
    "modelLR = LogisticRegression(max_iter=1000)\n",
    "modelSVM = SVC(kernel='linear')\n",
    "\n",
    "pipe_LR = Pipeline([\n",
    "    ('encoder', trans),\n",
    "    ('model', modelLR)\n",
    "])\n",
    "\n",
    "pipe_SVM = Pipeline([\n",
    "    ('encoder', trans),\n",
    "    ('model', modelSVM)\n",
    "])\n",
    "\n",
    "C = np.arange(1, 10, 0.1)\n",
    "params = {'C': C}\n",
    "# params = {'model__C': C}"
   ],
   "metadata": {
    "collapsed": false,
    "ExecuteTime": {
     "end_time": "2023-12-21T10:32:34.241937100Z",
     "start_time": "2023-12-21T10:32:34.211198200Z"
    }
   }
  },
  {
   "cell_type": "code",
   "execution_count": 422,
   "outputs": [],
   "source": [
    "X_train, X_test, y_train, y_test = train_test_split(X, y, test_size=0.2, stratify=y)\n",
    "\n",
    "# gs_model_linear = GridSearchCV(estimator=pipe_LR, param_grid=params, cv=3, scoring='roc_auc', verbose=1, n_jobs=-1, error_score='raise')\n",
    "# gs_model_SVM = GridSearchCV(estimator=modelSVM, param_grid=params, cv=3, scoring='roc_auc', verbose=1, n_jobs=-1)\n",
    "# gs_model_linear.fit(X_train, y_train)"
   ],
   "metadata": {
    "collapsed": false,
    "ExecuteTime": {
     "end_time": "2023-12-21T10:25:31.507686200Z",
     "start_time": "2023-12-21T10:25:31.467574800Z"
    }
   }
  },
  {
   "cell_type": "code",
   "execution_count": 435,
   "outputs": [],
   "source": [
    "ohe_enc = OneHotEncoder()\n",
    "X_train = pd.DataFrame(ohe_enc.fit_transform(X_train, drop='first'), index=X_train.index)\n",
    "X_test = pd.DataFrame(ohe_enc.transform(X_test), index=X_test.index)"
   ],
   "metadata": {
    "collapsed": false,
    "ExecuteTime": {
     "end_time": "2023-12-21T10:35:09.541374500Z",
     "start_time": "2023-12-21T10:35:09.326331400Z"
    }
   }
  },
  {
   "cell_type": "code",
   "execution_count": 436,
   "outputs": [],
   "source": [
    "scaler = StandardScaler()\n",
    "X_train = pd.DataFrame(scaler.fit_transform(X_train), columns =X_train.columns, index=X_train.index)\n",
    "X_test = pd.DataFrame(scaler.transform(X_test), columns =X_test.columns, index=X_test.index)"
   ],
   "metadata": {
    "collapsed": false,
    "ExecuteTime": {
     "end_time": "2023-12-21T10:35:11.870829900Z",
     "start_time": "2023-12-21T10:35:11.813239400Z"
    }
   }
  },
  {
   "cell_type": "code",
   "execution_count": 421,
   "outputs": [
    {
     "data": {
      "text/plain": "               AGE    GENDER  EDUCATION_1  EDUCATION_2  EDUCATION_3  \\\n106813158  0.85855  0.754228     -0.86343    -0.529482     1.535503   \n\n           EDUCATION_4  EDUCATION_5  EDUCATION_6  EDUCATION_7  \\\n106813158    -0.199436    -0.128482    -0.039193    -0.009499   \n\n           MARITAL_STATUS_1  ...  JOB_DIR_8  JOB_DIR_9  JOB_DIR_10  WORK_TIME  \\\n106813158          0.776461  ...  -0.186871  -0.075001   -0.026875  -0.005287   \n\n           FAMILY_INCOME_1  FAMILY_INCOME_2  FAMILY_INCOME_3  FAMILY_INCOME_4  \\\n106813158         1.087938        -0.858664        -0.189185        -0.296558   \n\n           FAMILY_INCOME_5  PERSONAL_INCOME  \n106813158        -0.047546        -1.050223  \n\n[1 rows x 164 columns]",
      "text/html": "<div>\n<style scoped>\n    .dataframe tbody tr th:only-of-type {\n        vertical-align: middle;\n    }\n\n    .dataframe tbody tr th {\n        vertical-align: top;\n    }\n\n    .dataframe thead th {\n        text-align: right;\n    }\n</style>\n<table border=\"1\" class=\"dataframe\">\n  <thead>\n    <tr style=\"text-align: right;\">\n      <th></th>\n      <th>AGE</th>\n      <th>GENDER</th>\n      <th>EDUCATION_1</th>\n      <th>EDUCATION_2</th>\n      <th>EDUCATION_3</th>\n      <th>EDUCATION_4</th>\n      <th>EDUCATION_5</th>\n      <th>EDUCATION_6</th>\n      <th>EDUCATION_7</th>\n      <th>MARITAL_STATUS_1</th>\n      <th>...</th>\n      <th>JOB_DIR_8</th>\n      <th>JOB_DIR_9</th>\n      <th>JOB_DIR_10</th>\n      <th>WORK_TIME</th>\n      <th>FAMILY_INCOME_1</th>\n      <th>FAMILY_INCOME_2</th>\n      <th>FAMILY_INCOME_3</th>\n      <th>FAMILY_INCOME_4</th>\n      <th>FAMILY_INCOME_5</th>\n      <th>PERSONAL_INCOME</th>\n    </tr>\n  </thead>\n  <tbody>\n    <tr>\n      <th>106813158</th>\n      <td>0.85855</td>\n      <td>0.754228</td>\n      <td>-0.86343</td>\n      <td>-0.529482</td>\n      <td>1.535503</td>\n      <td>-0.199436</td>\n      <td>-0.128482</td>\n      <td>-0.039193</td>\n      <td>-0.009499</td>\n      <td>0.776461</td>\n      <td>...</td>\n      <td>-0.186871</td>\n      <td>-0.075001</td>\n      <td>-0.026875</td>\n      <td>-0.005287</td>\n      <td>1.087938</td>\n      <td>-0.858664</td>\n      <td>-0.189185</td>\n      <td>-0.296558</td>\n      <td>-0.047546</td>\n      <td>-1.050223</td>\n    </tr>\n  </tbody>\n</table>\n<p>1 rows × 164 columns</p>\n</div>"
     },
     "execution_count": 421,
     "metadata": {},
     "output_type": "execute_result"
    }
   ],
   "source": [
    "X_test.iloc[5].to_frame().T"
   ],
   "metadata": {
    "collapsed": false,
    "ExecuteTime": {
     "end_time": "2023-12-21T10:24:55.770412400Z",
     "start_time": "2023-12-21T10:24:55.733998Z"
    }
   }
  },
  {
   "cell_type": "code",
   "execution_count": 425,
   "outputs": [
    {
     "data": {
      "text/plain": "          AGE GENDER  EDUCATION_1  EDUCATION_2  EDUCATION_3  EDUCATION_4  \\\n106813737  23      1            0            1            0            0   \n\n           EDUCATION_5  EDUCATION_6  EDUCATION_7  MARITAL_STATUS_1  ...  \\\n106813737            0            0            0                 0  ...   \n\n           JOB_DIR_8  JOB_DIR_9  JOB_DIR_10  WORK_TIME FAMILY_INCOME_1  \\\n106813737          0          0           0       36.0               1   \n\n          FAMILY_INCOME_2 FAMILY_INCOME_3 FAMILY_INCOME_4  FAMILY_INCOME_5  \\\n106813737               0               0               0                0   \n\n           PERSONAL_INCOME  \n106813737          11000.0  \n\n[1 rows x 164 columns]",
      "text/html": "<div>\n<style scoped>\n    .dataframe tbody tr th:only-of-type {\n        vertical-align: middle;\n    }\n\n    .dataframe tbody tr th {\n        vertical-align: top;\n    }\n\n    .dataframe thead th {\n        text-align: right;\n    }\n</style>\n<table border=\"1\" class=\"dataframe\">\n  <thead>\n    <tr style=\"text-align: right;\">\n      <th></th>\n      <th>AGE</th>\n      <th>GENDER</th>\n      <th>EDUCATION_1</th>\n      <th>EDUCATION_2</th>\n      <th>EDUCATION_3</th>\n      <th>EDUCATION_4</th>\n      <th>EDUCATION_5</th>\n      <th>EDUCATION_6</th>\n      <th>EDUCATION_7</th>\n      <th>MARITAL_STATUS_1</th>\n      <th>...</th>\n      <th>JOB_DIR_8</th>\n      <th>JOB_DIR_9</th>\n      <th>JOB_DIR_10</th>\n      <th>WORK_TIME</th>\n      <th>FAMILY_INCOME_1</th>\n      <th>FAMILY_INCOME_2</th>\n      <th>FAMILY_INCOME_3</th>\n      <th>FAMILY_INCOME_4</th>\n      <th>FAMILY_INCOME_5</th>\n      <th>PERSONAL_INCOME</th>\n    </tr>\n  </thead>\n  <tbody>\n    <tr>\n      <th>106813737</th>\n      <td>23</td>\n      <td>1</td>\n      <td>0</td>\n      <td>1</td>\n      <td>0</td>\n      <td>0</td>\n      <td>0</td>\n      <td>0</td>\n      <td>0</td>\n      <td>0</td>\n      <td>...</td>\n      <td>0</td>\n      <td>0</td>\n      <td>0</td>\n      <td>36.0</td>\n      <td>1</td>\n      <td>0</td>\n      <td>0</td>\n      <td>0</td>\n      <td>0</td>\n      <td>11000.0</td>\n    </tr>\n  </tbody>\n</table>\n<p>1 rows × 164 columns</p>\n</div>"
     },
     "execution_count": 425,
     "metadata": {},
     "output_type": "execute_result"
    }
   ],
   "source": [
    "ohe_enc.transform(X_test.iloc[5].to_frame().T)"
   ],
   "metadata": {
    "collapsed": false,
    "ExecuteTime": {
     "end_time": "2023-12-21T10:25:57.188340300Z",
     "start_time": "2023-12-21T10:25:57.145131600Z"
    }
   }
  },
  {
   "cell_type": "code",
   "execution_count": 432,
   "outputs": [],
   "source": [
    "modelLR = LogisticRegression(max_iter=1000)"
   ],
   "metadata": {
    "collapsed": false,
    "ExecuteTime": {
     "end_time": "2023-12-21T10:34:23.174156Z",
     "start_time": "2023-12-21T10:34:23.170646600Z"
    }
   }
  },
  {
   "cell_type": "code",
   "execution_count": 433,
   "outputs": [],
   "source": [
    "gs_model_linear = GridSearchCV(estimator=modelLR, param_grid=params, cv=3, scoring='roc_auc', verbose=1, n_jobs=-1, error_score='raise')"
   ],
   "metadata": {
    "collapsed": false,
    "ExecuteTime": {
     "end_time": "2023-12-21T10:34:30.079768Z",
     "start_time": "2023-12-21T10:34:30.018746300Z"
    }
   }
  },
  {
   "cell_type": "code",
   "execution_count": 437,
   "outputs": [
    {
     "name": "stdout",
     "output_type": "stream",
     "text": [
      "Fitting 3 folds for each of 90 candidates, totalling 270 fits\n"
     ]
    },
    {
     "data": {
      "text/plain": "GridSearchCV(cv=3, error_score='raise',\n             estimator=LogisticRegression(max_iter=1000), n_jobs=-1,\n             param_grid={'C': array([1. , 1.1, 1.2, 1.3, 1.4, 1.5, 1.6, 1.7, 1.8, 1.9, 2. , 2.1, 2.2,\n       2.3, 2.4, 2.5, 2.6, 2.7, 2.8, 2.9, 3. , 3.1, 3.2, 3.3, 3.4, 3.5,\n       3.6, 3.7, 3.8, 3.9, 4. , 4.1, 4.2, 4.3, 4.4, 4.5, 4.6, 4.7, 4.8,\n       4.9, 5. , 5.1, 5.2, 5.3, 5.4, 5.5, 5.6, 5.7, 5.8, 5.9, 6. , 6.1,\n       6.2, 6.3, 6.4, 6.5, 6.6, 6.7, 6.8, 6.9, 7. , 7.1, 7.2, 7.3, 7.4,\n       7.5, 7.6, 7.7, 7.8, 7.9, 8. , 8.1, 8.2, 8.3, 8.4, 8.5, 8.6, 8.7,\n       8.8, 8.9, 9. , 9.1, 9.2, 9.3, 9.4, 9.5, 9.6, 9.7, 9.8, 9.9])},\n             scoring='roc_auc', verbose=1)",
      "text/html": "<style>#sk-container-id-27 {color: black;}#sk-container-id-27 pre{padding: 0;}#sk-container-id-27 div.sk-toggleable {background-color: white;}#sk-container-id-27 label.sk-toggleable__label {cursor: pointer;display: block;width: 100%;margin-bottom: 0;padding: 0.3em;box-sizing: border-box;text-align: center;}#sk-container-id-27 label.sk-toggleable__label-arrow:before {content: \"▸\";float: left;margin-right: 0.25em;color: #696969;}#sk-container-id-27 label.sk-toggleable__label-arrow:hover:before {color: black;}#sk-container-id-27 div.sk-estimator:hover label.sk-toggleable__label-arrow:before {color: black;}#sk-container-id-27 div.sk-toggleable__content {max-height: 0;max-width: 0;overflow: hidden;text-align: left;background-color: #f0f8ff;}#sk-container-id-27 div.sk-toggleable__content pre {margin: 0.2em;color: black;border-radius: 0.25em;background-color: #f0f8ff;}#sk-container-id-27 input.sk-toggleable__control:checked~div.sk-toggleable__content {max-height: 200px;max-width: 100%;overflow: auto;}#sk-container-id-27 input.sk-toggleable__control:checked~label.sk-toggleable__label-arrow:before {content: \"▾\";}#sk-container-id-27 div.sk-estimator input.sk-toggleable__control:checked~label.sk-toggleable__label {background-color: #d4ebff;}#sk-container-id-27 div.sk-label input.sk-toggleable__control:checked~label.sk-toggleable__label {background-color: #d4ebff;}#sk-container-id-27 input.sk-hidden--visually {border: 0;clip: rect(1px 1px 1px 1px);clip: rect(1px, 1px, 1px, 1px);height: 1px;margin: -1px;overflow: hidden;padding: 0;position: absolute;width: 1px;}#sk-container-id-27 div.sk-estimator {font-family: monospace;background-color: #f0f8ff;border: 1px dotted black;border-radius: 0.25em;box-sizing: border-box;margin-bottom: 0.5em;}#sk-container-id-27 div.sk-estimator:hover {background-color: #d4ebff;}#sk-container-id-27 div.sk-parallel-item::after {content: \"\";width: 100%;border-bottom: 1px solid gray;flex-grow: 1;}#sk-container-id-27 div.sk-label:hover label.sk-toggleable__label {background-color: #d4ebff;}#sk-container-id-27 div.sk-serial::before {content: \"\";position: absolute;border-left: 1px solid gray;box-sizing: border-box;top: 0;bottom: 0;left: 50%;z-index: 0;}#sk-container-id-27 div.sk-serial {display: flex;flex-direction: column;align-items: center;background-color: white;padding-right: 0.2em;padding-left: 0.2em;position: relative;}#sk-container-id-27 div.sk-item {position: relative;z-index: 1;}#sk-container-id-27 div.sk-parallel {display: flex;align-items: stretch;justify-content: center;background-color: white;position: relative;}#sk-container-id-27 div.sk-item::before, #sk-container-id-27 div.sk-parallel-item::before {content: \"\";position: absolute;border-left: 1px solid gray;box-sizing: border-box;top: 0;bottom: 0;left: 50%;z-index: -1;}#sk-container-id-27 div.sk-parallel-item {display: flex;flex-direction: column;z-index: 1;position: relative;background-color: white;}#sk-container-id-27 div.sk-parallel-item:first-child::after {align-self: flex-end;width: 50%;}#sk-container-id-27 div.sk-parallel-item:last-child::after {align-self: flex-start;width: 50%;}#sk-container-id-27 div.sk-parallel-item:only-child::after {width: 0;}#sk-container-id-27 div.sk-dashed-wrapped {border: 1px dashed gray;margin: 0 0.4em 0.5em 0.4em;box-sizing: border-box;padding-bottom: 0.4em;background-color: white;}#sk-container-id-27 div.sk-label label {font-family: monospace;font-weight: bold;display: inline-block;line-height: 1.2em;}#sk-container-id-27 div.sk-label-container {text-align: center;}#sk-container-id-27 div.sk-container {/* jupyter's `normalize.less` sets `[hidden] { display: none; }` but bootstrap.min.css set `[hidden] { display: none !important; }` so we also need the `!important` here to be able to override the default hidden behavior on the sphinx rendered scikit-learn.org. See: https://github.com/scikit-learn/scikit-learn/issues/21755 */display: inline-block !important;position: relative;}#sk-container-id-27 div.sk-text-repr-fallback {display: none;}</style><div id=\"sk-container-id-27\" class=\"sk-top-container\"><div class=\"sk-text-repr-fallback\"><pre>GridSearchCV(cv=3, error_score=&#x27;raise&#x27;,\n             estimator=LogisticRegression(max_iter=1000), n_jobs=-1,\n             param_grid={&#x27;C&#x27;: array([1. , 1.1, 1.2, 1.3, 1.4, 1.5, 1.6, 1.7, 1.8, 1.9, 2. , 2.1, 2.2,\n       2.3, 2.4, 2.5, 2.6, 2.7, 2.8, 2.9, 3. , 3.1, 3.2, 3.3, 3.4, 3.5,\n       3.6, 3.7, 3.8, 3.9, 4. , 4.1, 4.2, 4.3, 4.4, 4.5, 4.6, 4.7, 4.8,\n       4.9, 5. , 5.1, 5.2, 5.3, 5.4, 5.5, 5.6, 5.7, 5.8, 5.9, 6. , 6.1,\n       6.2, 6.3, 6.4, 6.5, 6.6, 6.7, 6.8, 6.9, 7. , 7.1, 7.2, 7.3, 7.4,\n       7.5, 7.6, 7.7, 7.8, 7.9, 8. , 8.1, 8.2, 8.3, 8.4, 8.5, 8.6, 8.7,\n       8.8, 8.9, 9. , 9.1, 9.2, 9.3, 9.4, 9.5, 9.6, 9.7, 9.8, 9.9])},\n             scoring=&#x27;roc_auc&#x27;, verbose=1)</pre><b>In a Jupyter environment, please rerun this cell to show the HTML representation or trust the notebook. <br />On GitHub, the HTML representation is unable to render, please try loading this page with nbviewer.org.</b></div><div class=\"sk-container\" hidden><div class=\"sk-item sk-dashed-wrapped\"><div class=\"sk-label-container\"><div class=\"sk-label sk-toggleable\"><input class=\"sk-toggleable__control sk-hidden--visually\" id=\"sk-estimator-id-161\" type=\"checkbox\" ><label for=\"sk-estimator-id-161\" class=\"sk-toggleable__label sk-toggleable__label-arrow\">GridSearchCV</label><div class=\"sk-toggleable__content\"><pre>GridSearchCV(cv=3, error_score=&#x27;raise&#x27;,\n             estimator=LogisticRegression(max_iter=1000), n_jobs=-1,\n             param_grid={&#x27;C&#x27;: array([1. , 1.1, 1.2, 1.3, 1.4, 1.5, 1.6, 1.7, 1.8, 1.9, 2. , 2.1, 2.2,\n       2.3, 2.4, 2.5, 2.6, 2.7, 2.8, 2.9, 3. , 3.1, 3.2, 3.3, 3.4, 3.5,\n       3.6, 3.7, 3.8, 3.9, 4. , 4.1, 4.2, 4.3, 4.4, 4.5, 4.6, 4.7, 4.8,\n       4.9, 5. , 5.1, 5.2, 5.3, 5.4, 5.5, 5.6, 5.7, 5.8, 5.9, 6. , 6.1,\n       6.2, 6.3, 6.4, 6.5, 6.6, 6.7, 6.8, 6.9, 7. , 7.1, 7.2, 7.3, 7.4,\n       7.5, 7.6, 7.7, 7.8, 7.9, 8. , 8.1, 8.2, 8.3, 8.4, 8.5, 8.6, 8.7,\n       8.8, 8.9, 9. , 9.1, 9.2, 9.3, 9.4, 9.5, 9.6, 9.7, 9.8, 9.9])},\n             scoring=&#x27;roc_auc&#x27;, verbose=1)</pre></div></div></div><div class=\"sk-parallel\"><div class=\"sk-parallel-item\"><div class=\"sk-item\"><div class=\"sk-label-container\"><div class=\"sk-label sk-toggleable\"><input class=\"sk-toggleable__control sk-hidden--visually\" id=\"sk-estimator-id-162\" type=\"checkbox\" ><label for=\"sk-estimator-id-162\" class=\"sk-toggleable__label sk-toggleable__label-arrow\">estimator: LogisticRegression</label><div class=\"sk-toggleable__content\"><pre>LogisticRegression(max_iter=1000)</pre></div></div></div><div class=\"sk-serial\"><div class=\"sk-item\"><div class=\"sk-estimator sk-toggleable\"><input class=\"sk-toggleable__control sk-hidden--visually\" id=\"sk-estimator-id-163\" type=\"checkbox\" ><label for=\"sk-estimator-id-163\" class=\"sk-toggleable__label sk-toggleable__label-arrow\">LogisticRegression</label><div class=\"sk-toggleable__content\"><pre>LogisticRegression(max_iter=1000)</pre></div></div></div></div></div></div></div></div></div></div>"
     },
     "execution_count": 437,
     "metadata": {},
     "output_type": "execute_result"
    }
   ],
   "source": [
    "gs_model_linear.fit(X_train, y_train)"
   ],
   "metadata": {
    "collapsed": false,
    "ExecuteTime": {
     "end_time": "2023-12-21T10:35:33.452630500Z",
     "start_time": "2023-12-21T10:35:17.391119Z"
    }
   }
  },
  {
   "cell_type": "markdown",
   "source": [],
   "metadata": {
    "collapsed": false
   }
  },
  {
   "cell_type": "code",
   "execution_count": 443,
   "outputs": [
    {
     "data": {
      "text/plain": "{'C': 1.2000000000000002}"
     },
     "execution_count": 443,
     "metadata": {},
     "output_type": "execute_result"
    }
   ],
   "source": [
    "gs_model_linear.best_params_"
   ],
   "metadata": {
    "collapsed": false,
    "ExecuteTime": {
     "end_time": "2023-12-21T15:00:19.729735800Z",
     "start_time": "2023-12-21T15:00:19.711763Z"
    }
   }
  },
  {
   "cell_type": "markdown",
   "source": [
    "Лучшая регуляризация для линейного ядра - С=1.2 "
   ],
   "metadata": {
    "collapsed": false
   }
  },
  {
   "cell_type": "code",
   "execution_count": 77,
   "outputs": [],
   "source": [
    "modelLR = LogisticRegression(max_iter=1000, C=1.2).fit(X_train, y_train)"
   ],
   "metadata": {
    "collapsed": false,
    "ExecuteTime": {
     "end_time": "2023-12-22T08:25:50.693753600Z",
     "start_time": "2023-12-22T08:25:50.369516600Z"
    }
   }
  },
  {
   "cell_type": "code",
   "execution_count": 80,
   "outputs": [
    {
     "data": {
      "text/plain": "0.6166252489759104"
     },
     "execution_count": 80,
     "metadata": {},
     "output_type": "execute_result"
    }
   ],
   "source": [
    "y_pred = modelLR.predict_proba(X_test)[:,1]\n",
    "roc_auc_score(y_test, y_pred)"
   ],
   "metadata": {
    "collapsed": false,
    "ExecuteTime": {
     "end_time": "2023-12-22T08:26:53.631420600Z",
     "start_time": "2023-12-22T08:26:53.600943100Z"
    }
   }
  },
  {
   "cell_type": "markdown",
   "source": [
    "Итак, для настроенной логистической регрессии ROC-AUC составил 0.617"
   ],
   "metadata": {
    "collapsed": false
   }
  },
  {
   "cell_type": "markdown",
   "source": [
    "### Настройка параметров метода опорных векторов"
   ],
   "metadata": {
    "collapsed": false
   }
  },
  {
   "cell_type": "markdown",
   "source": [
    "Пытаясь перебрать все необходимые параметры через ГридСёрч столкнулся с тем, что подбор идёт очень медленно: я не мог дождаться завершения работы скрипта и через 6 часов."
   ],
   "metadata": {
    "collapsed": false
   }
  },
  {
   "cell_type": "code",
   "execution_count": 439,
   "outputs": [
    {
     "name": "stdout",
     "output_type": "stream",
     "text": [
      "Fitting 3 folds for each of 90 candidates, totalling 270 fits\n"
     ]
    },
    {
     "ename": "KeyboardInterrupt",
     "evalue": "",
     "output_type": "error",
     "traceback": [
      "\u001B[1;31m---------------------------------------------------------------------------\u001B[0m",
      "\u001B[1;31mKeyboardInterrupt\u001B[0m                         Traceback (most recent call last)",
      "Cell \u001B[1;32mIn[439], line 3\u001B[0m\n\u001B[0;32m      1\u001B[0m modelSVM \u001B[38;5;241m=\u001B[39m SVC(kernel\u001B[38;5;241m=\u001B[39m\u001B[38;5;124m'\u001B[39m\u001B[38;5;124mlinear\u001B[39m\u001B[38;5;124m'\u001B[39m)\n\u001B[0;32m      2\u001B[0m gs_model_SVM \u001B[38;5;241m=\u001B[39m GridSearchCV(estimator\u001B[38;5;241m=\u001B[39mmodelSVM, param_grid\u001B[38;5;241m=\u001B[39mparams, cv\u001B[38;5;241m=\u001B[39m\u001B[38;5;241m3\u001B[39m, scoring\u001B[38;5;241m=\u001B[39m\u001B[38;5;124m'\u001B[39m\u001B[38;5;124mroc_auc\u001B[39m\u001B[38;5;124m'\u001B[39m, verbose\u001B[38;5;241m=\u001B[39m\u001B[38;5;241m1\u001B[39m, n_jobs\u001B[38;5;241m=\u001B[39m\u001B[38;5;241m-\u001B[39m\u001B[38;5;241m1\u001B[39m)\n\u001B[1;32m----> 3\u001B[0m \u001B[43mgs_model_SVM\u001B[49m\u001B[38;5;241;43m.\u001B[39;49m\u001B[43mfit\u001B[49m\u001B[43m(\u001B[49m\u001B[43mX_train\u001B[49m\u001B[43m,\u001B[49m\u001B[43m \u001B[49m\u001B[43my_train\u001B[49m\u001B[43m)\u001B[49m\n",
      "File \u001B[1;32mD:\\OneDrive\\IT\\Projects\\banks-clients\\.venv\\Lib\\site-packages\\sklearn\\base.py:1152\u001B[0m, in \u001B[0;36m_fit_context.<locals>.decorator.<locals>.wrapper\u001B[1;34m(estimator, *args, **kwargs)\u001B[0m\n\u001B[0;32m   1145\u001B[0m     estimator\u001B[38;5;241m.\u001B[39m_validate_params()\n\u001B[0;32m   1147\u001B[0m \u001B[38;5;28;01mwith\u001B[39;00m config_context(\n\u001B[0;32m   1148\u001B[0m     skip_parameter_validation\u001B[38;5;241m=\u001B[39m(\n\u001B[0;32m   1149\u001B[0m         prefer_skip_nested_validation \u001B[38;5;129;01mor\u001B[39;00m global_skip_validation\n\u001B[0;32m   1150\u001B[0m     )\n\u001B[0;32m   1151\u001B[0m ):\n\u001B[1;32m-> 1152\u001B[0m     \u001B[38;5;28;01mreturn\u001B[39;00m \u001B[43mfit_method\u001B[49m\u001B[43m(\u001B[49m\u001B[43mestimator\u001B[49m\u001B[43m,\u001B[49m\u001B[43m \u001B[49m\u001B[38;5;241;43m*\u001B[39;49m\u001B[43margs\u001B[49m\u001B[43m,\u001B[49m\u001B[43m \u001B[49m\u001B[38;5;241;43m*\u001B[39;49m\u001B[38;5;241;43m*\u001B[39;49m\u001B[43mkwargs\u001B[49m\u001B[43m)\u001B[49m\n",
      "File \u001B[1;32mD:\\OneDrive\\IT\\Projects\\banks-clients\\.venv\\Lib\\site-packages\\sklearn\\model_selection\\_search.py:898\u001B[0m, in \u001B[0;36mBaseSearchCV.fit\u001B[1;34m(self, X, y, groups, **fit_params)\u001B[0m\n\u001B[0;32m    892\u001B[0m     results \u001B[38;5;241m=\u001B[39m \u001B[38;5;28mself\u001B[39m\u001B[38;5;241m.\u001B[39m_format_results(\n\u001B[0;32m    893\u001B[0m         all_candidate_params, n_splits, all_out, all_more_results\n\u001B[0;32m    894\u001B[0m     )\n\u001B[0;32m    896\u001B[0m     \u001B[38;5;28;01mreturn\u001B[39;00m results\n\u001B[1;32m--> 898\u001B[0m \u001B[38;5;28;43mself\u001B[39;49m\u001B[38;5;241;43m.\u001B[39;49m\u001B[43m_run_search\u001B[49m\u001B[43m(\u001B[49m\u001B[43mevaluate_candidates\u001B[49m\u001B[43m)\u001B[49m\n\u001B[0;32m    900\u001B[0m \u001B[38;5;66;03m# multimetric is determined here because in the case of a callable\u001B[39;00m\n\u001B[0;32m    901\u001B[0m \u001B[38;5;66;03m# self.scoring the return type is only known after calling\u001B[39;00m\n\u001B[0;32m    902\u001B[0m first_test_score \u001B[38;5;241m=\u001B[39m all_out[\u001B[38;5;241m0\u001B[39m][\u001B[38;5;124m\"\u001B[39m\u001B[38;5;124mtest_scores\u001B[39m\u001B[38;5;124m\"\u001B[39m]\n",
      "File \u001B[1;32mD:\\OneDrive\\IT\\Projects\\banks-clients\\.venv\\Lib\\site-packages\\sklearn\\model_selection\\_search.py:1422\u001B[0m, in \u001B[0;36mGridSearchCV._run_search\u001B[1;34m(self, evaluate_candidates)\u001B[0m\n\u001B[0;32m   1420\u001B[0m \u001B[38;5;28;01mdef\u001B[39;00m \u001B[38;5;21m_run_search\u001B[39m(\u001B[38;5;28mself\u001B[39m, evaluate_candidates):\n\u001B[0;32m   1421\u001B[0m \u001B[38;5;250m    \u001B[39m\u001B[38;5;124;03m\"\"\"Search all candidates in param_grid\"\"\"\u001B[39;00m\n\u001B[1;32m-> 1422\u001B[0m     \u001B[43mevaluate_candidates\u001B[49m\u001B[43m(\u001B[49m\u001B[43mParameterGrid\u001B[49m\u001B[43m(\u001B[49m\u001B[38;5;28;43mself\u001B[39;49m\u001B[38;5;241;43m.\u001B[39;49m\u001B[43mparam_grid\u001B[49m\u001B[43m)\u001B[49m\u001B[43m)\u001B[49m\n",
      "File \u001B[1;32mD:\\OneDrive\\IT\\Projects\\banks-clients\\.venv\\Lib\\site-packages\\sklearn\\model_selection\\_search.py:845\u001B[0m, in \u001B[0;36mBaseSearchCV.fit.<locals>.evaluate_candidates\u001B[1;34m(candidate_params, cv, more_results)\u001B[0m\n\u001B[0;32m    837\u001B[0m \u001B[38;5;28;01mif\u001B[39;00m \u001B[38;5;28mself\u001B[39m\u001B[38;5;241m.\u001B[39mverbose \u001B[38;5;241m>\u001B[39m \u001B[38;5;241m0\u001B[39m:\n\u001B[0;32m    838\u001B[0m     \u001B[38;5;28mprint\u001B[39m(\n\u001B[0;32m    839\u001B[0m         \u001B[38;5;124m\"\u001B[39m\u001B[38;5;124mFitting \u001B[39m\u001B[38;5;132;01m{0}\u001B[39;00m\u001B[38;5;124m folds for each of \u001B[39m\u001B[38;5;132;01m{1}\u001B[39;00m\u001B[38;5;124m candidates,\u001B[39m\u001B[38;5;124m\"\u001B[39m\n\u001B[0;32m    840\u001B[0m         \u001B[38;5;124m\"\u001B[39m\u001B[38;5;124m totalling \u001B[39m\u001B[38;5;132;01m{2}\u001B[39;00m\u001B[38;5;124m fits\u001B[39m\u001B[38;5;124m\"\u001B[39m\u001B[38;5;241m.\u001B[39mformat(\n\u001B[0;32m    841\u001B[0m             n_splits, n_candidates, n_candidates \u001B[38;5;241m*\u001B[39m n_splits\n\u001B[0;32m    842\u001B[0m         )\n\u001B[0;32m    843\u001B[0m     )\n\u001B[1;32m--> 845\u001B[0m out \u001B[38;5;241m=\u001B[39m \u001B[43mparallel\u001B[49m\u001B[43m(\u001B[49m\n\u001B[0;32m    846\u001B[0m \u001B[43m    \u001B[49m\u001B[43mdelayed\u001B[49m\u001B[43m(\u001B[49m\u001B[43m_fit_and_score\u001B[49m\u001B[43m)\u001B[49m\u001B[43m(\u001B[49m\n\u001B[0;32m    847\u001B[0m \u001B[43m        \u001B[49m\u001B[43mclone\u001B[49m\u001B[43m(\u001B[49m\u001B[43mbase_estimator\u001B[49m\u001B[43m)\u001B[49m\u001B[43m,\u001B[49m\n\u001B[0;32m    848\u001B[0m \u001B[43m        \u001B[49m\u001B[43mX\u001B[49m\u001B[43m,\u001B[49m\n\u001B[0;32m    849\u001B[0m \u001B[43m        \u001B[49m\u001B[43my\u001B[49m\u001B[43m,\u001B[49m\n\u001B[0;32m    850\u001B[0m \u001B[43m        \u001B[49m\u001B[43mtrain\u001B[49m\u001B[38;5;241;43m=\u001B[39;49m\u001B[43mtrain\u001B[49m\u001B[43m,\u001B[49m\n\u001B[0;32m    851\u001B[0m \u001B[43m        \u001B[49m\u001B[43mtest\u001B[49m\u001B[38;5;241;43m=\u001B[39;49m\u001B[43mtest\u001B[49m\u001B[43m,\u001B[49m\n\u001B[0;32m    852\u001B[0m \u001B[43m        \u001B[49m\u001B[43mparameters\u001B[49m\u001B[38;5;241;43m=\u001B[39;49m\u001B[43mparameters\u001B[49m\u001B[43m,\u001B[49m\n\u001B[0;32m    853\u001B[0m \u001B[43m        \u001B[49m\u001B[43msplit_progress\u001B[49m\u001B[38;5;241;43m=\u001B[39;49m\u001B[43m(\u001B[49m\u001B[43msplit_idx\u001B[49m\u001B[43m,\u001B[49m\u001B[43m \u001B[49m\u001B[43mn_splits\u001B[49m\u001B[43m)\u001B[49m\u001B[43m,\u001B[49m\n\u001B[0;32m    854\u001B[0m \u001B[43m        \u001B[49m\u001B[43mcandidate_progress\u001B[49m\u001B[38;5;241;43m=\u001B[39;49m\u001B[43m(\u001B[49m\u001B[43mcand_idx\u001B[49m\u001B[43m,\u001B[49m\u001B[43m \u001B[49m\u001B[43mn_candidates\u001B[49m\u001B[43m)\u001B[49m\u001B[43m,\u001B[49m\n\u001B[0;32m    855\u001B[0m \u001B[43m        \u001B[49m\u001B[38;5;241;43m*\u001B[39;49m\u001B[38;5;241;43m*\u001B[39;49m\u001B[43mfit_and_score_kwargs\u001B[49m\u001B[43m,\u001B[49m\n\u001B[0;32m    856\u001B[0m \u001B[43m    \u001B[49m\u001B[43m)\u001B[49m\n\u001B[0;32m    857\u001B[0m \u001B[43m    \u001B[49m\u001B[38;5;28;43;01mfor\u001B[39;49;00m\u001B[43m \u001B[49m\u001B[43m(\u001B[49m\u001B[43mcand_idx\u001B[49m\u001B[43m,\u001B[49m\u001B[43m \u001B[49m\u001B[43mparameters\u001B[49m\u001B[43m)\u001B[49m\u001B[43m,\u001B[49m\u001B[43m \u001B[49m\u001B[43m(\u001B[49m\u001B[43msplit_idx\u001B[49m\u001B[43m,\u001B[49m\u001B[43m \u001B[49m\u001B[43m(\u001B[49m\u001B[43mtrain\u001B[49m\u001B[43m,\u001B[49m\u001B[43m \u001B[49m\u001B[43mtest\u001B[49m\u001B[43m)\u001B[49m\u001B[43m)\u001B[49m\u001B[43m \u001B[49m\u001B[38;5;129;43;01min\u001B[39;49;00m\u001B[43m \u001B[49m\u001B[43mproduct\u001B[49m\u001B[43m(\u001B[49m\n\u001B[0;32m    858\u001B[0m \u001B[43m        \u001B[49m\u001B[38;5;28;43menumerate\u001B[39;49m\u001B[43m(\u001B[49m\u001B[43mcandidate_params\u001B[49m\u001B[43m)\u001B[49m\u001B[43m,\u001B[49m\u001B[43m \u001B[49m\u001B[38;5;28;43menumerate\u001B[39;49m\u001B[43m(\u001B[49m\u001B[43mcv\u001B[49m\u001B[38;5;241;43m.\u001B[39;49m\u001B[43msplit\u001B[49m\u001B[43m(\u001B[49m\u001B[43mX\u001B[49m\u001B[43m,\u001B[49m\u001B[43m \u001B[49m\u001B[43my\u001B[49m\u001B[43m,\u001B[49m\u001B[43m \u001B[49m\u001B[43mgroups\u001B[49m\u001B[43m)\u001B[49m\u001B[43m)\u001B[49m\n\u001B[0;32m    859\u001B[0m \u001B[43m    \u001B[49m\u001B[43m)\u001B[49m\n\u001B[0;32m    860\u001B[0m \u001B[43m\u001B[49m\u001B[43m)\u001B[49m\n\u001B[0;32m    862\u001B[0m \u001B[38;5;28;01mif\u001B[39;00m \u001B[38;5;28mlen\u001B[39m(out) \u001B[38;5;241m<\u001B[39m \u001B[38;5;241m1\u001B[39m:\n\u001B[0;32m    863\u001B[0m     \u001B[38;5;28;01mraise\u001B[39;00m \u001B[38;5;167;01mValueError\u001B[39;00m(\n\u001B[0;32m    864\u001B[0m         \u001B[38;5;124m\"\u001B[39m\u001B[38;5;124mNo fits were performed. \u001B[39m\u001B[38;5;124m\"\u001B[39m\n\u001B[0;32m    865\u001B[0m         \u001B[38;5;124m\"\u001B[39m\u001B[38;5;124mWas the CV iterator empty? \u001B[39m\u001B[38;5;124m\"\u001B[39m\n\u001B[0;32m    866\u001B[0m         \u001B[38;5;124m\"\u001B[39m\u001B[38;5;124mWere there no candidates?\u001B[39m\u001B[38;5;124m\"\u001B[39m\n\u001B[0;32m    867\u001B[0m     )\n",
      "File \u001B[1;32mD:\\OneDrive\\IT\\Projects\\banks-clients\\.venv\\Lib\\site-packages\\sklearn\\utils\\parallel.py:65\u001B[0m, in \u001B[0;36mParallel.__call__\u001B[1;34m(self, iterable)\u001B[0m\n\u001B[0;32m     60\u001B[0m config \u001B[38;5;241m=\u001B[39m get_config()\n\u001B[0;32m     61\u001B[0m iterable_with_config \u001B[38;5;241m=\u001B[39m (\n\u001B[0;32m     62\u001B[0m     (_with_config(delayed_func, config), args, kwargs)\n\u001B[0;32m     63\u001B[0m     \u001B[38;5;28;01mfor\u001B[39;00m delayed_func, args, kwargs \u001B[38;5;129;01min\u001B[39;00m iterable\n\u001B[0;32m     64\u001B[0m )\n\u001B[1;32m---> 65\u001B[0m \u001B[38;5;28;01mreturn\u001B[39;00m \u001B[38;5;28;43msuper\u001B[39;49m\u001B[43m(\u001B[49m\u001B[43m)\u001B[49m\u001B[38;5;241;43m.\u001B[39;49m\u001B[38;5;21;43m__call__\u001B[39;49m\u001B[43m(\u001B[49m\u001B[43miterable_with_config\u001B[49m\u001B[43m)\u001B[49m\n",
      "File \u001B[1;32mD:\\OneDrive\\IT\\Projects\\banks-clients\\.venv\\Lib\\site-packages\\joblib\\parallel.py:1952\u001B[0m, in \u001B[0;36mParallel.__call__\u001B[1;34m(self, iterable)\u001B[0m\n\u001B[0;32m   1946\u001B[0m \u001B[38;5;66;03m# The first item from the output is blank, but it makes the interpreter\u001B[39;00m\n\u001B[0;32m   1947\u001B[0m \u001B[38;5;66;03m# progress until it enters the Try/Except block of the generator and\u001B[39;00m\n\u001B[0;32m   1948\u001B[0m \u001B[38;5;66;03m# reach the first `yield` statement. This starts the aynchronous\u001B[39;00m\n\u001B[0;32m   1949\u001B[0m \u001B[38;5;66;03m# dispatch of the tasks to the workers.\u001B[39;00m\n\u001B[0;32m   1950\u001B[0m \u001B[38;5;28mnext\u001B[39m(output)\n\u001B[1;32m-> 1952\u001B[0m \u001B[38;5;28;01mreturn\u001B[39;00m output \u001B[38;5;28;01mif\u001B[39;00m \u001B[38;5;28mself\u001B[39m\u001B[38;5;241m.\u001B[39mreturn_generator \u001B[38;5;28;01melse\u001B[39;00m \u001B[38;5;28mlist\u001B[39m(output)\n",
      "File \u001B[1;32mD:\\OneDrive\\IT\\Projects\\banks-clients\\.venv\\Lib\\site-packages\\joblib\\parallel.py:1595\u001B[0m, in \u001B[0;36mParallel._get_outputs\u001B[1;34m(self, iterator, pre_dispatch)\u001B[0m\n\u001B[0;32m   1592\u001B[0m     \u001B[38;5;28;01myield\u001B[39;00m\n\u001B[0;32m   1594\u001B[0m     \u001B[38;5;28;01mwith\u001B[39;00m \u001B[38;5;28mself\u001B[39m\u001B[38;5;241m.\u001B[39m_backend\u001B[38;5;241m.\u001B[39mretrieval_context():\n\u001B[1;32m-> 1595\u001B[0m         \u001B[38;5;28;01myield from\u001B[39;00m \u001B[38;5;28mself\u001B[39m\u001B[38;5;241m.\u001B[39m_retrieve()\n\u001B[0;32m   1597\u001B[0m \u001B[38;5;28;01mexcept\u001B[39;00m \u001B[38;5;167;01mGeneratorExit\u001B[39;00m:\n\u001B[0;32m   1598\u001B[0m     \u001B[38;5;66;03m# The generator has been garbage collected before being fully\u001B[39;00m\n\u001B[0;32m   1599\u001B[0m     \u001B[38;5;66;03m# consumed. This aborts the remaining tasks if possible and warn\u001B[39;00m\n\u001B[0;32m   1600\u001B[0m     \u001B[38;5;66;03m# the user if necessary.\u001B[39;00m\n\u001B[0;32m   1601\u001B[0m     \u001B[38;5;28mself\u001B[39m\u001B[38;5;241m.\u001B[39m_exception \u001B[38;5;241m=\u001B[39m \u001B[38;5;28;01mTrue\u001B[39;00m\n",
      "File \u001B[1;32mD:\\OneDrive\\IT\\Projects\\banks-clients\\.venv\\Lib\\site-packages\\joblib\\parallel.py:1707\u001B[0m, in \u001B[0;36mParallel._retrieve\u001B[1;34m(self)\u001B[0m\n\u001B[0;32m   1702\u001B[0m \u001B[38;5;66;03m# If the next job is not ready for retrieval yet, we just wait for\u001B[39;00m\n\u001B[0;32m   1703\u001B[0m \u001B[38;5;66;03m# async callbacks to progress.\u001B[39;00m\n\u001B[0;32m   1704\u001B[0m \u001B[38;5;28;01mif\u001B[39;00m ((\u001B[38;5;28mlen\u001B[39m(\u001B[38;5;28mself\u001B[39m\u001B[38;5;241m.\u001B[39m_jobs) \u001B[38;5;241m==\u001B[39m \u001B[38;5;241m0\u001B[39m) \u001B[38;5;129;01mor\u001B[39;00m\n\u001B[0;32m   1705\u001B[0m     (\u001B[38;5;28mself\u001B[39m\u001B[38;5;241m.\u001B[39m_jobs[\u001B[38;5;241m0\u001B[39m]\u001B[38;5;241m.\u001B[39mget_status(\n\u001B[0;32m   1706\u001B[0m         timeout\u001B[38;5;241m=\u001B[39m\u001B[38;5;28mself\u001B[39m\u001B[38;5;241m.\u001B[39mtimeout) \u001B[38;5;241m==\u001B[39m TASK_PENDING)):\n\u001B[1;32m-> 1707\u001B[0m     time\u001B[38;5;241m.\u001B[39msleep(\u001B[38;5;241m0.01\u001B[39m)\n\u001B[0;32m   1708\u001B[0m     \u001B[38;5;28;01mcontinue\u001B[39;00m\n\u001B[0;32m   1710\u001B[0m \u001B[38;5;66;03m# We need to be careful: the job list can be filling up as\u001B[39;00m\n\u001B[0;32m   1711\u001B[0m \u001B[38;5;66;03m# we empty it and Python list are not thread-safe by\u001B[39;00m\n\u001B[0;32m   1712\u001B[0m \u001B[38;5;66;03m# default hence the use of the lock\u001B[39;00m\n",
      "\u001B[1;31mKeyboardInterrupt\u001B[0m: "
     ]
    }
   ],
   "source": [
    "# params = {'kernel': ['rbf', 'linear', 'sigmoid'], 'C': [1, 10, 100]}\n",
    "# C = np.arange(1, 10, 0.1)\n",
    "# params = {'C': C}\n",
    "# \n",
    "# modelSVM = SVC(kernel='linear')\n",
    "# gs_model_SVM = GridSearchCV(estimator=modelSVM, param_grid=params, cv=3, scoring='roc_auc', verbose=1, n_jobs=-1)\n",
    "# gs_model_SVM.fit(X_train, y_train)"
   ],
   "metadata": {
    "collapsed": false,
    "ExecuteTime": {
     "end_time": "2023-12-21T14:59:15.969457400Z",
     "start_time": "2023-12-21T10:37:18.996409600Z"
    }
   }
  },
  {
   "cell_type": "markdown",
   "source": [
    "В итоге я понял, что нужно действовать мелкими итерациями: сначала выбрать оптимальное ядро, потом по логарифмической шкале отобрать уровень регуляризации, потом в рамках этого уровня подбирать интервалами. Так что ниже много однотипного кода, на каждой из итерациях которого параметры метода всё более сходились к необходимому мне оптимуму метрики roc-auc"
   ],
   "metadata": {
    "collapsed": false
   }
  },
  {
   "cell_type": "code",
   "execution_count": 10,
   "outputs": [
    {
     "name": "stdout",
     "output_type": "stream",
     "text": [
      "Fitting 3 folds for each of 3 candidates, totalling 9 fits\n"
     ]
    },
    {
     "data": {
      "text/plain": "GridSearchCV(cv=3, estimator=SVC(), n_jobs=-1,\n             param_grid={'kernel': ['rbf', 'linear', 'sigmoid']},\n             scoring='roc_auc', verbose=True)",
      "text/html": "<style>#sk-container-id-1 {color: black;}#sk-container-id-1 pre{padding: 0;}#sk-container-id-1 div.sk-toggleable {background-color: white;}#sk-container-id-1 label.sk-toggleable__label {cursor: pointer;display: block;width: 100%;margin-bottom: 0;padding: 0.3em;box-sizing: border-box;text-align: center;}#sk-container-id-1 label.sk-toggleable__label-arrow:before {content: \"▸\";float: left;margin-right: 0.25em;color: #696969;}#sk-container-id-1 label.sk-toggleable__label-arrow:hover:before {color: black;}#sk-container-id-1 div.sk-estimator:hover label.sk-toggleable__label-arrow:before {color: black;}#sk-container-id-1 div.sk-toggleable__content {max-height: 0;max-width: 0;overflow: hidden;text-align: left;background-color: #f0f8ff;}#sk-container-id-1 div.sk-toggleable__content pre {margin: 0.2em;color: black;border-radius: 0.25em;background-color: #f0f8ff;}#sk-container-id-1 input.sk-toggleable__control:checked~div.sk-toggleable__content {max-height: 200px;max-width: 100%;overflow: auto;}#sk-container-id-1 input.sk-toggleable__control:checked~label.sk-toggleable__label-arrow:before {content: \"▾\";}#sk-container-id-1 div.sk-estimator input.sk-toggleable__control:checked~label.sk-toggleable__label {background-color: #d4ebff;}#sk-container-id-1 div.sk-label input.sk-toggleable__control:checked~label.sk-toggleable__label {background-color: #d4ebff;}#sk-container-id-1 input.sk-hidden--visually {border: 0;clip: rect(1px 1px 1px 1px);clip: rect(1px, 1px, 1px, 1px);height: 1px;margin: -1px;overflow: hidden;padding: 0;position: absolute;width: 1px;}#sk-container-id-1 div.sk-estimator {font-family: monospace;background-color: #f0f8ff;border: 1px dotted black;border-radius: 0.25em;box-sizing: border-box;margin-bottom: 0.5em;}#sk-container-id-1 div.sk-estimator:hover {background-color: #d4ebff;}#sk-container-id-1 div.sk-parallel-item::after {content: \"\";width: 100%;border-bottom: 1px solid gray;flex-grow: 1;}#sk-container-id-1 div.sk-label:hover label.sk-toggleable__label {background-color: #d4ebff;}#sk-container-id-1 div.sk-serial::before {content: \"\";position: absolute;border-left: 1px solid gray;box-sizing: border-box;top: 0;bottom: 0;left: 50%;z-index: 0;}#sk-container-id-1 div.sk-serial {display: flex;flex-direction: column;align-items: center;background-color: white;padding-right: 0.2em;padding-left: 0.2em;position: relative;}#sk-container-id-1 div.sk-item {position: relative;z-index: 1;}#sk-container-id-1 div.sk-parallel {display: flex;align-items: stretch;justify-content: center;background-color: white;position: relative;}#sk-container-id-1 div.sk-item::before, #sk-container-id-1 div.sk-parallel-item::before {content: \"\";position: absolute;border-left: 1px solid gray;box-sizing: border-box;top: 0;bottom: 0;left: 50%;z-index: -1;}#sk-container-id-1 div.sk-parallel-item {display: flex;flex-direction: column;z-index: 1;position: relative;background-color: white;}#sk-container-id-1 div.sk-parallel-item:first-child::after {align-self: flex-end;width: 50%;}#sk-container-id-1 div.sk-parallel-item:last-child::after {align-self: flex-start;width: 50%;}#sk-container-id-1 div.sk-parallel-item:only-child::after {width: 0;}#sk-container-id-1 div.sk-dashed-wrapped {border: 1px dashed gray;margin: 0 0.4em 0.5em 0.4em;box-sizing: border-box;padding-bottom: 0.4em;background-color: white;}#sk-container-id-1 div.sk-label label {font-family: monospace;font-weight: bold;display: inline-block;line-height: 1.2em;}#sk-container-id-1 div.sk-label-container {text-align: center;}#sk-container-id-1 div.sk-container {/* jupyter's `normalize.less` sets `[hidden] { display: none; }` but bootstrap.min.css set `[hidden] { display: none !important; }` so we also need the `!important` here to be able to override the default hidden behavior on the sphinx rendered scikit-learn.org. See: https://github.com/scikit-learn/scikit-learn/issues/21755 */display: inline-block !important;position: relative;}#sk-container-id-1 div.sk-text-repr-fallback {display: none;}</style><div id=\"sk-container-id-1\" class=\"sk-top-container\"><div class=\"sk-text-repr-fallback\"><pre>GridSearchCV(cv=3, estimator=SVC(), n_jobs=-1,\n             param_grid={&#x27;kernel&#x27;: [&#x27;rbf&#x27;, &#x27;linear&#x27;, &#x27;sigmoid&#x27;]},\n             scoring=&#x27;roc_auc&#x27;, verbose=True)</pre><b>In a Jupyter environment, please rerun this cell to show the HTML representation or trust the notebook. <br />On GitHub, the HTML representation is unable to render, please try loading this page with nbviewer.org.</b></div><div class=\"sk-container\" hidden><div class=\"sk-item sk-dashed-wrapped\"><div class=\"sk-label-container\"><div class=\"sk-label sk-toggleable\"><input class=\"sk-toggleable__control sk-hidden--visually\" id=\"sk-estimator-id-1\" type=\"checkbox\" ><label for=\"sk-estimator-id-1\" class=\"sk-toggleable__label sk-toggleable__label-arrow\">GridSearchCV</label><div class=\"sk-toggleable__content\"><pre>GridSearchCV(cv=3, estimator=SVC(), n_jobs=-1,\n             param_grid={&#x27;kernel&#x27;: [&#x27;rbf&#x27;, &#x27;linear&#x27;, &#x27;sigmoid&#x27;]},\n             scoring=&#x27;roc_auc&#x27;, verbose=True)</pre></div></div></div><div class=\"sk-parallel\"><div class=\"sk-parallel-item\"><div class=\"sk-item\"><div class=\"sk-label-container\"><div class=\"sk-label sk-toggleable\"><input class=\"sk-toggleable__control sk-hidden--visually\" id=\"sk-estimator-id-2\" type=\"checkbox\" ><label for=\"sk-estimator-id-2\" class=\"sk-toggleable__label sk-toggleable__label-arrow\">estimator: SVC</label><div class=\"sk-toggleable__content\"><pre>SVC()</pre></div></div></div><div class=\"sk-serial\"><div class=\"sk-item\"><div class=\"sk-estimator sk-toggleable\"><input class=\"sk-toggleable__control sk-hidden--visually\" id=\"sk-estimator-id-3\" type=\"checkbox\" ><label for=\"sk-estimator-id-3\" class=\"sk-toggleable__label sk-toggleable__label-arrow\">SVC</label><div class=\"sk-toggleable__content\"><pre>SVC()</pre></div></div></div></div></div></div></div></div></div></div>"
     },
     "execution_count": 10,
     "metadata": {},
     "output_type": "execute_result"
    }
   ],
   "source": [
    "# Выбираем ядро\n",
    "params = {'kernel': ['rbf', 'linear', 'sigmoid']}\n",
    "modelSVM = SVC()\n",
    "gs_model_SVM = GridSearchCV(estimator=modelSVM, param_grid=params, cv=3, scoring='roc_auc', verbose=True, n_jobs=-1)\n",
    "gs_model_SVM.fit(X_train, y_train)"
   ],
   "metadata": {
    "collapsed": false,
    "ExecuteTime": {
     "end_time": "2023-12-22T05:55:05.875617500Z",
     "start_time": "2023-12-22T05:53:37.778122500Z"
    }
   }
  },
  {
   "cell_type": "code",
   "execution_count": 11,
   "outputs": [
    {
     "data": {
      "text/plain": "{'kernel': 'rbf'}"
     },
     "execution_count": 11,
     "metadata": {},
     "output_type": "execute_result"
    }
   ],
   "source": [
    "gs_model_SVM.best_params_"
   ],
   "metadata": {
    "collapsed": false,
    "ExecuteTime": {
     "end_time": "2023-12-22T05:55:10.837395Z",
     "start_time": "2023-12-22T05:55:10.823357100Z"
    }
   }
  },
  {
   "cell_type": "code",
   "execution_count": 12,
   "outputs": [],
   "source": [
    "# Выбираем порядок регуляризации логарифмической шкалой\n",
    "params = {'C': [1, 10, 100]}"
   ],
   "metadata": {
    "collapsed": false,
    "ExecuteTime": {
     "end_time": "2023-12-22T05:55:47.190833600Z",
     "start_time": "2023-12-22T05:55:47.166446Z"
    }
   }
  },
  {
   "cell_type": "code",
   "execution_count": 13,
   "outputs": [
    {
     "name": "stdout",
     "output_type": "stream",
     "text": [
      "Fitting 3 folds for each of 3 candidates, totalling 9 fits\n"
     ]
    },
    {
     "data": {
      "text/plain": "GridSearchCV(cv=3, estimator=SVC(), n_jobs=-1, param_grid={'C': [1, 10, 100]},\n             scoring='roc_auc', verbose=True)",
      "text/html": "<style>#sk-container-id-2 {color: black;}#sk-container-id-2 pre{padding: 0;}#sk-container-id-2 div.sk-toggleable {background-color: white;}#sk-container-id-2 label.sk-toggleable__label {cursor: pointer;display: block;width: 100%;margin-bottom: 0;padding: 0.3em;box-sizing: border-box;text-align: center;}#sk-container-id-2 label.sk-toggleable__label-arrow:before {content: \"▸\";float: left;margin-right: 0.25em;color: #696969;}#sk-container-id-2 label.sk-toggleable__label-arrow:hover:before {color: black;}#sk-container-id-2 div.sk-estimator:hover label.sk-toggleable__label-arrow:before {color: black;}#sk-container-id-2 div.sk-toggleable__content {max-height: 0;max-width: 0;overflow: hidden;text-align: left;background-color: #f0f8ff;}#sk-container-id-2 div.sk-toggleable__content pre {margin: 0.2em;color: black;border-radius: 0.25em;background-color: #f0f8ff;}#sk-container-id-2 input.sk-toggleable__control:checked~div.sk-toggleable__content {max-height: 200px;max-width: 100%;overflow: auto;}#sk-container-id-2 input.sk-toggleable__control:checked~label.sk-toggleable__label-arrow:before {content: \"▾\";}#sk-container-id-2 div.sk-estimator input.sk-toggleable__control:checked~label.sk-toggleable__label {background-color: #d4ebff;}#sk-container-id-2 div.sk-label input.sk-toggleable__control:checked~label.sk-toggleable__label {background-color: #d4ebff;}#sk-container-id-2 input.sk-hidden--visually {border: 0;clip: rect(1px 1px 1px 1px);clip: rect(1px, 1px, 1px, 1px);height: 1px;margin: -1px;overflow: hidden;padding: 0;position: absolute;width: 1px;}#sk-container-id-2 div.sk-estimator {font-family: monospace;background-color: #f0f8ff;border: 1px dotted black;border-radius: 0.25em;box-sizing: border-box;margin-bottom: 0.5em;}#sk-container-id-2 div.sk-estimator:hover {background-color: #d4ebff;}#sk-container-id-2 div.sk-parallel-item::after {content: \"\";width: 100%;border-bottom: 1px solid gray;flex-grow: 1;}#sk-container-id-2 div.sk-label:hover label.sk-toggleable__label {background-color: #d4ebff;}#sk-container-id-2 div.sk-serial::before {content: \"\";position: absolute;border-left: 1px solid gray;box-sizing: border-box;top: 0;bottom: 0;left: 50%;z-index: 0;}#sk-container-id-2 div.sk-serial {display: flex;flex-direction: column;align-items: center;background-color: white;padding-right: 0.2em;padding-left: 0.2em;position: relative;}#sk-container-id-2 div.sk-item {position: relative;z-index: 1;}#sk-container-id-2 div.sk-parallel {display: flex;align-items: stretch;justify-content: center;background-color: white;position: relative;}#sk-container-id-2 div.sk-item::before, #sk-container-id-2 div.sk-parallel-item::before {content: \"\";position: absolute;border-left: 1px solid gray;box-sizing: border-box;top: 0;bottom: 0;left: 50%;z-index: -1;}#sk-container-id-2 div.sk-parallel-item {display: flex;flex-direction: column;z-index: 1;position: relative;background-color: white;}#sk-container-id-2 div.sk-parallel-item:first-child::after {align-self: flex-end;width: 50%;}#sk-container-id-2 div.sk-parallel-item:last-child::after {align-self: flex-start;width: 50%;}#sk-container-id-2 div.sk-parallel-item:only-child::after {width: 0;}#sk-container-id-2 div.sk-dashed-wrapped {border: 1px dashed gray;margin: 0 0.4em 0.5em 0.4em;box-sizing: border-box;padding-bottom: 0.4em;background-color: white;}#sk-container-id-2 div.sk-label label {font-family: monospace;font-weight: bold;display: inline-block;line-height: 1.2em;}#sk-container-id-2 div.sk-label-container {text-align: center;}#sk-container-id-2 div.sk-container {/* jupyter's `normalize.less` sets `[hidden] { display: none; }` but bootstrap.min.css set `[hidden] { display: none !important; }` so we also need the `!important` here to be able to override the default hidden behavior on the sphinx rendered scikit-learn.org. See: https://github.com/scikit-learn/scikit-learn/issues/21755 */display: inline-block !important;position: relative;}#sk-container-id-2 div.sk-text-repr-fallback {display: none;}</style><div id=\"sk-container-id-2\" class=\"sk-top-container\"><div class=\"sk-text-repr-fallback\"><pre>GridSearchCV(cv=3, estimator=SVC(), n_jobs=-1, param_grid={&#x27;C&#x27;: [1, 10, 100]},\n             scoring=&#x27;roc_auc&#x27;, verbose=True)</pre><b>In a Jupyter environment, please rerun this cell to show the HTML representation or trust the notebook. <br />On GitHub, the HTML representation is unable to render, please try loading this page with nbviewer.org.</b></div><div class=\"sk-container\" hidden><div class=\"sk-item sk-dashed-wrapped\"><div class=\"sk-label-container\"><div class=\"sk-label sk-toggleable\"><input class=\"sk-toggleable__control sk-hidden--visually\" id=\"sk-estimator-id-4\" type=\"checkbox\" ><label for=\"sk-estimator-id-4\" class=\"sk-toggleable__label sk-toggleable__label-arrow\">GridSearchCV</label><div class=\"sk-toggleable__content\"><pre>GridSearchCV(cv=3, estimator=SVC(), n_jobs=-1, param_grid={&#x27;C&#x27;: [1, 10, 100]},\n             scoring=&#x27;roc_auc&#x27;, verbose=True)</pre></div></div></div><div class=\"sk-parallel\"><div class=\"sk-parallel-item\"><div class=\"sk-item\"><div class=\"sk-label-container\"><div class=\"sk-label sk-toggleable\"><input class=\"sk-toggleable__control sk-hidden--visually\" id=\"sk-estimator-id-5\" type=\"checkbox\" ><label for=\"sk-estimator-id-5\" class=\"sk-toggleable__label sk-toggleable__label-arrow\">estimator: SVC</label><div class=\"sk-toggleable__content\"><pre>SVC()</pre></div></div></div><div class=\"sk-serial\"><div class=\"sk-item\"><div class=\"sk-estimator sk-toggleable\"><input class=\"sk-toggleable__control sk-hidden--visually\" id=\"sk-estimator-id-6\" type=\"checkbox\" ><label for=\"sk-estimator-id-6\" class=\"sk-toggleable__label sk-toggleable__label-arrow\">SVC</label><div class=\"sk-toggleable__content\"><pre>SVC()</pre></div></div></div></div></div></div></div></div></div></div>"
     },
     "execution_count": 13,
     "metadata": {},
     "output_type": "execute_result"
    }
   ],
   "source": [
    "modelSVM = SVC(kernel='rbf')\n",
    "gs_model_SVM = GridSearchCV(estimator=modelSVM, param_grid=params, cv=3, scoring='roc_auc', verbose=True, n_jobs=-1)\n",
    "gs_model_SVM.fit(X_train, y_train)"
   ],
   "metadata": {
    "collapsed": false,
    "ExecuteTime": {
     "end_time": "2023-12-22T05:57:28.022047200Z",
     "start_time": "2023-12-22T05:56:43.832491800Z"
    }
   }
  },
  {
   "cell_type": "code",
   "execution_count": 14,
   "outputs": [
    {
     "data": {
      "text/plain": "{'C': 1}"
     },
     "execution_count": 14,
     "metadata": {},
     "output_type": "execute_result"
    }
   ],
   "source": [
    "gs_model_SVM.best_params_"
   ],
   "metadata": {
    "collapsed": false,
    "ExecuteTime": {
     "end_time": "2023-12-22T05:57:43.665350Z",
     "start_time": "2023-12-22T05:57:43.651591800Z"
    }
   }
  },
  {
   "cell_type": "code",
   "execution_count": 16,
   "outputs": [
    {
     "data": {
      "text/plain": "SVC(C=1)",
      "text/html": "<style>#sk-container-id-3 {color: black;}#sk-container-id-3 pre{padding: 0;}#sk-container-id-3 div.sk-toggleable {background-color: white;}#sk-container-id-3 label.sk-toggleable__label {cursor: pointer;display: block;width: 100%;margin-bottom: 0;padding: 0.3em;box-sizing: border-box;text-align: center;}#sk-container-id-3 label.sk-toggleable__label-arrow:before {content: \"▸\";float: left;margin-right: 0.25em;color: #696969;}#sk-container-id-3 label.sk-toggleable__label-arrow:hover:before {color: black;}#sk-container-id-3 div.sk-estimator:hover label.sk-toggleable__label-arrow:before {color: black;}#sk-container-id-3 div.sk-toggleable__content {max-height: 0;max-width: 0;overflow: hidden;text-align: left;background-color: #f0f8ff;}#sk-container-id-3 div.sk-toggleable__content pre {margin: 0.2em;color: black;border-radius: 0.25em;background-color: #f0f8ff;}#sk-container-id-3 input.sk-toggleable__control:checked~div.sk-toggleable__content {max-height: 200px;max-width: 100%;overflow: auto;}#sk-container-id-3 input.sk-toggleable__control:checked~label.sk-toggleable__label-arrow:before {content: \"▾\";}#sk-container-id-3 div.sk-estimator input.sk-toggleable__control:checked~label.sk-toggleable__label {background-color: #d4ebff;}#sk-container-id-3 div.sk-label input.sk-toggleable__control:checked~label.sk-toggleable__label {background-color: #d4ebff;}#sk-container-id-3 input.sk-hidden--visually {border: 0;clip: rect(1px 1px 1px 1px);clip: rect(1px, 1px, 1px, 1px);height: 1px;margin: -1px;overflow: hidden;padding: 0;position: absolute;width: 1px;}#sk-container-id-3 div.sk-estimator {font-family: monospace;background-color: #f0f8ff;border: 1px dotted black;border-radius: 0.25em;box-sizing: border-box;margin-bottom: 0.5em;}#sk-container-id-3 div.sk-estimator:hover {background-color: #d4ebff;}#sk-container-id-3 div.sk-parallel-item::after {content: \"\";width: 100%;border-bottom: 1px solid gray;flex-grow: 1;}#sk-container-id-3 div.sk-label:hover label.sk-toggleable__label {background-color: #d4ebff;}#sk-container-id-3 div.sk-serial::before {content: \"\";position: absolute;border-left: 1px solid gray;box-sizing: border-box;top: 0;bottom: 0;left: 50%;z-index: 0;}#sk-container-id-3 div.sk-serial {display: flex;flex-direction: column;align-items: center;background-color: white;padding-right: 0.2em;padding-left: 0.2em;position: relative;}#sk-container-id-3 div.sk-item {position: relative;z-index: 1;}#sk-container-id-3 div.sk-parallel {display: flex;align-items: stretch;justify-content: center;background-color: white;position: relative;}#sk-container-id-3 div.sk-item::before, #sk-container-id-3 div.sk-parallel-item::before {content: \"\";position: absolute;border-left: 1px solid gray;box-sizing: border-box;top: 0;bottom: 0;left: 50%;z-index: -1;}#sk-container-id-3 div.sk-parallel-item {display: flex;flex-direction: column;z-index: 1;position: relative;background-color: white;}#sk-container-id-3 div.sk-parallel-item:first-child::after {align-self: flex-end;width: 50%;}#sk-container-id-3 div.sk-parallel-item:last-child::after {align-self: flex-start;width: 50%;}#sk-container-id-3 div.sk-parallel-item:only-child::after {width: 0;}#sk-container-id-3 div.sk-dashed-wrapped {border: 1px dashed gray;margin: 0 0.4em 0.5em 0.4em;box-sizing: border-box;padding-bottom: 0.4em;background-color: white;}#sk-container-id-3 div.sk-label label {font-family: monospace;font-weight: bold;display: inline-block;line-height: 1.2em;}#sk-container-id-3 div.sk-label-container {text-align: center;}#sk-container-id-3 div.sk-container {/* jupyter's `normalize.less` sets `[hidden] { display: none; }` but bootstrap.min.css set `[hidden] { display: none !important; }` so we also need the `!important` here to be able to override the default hidden behavior on the sphinx rendered scikit-learn.org. See: https://github.com/scikit-learn/scikit-learn/issues/21755 */display: inline-block !important;position: relative;}#sk-container-id-3 div.sk-text-repr-fallback {display: none;}</style><div id=\"sk-container-id-3\" class=\"sk-top-container\"><div class=\"sk-text-repr-fallback\"><pre>SVC(C=1)</pre><b>In a Jupyter environment, please rerun this cell to show the HTML representation or trust the notebook. <br />On GitHub, the HTML representation is unable to render, please try loading this page with nbviewer.org.</b></div><div class=\"sk-container\" hidden><div class=\"sk-item\"><div class=\"sk-estimator sk-toggleable\"><input class=\"sk-toggleable__control sk-hidden--visually\" id=\"sk-estimator-id-7\" type=\"checkbox\" checked><label for=\"sk-estimator-id-7\" class=\"sk-toggleable__label sk-toggleable__label-arrow\">SVC</label><div class=\"sk-toggleable__content\"><pre>SVC(C=1)</pre></div></div></div></div></div>"
     },
     "execution_count": 16,
     "metadata": {},
     "output_type": "execute_result"
    }
   ],
   "source": [
    "modelSVM = SVC(kernel='rbf', C=1)\n",
    "modelSVM.fit(X_train, y_train)"
   ],
   "metadata": {
    "collapsed": false,
    "ExecuteTime": {
     "end_time": "2023-12-22T05:59:27.993369600Z",
     "start_time": "2023-12-22T05:59:20.888099400Z"
    }
   }
  },
  {
   "cell_type": "code",
   "execution_count": 30,
   "outputs": [
    {
     "name": "stdout",
     "output_type": "stream",
     "text": [
      "Fitting 3 folds for each of 4 candidates, totalling 12 fits\n"
     ]
    },
    {
     "data": {
      "text/plain": "GridSearchCV(cv=3, estimator=SVC(), n_jobs=-1,\n             param_grid={'C': array([ 1,  4,  7, 10])}, scoring='roc_auc',\n             verbose=True)",
      "text/html": "<style>#sk-container-id-7 {color: black;}#sk-container-id-7 pre{padding: 0;}#sk-container-id-7 div.sk-toggleable {background-color: white;}#sk-container-id-7 label.sk-toggleable__label {cursor: pointer;display: block;width: 100%;margin-bottom: 0;padding: 0.3em;box-sizing: border-box;text-align: center;}#sk-container-id-7 label.sk-toggleable__label-arrow:before {content: \"▸\";float: left;margin-right: 0.25em;color: #696969;}#sk-container-id-7 label.sk-toggleable__label-arrow:hover:before {color: black;}#sk-container-id-7 div.sk-estimator:hover label.sk-toggleable__label-arrow:before {color: black;}#sk-container-id-7 div.sk-toggleable__content {max-height: 0;max-width: 0;overflow: hidden;text-align: left;background-color: #f0f8ff;}#sk-container-id-7 div.sk-toggleable__content pre {margin: 0.2em;color: black;border-radius: 0.25em;background-color: #f0f8ff;}#sk-container-id-7 input.sk-toggleable__control:checked~div.sk-toggleable__content {max-height: 200px;max-width: 100%;overflow: auto;}#sk-container-id-7 input.sk-toggleable__control:checked~label.sk-toggleable__label-arrow:before {content: \"▾\";}#sk-container-id-7 div.sk-estimator input.sk-toggleable__control:checked~label.sk-toggleable__label {background-color: #d4ebff;}#sk-container-id-7 div.sk-label input.sk-toggleable__control:checked~label.sk-toggleable__label {background-color: #d4ebff;}#sk-container-id-7 input.sk-hidden--visually {border: 0;clip: rect(1px 1px 1px 1px);clip: rect(1px, 1px, 1px, 1px);height: 1px;margin: -1px;overflow: hidden;padding: 0;position: absolute;width: 1px;}#sk-container-id-7 div.sk-estimator {font-family: monospace;background-color: #f0f8ff;border: 1px dotted black;border-radius: 0.25em;box-sizing: border-box;margin-bottom: 0.5em;}#sk-container-id-7 div.sk-estimator:hover {background-color: #d4ebff;}#sk-container-id-7 div.sk-parallel-item::after {content: \"\";width: 100%;border-bottom: 1px solid gray;flex-grow: 1;}#sk-container-id-7 div.sk-label:hover label.sk-toggleable__label {background-color: #d4ebff;}#sk-container-id-7 div.sk-serial::before {content: \"\";position: absolute;border-left: 1px solid gray;box-sizing: border-box;top: 0;bottom: 0;left: 50%;z-index: 0;}#sk-container-id-7 div.sk-serial {display: flex;flex-direction: column;align-items: center;background-color: white;padding-right: 0.2em;padding-left: 0.2em;position: relative;}#sk-container-id-7 div.sk-item {position: relative;z-index: 1;}#sk-container-id-7 div.sk-parallel {display: flex;align-items: stretch;justify-content: center;background-color: white;position: relative;}#sk-container-id-7 div.sk-item::before, #sk-container-id-7 div.sk-parallel-item::before {content: \"\";position: absolute;border-left: 1px solid gray;box-sizing: border-box;top: 0;bottom: 0;left: 50%;z-index: -1;}#sk-container-id-7 div.sk-parallel-item {display: flex;flex-direction: column;z-index: 1;position: relative;background-color: white;}#sk-container-id-7 div.sk-parallel-item:first-child::after {align-self: flex-end;width: 50%;}#sk-container-id-7 div.sk-parallel-item:last-child::after {align-self: flex-start;width: 50%;}#sk-container-id-7 div.sk-parallel-item:only-child::after {width: 0;}#sk-container-id-7 div.sk-dashed-wrapped {border: 1px dashed gray;margin: 0 0.4em 0.5em 0.4em;box-sizing: border-box;padding-bottom: 0.4em;background-color: white;}#sk-container-id-7 div.sk-label label {font-family: monospace;font-weight: bold;display: inline-block;line-height: 1.2em;}#sk-container-id-7 div.sk-label-container {text-align: center;}#sk-container-id-7 div.sk-container {/* jupyter's `normalize.less` sets `[hidden] { display: none; }` but bootstrap.min.css set `[hidden] { display: none !important; }` so we also need the `!important` here to be able to override the default hidden behavior on the sphinx rendered scikit-learn.org. See: https://github.com/scikit-learn/scikit-learn/issues/21755 */display: inline-block !important;position: relative;}#sk-container-id-7 div.sk-text-repr-fallback {display: none;}</style><div id=\"sk-container-id-7\" class=\"sk-top-container\"><div class=\"sk-text-repr-fallback\"><pre>GridSearchCV(cv=3, estimator=SVC(), n_jobs=-1,\n             param_grid={&#x27;C&#x27;: array([ 1,  4,  7, 10])}, scoring=&#x27;roc_auc&#x27;,\n             verbose=True)</pre><b>In a Jupyter environment, please rerun this cell to show the HTML representation or trust the notebook. <br />On GitHub, the HTML representation is unable to render, please try loading this page with nbviewer.org.</b></div><div class=\"sk-container\" hidden><div class=\"sk-item sk-dashed-wrapped\"><div class=\"sk-label-container\"><div class=\"sk-label sk-toggleable\"><input class=\"sk-toggleable__control sk-hidden--visually\" id=\"sk-estimator-id-17\" type=\"checkbox\" ><label for=\"sk-estimator-id-17\" class=\"sk-toggleable__label sk-toggleable__label-arrow\">GridSearchCV</label><div class=\"sk-toggleable__content\"><pre>GridSearchCV(cv=3, estimator=SVC(), n_jobs=-1,\n             param_grid={&#x27;C&#x27;: array([ 1,  4,  7, 10])}, scoring=&#x27;roc_auc&#x27;,\n             verbose=True)</pre></div></div></div><div class=\"sk-parallel\"><div class=\"sk-parallel-item\"><div class=\"sk-item\"><div class=\"sk-label-container\"><div class=\"sk-label sk-toggleable\"><input class=\"sk-toggleable__control sk-hidden--visually\" id=\"sk-estimator-id-18\" type=\"checkbox\" ><label for=\"sk-estimator-id-18\" class=\"sk-toggleable__label sk-toggleable__label-arrow\">estimator: SVC</label><div class=\"sk-toggleable__content\"><pre>SVC()</pre></div></div></div><div class=\"sk-serial\"><div class=\"sk-item\"><div class=\"sk-estimator sk-toggleable\"><input class=\"sk-toggleable__control sk-hidden--visually\" id=\"sk-estimator-id-19\" type=\"checkbox\" ><label for=\"sk-estimator-id-19\" class=\"sk-toggleable__label sk-toggleable__label-arrow\">SVC</label><div class=\"sk-toggleable__content\"><pre>SVC()</pre></div></div></div></div></div></div></div></div></div></div>"
     },
     "execution_count": 30,
     "metadata": {},
     "output_type": "execute_result"
    }
   ],
   "source": [
    "# определяем диапазон внутри десятков\n",
    "C = np.arange(1, 11, 3)\n",
    "params = {'C': C}\n",
    "modelSVM = SVC(kernel='rbf')\n",
    "gs_model_SVM = GridSearchCV(estimator=modelSVM, param_grid=params, cv=3, scoring='roc_auc', verbose=True, n_jobs=-1)\n",
    "gs_model_SVM.fit(X_train, y_train)"
   ],
   "metadata": {
    "collapsed": false,
    "ExecuteTime": {
     "end_time": "2023-12-22T06:45:54.901389900Z",
     "start_time": "2023-12-22T06:45:05.254683500Z"
    }
   }
  },
  {
   "cell_type": "code",
   "execution_count": 31,
   "outputs": [
    {
     "data": {
      "text/plain": "{'C': 4}"
     },
     "execution_count": 31,
     "metadata": {},
     "output_type": "execute_result"
    }
   ],
   "source": [
    "gs_model_SVM.best_params_"
   ],
   "metadata": {
    "collapsed": false,
    "ExecuteTime": {
     "end_time": "2023-12-22T06:45:54.907753Z",
     "start_time": "2023-12-22T06:45:54.900271100Z"
    }
   }
  },
  {
   "cell_type": "code",
   "execution_count": 34,
   "outputs": [
    {
     "name": "stdout",
     "output_type": "stream",
     "text": [
      "Fitting 3 folds for each of 5 candidates, totalling 15 fits\n"
     ]
    },
    {
     "data": {
      "text/plain": "GridSearchCV(cv=3, estimator=SVC(), n_jobs=-1,\n             param_grid={'C': array([2, 3, 4, 5, 6])}, scoring='roc_auc',\n             verbose=True)",
      "text/html": "<style>#sk-container-id-8 {color: black;}#sk-container-id-8 pre{padding: 0;}#sk-container-id-8 div.sk-toggleable {background-color: white;}#sk-container-id-8 label.sk-toggleable__label {cursor: pointer;display: block;width: 100%;margin-bottom: 0;padding: 0.3em;box-sizing: border-box;text-align: center;}#sk-container-id-8 label.sk-toggleable__label-arrow:before {content: \"▸\";float: left;margin-right: 0.25em;color: #696969;}#sk-container-id-8 label.sk-toggleable__label-arrow:hover:before {color: black;}#sk-container-id-8 div.sk-estimator:hover label.sk-toggleable__label-arrow:before {color: black;}#sk-container-id-8 div.sk-toggleable__content {max-height: 0;max-width: 0;overflow: hidden;text-align: left;background-color: #f0f8ff;}#sk-container-id-8 div.sk-toggleable__content pre {margin: 0.2em;color: black;border-radius: 0.25em;background-color: #f0f8ff;}#sk-container-id-8 input.sk-toggleable__control:checked~div.sk-toggleable__content {max-height: 200px;max-width: 100%;overflow: auto;}#sk-container-id-8 input.sk-toggleable__control:checked~label.sk-toggleable__label-arrow:before {content: \"▾\";}#sk-container-id-8 div.sk-estimator input.sk-toggleable__control:checked~label.sk-toggleable__label {background-color: #d4ebff;}#sk-container-id-8 div.sk-label input.sk-toggleable__control:checked~label.sk-toggleable__label {background-color: #d4ebff;}#sk-container-id-8 input.sk-hidden--visually {border: 0;clip: rect(1px 1px 1px 1px);clip: rect(1px, 1px, 1px, 1px);height: 1px;margin: -1px;overflow: hidden;padding: 0;position: absolute;width: 1px;}#sk-container-id-8 div.sk-estimator {font-family: monospace;background-color: #f0f8ff;border: 1px dotted black;border-radius: 0.25em;box-sizing: border-box;margin-bottom: 0.5em;}#sk-container-id-8 div.sk-estimator:hover {background-color: #d4ebff;}#sk-container-id-8 div.sk-parallel-item::after {content: \"\";width: 100%;border-bottom: 1px solid gray;flex-grow: 1;}#sk-container-id-8 div.sk-label:hover label.sk-toggleable__label {background-color: #d4ebff;}#sk-container-id-8 div.sk-serial::before {content: \"\";position: absolute;border-left: 1px solid gray;box-sizing: border-box;top: 0;bottom: 0;left: 50%;z-index: 0;}#sk-container-id-8 div.sk-serial {display: flex;flex-direction: column;align-items: center;background-color: white;padding-right: 0.2em;padding-left: 0.2em;position: relative;}#sk-container-id-8 div.sk-item {position: relative;z-index: 1;}#sk-container-id-8 div.sk-parallel {display: flex;align-items: stretch;justify-content: center;background-color: white;position: relative;}#sk-container-id-8 div.sk-item::before, #sk-container-id-8 div.sk-parallel-item::before {content: \"\";position: absolute;border-left: 1px solid gray;box-sizing: border-box;top: 0;bottom: 0;left: 50%;z-index: -1;}#sk-container-id-8 div.sk-parallel-item {display: flex;flex-direction: column;z-index: 1;position: relative;background-color: white;}#sk-container-id-8 div.sk-parallel-item:first-child::after {align-self: flex-end;width: 50%;}#sk-container-id-8 div.sk-parallel-item:last-child::after {align-self: flex-start;width: 50%;}#sk-container-id-8 div.sk-parallel-item:only-child::after {width: 0;}#sk-container-id-8 div.sk-dashed-wrapped {border: 1px dashed gray;margin: 0 0.4em 0.5em 0.4em;box-sizing: border-box;padding-bottom: 0.4em;background-color: white;}#sk-container-id-8 div.sk-label label {font-family: monospace;font-weight: bold;display: inline-block;line-height: 1.2em;}#sk-container-id-8 div.sk-label-container {text-align: center;}#sk-container-id-8 div.sk-container {/* jupyter's `normalize.less` sets `[hidden] { display: none; }` but bootstrap.min.css set `[hidden] { display: none !important; }` so we also need the `!important` here to be able to override the default hidden behavior on the sphinx rendered scikit-learn.org. See: https://github.com/scikit-learn/scikit-learn/issues/21755 */display: inline-block !important;position: relative;}#sk-container-id-8 div.sk-text-repr-fallback {display: none;}</style><div id=\"sk-container-id-8\" class=\"sk-top-container\"><div class=\"sk-text-repr-fallback\"><pre>GridSearchCV(cv=3, estimator=SVC(), n_jobs=-1,\n             param_grid={&#x27;C&#x27;: array([2, 3, 4, 5, 6])}, scoring=&#x27;roc_auc&#x27;,\n             verbose=True)</pre><b>In a Jupyter environment, please rerun this cell to show the HTML representation or trust the notebook. <br />On GitHub, the HTML representation is unable to render, please try loading this page with nbviewer.org.</b></div><div class=\"sk-container\" hidden><div class=\"sk-item sk-dashed-wrapped\"><div class=\"sk-label-container\"><div class=\"sk-label sk-toggleable\"><input class=\"sk-toggleable__control sk-hidden--visually\" id=\"sk-estimator-id-20\" type=\"checkbox\" ><label for=\"sk-estimator-id-20\" class=\"sk-toggleable__label sk-toggleable__label-arrow\">GridSearchCV</label><div class=\"sk-toggleable__content\"><pre>GridSearchCV(cv=3, estimator=SVC(), n_jobs=-1,\n             param_grid={&#x27;C&#x27;: array([2, 3, 4, 5, 6])}, scoring=&#x27;roc_auc&#x27;,\n             verbose=True)</pre></div></div></div><div class=\"sk-parallel\"><div class=\"sk-parallel-item\"><div class=\"sk-item\"><div class=\"sk-label-container\"><div class=\"sk-label sk-toggleable\"><input class=\"sk-toggleable__control sk-hidden--visually\" id=\"sk-estimator-id-21\" type=\"checkbox\" ><label for=\"sk-estimator-id-21\" class=\"sk-toggleable__label sk-toggleable__label-arrow\">estimator: SVC</label><div class=\"sk-toggleable__content\"><pre>SVC()</pre></div></div></div><div class=\"sk-serial\"><div class=\"sk-item\"><div class=\"sk-estimator sk-toggleable\"><input class=\"sk-toggleable__control sk-hidden--visually\" id=\"sk-estimator-id-22\" type=\"checkbox\" ><label for=\"sk-estimator-id-22\" class=\"sk-toggleable__label sk-toggleable__label-arrow\">SVC</label><div class=\"sk-toggleable__content\"><pre>SVC()</pre></div></div></div></div></div></div></div></div></div></div>"
     },
     "execution_count": 34,
     "metadata": {},
     "output_type": "execute_result"
    }
   ],
   "source": [
    "# уточняем диапазон вокруг четвёрки\n",
    "C = np.arange(2, 7, 1)\n",
    "params = {'C': C}\n",
    "modelSVM = SVC(kernel='rbf')\n",
    "gs_model_SVM = GridSearchCV(estimator=modelSVM, param_grid=params, cv=3, scoring='roc_auc', verbose=True, n_jobs=-1)\n",
    "gs_model_SVM.fit(X_train, y_train)"
   ],
   "metadata": {
    "collapsed": false,
    "ExecuteTime": {
     "end_time": "2023-12-22T06:55:39.920209800Z",
     "start_time": "2023-12-22T06:54:05.383862300Z"
    }
   }
  },
  {
   "cell_type": "code",
   "execution_count": 35,
   "outputs": [
    {
     "data": {
      "text/plain": "{'C': 3}"
     },
     "execution_count": 35,
     "metadata": {},
     "output_type": "execute_result"
    }
   ],
   "source": [
    "gs_model_SVM.best_params_"
   ],
   "metadata": {
    "collapsed": false,
    "ExecuteTime": {
     "end_time": "2023-12-22T06:56:40.620850600Z",
     "start_time": "2023-12-22T06:56:40.575192700Z"
    }
   }
  },
  {
   "cell_type": "code",
   "execution_count": 36,
   "outputs": [
    {
     "name": "stdout",
     "output_type": "stream",
     "text": [
      "Fitting 3 folds for each of 19 candidates, totalling 57 fits\n"
     ]
    },
    {
     "data": {
      "text/plain": "GridSearchCV(cv=3, estimator=SVC(), n_jobs=-1,\n             param_grid={'C': array([2.1, 2.2, 2.3, 2.4, 2.5, 2.6, 2.7, 2.8, 2.9, 3. , 3.1, 3.2, 3.3,\n       3.4, 3.5, 3.6, 3.7, 3.8, 3.9])},\n             scoring='roc_auc', verbose=True)",
      "text/html": "<style>#sk-container-id-9 {color: black;}#sk-container-id-9 pre{padding: 0;}#sk-container-id-9 div.sk-toggleable {background-color: white;}#sk-container-id-9 label.sk-toggleable__label {cursor: pointer;display: block;width: 100%;margin-bottom: 0;padding: 0.3em;box-sizing: border-box;text-align: center;}#sk-container-id-9 label.sk-toggleable__label-arrow:before {content: \"▸\";float: left;margin-right: 0.25em;color: #696969;}#sk-container-id-9 label.sk-toggleable__label-arrow:hover:before {color: black;}#sk-container-id-9 div.sk-estimator:hover label.sk-toggleable__label-arrow:before {color: black;}#sk-container-id-9 div.sk-toggleable__content {max-height: 0;max-width: 0;overflow: hidden;text-align: left;background-color: #f0f8ff;}#sk-container-id-9 div.sk-toggleable__content pre {margin: 0.2em;color: black;border-radius: 0.25em;background-color: #f0f8ff;}#sk-container-id-9 input.sk-toggleable__control:checked~div.sk-toggleable__content {max-height: 200px;max-width: 100%;overflow: auto;}#sk-container-id-9 input.sk-toggleable__control:checked~label.sk-toggleable__label-arrow:before {content: \"▾\";}#sk-container-id-9 div.sk-estimator input.sk-toggleable__control:checked~label.sk-toggleable__label {background-color: #d4ebff;}#sk-container-id-9 div.sk-label input.sk-toggleable__control:checked~label.sk-toggleable__label {background-color: #d4ebff;}#sk-container-id-9 input.sk-hidden--visually {border: 0;clip: rect(1px 1px 1px 1px);clip: rect(1px, 1px, 1px, 1px);height: 1px;margin: -1px;overflow: hidden;padding: 0;position: absolute;width: 1px;}#sk-container-id-9 div.sk-estimator {font-family: monospace;background-color: #f0f8ff;border: 1px dotted black;border-radius: 0.25em;box-sizing: border-box;margin-bottom: 0.5em;}#sk-container-id-9 div.sk-estimator:hover {background-color: #d4ebff;}#sk-container-id-9 div.sk-parallel-item::after {content: \"\";width: 100%;border-bottom: 1px solid gray;flex-grow: 1;}#sk-container-id-9 div.sk-label:hover label.sk-toggleable__label {background-color: #d4ebff;}#sk-container-id-9 div.sk-serial::before {content: \"\";position: absolute;border-left: 1px solid gray;box-sizing: border-box;top: 0;bottom: 0;left: 50%;z-index: 0;}#sk-container-id-9 div.sk-serial {display: flex;flex-direction: column;align-items: center;background-color: white;padding-right: 0.2em;padding-left: 0.2em;position: relative;}#sk-container-id-9 div.sk-item {position: relative;z-index: 1;}#sk-container-id-9 div.sk-parallel {display: flex;align-items: stretch;justify-content: center;background-color: white;position: relative;}#sk-container-id-9 div.sk-item::before, #sk-container-id-9 div.sk-parallel-item::before {content: \"\";position: absolute;border-left: 1px solid gray;box-sizing: border-box;top: 0;bottom: 0;left: 50%;z-index: -1;}#sk-container-id-9 div.sk-parallel-item {display: flex;flex-direction: column;z-index: 1;position: relative;background-color: white;}#sk-container-id-9 div.sk-parallel-item:first-child::after {align-self: flex-end;width: 50%;}#sk-container-id-9 div.sk-parallel-item:last-child::after {align-self: flex-start;width: 50%;}#sk-container-id-9 div.sk-parallel-item:only-child::after {width: 0;}#sk-container-id-9 div.sk-dashed-wrapped {border: 1px dashed gray;margin: 0 0.4em 0.5em 0.4em;box-sizing: border-box;padding-bottom: 0.4em;background-color: white;}#sk-container-id-9 div.sk-label label {font-family: monospace;font-weight: bold;display: inline-block;line-height: 1.2em;}#sk-container-id-9 div.sk-label-container {text-align: center;}#sk-container-id-9 div.sk-container {/* jupyter's `normalize.less` sets `[hidden] { display: none; }` but bootstrap.min.css set `[hidden] { display: none !important; }` so we also need the `!important` here to be able to override the default hidden behavior on the sphinx rendered scikit-learn.org. See: https://github.com/scikit-learn/scikit-learn/issues/21755 */display: inline-block !important;position: relative;}#sk-container-id-9 div.sk-text-repr-fallback {display: none;}</style><div id=\"sk-container-id-9\" class=\"sk-top-container\"><div class=\"sk-text-repr-fallback\"><pre>GridSearchCV(cv=3, estimator=SVC(), n_jobs=-1,\n             param_grid={&#x27;C&#x27;: array([2.1, 2.2, 2.3, 2.4, 2.5, 2.6, 2.7, 2.8, 2.9, 3. , 3.1, 3.2, 3.3,\n       3.4, 3.5, 3.6, 3.7, 3.8, 3.9])},\n             scoring=&#x27;roc_auc&#x27;, verbose=True)</pre><b>In a Jupyter environment, please rerun this cell to show the HTML representation or trust the notebook. <br />On GitHub, the HTML representation is unable to render, please try loading this page with nbviewer.org.</b></div><div class=\"sk-container\" hidden><div class=\"sk-item sk-dashed-wrapped\"><div class=\"sk-label-container\"><div class=\"sk-label sk-toggleable\"><input class=\"sk-toggleable__control sk-hidden--visually\" id=\"sk-estimator-id-23\" type=\"checkbox\" ><label for=\"sk-estimator-id-23\" class=\"sk-toggleable__label sk-toggleable__label-arrow\">GridSearchCV</label><div class=\"sk-toggleable__content\"><pre>GridSearchCV(cv=3, estimator=SVC(), n_jobs=-1,\n             param_grid={&#x27;C&#x27;: array([2.1, 2.2, 2.3, 2.4, 2.5, 2.6, 2.7, 2.8, 2.9, 3. , 3.1, 3.2, 3.3,\n       3.4, 3.5, 3.6, 3.7, 3.8, 3.9])},\n             scoring=&#x27;roc_auc&#x27;, verbose=True)</pre></div></div></div><div class=\"sk-parallel\"><div class=\"sk-parallel-item\"><div class=\"sk-item\"><div class=\"sk-label-container\"><div class=\"sk-label sk-toggleable\"><input class=\"sk-toggleable__control sk-hidden--visually\" id=\"sk-estimator-id-24\" type=\"checkbox\" ><label for=\"sk-estimator-id-24\" class=\"sk-toggleable__label sk-toggleable__label-arrow\">estimator: SVC</label><div class=\"sk-toggleable__content\"><pre>SVC()</pre></div></div></div><div class=\"sk-serial\"><div class=\"sk-item\"><div class=\"sk-estimator sk-toggleable\"><input class=\"sk-toggleable__control sk-hidden--visually\" id=\"sk-estimator-id-25\" type=\"checkbox\" ><label for=\"sk-estimator-id-25\" class=\"sk-toggleable__label sk-toggleable__label-arrow\">SVC</label><div class=\"sk-toggleable__content\"><pre>SVC()</pre></div></div></div></div></div></div></div></div></div></div>"
     },
     "execution_count": 36,
     "metadata": {},
     "output_type": "execute_result"
    }
   ],
   "source": [
    "# последняя итерация: настраиваем диапазон до десятых\n",
    "C = np.arange(2.1, 4, 0.1)\n",
    "params = {'C': C}\n",
    "modelSVM = SVC(kernel='rbf')\n",
    "gs_model_SVM = GridSearchCV(estimator=modelSVM, param_grid=params, cv=3, scoring='roc_auc', verbose=True, n_jobs=-1)\n",
    "gs_model_SVM.fit(X_train, y_train)"
   ],
   "metadata": {
    "collapsed": false,
    "ExecuteTime": {
     "end_time": "2023-12-22T07:02:15.230302500Z",
     "start_time": "2023-12-22T06:58:03.920202900Z"
    }
   }
  },
  {
   "cell_type": "code",
   "execution_count": 37,
   "outputs": [
    {
     "data": {
      "text/plain": "{'C': 3.300000000000001}"
     },
     "execution_count": 37,
     "metadata": {},
     "output_type": "execute_result"
    }
   ],
   "source": [
    "gs_model_SVM.best_params_"
   ],
   "metadata": {
    "collapsed": false,
    "ExecuteTime": {
     "end_time": "2023-12-22T07:02:51.079746400Z",
     "start_time": "2023-12-22T07:02:51.028150600Z"
    }
   }
  },
  {
   "cell_type": "markdown",
   "source": [
    "Итак, лучшая регуляризация для ядра С=3.3, лучшее ядро - rbf"
   ],
   "metadata": {
    "collapsed": false
   }
  },
  {
   "cell_type": "code",
   "execution_count": 40,
   "outputs": [
    {
     "data": {
      "text/plain": "SVC(C=3.3, probability=True)",
      "text/html": "<style>#sk-container-id-10 {color: black;}#sk-container-id-10 pre{padding: 0;}#sk-container-id-10 div.sk-toggleable {background-color: white;}#sk-container-id-10 label.sk-toggleable__label {cursor: pointer;display: block;width: 100%;margin-bottom: 0;padding: 0.3em;box-sizing: border-box;text-align: center;}#sk-container-id-10 label.sk-toggleable__label-arrow:before {content: \"▸\";float: left;margin-right: 0.25em;color: #696969;}#sk-container-id-10 label.sk-toggleable__label-arrow:hover:before {color: black;}#sk-container-id-10 div.sk-estimator:hover label.sk-toggleable__label-arrow:before {color: black;}#sk-container-id-10 div.sk-toggleable__content {max-height: 0;max-width: 0;overflow: hidden;text-align: left;background-color: #f0f8ff;}#sk-container-id-10 div.sk-toggleable__content pre {margin: 0.2em;color: black;border-radius: 0.25em;background-color: #f0f8ff;}#sk-container-id-10 input.sk-toggleable__control:checked~div.sk-toggleable__content {max-height: 200px;max-width: 100%;overflow: auto;}#sk-container-id-10 input.sk-toggleable__control:checked~label.sk-toggleable__label-arrow:before {content: \"▾\";}#sk-container-id-10 div.sk-estimator input.sk-toggleable__control:checked~label.sk-toggleable__label {background-color: #d4ebff;}#sk-container-id-10 div.sk-label input.sk-toggleable__control:checked~label.sk-toggleable__label {background-color: #d4ebff;}#sk-container-id-10 input.sk-hidden--visually {border: 0;clip: rect(1px 1px 1px 1px);clip: rect(1px, 1px, 1px, 1px);height: 1px;margin: -1px;overflow: hidden;padding: 0;position: absolute;width: 1px;}#sk-container-id-10 div.sk-estimator {font-family: monospace;background-color: #f0f8ff;border: 1px dotted black;border-radius: 0.25em;box-sizing: border-box;margin-bottom: 0.5em;}#sk-container-id-10 div.sk-estimator:hover {background-color: #d4ebff;}#sk-container-id-10 div.sk-parallel-item::after {content: \"\";width: 100%;border-bottom: 1px solid gray;flex-grow: 1;}#sk-container-id-10 div.sk-label:hover label.sk-toggleable__label {background-color: #d4ebff;}#sk-container-id-10 div.sk-serial::before {content: \"\";position: absolute;border-left: 1px solid gray;box-sizing: border-box;top: 0;bottom: 0;left: 50%;z-index: 0;}#sk-container-id-10 div.sk-serial {display: flex;flex-direction: column;align-items: center;background-color: white;padding-right: 0.2em;padding-left: 0.2em;position: relative;}#sk-container-id-10 div.sk-item {position: relative;z-index: 1;}#sk-container-id-10 div.sk-parallel {display: flex;align-items: stretch;justify-content: center;background-color: white;position: relative;}#sk-container-id-10 div.sk-item::before, #sk-container-id-10 div.sk-parallel-item::before {content: \"\";position: absolute;border-left: 1px solid gray;box-sizing: border-box;top: 0;bottom: 0;left: 50%;z-index: -1;}#sk-container-id-10 div.sk-parallel-item {display: flex;flex-direction: column;z-index: 1;position: relative;background-color: white;}#sk-container-id-10 div.sk-parallel-item:first-child::after {align-self: flex-end;width: 50%;}#sk-container-id-10 div.sk-parallel-item:last-child::after {align-self: flex-start;width: 50%;}#sk-container-id-10 div.sk-parallel-item:only-child::after {width: 0;}#sk-container-id-10 div.sk-dashed-wrapped {border: 1px dashed gray;margin: 0 0.4em 0.5em 0.4em;box-sizing: border-box;padding-bottom: 0.4em;background-color: white;}#sk-container-id-10 div.sk-label label {font-family: monospace;font-weight: bold;display: inline-block;line-height: 1.2em;}#sk-container-id-10 div.sk-label-container {text-align: center;}#sk-container-id-10 div.sk-container {/* jupyter's `normalize.less` sets `[hidden] { display: none; }` but bootstrap.min.css set `[hidden] { display: none !important; }` so we also need the `!important` here to be able to override the default hidden behavior on the sphinx rendered scikit-learn.org. See: https://github.com/scikit-learn/scikit-learn/issues/21755 */display: inline-block !important;position: relative;}#sk-container-id-10 div.sk-text-repr-fallback {display: none;}</style><div id=\"sk-container-id-10\" class=\"sk-top-container\"><div class=\"sk-text-repr-fallback\"><pre>SVC(C=3.3, probability=True)</pre><b>In a Jupyter environment, please rerun this cell to show the HTML representation or trust the notebook. <br />On GitHub, the HTML representation is unable to render, please try loading this page with nbviewer.org.</b></div><div class=\"sk-container\" hidden><div class=\"sk-item\"><div class=\"sk-estimator sk-toggleable\"><input class=\"sk-toggleable__control sk-hidden--visually\" id=\"sk-estimator-id-26\" type=\"checkbox\" checked><label for=\"sk-estimator-id-26\" class=\"sk-toggleable__label sk-toggleable__label-arrow\">SVC</label><div class=\"sk-toggleable__content\"><pre>SVC(C=3.3, probability=True)</pre></div></div></div></div></div>"
     },
     "execution_count": 40,
     "metadata": {},
     "output_type": "execute_result"
    }
   ],
   "source": [
    "modelSVM = SVC(kernel='rbf', probability=True, C=3.3)\n",
    "modelSVM.fit(X_train, y_train)"
   ],
   "metadata": {
    "collapsed": false,
    "ExecuteTime": {
     "end_time": "2023-12-22T07:10:39.454159900Z",
     "start_time": "2023-12-22T07:09:51.373429600Z"
    }
   }
  },
  {
   "cell_type": "code",
   "execution_count": 43,
   "outputs": [],
   "source": [
    "y_pred = modelSVM.predict_proba(X_test)[:,1]"
   ],
   "metadata": {
    "collapsed": false,
    "ExecuteTime": {
     "end_time": "2023-12-22T07:11:31.731779900Z",
     "start_time": "2023-12-22T07:11:29.136112100Z"
    }
   }
  },
  {
   "cell_type": "code",
   "execution_count": 44,
   "outputs": [
    {
     "data": {
      "text/plain": "0.5409119095043031"
     },
     "execution_count": 44,
     "metadata": {},
     "output_type": "execute_result"
    }
   ],
   "source": [
    "roc_auc_score(y_test, y_pred)"
   ],
   "metadata": {
    "collapsed": false,
    "ExecuteTime": {
     "end_time": "2023-12-22T07:11:34.629417400Z",
     "start_time": "2023-12-22T07:11:34.615451600Z"
    }
   }
  },
  {
   "cell_type": "markdown",
   "source": [
    "Итоговый показатель roc-auc метода опорным векторов на лучших параметрах даёт худший roc-auc по сравнению с линейной регрессией. Для приложения будем использовать её"
   ],
   "metadata": {
    "collapsed": false
   }
  },
  {
   "cell_type": "markdown",
   "source": [
    "## Задание 2\n",
    "\n",
    "Добавьте в Streamlit-приложение визуализацию результатов модели:\n",
    "\n",
    "* опцию выбора порога и вывод метрик качества в зависимости от выбранного порога\n",
    "\n",
    "* вывод прогноза модели на выбранном объекте (клиенте) - вероятность отклика на рекламу."
   ],
   "metadata": {
    "id": "E6zYvAVE1Qfd"
   }
  },
  {
   "cell_type": "markdown",
   "source": [
    "## Сборка необходимых функций для Strimlit "
   ],
   "metadata": {
    "collapsed": false
   }
  },
  {
   "cell_type": "code",
   "execution_count": 82,
   "outputs": [],
   "source": [
    "def get_metrics_score(y_test, y_pred)->dict:\n",
    "    accuracy = accuracy_score(y_test, y_pred)\n",
    "    precision = precision_score(y_test, y_pred)\n",
    "    recall = recall_score(y_test, y_pred)\n",
    "    f1 = f1_score(y_test, y_pred)\n",
    "    return {'accuracy': accuracy, 'precision': precision, 'recall': recall, 'f1': f1}"
   ],
   "metadata": {
    "collapsed": false,
    "ExecuteTime": {
     "end_time": "2023-12-22T08:36:02.811157300Z",
     "start_time": "2023-12-22T08:36:02.785863400Z"
    }
   }
  },
  {
   "cell_type": "code",
   "execution_count": 71,
   "outputs": [
    {
     "data": {
      "text/plain": "{'accuracy': 0.8661133164922411,\n 'precision': 0.14814814814814814,\n 'recall': 0.011363636363636364,\n 'f1': 0.02110817941952507}"
     },
     "execution_count": 71,
     "metadata": {},
     "output_type": "execute_result"
    }
   ],
   "source": [
    "# прогнозы для лучшей модели SVC c подобранным порогом\n",
    "y_pred = modelSVM.predict(X_test)\n",
    "get_metrics_score(y_test=y_test, y_pred=y_pred)"
   ],
   "metadata": {
    "collapsed": false,
    "ExecuteTime": {
     "end_time": "2023-12-22T08:14:36.999270300Z",
     "start_time": "2023-12-22T08:14:36.982023800Z"
    }
   }
  },
  {
   "cell_type": "code",
   "execution_count": 81,
   "outputs": [
    {
     "data": {
      "text/plain": "{'accuracy': 0.8715265247203176,\n 'precision': 0.16666666666666666,\n 'recall': 0.002840909090909091,\n 'f1': 0.00558659217877095}"
     },
     "execution_count": 81,
     "metadata": {},
     "output_type": "execute_result"
    }
   ],
   "source": [
    "# прогнозы для логистической регрессии с подобранным порогом\n",
    "y_pred = modelLR.predict(X_test)\n",
    "get_metrics_score(y_test=y_test, y_pred=y_pred)"
   ],
   "metadata": {
    "collapsed": false,
    "ExecuteTime": {
     "end_time": "2023-12-22T08:29:59.876668Z",
     "start_time": "2023-12-22T08:29:59.824517100Z"
    }
   }
  },
  {
   "cell_type": "code",
   "execution_count": 97,
   "outputs": [],
   "source": [
    "def get_metrics_score_thr(y_test, pred_probability, threshold: float)-> dict:\n",
    "    y_thr = pred_probability > threshold\n",
    "    return get_metrics_score(y_test, y_thr)    "
   ],
   "metadata": {
    "collapsed": false,
    "ExecuteTime": {
     "end_time": "2023-12-22T11:58:38.344432300Z",
     "start_time": "2023-12-22T11:58:38.306533300Z"
    }
   }
  },
  {
   "cell_type": "code",
   "execution_count": 207,
   "outputs": [
    {
     "data": {
      "text/plain": "2771"
     },
     "execution_count": 207,
     "metadata": {},
     "output_type": "execute_result"
    }
   ],
   "source": [
    "preds = pd.read_csv('PredictionsChurn.csv')\n",
    "len(preds)"
   ],
   "metadata": {
    "collapsed": false,
    "ExecuteTime": {
     "end_time": "2023-12-22T15:46:53.219436400Z",
     "start_time": "2023-12-22T15:46:52.728476300Z"
    }
   }
  },
  {
   "cell_type": "code",
   "execution_count": null,
   "outputs": [],
   "source": [],
   "metadata": {
    "collapsed": false
   }
  },
  {
   "cell_type": "code",
   "execution_count": 208,
   "outputs": [
    {
     "data": {
      "text/plain": "13855"
     },
     "execution_count": 208,
     "metadata": {},
     "output_type": "execute_result"
    }
   ],
   "source": [
    "preds = pd.read_csv('Predictions_regular.csv')\n",
    "len(preds)"
   ],
   "metadata": {
    "collapsed": false,
    "ExecuteTime": {
     "end_time": "2023-12-22T15:47:15.791601300Z",
     "start_time": "2023-12-22T15:47:15.697935800Z"
    }
   }
  },
  {
   "cell_type": "code",
   "execution_count": 99,
   "outputs": [
    {
     "data": {
      "text/plain": "{'accuracy': 0.6282930350054132,\n 'precision': 0.1526639344262295,\n 'recall': 0.42329545454545453,\n 'f1': 0.22439759036144577}"
     },
     "execution_count": 99,
     "metadata": {},
     "output_type": "execute_result"
    }
   ],
   "source": [
    "get_metrics_score_thr(y_test, preds, 0.1)"
   ],
   "metadata": {
    "collapsed": false,
    "ExecuteTime": {
     "end_time": "2023-12-22T11:59:33.213761900Z",
     "start_time": "2023-12-22T11:59:33.153495200Z"
    }
   }
  },
  {
   "cell_type": "code",
   "execution_count": 145,
   "outputs": [
    {
     "data": {
      "text/plain": "AGE                                                 28\nGENDER                                               1\nEDUCATION                          Среднее специальное\nMARITAL_STATUS                          Состою в браке\nCHILD_TOTAL                                          1\nDEPENDANTS                                           1\nSOCSTATUS_WORK_FL                                    1\nSOCSTATUS_PENS_FL                                    0\nFACT_ADDRESS_PROVINCE                Читинская область\nFL_PRESENCE_FL                                       0\nOWN_AUTO                                             0\nCREDIT                                         19498.0\nTERM                                              12.0\nFST_PAYMENT                                        0.0\nGEN_INDUSTRY                                  Торговля\nGEN_TITLE                                   Специалист\nJOB_DIR                  Участие в основ. деятельности\nWORK_TIME                                          5.0\nFAMILY_INCOME                   от 10000 до 20000 руб.\nPERSONAL_INCOME                                10000.0\nName: 106809308, dtype: object"
     },
     "execution_count": 145,
     "metadata": {},
     "output_type": "execute_result"
    }
   ],
   "source": [
    "X.loc[106809308]"
   ],
   "metadata": {
    "collapsed": false,
    "ExecuteTime": {
     "end_time": "2023-12-22T13:09:16.186252Z",
     "start_time": "2023-12-22T13:09:16.134330200Z"
    }
   }
  },
  {
   "cell_type": "code",
   "execution_count": 95,
   "outputs": [
    {
     "data": {
      "text/plain": "           AGE  GENDER            EDUCATION  MARITAL_STATUS  CHILD_TOTAL  \\\nID                                                                         \n106807684   38       1  Среднее специальное  Состою в браке            2   \n\n           DEPENDANTS  SOCSTATUS_WORK_FL  SOCSTATUS_PENS_FL  \\\nID                                                            \n106807684           2                  1                  0   \n\n          FACT_ADDRESS_PROVINCE  FL_PRESENCE_FL  OWN_AUTO  CREDIT  TERM  \\\nID                                                                        \n106807684        Алтайский край               0         0  7092.0   5.0   \n\n           FST_PAYMENT GEN_INDUSTRY   GEN_TITLE  \\\nID                                                \n106807684        788.0        Наука  Специалист   \n\n                                 JOB_DIR  WORK_TIME           FAMILY_INCOME  \\\nID                                                                            \n106807684  Участие в основ. деятельности       18.0  от 10000 до 20000 руб.   \n\n           PERSONAL_INCOME  \nID                          \n106807684           9000.0  ",
      "text/html": "<div>\n<style scoped>\n    .dataframe tbody tr th:only-of-type {\n        vertical-align: middle;\n    }\n\n    .dataframe tbody tr th {\n        vertical-align: top;\n    }\n\n    .dataframe thead th {\n        text-align: right;\n    }\n</style>\n<table border=\"1\" class=\"dataframe\">\n  <thead>\n    <tr style=\"text-align: right;\">\n      <th></th>\n      <th>AGE</th>\n      <th>GENDER</th>\n      <th>EDUCATION</th>\n      <th>MARITAL_STATUS</th>\n      <th>CHILD_TOTAL</th>\n      <th>DEPENDANTS</th>\n      <th>SOCSTATUS_WORK_FL</th>\n      <th>SOCSTATUS_PENS_FL</th>\n      <th>FACT_ADDRESS_PROVINCE</th>\n      <th>FL_PRESENCE_FL</th>\n      <th>OWN_AUTO</th>\n      <th>CREDIT</th>\n      <th>TERM</th>\n      <th>FST_PAYMENT</th>\n      <th>GEN_INDUSTRY</th>\n      <th>GEN_TITLE</th>\n      <th>JOB_DIR</th>\n      <th>WORK_TIME</th>\n      <th>FAMILY_INCOME</th>\n      <th>PERSONAL_INCOME</th>\n    </tr>\n    <tr>\n      <th>ID</th>\n      <th></th>\n      <th></th>\n      <th></th>\n      <th></th>\n      <th></th>\n      <th></th>\n      <th></th>\n      <th></th>\n      <th></th>\n      <th></th>\n      <th></th>\n      <th></th>\n      <th></th>\n      <th></th>\n      <th></th>\n      <th></th>\n      <th></th>\n      <th></th>\n      <th></th>\n      <th></th>\n    </tr>\n  </thead>\n  <tbody>\n    <tr>\n      <th>106807684</th>\n      <td>38</td>\n      <td>1</td>\n      <td>Среднее специальное</td>\n      <td>Состою в браке</td>\n      <td>2</td>\n      <td>2</td>\n      <td>1</td>\n      <td>0</td>\n      <td>Алтайский край</td>\n      <td>0</td>\n      <td>0</td>\n      <td>7092.0</td>\n      <td>5.0</td>\n      <td>788.0</td>\n      <td>Наука</td>\n      <td>Специалист</td>\n      <td>Участие в основ. деятельности</td>\n      <td>18.0</td>\n      <td>от 10000 до 20000 руб.</td>\n      <td>9000.0</td>\n    </tr>\n  </tbody>\n</table>\n</div>"
     },
     "execution_count": 95,
     "metadata": {},
     "output_type": "execute_result"
    }
   ],
   "source": [
    "X.sample()"
   ],
   "metadata": {
    "collapsed": false,
    "ExecuteTime": {
     "end_time": "2023-12-22T10:00:18.261624400Z",
     "start_time": "2023-12-22T10:00:18.230018600Z"
    }
   }
  },
  {
   "cell_type": "code",
   "execution_count": 143,
   "outputs": [
    {
     "data": {
      "text/plain": "EDUCATION                          Среднее специальное\nMARITAL_STATUS                          Состою в браке\nFACT_ADDRESS_PROVINCE              Кемеровская область\nGEN_INDUSTRY                                  Торговля\nGEN_TITLE                                   Специалист\nJOB_DIR                  Участие в основ. деятельности\nFAMILY_INCOME                   от 10000 до 20000 руб.\nName: top, dtype: object"
     },
     "execution_count": 143,
     "metadata": {},
     "output_type": "execute_result"
    }
   ],
   "source": [
    "X.describe(include='object').loc['top']"
   ],
   "metadata": {
    "collapsed": false,
    "ExecuteTime": {
     "end_time": "2023-12-22T13:02:59.542394100Z",
     "start_time": "2023-12-22T13:02:59.426210600Z"
    }
   }
  },
  {
   "cell_type": "code",
   "execution_count": 144,
   "outputs": [
    {
     "data": {
      "text/plain": "AGE                     38.760159\nGENDER                   0.639336\nCHILD_TOTAL              1.086611\nDEPENDANTS               0.696355\nSOCSTATUS_WORK_FL        0.999350\nSOCSTATUS_PENS_FL        0.049080\nFL_PRESENCE_FL           0.308986\nOWN_AUTO                 0.123782\nCREDIT               14934.855620\nTERM                     8.144497\nFST_PAYMENT           3474.026995\nWORK_TIME              292.211981\nPERSONAL_INCOME      14413.438987\nName: mean, dtype: float64"
     },
     "execution_count": 144,
     "metadata": {},
     "output_type": "execute_result"
    }
   ],
   "source": [
    "X.describe().loc['mean']"
   ],
   "metadata": {
    "collapsed": false,
    "ExecuteTime": {
     "end_time": "2023-12-22T13:03:18.126173Z",
     "start_time": "2023-12-22T13:03:18.050694500Z"
    }
   }
  },
  {
   "cell_type": "code",
   "execution_count": 157,
   "outputs": [
    {
     "data": {
      "text/plain": "106818876"
     },
     "execution_count": 157,
     "metadata": {},
     "output_type": "execute_result"
    }
   ],
   "source": [
    "\n"
   ],
   "metadata": {
    "collapsed": false,
    "ExecuteTime": {
     "end_time": "2023-12-22T13:12:07.866826600Z",
     "start_time": "2023-12-22T13:12:07.835812900Z"
    }
   }
  },
  {
   "cell_type": "markdown",
   "source": [
    "Единичный прогноз"
   ],
   "metadata": {
    "collapsed": false
   }
  },
  {
   "cell_type": "code",
   "execution_count": 158,
   "outputs": [],
   "source": [
    "from random import choice\n",
    "def get_single_pred(needed_index: bool = True, model_type:str = 'regular') -> float:\n",
    "    # X = df.drop(columns = ['TARGET', 'AGREEMENT_RK']).reset_index(drop=True).set_index('ID')\n",
    "    index = choice(X.index.tolist()) if needed_index else 0\n",
    "    df = pd.DataFrame(ohe_enc.transform(X.loc[index].to_frame().T))\n",
    "    df = pd.DataFrame(scaler.transform(df), columns =df.columns, index=df.index)\n",
    "    model = model_regular if model_type == 'regular' else model_tuned\n",
    "    single_pred_positive = model.predict_proba(df)[:,1][0] \n",
    "    return single_pred_positive"
   ],
   "metadata": {
    "collapsed": false,
    "ExecuteTime": {
     "end_time": "2023-12-22T13:14:51.980313700Z",
     "start_time": "2023-12-22T13:14:51.950224800Z"
    }
   }
  },
  {
   "cell_type": "code",
   "execution_count": 128,
   "outputs": [
    {
     "data": {
      "text/plain": "                AGE    GENDER  EDUCATION_1  EDUCATION_2  EDUCATION_3  \\\n106805103  0.297179  0.754228     -0.86343    -0.529482     1.535503   \n\n           EDUCATION_4  EDUCATION_5  EDUCATION_6  EDUCATION_7  \\\n106805103    -0.199436    -0.128482    -0.039193    -0.009499   \n\n           MARITAL_STATUS_1  ...  JOB_DIR_8  JOB_DIR_9  JOB_DIR_10  WORK_TIME  \\\n106805103         -1.287894  ...  -0.186871  -0.075001   -0.026875  -0.012519   \n\n           FAMILY_INCOME_1  FAMILY_INCOME_2  FAMILY_INCOME_3  FAMILY_INCOME_4  \\\n106805103         -0.91917           1.1646        -0.189185        -0.296558   \n\n           FAMILY_INCOME_5  PERSONAL_INCOME  \n106805103        -0.047546         1.184718  \n\n[1 rows x 164 columns]",
      "text/html": "<div>\n<style scoped>\n    .dataframe tbody tr th:only-of-type {\n        vertical-align: middle;\n    }\n\n    .dataframe tbody tr th {\n        vertical-align: top;\n    }\n\n    .dataframe thead th {\n        text-align: right;\n    }\n</style>\n<table border=\"1\" class=\"dataframe\">\n  <thead>\n    <tr style=\"text-align: right;\">\n      <th></th>\n      <th>AGE</th>\n      <th>GENDER</th>\n      <th>EDUCATION_1</th>\n      <th>EDUCATION_2</th>\n      <th>EDUCATION_3</th>\n      <th>EDUCATION_4</th>\n      <th>EDUCATION_5</th>\n      <th>EDUCATION_6</th>\n      <th>EDUCATION_7</th>\n      <th>MARITAL_STATUS_1</th>\n      <th>...</th>\n      <th>JOB_DIR_8</th>\n      <th>JOB_DIR_9</th>\n      <th>JOB_DIR_10</th>\n      <th>WORK_TIME</th>\n      <th>FAMILY_INCOME_1</th>\n      <th>FAMILY_INCOME_2</th>\n      <th>FAMILY_INCOME_3</th>\n      <th>FAMILY_INCOME_4</th>\n      <th>FAMILY_INCOME_5</th>\n      <th>PERSONAL_INCOME</th>\n    </tr>\n  </thead>\n  <tbody>\n    <tr>\n      <th>106805103</th>\n      <td>0.297179</td>\n      <td>0.754228</td>\n      <td>-0.86343</td>\n      <td>-0.529482</td>\n      <td>1.535503</td>\n      <td>-0.199436</td>\n      <td>-0.128482</td>\n      <td>-0.039193</td>\n      <td>-0.009499</td>\n      <td>-1.287894</td>\n      <td>...</td>\n      <td>-0.186871</td>\n      <td>-0.075001</td>\n      <td>-0.026875</td>\n      <td>-0.012519</td>\n      <td>-0.91917</td>\n      <td>1.1646</td>\n      <td>-0.189185</td>\n      <td>-0.296558</td>\n      <td>-0.047546</td>\n      <td>1.184718</td>\n    </tr>\n  </tbody>\n</table>\n<p>1 rows × 164 columns</p>\n</div>"
     },
     "execution_count": 128,
     "metadata": {},
     "output_type": "execute_result"
    }
   ],
   "source": [
    "get_single_pred(0)"
   ],
   "metadata": {
    "collapsed": false,
    "ExecuteTime": {
     "end_time": "2023-12-22T12:33:07.668495700Z",
     "start_time": "2023-12-22T12:33:07.629395Z"
    }
   }
  },
  {
   "cell_type": "code",
   "execution_count": 126,
   "outputs": [
    {
     "data": {
      "text/plain": "                AGE    GENDER  EDUCATION_1  EDUCATION_2  EDUCATION_3  \\\n106805103  0.297179  0.754228     -0.86343    -0.529482     1.535503   \n\n           EDUCATION_4  EDUCATION_5  EDUCATION_6  EDUCATION_7  \\\n106805103    -0.199436    -0.128482    -0.039193    -0.009499   \n\n           MARITAL_STATUS_1  ...  JOB_DIR_8  JOB_DIR_9  JOB_DIR_10  WORK_TIME  \\\n106805103         -1.287894  ...  -0.186871  -0.075001   -0.026875  -0.012519   \n\n           FAMILY_INCOME_1  FAMILY_INCOME_2  FAMILY_INCOME_3  FAMILY_INCOME_4  \\\n106805103         -0.91917           1.1646        -0.189185        -0.296558   \n\n           FAMILY_INCOME_5  PERSONAL_INCOME  \n106805103        -0.047546         1.184718  \n\n[1 rows x 164 columns]",
      "text/html": "<div>\n<style scoped>\n    .dataframe tbody tr th:only-of-type {\n        vertical-align: middle;\n    }\n\n    .dataframe tbody tr th {\n        vertical-align: top;\n    }\n\n    .dataframe thead th {\n        text-align: right;\n    }\n</style>\n<table border=\"1\" class=\"dataframe\">\n  <thead>\n    <tr style=\"text-align: right;\">\n      <th></th>\n      <th>AGE</th>\n      <th>GENDER</th>\n      <th>EDUCATION_1</th>\n      <th>EDUCATION_2</th>\n      <th>EDUCATION_3</th>\n      <th>EDUCATION_4</th>\n      <th>EDUCATION_5</th>\n      <th>EDUCATION_6</th>\n      <th>EDUCATION_7</th>\n      <th>MARITAL_STATUS_1</th>\n      <th>...</th>\n      <th>JOB_DIR_8</th>\n      <th>JOB_DIR_9</th>\n      <th>JOB_DIR_10</th>\n      <th>WORK_TIME</th>\n      <th>FAMILY_INCOME_1</th>\n      <th>FAMILY_INCOME_2</th>\n      <th>FAMILY_INCOME_3</th>\n      <th>FAMILY_INCOME_4</th>\n      <th>FAMILY_INCOME_5</th>\n      <th>PERSONAL_INCOME</th>\n    </tr>\n  </thead>\n  <tbody>\n    <tr>\n      <th>106805103</th>\n      <td>0.297179</td>\n      <td>0.754228</td>\n      <td>-0.86343</td>\n      <td>-0.529482</td>\n      <td>1.535503</td>\n      <td>-0.199436</td>\n      <td>-0.128482</td>\n      <td>-0.039193</td>\n      <td>-0.009499</td>\n      <td>-1.287894</td>\n      <td>...</td>\n      <td>-0.186871</td>\n      <td>-0.075001</td>\n      <td>-0.026875</td>\n      <td>-0.012519</td>\n      <td>-0.91917</td>\n      <td>1.1646</td>\n      <td>-0.189185</td>\n      <td>-0.296558</td>\n      <td>-0.047546</td>\n      <td>1.184718</td>\n    </tr>\n  </tbody>\n</table>\n<p>1 rows × 164 columns</p>\n</div>"
     },
     "execution_count": 126,
     "metadata": {},
     "output_type": "execute_result"
    }
   ],
   "source": [
    "final_df"
   ],
   "metadata": {
    "collapsed": false
   }
  },
  {
   "cell_type": "code",
   "execution_count": 133,
   "outputs": [
    {
     "data": {
      "text/plain": "0.1860422704584153"
     },
     "execution_count": 133,
     "metadata": {},
     "output_type": "execute_result"
    }
   ],
   "source": [
    "modelLR.predict_proba(final_df)[:,1][0]"
   ],
   "metadata": {
    "collapsed": false,
    "ExecuteTime": {
     "end_time": "2023-12-22T12:39:53.387727400Z",
     "start_time": "2023-12-22T12:39:53.354730Z"
    }
   }
  },
  {
   "cell_type": "code",
   "execution_count": 135,
   "outputs": [
    {
     "data": {
      "text/plain": "0.14715016836804687"
     },
     "execution_count": 135,
     "metadata": {},
     "output_type": "execute_result"
    }
   ],
   "source": [
    "modelSVM.predict_proba(final_df)[:,1][0]"
   ],
   "metadata": {
    "collapsed": false,
    "ExecuteTime": {
     "end_time": "2023-12-22T12:45:13.905023800Z",
     "start_time": "2023-12-22T12:45:13.800088100Z"
    }
   }
  },
  {
   "cell_type": "code",
   "execution_count": 195,
   "outputs": [],
   "source": [
    "with open('model_regular.pickle', 'rb') as f:\n",
    "    model_regular = pickle.load(f)"
   ],
   "metadata": {
    "collapsed": false,
    "ExecuteTime": {
     "end_time": "2023-12-22T15:14:50.112336700Z",
     "start_time": "2023-12-22T15:14:49.760944100Z"
    }
   }
  },
  {
   "cell_type": "code",
   "execution_count": 196,
   "outputs": [
    {
     "data": {
      "text/plain": "Pipeline(steps=[('encoder',\n                 ColumnTransformer(transformers=[('standardscaler',\n                                                  StandardScaler(),\n                                                  Index(['AGE', 'GENDER', 'CHILD_TOTAL', 'DEPENDANTS', 'SOCSTATUS_WORK_FL',\n       'SOCSTATUS_PENS_FL', 'FL_PRESENCE_FL', 'OWN_AUTO', 'CREDIT', 'TERM',\n       'FST_PAYMENT', 'WORK_TIME', 'PERSONAL_INCOME'],\n      dtype='object')),\n                                                 ('onehotencoder',\n                                                  OneHotEncoder(),\n                                                  Index(['EDUCATION', 'MARITAL_STATUS', 'FACT_ADDRESS_PROVINCE', 'GEN_INDUSTRY',\n       'GEN_TITLE', 'JOB_DIR', 'FAMILY_INCOME'],\n      dtype='object'))])),\n                ('features', PolynomialFeatures()),\n                ('model', LogisticRegression(max_iter=1000))])",
      "text/html": "<style>#sk-container-id-12 {color: black;}#sk-container-id-12 pre{padding: 0;}#sk-container-id-12 div.sk-toggleable {background-color: white;}#sk-container-id-12 label.sk-toggleable__label {cursor: pointer;display: block;width: 100%;margin-bottom: 0;padding: 0.3em;box-sizing: border-box;text-align: center;}#sk-container-id-12 label.sk-toggleable__label-arrow:before {content: \"▸\";float: left;margin-right: 0.25em;color: #696969;}#sk-container-id-12 label.sk-toggleable__label-arrow:hover:before {color: black;}#sk-container-id-12 div.sk-estimator:hover label.sk-toggleable__label-arrow:before {color: black;}#sk-container-id-12 div.sk-toggleable__content {max-height: 0;max-width: 0;overflow: hidden;text-align: left;background-color: #f0f8ff;}#sk-container-id-12 div.sk-toggleable__content pre {margin: 0.2em;color: black;border-radius: 0.25em;background-color: #f0f8ff;}#sk-container-id-12 input.sk-toggleable__control:checked~div.sk-toggleable__content {max-height: 200px;max-width: 100%;overflow: auto;}#sk-container-id-12 input.sk-toggleable__control:checked~label.sk-toggleable__label-arrow:before {content: \"▾\";}#sk-container-id-12 div.sk-estimator input.sk-toggleable__control:checked~label.sk-toggleable__label {background-color: #d4ebff;}#sk-container-id-12 div.sk-label input.sk-toggleable__control:checked~label.sk-toggleable__label {background-color: #d4ebff;}#sk-container-id-12 input.sk-hidden--visually {border: 0;clip: rect(1px 1px 1px 1px);clip: rect(1px, 1px, 1px, 1px);height: 1px;margin: -1px;overflow: hidden;padding: 0;position: absolute;width: 1px;}#sk-container-id-12 div.sk-estimator {font-family: monospace;background-color: #f0f8ff;border: 1px dotted black;border-radius: 0.25em;box-sizing: border-box;margin-bottom: 0.5em;}#sk-container-id-12 div.sk-estimator:hover {background-color: #d4ebff;}#sk-container-id-12 div.sk-parallel-item::after {content: \"\";width: 100%;border-bottom: 1px solid gray;flex-grow: 1;}#sk-container-id-12 div.sk-label:hover label.sk-toggleable__label {background-color: #d4ebff;}#sk-container-id-12 div.sk-serial::before {content: \"\";position: absolute;border-left: 1px solid gray;box-sizing: border-box;top: 0;bottom: 0;left: 50%;z-index: 0;}#sk-container-id-12 div.sk-serial {display: flex;flex-direction: column;align-items: center;background-color: white;padding-right: 0.2em;padding-left: 0.2em;position: relative;}#sk-container-id-12 div.sk-item {position: relative;z-index: 1;}#sk-container-id-12 div.sk-parallel {display: flex;align-items: stretch;justify-content: center;background-color: white;position: relative;}#sk-container-id-12 div.sk-item::before, #sk-container-id-12 div.sk-parallel-item::before {content: \"\";position: absolute;border-left: 1px solid gray;box-sizing: border-box;top: 0;bottom: 0;left: 50%;z-index: -1;}#sk-container-id-12 div.sk-parallel-item {display: flex;flex-direction: column;z-index: 1;position: relative;background-color: white;}#sk-container-id-12 div.sk-parallel-item:first-child::after {align-self: flex-end;width: 50%;}#sk-container-id-12 div.sk-parallel-item:last-child::after {align-self: flex-start;width: 50%;}#sk-container-id-12 div.sk-parallel-item:only-child::after {width: 0;}#sk-container-id-12 div.sk-dashed-wrapped {border: 1px dashed gray;margin: 0 0.4em 0.5em 0.4em;box-sizing: border-box;padding-bottom: 0.4em;background-color: white;}#sk-container-id-12 div.sk-label label {font-family: monospace;font-weight: bold;display: inline-block;line-height: 1.2em;}#sk-container-id-12 div.sk-label-container {text-align: center;}#sk-container-id-12 div.sk-container {/* jupyter's `normalize.less` sets `[hidden] { display: none; }` but bootstrap.min.css set `[hidden] { display: none !important; }` so we also need the `!important` here to be able to override the default hidden behavior on the sphinx rendered scikit-learn.org. See: https://github.com/scikit-learn/scikit-learn/issues/21755 */display: inline-block !important;position: relative;}#sk-container-id-12 div.sk-text-repr-fallback {display: none;}</style><div id=\"sk-container-id-12\" class=\"sk-top-container\"><div class=\"sk-text-repr-fallback\"><pre>Pipeline(steps=[(&#x27;encoder&#x27;,\n                 ColumnTransformer(transformers=[(&#x27;standardscaler&#x27;,\n                                                  StandardScaler(),\n                                                  Index([&#x27;AGE&#x27;, &#x27;GENDER&#x27;, &#x27;CHILD_TOTAL&#x27;, &#x27;DEPENDANTS&#x27;, &#x27;SOCSTATUS_WORK_FL&#x27;,\n       &#x27;SOCSTATUS_PENS_FL&#x27;, &#x27;FL_PRESENCE_FL&#x27;, &#x27;OWN_AUTO&#x27;, &#x27;CREDIT&#x27;, &#x27;TERM&#x27;,\n       &#x27;FST_PAYMENT&#x27;, &#x27;WORK_TIME&#x27;, &#x27;PERSONAL_INCOME&#x27;],\n      dtype=&#x27;object&#x27;)),\n                                                 (&#x27;onehotencoder&#x27;,\n                                                  OneHotEncoder(),\n                                                  Index([&#x27;EDUCATION&#x27;, &#x27;MARITAL_STATUS&#x27;, &#x27;FACT_ADDRESS_PROVINCE&#x27;, &#x27;GEN_INDUSTRY&#x27;,\n       &#x27;GEN_TITLE&#x27;, &#x27;JOB_DIR&#x27;, &#x27;FAMILY_INCOME&#x27;],\n      dtype=&#x27;object&#x27;))])),\n                (&#x27;features&#x27;, PolynomialFeatures()),\n                (&#x27;model&#x27;, LogisticRegression(max_iter=1000))])</pre><b>In a Jupyter environment, please rerun this cell to show the HTML representation or trust the notebook. <br />On GitHub, the HTML representation is unable to render, please try loading this page with nbviewer.org.</b></div><div class=\"sk-container\" hidden><div class=\"sk-item sk-dashed-wrapped\"><div class=\"sk-label-container\"><div class=\"sk-label sk-toggleable\"><input class=\"sk-toggleable__control sk-hidden--visually\" id=\"sk-estimator-id-28\" type=\"checkbox\" ><label for=\"sk-estimator-id-28\" class=\"sk-toggleable__label sk-toggleable__label-arrow\">Pipeline</label><div class=\"sk-toggleable__content\"><pre>Pipeline(steps=[(&#x27;encoder&#x27;,\n                 ColumnTransformer(transformers=[(&#x27;standardscaler&#x27;,\n                                                  StandardScaler(),\n                                                  Index([&#x27;AGE&#x27;, &#x27;GENDER&#x27;, &#x27;CHILD_TOTAL&#x27;, &#x27;DEPENDANTS&#x27;, &#x27;SOCSTATUS_WORK_FL&#x27;,\n       &#x27;SOCSTATUS_PENS_FL&#x27;, &#x27;FL_PRESENCE_FL&#x27;, &#x27;OWN_AUTO&#x27;, &#x27;CREDIT&#x27;, &#x27;TERM&#x27;,\n       &#x27;FST_PAYMENT&#x27;, &#x27;WORK_TIME&#x27;, &#x27;PERSONAL_INCOME&#x27;],\n      dtype=&#x27;object&#x27;)),\n                                                 (&#x27;onehotencoder&#x27;,\n                                                  OneHotEncoder(),\n                                                  Index([&#x27;EDUCATION&#x27;, &#x27;MARITAL_STATUS&#x27;, &#x27;FACT_ADDRESS_PROVINCE&#x27;, &#x27;GEN_INDUSTRY&#x27;,\n       &#x27;GEN_TITLE&#x27;, &#x27;JOB_DIR&#x27;, &#x27;FAMILY_INCOME&#x27;],\n      dtype=&#x27;object&#x27;))])),\n                (&#x27;features&#x27;, PolynomialFeatures()),\n                (&#x27;model&#x27;, LogisticRegression(max_iter=1000))])</pre></div></div></div><div class=\"sk-serial\"><div class=\"sk-item sk-dashed-wrapped\"><div class=\"sk-label-container\"><div class=\"sk-label sk-toggleable\"><input class=\"sk-toggleable__control sk-hidden--visually\" id=\"sk-estimator-id-29\" type=\"checkbox\" ><label for=\"sk-estimator-id-29\" class=\"sk-toggleable__label sk-toggleable__label-arrow\">encoder: ColumnTransformer</label><div class=\"sk-toggleable__content\"><pre>ColumnTransformer(transformers=[(&#x27;standardscaler&#x27;, StandardScaler(),\n                                 Index([&#x27;AGE&#x27;, &#x27;GENDER&#x27;, &#x27;CHILD_TOTAL&#x27;, &#x27;DEPENDANTS&#x27;, &#x27;SOCSTATUS_WORK_FL&#x27;,\n       &#x27;SOCSTATUS_PENS_FL&#x27;, &#x27;FL_PRESENCE_FL&#x27;, &#x27;OWN_AUTO&#x27;, &#x27;CREDIT&#x27;, &#x27;TERM&#x27;,\n       &#x27;FST_PAYMENT&#x27;, &#x27;WORK_TIME&#x27;, &#x27;PERSONAL_INCOME&#x27;],\n      dtype=&#x27;object&#x27;)),\n                                (&#x27;onehotencoder&#x27;, OneHotEncoder(),\n                                 Index([&#x27;EDUCATION&#x27;, &#x27;MARITAL_STATUS&#x27;, &#x27;FACT_ADDRESS_PROVINCE&#x27;, &#x27;GEN_INDUSTRY&#x27;,\n       &#x27;GEN_TITLE&#x27;, &#x27;JOB_DIR&#x27;, &#x27;FAMILY_INCOME&#x27;],\n      dtype=&#x27;object&#x27;))])</pre></div></div></div><div class=\"sk-parallel\"><div class=\"sk-parallel-item\"><div class=\"sk-item\"><div class=\"sk-label-container\"><div class=\"sk-label sk-toggleable\"><input class=\"sk-toggleable__control sk-hidden--visually\" id=\"sk-estimator-id-30\" type=\"checkbox\" ><label for=\"sk-estimator-id-30\" class=\"sk-toggleable__label sk-toggleable__label-arrow\">standardscaler</label><div class=\"sk-toggleable__content\"><pre>Index([&#x27;AGE&#x27;, &#x27;GENDER&#x27;, &#x27;CHILD_TOTAL&#x27;, &#x27;DEPENDANTS&#x27;, &#x27;SOCSTATUS_WORK_FL&#x27;,\n       &#x27;SOCSTATUS_PENS_FL&#x27;, &#x27;FL_PRESENCE_FL&#x27;, &#x27;OWN_AUTO&#x27;, &#x27;CREDIT&#x27;, &#x27;TERM&#x27;,\n       &#x27;FST_PAYMENT&#x27;, &#x27;WORK_TIME&#x27;, &#x27;PERSONAL_INCOME&#x27;],\n      dtype=&#x27;object&#x27;)</pre></div></div></div><div class=\"sk-serial\"><div class=\"sk-item\"><div class=\"sk-estimator sk-toggleable\"><input class=\"sk-toggleable__control sk-hidden--visually\" id=\"sk-estimator-id-31\" type=\"checkbox\" ><label for=\"sk-estimator-id-31\" class=\"sk-toggleable__label sk-toggleable__label-arrow\">StandardScaler</label><div class=\"sk-toggleable__content\"><pre>StandardScaler()</pre></div></div></div></div></div></div><div class=\"sk-parallel-item\"><div class=\"sk-item\"><div class=\"sk-label-container\"><div class=\"sk-label sk-toggleable\"><input class=\"sk-toggleable__control sk-hidden--visually\" id=\"sk-estimator-id-32\" type=\"checkbox\" ><label for=\"sk-estimator-id-32\" class=\"sk-toggleable__label sk-toggleable__label-arrow\">onehotencoder</label><div class=\"sk-toggleable__content\"><pre>Index([&#x27;EDUCATION&#x27;, &#x27;MARITAL_STATUS&#x27;, &#x27;FACT_ADDRESS_PROVINCE&#x27;, &#x27;GEN_INDUSTRY&#x27;,\n       &#x27;GEN_TITLE&#x27;, &#x27;JOB_DIR&#x27;, &#x27;FAMILY_INCOME&#x27;],\n      dtype=&#x27;object&#x27;)</pre></div></div></div><div class=\"sk-serial\"><div class=\"sk-item\"><div class=\"sk-estimator sk-toggleable\"><input class=\"sk-toggleable__control sk-hidden--visually\" id=\"sk-estimator-id-33\" type=\"checkbox\" ><label for=\"sk-estimator-id-33\" class=\"sk-toggleable__label sk-toggleable__label-arrow\">OneHotEncoder</label><div class=\"sk-toggleable__content\"><pre>OneHotEncoder()</pre></div></div></div></div></div></div></div></div><div class=\"sk-item\"><div class=\"sk-estimator sk-toggleable\"><input class=\"sk-toggleable__control sk-hidden--visually\" id=\"sk-estimator-id-34\" type=\"checkbox\" ><label for=\"sk-estimator-id-34\" class=\"sk-toggleable__label sk-toggleable__label-arrow\">PolynomialFeatures</label><div class=\"sk-toggleable__content\"><pre>PolynomialFeatures()</pre></div></div></div><div class=\"sk-item\"><div class=\"sk-estimator sk-toggleable\"><input class=\"sk-toggleable__control sk-hidden--visually\" id=\"sk-estimator-id-35\" type=\"checkbox\" ><label for=\"sk-estimator-id-35\" class=\"sk-toggleable__label sk-toggleable__label-arrow\">LogisticRegression</label><div class=\"sk-toggleable__content\"><pre>LogisticRegression(max_iter=1000)</pre></div></div></div></div></div></div></div>"
     },
     "execution_count": 196,
     "metadata": {},
     "output_type": "execute_result"
    }
   ],
   "source": [
    "model_regular"
   ],
   "metadata": {
    "collapsed": false,
    "ExecuteTime": {
     "end_time": "2023-12-22T15:15:00.555116300Z",
     "start_time": "2023-12-22T15:15:00.501640Z"
    }
   }
  },
  {
   "cell_type": "code",
   "execution_count": 197,
   "outputs": [],
   "source": [
    "df = pd.read_pickle('df_clean.p')\n",
    "X = df.drop(columns = ['TARGET', 'AGREEMENT_RK']).reset_index(drop=True).set_index('ID')"
   ],
   "metadata": {
    "collapsed": false,
    "ExecuteTime": {
     "end_time": "2023-12-22T15:17:45.801868300Z",
     "start_time": "2023-12-22T15:17:45.548928500Z"
    }
   }
  },
  {
   "cell_type": "code",
   "execution_count": 219,
   "outputs": [],
   "source": [
    "pred_probability = model_regular.predict_proba(X_test)[:,1]"
   ],
   "metadata": {
    "collapsed": false,
    "ExecuteTime": {
     "end_time": "2023-12-22T16:19:20.112730100Z",
     "start_time": "2023-12-22T16:19:20.025045300Z"
    }
   }
  },
  {
   "cell_type": "code",
   "execution_count": 220,
   "outputs": [
    {
     "data": {
      "text/plain": "array([0.01154493, 0.01077675, 0.0046805 , ..., 0.90248246, 0.11881112,\n       0.30567806])"
     },
     "execution_count": 220,
     "metadata": {},
     "output_type": "execute_result"
    }
   ],
   "source": [
    "pred_probability"
   ],
   "metadata": {
    "collapsed": false,
    "ExecuteTime": {
     "end_time": "2023-12-22T16:19:22.193971Z",
     "start_time": "2023-12-22T16:19:22.173454400Z"
    }
   }
  },
  {
   "cell_type": "code",
   "execution_count": 221,
   "outputs": [
    {
     "data": {
      "text/plain": "2771"
     },
     "execution_count": 221,
     "metadata": {},
     "output_type": "execute_result"
    }
   ],
   "source": [
    "len(pred_probability)"
   ],
   "metadata": {
    "collapsed": false,
    "ExecuteTime": {
     "end_time": "2023-12-22T16:19:26.329743900Z",
     "start_time": "2023-12-22T16:19:26.310582400Z"
    }
   }
  },
  {
   "cell_type": "code",
   "execution_count": 222,
   "outputs": [],
   "source": [
    "X_test['predictions'] = pred_probability\n",
    "\n",
    "X_test[['predictions']].to_csv(\"Predictions_regular_test.csv\", index=True)"
   ],
   "metadata": {
    "collapsed": false,
    "ExecuteTime": {
     "end_time": "2023-12-22T16:19:34.034575Z",
     "start_time": "2023-12-22T16:19:34.011379800Z"
    }
   }
  },
  {
   "cell_type": "code",
   "execution_count": 223,
   "outputs": [
    {
     "data": {
      "text/plain": "0.13000259593674407"
     },
     "execution_count": 223,
     "metadata": {},
     "output_type": "execute_result"
    }
   ],
   "source": [
    "X_test['predictions'].mean()"
   ],
   "metadata": {
    "collapsed": false,
    "ExecuteTime": {
     "end_time": "2023-12-22T16:19:39.408919100Z",
     "start_time": "2023-12-22T16:19:39.354810900Z"
    }
   }
  },
  {
   "cell_type": "code",
   "execution_count": 224,
   "outputs": [
    {
     "data": {
      "text/plain": "LogisticRegression(C=1.2, max_iter=1000)",
      "text/html": "<style>#sk-container-id-13 {color: black;}#sk-container-id-13 pre{padding: 0;}#sk-container-id-13 div.sk-toggleable {background-color: white;}#sk-container-id-13 label.sk-toggleable__label {cursor: pointer;display: block;width: 100%;margin-bottom: 0;padding: 0.3em;box-sizing: border-box;text-align: center;}#sk-container-id-13 label.sk-toggleable__label-arrow:before {content: \"▸\";float: left;margin-right: 0.25em;color: #696969;}#sk-container-id-13 label.sk-toggleable__label-arrow:hover:before {color: black;}#sk-container-id-13 div.sk-estimator:hover label.sk-toggleable__label-arrow:before {color: black;}#sk-container-id-13 div.sk-toggleable__content {max-height: 0;max-width: 0;overflow: hidden;text-align: left;background-color: #f0f8ff;}#sk-container-id-13 div.sk-toggleable__content pre {margin: 0.2em;color: black;border-radius: 0.25em;background-color: #f0f8ff;}#sk-container-id-13 input.sk-toggleable__control:checked~div.sk-toggleable__content {max-height: 200px;max-width: 100%;overflow: auto;}#sk-container-id-13 input.sk-toggleable__control:checked~label.sk-toggleable__label-arrow:before {content: \"▾\";}#sk-container-id-13 div.sk-estimator input.sk-toggleable__control:checked~label.sk-toggleable__label {background-color: #d4ebff;}#sk-container-id-13 div.sk-label input.sk-toggleable__control:checked~label.sk-toggleable__label {background-color: #d4ebff;}#sk-container-id-13 input.sk-hidden--visually {border: 0;clip: rect(1px 1px 1px 1px);clip: rect(1px, 1px, 1px, 1px);height: 1px;margin: -1px;overflow: hidden;padding: 0;position: absolute;width: 1px;}#sk-container-id-13 div.sk-estimator {font-family: monospace;background-color: #f0f8ff;border: 1px dotted black;border-radius: 0.25em;box-sizing: border-box;margin-bottom: 0.5em;}#sk-container-id-13 div.sk-estimator:hover {background-color: #d4ebff;}#sk-container-id-13 div.sk-parallel-item::after {content: \"\";width: 100%;border-bottom: 1px solid gray;flex-grow: 1;}#sk-container-id-13 div.sk-label:hover label.sk-toggleable__label {background-color: #d4ebff;}#sk-container-id-13 div.sk-serial::before {content: \"\";position: absolute;border-left: 1px solid gray;box-sizing: border-box;top: 0;bottom: 0;left: 50%;z-index: 0;}#sk-container-id-13 div.sk-serial {display: flex;flex-direction: column;align-items: center;background-color: white;padding-right: 0.2em;padding-left: 0.2em;position: relative;}#sk-container-id-13 div.sk-item {position: relative;z-index: 1;}#sk-container-id-13 div.sk-parallel {display: flex;align-items: stretch;justify-content: center;background-color: white;position: relative;}#sk-container-id-13 div.sk-item::before, #sk-container-id-13 div.sk-parallel-item::before {content: \"\";position: absolute;border-left: 1px solid gray;box-sizing: border-box;top: 0;bottom: 0;left: 50%;z-index: -1;}#sk-container-id-13 div.sk-parallel-item {display: flex;flex-direction: column;z-index: 1;position: relative;background-color: white;}#sk-container-id-13 div.sk-parallel-item:first-child::after {align-self: flex-end;width: 50%;}#sk-container-id-13 div.sk-parallel-item:last-child::after {align-self: flex-start;width: 50%;}#sk-container-id-13 div.sk-parallel-item:only-child::after {width: 0;}#sk-container-id-13 div.sk-dashed-wrapped {border: 1px dashed gray;margin: 0 0.4em 0.5em 0.4em;box-sizing: border-box;padding-bottom: 0.4em;background-color: white;}#sk-container-id-13 div.sk-label label {font-family: monospace;font-weight: bold;display: inline-block;line-height: 1.2em;}#sk-container-id-13 div.sk-label-container {text-align: center;}#sk-container-id-13 div.sk-container {/* jupyter's `normalize.less` sets `[hidden] { display: none; }` but bootstrap.min.css set `[hidden] { display: none !important; }` so we also need the `!important` here to be able to override the default hidden behavior on the sphinx rendered scikit-learn.org. See: https://github.com/scikit-learn/scikit-learn/issues/21755 */display: inline-block !important;position: relative;}#sk-container-id-13 div.sk-text-repr-fallback {display: none;}</style><div id=\"sk-container-id-13\" class=\"sk-top-container\"><div class=\"sk-text-repr-fallback\"><pre>LogisticRegression(C=1.2, max_iter=1000)</pre><b>In a Jupyter environment, please rerun this cell to show the HTML representation or trust the notebook. <br />On GitHub, the HTML representation is unable to render, please try loading this page with nbviewer.org.</b></div><div class=\"sk-container\" hidden><div class=\"sk-item\"><div class=\"sk-estimator sk-toggleable\"><input class=\"sk-toggleable__control sk-hidden--visually\" id=\"sk-estimator-id-36\" type=\"checkbox\" checked><label for=\"sk-estimator-id-36\" class=\"sk-toggleable__label sk-toggleable__label-arrow\">LogisticRegression</label><div class=\"sk-toggleable__content\"><pre>LogisticRegression(C=1.2, max_iter=1000)</pre></div></div></div></div></div>"
     },
     "execution_count": 224,
     "metadata": {},
     "output_type": "execute_result"
    }
   ],
   "source": [
    "modelLR"
   ],
   "metadata": {
    "collapsed": false,
    "ExecuteTime": {
     "end_time": "2023-12-22T16:20:47.755064100Z",
     "start_time": "2023-12-22T16:20:47.719236300Z"
    }
   }
  },
  {
   "cell_type": "code",
   "execution_count": 225,
   "outputs": [],
   "source": [
    "with open('model_tuned.pickle', 'wb') as f:\n",
    "    pickle.dump(modelLR, f)"
   ],
   "metadata": {
    "collapsed": false,
    "ExecuteTime": {
     "end_time": "2023-12-22T16:23:21.198494400Z",
     "start_time": "2023-12-22T16:23:21.126111800Z"
    }
   }
  },
  {
   "cell_type": "code",
   "execution_count": 296,
   "outputs": [],
   "source": [
    "with open('y_test.p', 'wb') as f:\n",
    "    pickle.dump(y_test, f)"
   ],
   "metadata": {
    "collapsed": false,
    "ExecuteTime": {
     "end_time": "2023-12-22T17:51:38.960022900Z",
     "start_time": "2023-12-22T17:51:38.901103600Z"
    }
   }
  },
  {
   "cell_type": "code",
   "execution_count": 244,
   "outputs": [],
   "source": [
    "pred_probability = modelLR.predict_proba(X_test)[:,1]\n",
    "X_test['predictions'] = pred_probability\n",
    "X_test[['predictions']].to_csv(\"Predictions_tuned_test.csv\", index=True)"
   ],
   "metadata": {
    "collapsed": false,
    "ExecuteTime": {
     "end_time": "2023-12-22T16:36:43.866297800Z",
     "start_time": "2023-12-22T16:36:43.843848400Z"
    }
   }
  },
  {
   "cell_type": "code",
   "execution_count": 245,
   "outputs": [
    {
     "data": {
      "text/plain": "ID\n106808150    0.066092\n106810986    0.117239\n106807679    0.120246\n106816628    0.068239\n106807602    0.033805\n               ...   \n106808018    0.072902\n106805353    0.063059\n106805295    0.351470\n106806653    0.159744\n106809200    0.152855\nName: predictions, Length: 2771, dtype: float64"
     },
     "execution_count": 245,
     "metadata": {},
     "output_type": "execute_result"
    }
   ],
   "source": [
    "X_test['predictions']"
   ],
   "metadata": {
    "collapsed": false,
    "ExecuteTime": {
     "end_time": "2023-12-22T16:37:04.048810800Z",
     "start_time": "2023-12-22T16:37:03.970399Z"
    }
   }
  },
  {
   "cell_type": "code",
   "execution_count": 247,
   "outputs": [],
   "source": [
    "X_test.drop(columns='predictions', inplace=True)"
   ],
   "metadata": {
    "collapsed": false,
    "ExecuteTime": {
     "end_time": "2023-12-22T16:43:30.742466100Z",
     "start_time": "2023-12-22T16:43:30.712101400Z"
    }
   }
  },
  {
   "cell_type": "code",
   "execution_count": 248,
   "outputs": [
    {
     "data": {
      "text/plain": "                AGE    GENDER  EDUCATION_1  EDUCATION_2  EDUCATION_3  \\\nID                                                                     \n106817752 -0.446733  0.753345     1.151364    -0.526828    -0.650831   \n\n           EDUCATION_4  EDUCATION_5  EDUCATION_6  EDUCATION_7  \\\nID                                                              \n106817752    -0.197965    -0.128119    -0.009499    -0.035562   \n\n           MARITAL_STATUS_1  ...  JOB_DIR_8  JOB_DIR_9  JOB_DIR_10  WORK_TIME  \\\nID                           ...                                                \n106817752         -0.561929  ...  -0.123682  -0.026875   -0.066636  -0.012093   \n\n           FAMILY_INCOME_1  FAMILY_INCOME_2  FAMILY_INCOME_3  FAMILY_INCOME_4  \\\nID                                                                              \n106817752         1.095282        -0.861839        -0.192486        -0.297816   \n\n           FAMILY_INCOME_5  PERSONAL_INCOME  \nID                                           \n106817752        -0.044596        -0.960666  \n\n[1 rows x 164 columns]",
      "text/html": "<div>\n<style scoped>\n    .dataframe tbody tr th:only-of-type {\n        vertical-align: middle;\n    }\n\n    .dataframe tbody tr th {\n        vertical-align: top;\n    }\n\n    .dataframe thead th {\n        text-align: right;\n    }\n</style>\n<table border=\"1\" class=\"dataframe\">\n  <thead>\n    <tr style=\"text-align: right;\">\n      <th></th>\n      <th>AGE</th>\n      <th>GENDER</th>\n      <th>EDUCATION_1</th>\n      <th>EDUCATION_2</th>\n      <th>EDUCATION_3</th>\n      <th>EDUCATION_4</th>\n      <th>EDUCATION_5</th>\n      <th>EDUCATION_6</th>\n      <th>EDUCATION_7</th>\n      <th>MARITAL_STATUS_1</th>\n      <th>...</th>\n      <th>JOB_DIR_8</th>\n      <th>JOB_DIR_9</th>\n      <th>JOB_DIR_10</th>\n      <th>WORK_TIME</th>\n      <th>FAMILY_INCOME_1</th>\n      <th>FAMILY_INCOME_2</th>\n      <th>FAMILY_INCOME_3</th>\n      <th>FAMILY_INCOME_4</th>\n      <th>FAMILY_INCOME_5</th>\n      <th>PERSONAL_INCOME</th>\n    </tr>\n    <tr>\n      <th>ID</th>\n      <th></th>\n      <th></th>\n      <th></th>\n      <th></th>\n      <th></th>\n      <th></th>\n      <th></th>\n      <th></th>\n      <th></th>\n      <th></th>\n      <th></th>\n      <th></th>\n      <th></th>\n      <th></th>\n      <th></th>\n      <th></th>\n      <th></th>\n      <th></th>\n      <th></th>\n      <th></th>\n      <th></th>\n    </tr>\n  </thead>\n  <tbody>\n    <tr>\n      <th>106817752</th>\n      <td>-0.446733</td>\n      <td>0.753345</td>\n      <td>1.151364</td>\n      <td>-0.526828</td>\n      <td>-0.650831</td>\n      <td>-0.197965</td>\n      <td>-0.128119</td>\n      <td>-0.009499</td>\n      <td>-0.035562</td>\n      <td>-0.561929</td>\n      <td>...</td>\n      <td>-0.123682</td>\n      <td>-0.026875</td>\n      <td>-0.066636</td>\n      <td>-0.012093</td>\n      <td>1.095282</td>\n      <td>-0.861839</td>\n      <td>-0.192486</td>\n      <td>-0.297816</td>\n      <td>-0.044596</td>\n      <td>-0.960666</td>\n    </tr>\n  </tbody>\n</table>\n<p>1 rows × 164 columns</p>\n</div>"
     },
     "execution_count": 248,
     "metadata": {},
     "output_type": "execute_result"
    }
   ],
   "source": [
    "X_test.sample()"
   ],
   "metadata": {
    "collapsed": false,
    "ExecuteTime": {
     "end_time": "2023-12-22T16:43:40.744278400Z",
     "start_time": "2023-12-22T16:43:40.664342100Z"
    }
   }
  },
  {
   "cell_type": "code",
   "execution_count": 249,
   "outputs": [],
   "source": [
    "Xtrain, Xval, ytrain, yval = train_test_split(X_train, y_train, test_size=1/3, stratify=y_train)"
   ],
   "metadata": {
    "collapsed": false,
    "ExecuteTime": {
     "end_time": "2023-12-22T16:44:31.713704400Z",
     "start_time": "2023-12-22T16:44:31.613120200Z"
    }
   }
  },
  {
   "cell_type": "code",
   "execution_count": 251,
   "outputs": [],
   "source": [
    "pred_probability = modelLR.predict_proba(Xval)[:,1]"
   ],
   "metadata": {
    "collapsed": false,
    "ExecuteTime": {
     "end_time": "2023-12-22T16:45:54.801518100Z",
     "start_time": "2023-12-22T16:45:54.733245900Z"
    }
   }
  },
  {
   "cell_type": "code",
   "execution_count": 252,
   "outputs": [
    {
     "name": "stdout",
     "output_type": "stream",
     "text": [
      "thr=0.0, new_recall=1.0, precision=0.12719891745602166\n",
      "thr=0.01, new_recall=0.997872340425532, precision=0.1273072747014115\n",
      "thr=0.02, new_recall=0.997872340425532, precision=0.12817709756764142\n",
      "thr=0.03, new_recall=0.9808510638297873, precision=0.12862723214285715\n",
      "thr=0.04, new_recall=0.9744680851063829, precision=0.1311193816203836\n",
      "thr=0.05, new_recall=0.951063829787234, precision=0.13403298350824588\n",
      "thr=0.06, new_recall=0.9234042553191489, precision=0.13861386138613863\n",
      "thr=0.07, new_recall=0.8808510638297873, precision=0.1423169474046064\n",
      "thr=0.08, new_recall=0.8319148936170213, precision=0.14777021919879063\n",
      "thr=0.09, new_recall=0.7787234042553192, precision=0.15410526315789475\n",
      "thr=0.1, new_recall=0.7361702127659574, precision=0.16213683223992503\n",
      "thr=0.11, new_recall=0.6851063829787234, precision=0.17037037037037037\n",
      "thr=0.12, new_recall=0.6340425531914894, precision=0.18016928657799275\n",
      "thr=0.13, new_recall=0.574468085106383, precision=0.18646408839779005\n",
      "thr=0.14, new_recall=0.5106382978723404, precision=0.1910828025477707\n",
      "thr=0.15, new_recall=0.46595744680851064, precision=0.1990909090909091\n",
      "thr=0.16, new_recall=0.40638297872340423, precision=0.20319148936170212\n",
      "thr=0.17, new_recall=0.35319148936170214, precision=0.20775969962453067\n",
      "thr=0.18, new_recall=0.3021276595744681, precision=0.21068249258160238\n",
      "thr=0.19, new_recall=0.26382978723404255, precision=0.2179261862917399\n",
      "thr=0.2, new_recall=0.23617021276595745, precision=0.22606924643584522\n",
      "thr=0.21, new_recall=0.20638297872340425, precision=0.22769953051643194\n",
      "thr=0.22, new_recall=0.18723404255319148, precision=0.23783783783783785\n",
      "thr=0.23, new_recall=0.16382978723404254, precision=0.24758842443729903\n",
      "thr=0.24, new_recall=0.13617021276595745, precision=0.24521072796934865\n",
      "thr=0.25, new_recall=0.11702127659574468, precision=0.24336283185840707\n",
      "thr=0.26, new_recall=0.1, precision=0.24607329842931938\n",
      "thr=0.27, new_recall=0.0851063829787234, precision=0.25\n",
      "thr=0.28, new_recall=0.07446808510638298, precision=0.25735294117647056\n",
      "thr=0.29, new_recall=0.0574468085106383, precision=0.23076923076923078\n",
      "thr=0.3, new_recall=0.05319148936170213, precision=0.23809523809523808\n",
      "thr=0.31, new_recall=0.04468085106382979, precision=0.22105263157894736\n",
      "thr=0.32, new_recall=0.04042553191489362, precision=0.2261904761904762\n",
      "thr=0.33, new_recall=0.036170212765957444, precision=0.22972972972972974\n",
      "thr=0.34, new_recall=0.03404255319148936, precision=0.24242424242424243\n",
      "thr=0.35000000000000003, new_recall=0.027659574468085105, precision=0.24528301886792453\n",
      "thr=0.36, new_recall=0.02127659574468085, precision=0.20833333333333334\n",
      "thr=0.37, new_recall=0.02127659574468085, precision=0.24390243902439024\n",
      "thr=0.38, new_recall=0.014893617021276596, precision=0.2\n",
      "thr=0.39, new_recall=0.010638297872340425, precision=0.15151515151515152\n",
      "thr=0.4, new_recall=0.010638297872340425, precision=0.18518518518518517\n",
      "thr=0.41000000000000003, new_recall=0.006382978723404255, precision=0.12\n",
      "thr=0.42, new_recall=0.006382978723404255, precision=0.13043478260869565\n",
      "thr=0.43, new_recall=0.006382978723404255, precision=0.14285714285714285\n",
      "thr=0.44, new_recall=0.006382978723404255, precision=0.15789473684210525\n",
      "thr=0.45, new_recall=0.006382978723404255, precision=0.16666666666666666\n",
      "thr=0.46, new_recall=0.006382978723404255, precision=0.17647058823529413\n",
      "thr=0.47000000000000003, new_recall=0.006382978723404255, precision=0.1875\n",
      "thr=0.48, new_recall=0.00425531914893617, precision=0.15384615384615385\n",
      "thr=0.49, new_recall=0.002127659574468085, precision=0.1\n",
      "thr=0.5, new_recall=0.002127659574468085, precision=0.16666666666666666\n",
      "thr=0.51, new_recall=0.002127659574468085, precision=0.16666666666666666\n",
      "thr=0.52, new_recall=0.002127659574468085, precision=0.16666666666666666\n",
      "thr=0.53, new_recall=0.002127659574468085, precision=0.16666666666666666\n",
      "thr=0.54, new_recall=0.002127659574468085, precision=0.16666666666666666\n",
      "thr=0.55, new_recall=0.002127659574468085, precision=0.2\n",
      "thr=0.56, new_recall=0.002127659574468085, precision=0.25\n",
      "thr=0.5700000000000001, new_recall=0.002127659574468085, precision=0.25\n",
      "thr=0.58, new_recall=0.002127659574468085, precision=0.25\n",
      "thr=0.59, new_recall=0.0, precision=0.0\n",
      "thr=0.6, new_recall=0.0, precision=0.0\n",
      "thr=0.61, new_recall=0.0, precision=0.0\n",
      "thr=0.62, new_recall=0.0, precision=0.0\n",
      "thr=0.63, new_recall=0.0, precision=0.0\n",
      "thr=0.64, new_recall=0.0, precision=0.0\n",
      "thr=0.65, new_recall=0.0, precision=0.0\n",
      "thr=0.66, new_recall=0.0, precision=0.0\n",
      "thr=0.67, new_recall=0.0, precision=0.0\n",
      "thr=0.68, new_recall=0.0, precision=0.0\n",
      "thr=0.6900000000000001, new_recall=0.0, precision=0.0\n",
      "thr=0.7000000000000001, new_recall=0.0, precision=0.0\n",
      "thr=0.71, new_recall=0.0, precision=0.0\n",
      "thr=0.72, new_recall=0.0, precision=0.0\n",
      "thr=0.73, new_recall=0.0, precision=0.0\n",
      "thr=0.74, new_recall=0.0, precision=0.0\n",
      "thr=0.75, new_recall=0.0, precision=0.0\n",
      "thr=0.76, new_recall=0.0, precision=0.0\n",
      "thr=0.77, new_recall=0.0, precision=0.0\n",
      "thr=0.78, new_recall=0.0, precision=0.0\n",
      "thr=0.79, new_recall=0.0, precision=0.0\n",
      "thr=0.8, new_recall=0.0, precision=0.0\n",
      "thr=0.81, new_recall=0.0, precision=0.0\n",
      "thr=0.8200000000000001, new_recall=0.0, precision=0.0\n",
      "thr=0.8300000000000001, new_recall=0.0, precision=0.0\n",
      "thr=0.84, new_recall=0.0, precision=0.0\n",
      "thr=0.85, new_recall=0.0, precision=0.0\n",
      "thr=0.86, new_recall=0.0, precision=0.0\n",
      "thr=0.87, new_recall=0.0, precision=0.0\n",
      "thr=0.88, new_recall=0.0, precision=0.0\n",
      "thr=0.89, new_recall=0.0, precision=0.0\n",
      "thr=0.9, new_recall=0.0, precision=0.0\n",
      "thr=0.91, new_recall=0.0, precision=0.0\n",
      "thr=0.92, new_recall=0.0, precision=0.0\n",
      "thr=0.93, new_recall=0.0, precision=0.0\n",
      "thr=0.9400000000000001, new_recall=0.0, precision=0.0\n",
      "thr=0.9500000000000001, new_recall=0.0, precision=0.0\n",
      "thr=0.96, new_recall=0.0, precision=0.0\n",
      "thr=0.97, new_recall=0.0, precision=0.0\n",
      "thr=0.98, new_recall=0.0, precision=0.0\n",
      "thr=0.99, new_recall=0.0, precision=0.0\n",
      "\n",
      "Лучший результат: BestThr=0.11, BestRec=0.6851063829787234, Acc_max=0.5355886332882274\n"
     ]
    }
   ],
   "source": [
    "BestRec = -1\n",
    "BestThr = -1\n",
    "Acc_max = -1\n",
    "\n",
    "for thr in np.arange(0, 1, 0.01):\n",
    "    pred_class = pred_probability >= thr\n",
    "    new_recall = recall_score(yval, pred_class)\n",
    "    new_accuracy = accuracy_score(yval, pred_class)\n",
    "    precision = precision_score(yval, pred_class)\n",
    "    print(f'{thr=}, {new_recall=}, {precision=}')\n",
    "    if new_accuracy >= Acc_max and new_recall > 0.66:\n",
    "      BestRec = new_recall\n",
    "      BestThr = thr\n",
    "      Acc_max = new_accuracy\n",
    "print (f'\\nЛучший результат: {BestThr=}, {BestRec=}, {Acc_max=}')"
   ],
   "metadata": {
    "collapsed": false,
    "ExecuteTime": {
     "end_time": "2023-12-22T16:45:58.624500600Z",
     "start_time": "2023-12-22T16:45:58.157500700Z"
    }
   }
  },
  {
   "cell_type": "markdown",
   "source": [
    "Лучший результат: BestThr=0.03, BestRec=0.6638297872340425, Acc_max=0.4912043301759134"
   ],
   "metadata": {
    "collapsed": false
   }
  },
  {
   "cell_type": "code",
   "execution_count": 256,
   "outputs": [],
   "source": [
    "pred_probability = modelLR.predict_proba(X_test)[:,1]"
   ],
   "metadata": {
    "collapsed": false,
    "ExecuteTime": {
     "end_time": "2023-12-22T17:01:29.437228500Z",
     "start_time": "2023-12-22T17:01:29.353735200Z"
    }
   }
  },
  {
   "cell_type": "code",
   "execution_count": 258,
   "outputs": [
    {
     "data": {
      "text/plain": "array([0.06609219, 0.11723865, 0.12024571, ..., 0.3514702 , 0.15974421,\n       0.1528554 ])"
     },
     "execution_count": 258,
     "metadata": {},
     "output_type": "execute_result"
    }
   ],
   "source": [
    "pred_probability"
   ],
   "metadata": {
    "collapsed": false,
    "ExecuteTime": {
     "end_time": "2023-12-22T17:10:51.102475200Z",
     "start_time": "2023-12-22T17:10:51.010049800Z"
    }
   }
  },
  {
   "cell_type": "code",
   "execution_count": 257,
   "outputs": [
    {
     "data": {
      "text/plain": "{'accuracy': 0.5416817033561891,\n 'precision': 0.15949554896142434,\n 'recall': 0.6107954545454546,\n 'f1': 0.2529411764705882}"
     },
     "execution_count": 257,
     "metadata": {},
     "output_type": "execute_result"
    }
   ],
   "source": [
    "get_metrics_score_thr(y_test, pred_probability, BestThr)"
   ],
   "metadata": {
    "collapsed": false,
    "ExecuteTime": {
     "end_time": "2023-12-22T17:01:35.596109600Z",
     "start_time": "2023-12-22T17:01:35.543288Z"
    }
   }
  },
  {
   "cell_type": "markdown",
   "source": [
    "accuracy=0.43305665824612055, precision=0.13568439928272563, recall=0.6448863636363636, f1=0.22419753086419755"
   ],
   "metadata": {
    "collapsed": false
   }
  },
  {
   "cell_type": "code",
   "execution_count": 285,
   "outputs": [],
   "source": [
    "my_probibility = pd.read_csv('Predictions_tuned_test.csv', index_col='ID')"
   ],
   "metadata": {
    "collapsed": false,
    "ExecuteTime": {
     "end_time": "2023-12-22T17:39:21.771633100Z",
     "start_time": "2023-12-22T17:39:21.734897Z"
    }
   }
  },
  {
   "cell_type": "code",
   "execution_count": 286,
   "outputs": [
    {
     "data": {
      "text/plain": "{'accuracy': 0.5416817033561891,\n 'precision': 0.15949554896142434,\n 'recall': 0.6107954545454546,\n 'f1': 0.2529411764705882}"
     },
     "execution_count": 286,
     "metadata": {},
     "output_type": "execute_result"
    }
   ],
   "source": [
    "get_metrics_score_thr(y_test, my_probibility, BestThr)"
   ],
   "metadata": {
    "collapsed": false,
    "ExecuteTime": {
     "end_time": "2023-12-22T17:39:45.865731300Z",
     "start_time": "2023-12-22T17:39:45.765685400Z"
    }
   }
  },
  {
   "cell_type": "markdown",
   "source": [
    "## Бонус\n",
    "\n",
    "Попробуйте применить другие модели классификации для решения этой задачи (любые какие знаете).\n",
    "\n",
    "Удалось ли добиться улучшения качества модели?"
   ],
   "metadata": {
    "id": "XSXZmkTCy4IX"
   }
  },
  {
   "cell_type": "code",
   "execution_count": null,
   "outputs": [],
   "source": [
    "# Давайте оценим, что будет выдавать SGDClassifier на наших данных c параметрами по умолчанию"
   ],
   "metadata": {
    "collapsed": false
   }
  },
  {
   "cell_type": "code",
   "execution_count": 84,
   "outputs": [],
   "source": [
    "from sklearn.linear_model import SGDClassifier\n",
    "from sklearn.model_selection import cross_val_score "
   ],
   "metadata": {
    "collapsed": false,
    "ExecuteTime": {
     "end_time": "2023-12-22T09:38:12.335146Z",
     "start_time": "2023-12-22T09:38:12.274987200Z"
    }
   }
  },
  {
   "cell_type": "code",
   "execution_count": 90,
   "outputs": [
    {
     "data": {
      "text/plain": "0.5365779245547885"
     },
     "execution_count": 90,
     "metadata": {},
     "output_type": "execute_result"
    }
   ],
   "source": [
    "cross_val_score(SGDClassifier(), X_train, y_train, cv=3, scoring='roc_auc', verbose=True).mean()"
   ],
   "metadata": {
    "collapsed": false,
    "ExecuteTime": {
     "end_time": "2023-12-22T09:41:24.947868800Z",
     "start_time": "2023-12-22T09:41:23.761755300Z"
    }
   }
  },
  {
   "cell_type": "markdown",
   "source": [
    "Убедился, что лучше качества c этой линейной моделью без тонкой настройки гиперпараметров не получится."
   ],
   "metadata": {
    "collapsed": false
   }
  },
  {
   "cell_type": "code",
   "execution_count": 365,
   "outputs": [
    {
     "name": "stdout",
     "output_type": "stream",
     "text": [
      "cv\n",
      "error_score\n",
      "estimator__memory\n",
      "estimator__steps\n",
      "estimator__verbose\n",
      "estimator__encoder\n",
      "estimator__model\n",
      "estimator__encoder__n_jobs\n",
      "estimator__encoder__remainder\n",
      "estimator__encoder__sparse_threshold\n",
      "estimator__encoder__transformer_weights\n",
      "estimator__encoder__transformers\n",
      "estimator__encoder__verbose\n",
      "estimator__encoder__verbose_feature_names_out\n",
      "estimator__encoder__standardscaler\n",
      "estimator__encoder__onehotencoder\n",
      "estimator__encoder__standardscaler__copy\n",
      "estimator__encoder__standardscaler__with_mean\n",
      "estimator__encoder__standardscaler__with_std\n",
      "estimator__encoder__onehotencoder__categories\n",
      "estimator__encoder__onehotencoder__drop\n",
      "estimator__encoder__onehotencoder__dtype\n",
      "estimator__encoder__onehotencoder__feature_name_combiner\n",
      "estimator__encoder__onehotencoder__handle_unknown\n",
      "estimator__encoder__onehotencoder__max_categories\n",
      "estimator__encoder__onehotencoder__min_frequency\n",
      "estimator__encoder__onehotencoder__sparse\n",
      "estimator__encoder__onehotencoder__sparse_output\n",
      "estimator__model__C\n",
      "estimator__model__class_weight\n",
      "estimator__model__dual\n",
      "estimator__model__fit_intercept\n",
      "estimator__model__intercept_scaling\n",
      "estimator__model__l1_ratio\n",
      "estimator__model__max_iter\n",
      "estimator__model__multi_class\n",
      "estimator__model__n_jobs\n",
      "estimator__model__penalty\n",
      "estimator__model__random_state\n",
      "estimator__model__solver\n",
      "estimator__model__tol\n",
      "estimator__model__verbose\n",
      "estimator__model__warm_start\n",
      "estimator\n",
      "n_jobs\n",
      "param_grid\n",
      "pre_dispatch\n",
      "refit\n",
      "return_train_score\n",
      "scoring\n",
      "verbose\n"
     ]
    }
   ],
   "source": [
    "for param in gs_model_linear.get_params().keys():\n",
    "    print(param)"
   ],
   "metadata": {
    "collapsed": false,
    "ExecuteTime": {
     "end_time": "2023-12-21T08:55:43.090979700Z",
     "start_time": "2023-12-21T08:55:43.067201100Z"
    }
   }
  },
  {
   "cell_type": "code",
   "execution_count": 298,
   "outputs": [
    {
     "data": {
      "text/plain": "13033    0.0\n7958     0.0\n4392     0.0\n6484     0.0\n12648    0.0\n        ... \n10952    1.0\n15596    0.0\n1132     0.0\n545      0.0\n8642     0.0\nName: TARGET, Length: 2771, dtype: float64"
     },
     "execution_count": 298,
     "metadata": {},
     "output_type": "execute_result"
    }
   ],
   "source": [
    "y_test = pd.read_pickle('y_test.p')"
   ],
   "metadata": {
    "collapsed": false,
    "ExecuteTime": {
     "end_time": "2023-12-23T14:59:12.570083900Z",
     "start_time": "2023-12-23T14:59:12.437538100Z"
    }
   }
  },
  {
   "cell_type": "code",
   "execution_count": 300,
   "outputs": [],
   "source": [
    "y_test.to_csv(\"y_test.csv\", index=False)"
   ],
   "metadata": {
    "collapsed": false,
    "ExecuteTime": {
     "end_time": "2023-12-23T15:01:06.924296600Z",
     "start_time": "2023-12-23T15:01:06.869958800Z"
    }
   }
  },
  {
   "cell_type": "code",
   "execution_count": 307,
   "outputs": [],
   "source": [
    "models = {\n",
    "    'regular': {\n",
    "        'rus_name': 'cтандартная',\n",
    "        'model_type': 'логистическая регрессия',\n",
    "        'params': 'полиномиальные признаки',\n",
    "        'best_thr': 0.03,\n",
    "    },\n",
    "    'tuned': {\n",
    "        'rus_name': 'настроенная',\n",
    "        'model_type': 'логистическая регрессия',\n",
    "        'params': 'С=1.2, max_iter=1000',\n",
    "        'best_thr': 0.11,\n",
    "    },\n",
    "}"
   ],
   "metadata": {
    "collapsed": false,
    "ExecuteTime": {
     "end_time": "2023-12-23T18:45:27.686902100Z",
     "start_time": "2023-12-23T18:45:27.557856600Z"
    }
   }
  },
  {
   "cell_type": "code",
   "execution_count": 308,
   "outputs": [
    {
     "data": {
      "text/plain": "['regular', 'tuned']"
     },
     "execution_count": 308,
     "metadata": {},
     "output_type": "execute_result"
    }
   ],
   "source": [
    "list(models.keys())"
   ],
   "metadata": {
    "collapsed": false,
    "ExecuteTime": {
     "end_time": "2023-12-23T18:45:38.362784400Z",
     "start_time": "2023-12-23T18:45:38.309830600Z"
    }
   }
  },
  {
   "cell_type": "code",
   "execution_count": 309,
   "outputs": [],
   "source": [
    "t2 = zip(list(models), [1,2])"
   ],
   "metadata": {
    "collapsed": false,
    "ExecuteTime": {
     "end_time": "2023-12-23T19:08:11.517127800Z",
     "start_time": "2023-12-23T19:08:11.423530900Z"
    }
   }
  },
  {
   "cell_type": "code",
   "execution_count": 310,
   "outputs": [
    {
     "name": "stdout",
     "output_type": "stream",
     "text": [
      "regular 1\n",
      "tuned 2\n"
     ]
    }
   ],
   "source": [
    "for models_names, col in t2:\n",
    "    print(models[models_names])"
   ],
   "metadata": {
    "collapsed": false,
    "ExecuteTime": {
     "end_time": "2023-12-23T19:08:15.215169400Z",
     "start_time": "2023-12-23T19:08:15.140657Z"
    }
   }
  }
 ]
}
