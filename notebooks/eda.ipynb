{
 "nbformat": 4,
 "nbformat_minor": 0,
 "metadata": {
  "colab": {
   "provenance": []
  },
  "kernelspec": {
   "name": "python3",
   "language": "python",
   "display_name": "Python 3 (ipykernel)"
  },
  "language_info": {
   "name": "python"
  }
 },
 "cells": [
  {
   "cell_type": "markdown",
   "source": [
    "# Практическая работа"
   ],
   "metadata": {
    "id": "m9QWlN-lq0qw"
   }
  },
  {
   "cell_type": "markdown",
   "source": [
    "# Задача"
   ],
   "metadata": {
    "id": "4Nb7eTxYWWUe"
   }
  },
  {
   "cell_type": "markdown",
   "source": [
    "Один из способов повысить эффективность взаимодействия банка с клиентами — отправлять предложение о новой услуге не всем клиентам, а только некоторым, которые выбираются по принципу наибольшей склонности к отклику на это предложение.\n",
    "\n",
    "Задача заключается в том, чтобы предложить алгоритм, который будет выдавать склонность клиента к положительному или отрицательному отклику на предложение банка. Предполагается, что, получив такие оценки для некоторого множества клиентов, банк обратится с предложением только к тем, от кого ожидается положительный отклик.\n"
   ],
   "metadata": {
    "id": "ug5TQChn6KiJ"
   }
  },
  {
   "cell_type": "markdown",
   "source": [
    "Для решения этой задачи загрузите файлы из базы в Postgres.\n",
    "Эта БД хранит информацию о клиентах банка и их персональные данные, такие как пол, количество детей и другие.\n",
    "\n",
    "Описание таблиц с данными представлено ниже.\n"
   ],
   "metadata": {
    "id": "5k52FwP156I6"
   }
  },
  {
   "cell_type": "markdown",
   "source": [
    "**D_work**\n",
    "\n",
    "Описание статусов относительно работы:\n",
    "- ID — идентификатор социального статуса клиента относительно работы;\n",
    "- COMMENT — расшифровка статуса.\n",
    "\n",
    "\n",
    "**D_pens**\n",
    "\n",
    "Описание статусов относительно пенсии:\n",
    "- ID — идентификатор социального статуса;\n",
    "- COMMENT — расшифровка статуса.\n",
    "\n",
    "\n",
    "**D_clients**\n",
    "\n",
    "Описание данных клиентов:\n",
    "- ID — идентификатор записи;\n",
    "- AGE\t— возраст клиента;\n",
    "- GENDER — пол клиента (1 — мужчина, 0 — женщина);\n",
    "- EDUCATION — образование;\n",
    "- MARITAL_STATUS — семейное положение;\n",
    "- CHILD_TOTAL\t— количество детей клиента;\n",
    "- DEPENDANTS — количество иждивенцев клиента;\n",
    "- SOCSTATUS_WORK_FL\t— социальный статус клиента относительно работы (1 — работает, 0 — не работает);\n",
    "- SOCSTATUS_PENS_FL\t— социальный статус клиента относительно пенсии (1 — пенсионер, 0 — не пенсионер);\n",
    "- REG_ADDRESS_PROVINCE — область регистрации клиента;\n",
    "- FACT_ADDRESS_PROVINCE — область фактического пребывания клиента;\n",
    "- POSTAL_ADDRESS_PROVINCE — почтовый адрес области;\n",
    "- FL_PRESENCE_FL — наличие в собственности квартиры (1 — есть, 0 — нет);\n",
    "- OWN_AUTO — количество автомобилей в собственности.\n",
    "\n",
    "\n",
    "**D_agreement**\n",
    "\n",
    "Таблица с зафиксированными откликами клиентов на предложения банка:\n",
    "- AGREEMENT_RK — уникальный идентификатор объекта в выборке;\n",
    "- ID_CLIENT — идентификатор клиента;\n",
    "- TARGET — целевая переменная: отклик на маркетинговую кампанию (1 — отклик был зарегистрирован, 0 — отклика не было).\n",
    "    \n",
    "    \n",
    "**D_job**\n",
    "\n",
    "Описание информации о работе клиентов:\n",
    "- GEN_INDUSTRY — отрасль работы клиента;\n",
    "- GEN_TITLE — должность;\n",
    "- JOB_DIR — направление деятельности внутри компании;\n",
    "- WORK_TIME — время работы на текущем месте (в месяцах);\n",
    "- ID_CLIENT — идентификатор клиента.\n",
    "\n",
    "\n",
    "**D_salary**\n",
    "\n",
    "Описание информации о заработной плате клиентов:\n",
    "- ID_CLIENT — идентификатор клиента;\n",
    "- FAMILY_INCOME — семейный доход (несколько категорий);\n",
    "- PERSONAL_INCOME — личный доход клиента (в рублях).\n",
    "\n",
    "\n",
    "**D_last_credit**\n",
    "\n",
    "Информация о последнем займе клиента:\n",
    "- ID_CLIENT — идентификатор клиента;\n",
    "- CREDIT — сумма последнего кредита клиента (в рублях);\n",
    "- TERM — срок кредита;\n",
    "- FST_PAYMENT — первоначальный взнос (в рублях).\n",
    "\n",
    "\n",
    "**D_loan**\n",
    "\n",
    "Информация о кредитной истории клиента:\n",
    "- ID_CLIENT — идентификатор клиента;\n",
    "- ID_LOAN — идентификатор кредита.\n",
    "\n",
    "**D_close_loan**\n",
    "\n",
    "Информация о статусах кредита (ссуд):\n",
    "- ID_LOAN — идентификатор кредита;\n",
    "- CLOSED_FL — текущий статус кредита (1 — закрыт, 0 — не закрыт)."
   ],
   "metadata": {
    "id": "3HYLpuwA6dAw"
   }
  },
  {
   "cell_type": "markdown",
   "source": [
    "Ниже представлен минимальный список колонок, которые должны находиться в итоговом датасете после склейки и агрегации данных. По своему усмотрению вы можете добавить дополнительные к этим колонки."
   ],
   "metadata": {
    "id": "aSCbvJeMKegU"
   }
  },
  {
   "cell_type": "markdown",
   "source": [
    "    - AGREEMENT_RK — уникальный идентификатор объекта в выборке;\n",
    "    - TARGET — целевая переменная: отклик на маркетинговую кампанию (1 — отклик был зарегистрирован, 0 — отклика не было);\n",
    "    - AGE — возраст клиента;\n",
    "    - SOCSTATUS_WORK_FL — социальный статус клиента относительно работы (1 — работает, 0 — не работает);\n",
    "    - SOCSTATUS_PENS_FL — социальный статус клиента относительно пенсии (1 — пенсионер, 0 — не пенсионер);\n",
    "    - GENDER — пол клиента (1 — мужчина, 0 — женщина);\n",
    "    - CHILD_TOTAL — количество детей клиента;\n",
    "    - DEPENDANTS — количество иждивенцев клиента;\n",
    "    - PERSONAL_INCOME — личный доход клиента (в рублях);\n",
    "    - LOAN_NUM_TOTAL — количество ссуд клиента;\n",
    "    - LOAN_NUM_CLOSED — количество погашенных ссуд клиента.\n"
   ],
   "metadata": {
    "id": "xDZKZYCtmbwi"
   }
  },
  {
   "cell_type": "markdown",
   "source": [
    "Будьте внимательны при сборке датасета: это реальные банковские данные, в которых могут наблюдаться дубли, некорректно заполненные значения или значения, противоречащие друг другу. Для получения качественной модели необходимо предварительно очистить датасет от такой информации."
   ],
   "metadata": {
    "id": "EDpojLFeAw2Y"
   }
  },
  {
   "cell_type": "markdown",
   "source": [
    "## Задание 1\n",
    "\n",
    "Соберите всю информацию о клиентах в одну таблицу, где одна строчка соответствует полной информации об одном клиенте."
   ],
   "metadata": {
    "id": "GERgJvyYmQEZ"
   }
  },
  {
   "cell_type": "markdown",
   "source": [
    "### Сборка датасета"
   ],
   "metadata": {
    "collapsed": false
   }
  },
  {
   "cell_type": "code",
   "execution_count": 2,
   "outputs": [],
   "source": [
    "import pandas as pd\n",
    "import matplotlib.pyplot as plt\n",
    "import plotly.express as px"
   ],
   "metadata": {
    "collapsed": false,
    "ExecuteTime": {
     "end_time": "2023-12-16T15:56:12.384005400Z",
     "start_time": "2023-12-16T15:56:12.260979900Z"
    }
   }
  },
  {
   "cell_type": "code",
   "execution_count": 7,
   "outputs": [],
   "source": [
    "df_clients = pd.read_csv('https://raw.githubusercontent.com/aiedu-courses/stepik_linear_models/main/datasets/D_clients.csv')\n",
    "df_close_loans = pd.read_csv('https://github.com/aiedu-courses/stepik_linear_models/raw/main/datasets/D_close_loan.csv')\n",
    "df_job = pd.read_csv('https://github.com/aiedu-courses/stepik_linear_models/raw/main/datasets/D_job.csv')\n",
    "df_last_credit = pd.read_csv('https://raw.githubusercontent.com/aiedu-courses/stepik_linear_models/main/datasets/D_last_credit.csv')\n",
    "df_loan = pd.read_csv('https://raw.githubusercontent.com/aiedu-courses/stepik_linear_models/main/datasets/D_loan.csv')\n",
    "df_pens = pd.read_csv('https://raw.githubusercontent.com/aiedu-courses/stepik_linear_models/main/datasets/D_pens.csv')\n",
    "df_salary = pd.read_csv('https://raw.githubusercontent.com/aiedu-courses/stepik_linear_models/main/datasets/D_salary.csv')\n",
    "df_target = pd.read_csv('https://raw.githubusercontent.com/aiedu-courses/stepik_linear_models/main/datasets/D_target.csv')\n",
    "df_work = pd.read_csv('https://raw.githubusercontent.com/aiedu-courses/stepik_linear_models/main/datasets/D_work.csv')"
   ],
   "metadata": {
    "collapsed": false,
    "ExecuteTime": {
     "end_time": "2023-12-12T16:46:30.005138600Z",
     "start_time": "2023-12-12T16:46:25.784604900Z"
    }
   }
  },
  {
   "cell_type": "code",
   "execution_count": 13,
   "outputs": [
    {
     "data": {
      "text/plain": "          ID_LOAN  ID_CLIENT\n4957   1753795615  106808847\n12497  1753803155  106814719\n16878  1753807536  106817064\n6723   1753797381  106810498\n3639   1753794297  106807667",
      "text/html": "<div>\n<style scoped>\n    .dataframe tbody tr th:only-of-type {\n        vertical-align: middle;\n    }\n\n    .dataframe tbody tr th {\n        vertical-align: top;\n    }\n\n    .dataframe thead th {\n        text-align: right;\n    }\n</style>\n<table border=\"1\" class=\"dataframe\">\n  <thead>\n    <tr style=\"text-align: right;\">\n      <th></th>\n      <th>ID_LOAN</th>\n      <th>ID_CLIENT</th>\n    </tr>\n  </thead>\n  <tbody>\n    <tr>\n      <th>4957</th>\n      <td>1753795615</td>\n      <td>106808847</td>\n    </tr>\n    <tr>\n      <th>12497</th>\n      <td>1753803155</td>\n      <td>106814719</td>\n    </tr>\n    <tr>\n      <th>16878</th>\n      <td>1753807536</td>\n      <td>106817064</td>\n    </tr>\n    <tr>\n      <th>6723</th>\n      <td>1753797381</td>\n      <td>106810498</td>\n    </tr>\n    <tr>\n      <th>3639</th>\n      <td>1753794297</td>\n      <td>106807667</td>\n    </tr>\n  </tbody>\n</table>\n</div>"
     },
     "execution_count": 13,
     "metadata": {},
     "output_type": "execute_result"
    }
   ],
   "source": [
    "df_loan.sample(5)"
   ],
   "metadata": {
    "collapsed": false,
    "ExecuteTime": {
     "end_time": "2023-12-12T16:51:54.207235Z",
     "start_time": "2023-12-12T16:51:54.200028500Z"
    }
   }
  },
  {
   "cell_type": "code",
   "execution_count": 11,
   "outputs": [
    {
     "data": {
      "text/plain": "          ID_LOAN  CLOSED_FL\n14523  1753805181          1\n5175   1753795833          0\n17124  1753807782          0\n1976   1753792634          1\n14835  1753805493          1",
      "text/html": "<div>\n<style scoped>\n    .dataframe tbody tr th:only-of-type {\n        vertical-align: middle;\n    }\n\n    .dataframe tbody tr th {\n        vertical-align: top;\n    }\n\n    .dataframe thead th {\n        text-align: right;\n    }\n</style>\n<table border=\"1\" class=\"dataframe\">\n  <thead>\n    <tr style=\"text-align: right;\">\n      <th></th>\n      <th>ID_LOAN</th>\n      <th>CLOSED_FL</th>\n    </tr>\n  </thead>\n  <tbody>\n    <tr>\n      <th>14523</th>\n      <td>1753805181</td>\n      <td>1</td>\n    </tr>\n    <tr>\n      <th>5175</th>\n      <td>1753795833</td>\n      <td>0</td>\n    </tr>\n    <tr>\n      <th>17124</th>\n      <td>1753807782</td>\n      <td>0</td>\n    </tr>\n    <tr>\n      <th>1976</th>\n      <td>1753792634</td>\n      <td>1</td>\n    </tr>\n    <tr>\n      <th>14835</th>\n      <td>1753805493</td>\n      <td>1</td>\n    </tr>\n  </tbody>\n</table>\n</div>"
     },
     "execution_count": 11,
     "metadata": {},
     "output_type": "execute_result"
    }
   ],
   "source": [
    "df_close_loans.sample(5)"
   ],
   "metadata": {
    "collapsed": false,
    "ExecuteTime": {
     "end_time": "2023-12-12T16:51:06.727740500Z",
     "start_time": "2023-12-12T16:51:06.719874200Z"
    }
   }
  },
  {
   "cell_type": "code",
   "execution_count": 9,
   "outputs": [
    {
     "data": {
      "text/plain": "              ID  AGE  GENDER            EDUCATION      MARITAL_STATUS  \\\n2444   106806394   40       1  Среднее специальное      Состою в браке   \n9149   106813846   23       1               Высшее  Не состоял в браке   \n4596   106805663   61       0  Среднее специальное      Состою в браке   \n11983  106815848   43       1  Среднее специальное      Состою в браке   \n14750  106805174   27       0  Среднее специальное      Состою в браке   \n\n       CHILD_TOTAL  DEPENDANTS  SOCSTATUS_WORK_FL  SOCSTATUS_PENS_FL  \\\n2444             1           1                  1                  0   \n9149             0           0                  1                  0   \n4596             3           0                  1                  0   \n11983            2           0                  1                  0   \n14750            2           2                  1                  0   \n\n      REG_ADDRESS_PROVINCE FACT_ADDRESS_PROVINCE POSTAL_ADDRESS_PROVINCE  \\\n2444      Амурская область      Амурская область        Амурская область   \n9149     Кировская область     Кировская область       Кировская область   \n4596        Алтайский край        Алтайский край          Алтайский край   \n11983  Саратовская область   Саратовская область     Саратовская область   \n14750  Воронежская область   Воронежская область     Воронежская область   \n\n       FL_PRESENCE_FL  OWN_AUTO  \n2444                0         0  \n9149                0         0  \n4596                0         1  \n11983               0         0  \n14750               1         0  ",
      "text/html": "<div>\n<style scoped>\n    .dataframe tbody tr th:only-of-type {\n        vertical-align: middle;\n    }\n\n    .dataframe tbody tr th {\n        vertical-align: top;\n    }\n\n    .dataframe thead th {\n        text-align: right;\n    }\n</style>\n<table border=\"1\" class=\"dataframe\">\n  <thead>\n    <tr style=\"text-align: right;\">\n      <th></th>\n      <th>ID</th>\n      <th>AGE</th>\n      <th>GENDER</th>\n      <th>EDUCATION</th>\n      <th>MARITAL_STATUS</th>\n      <th>CHILD_TOTAL</th>\n      <th>DEPENDANTS</th>\n      <th>SOCSTATUS_WORK_FL</th>\n      <th>SOCSTATUS_PENS_FL</th>\n      <th>REG_ADDRESS_PROVINCE</th>\n      <th>FACT_ADDRESS_PROVINCE</th>\n      <th>POSTAL_ADDRESS_PROVINCE</th>\n      <th>FL_PRESENCE_FL</th>\n      <th>OWN_AUTO</th>\n    </tr>\n  </thead>\n  <tbody>\n    <tr>\n      <th>2444</th>\n      <td>106806394</td>\n      <td>40</td>\n      <td>1</td>\n      <td>Среднее специальное</td>\n      <td>Состою в браке</td>\n      <td>1</td>\n      <td>1</td>\n      <td>1</td>\n      <td>0</td>\n      <td>Амурская область</td>\n      <td>Амурская область</td>\n      <td>Амурская область</td>\n      <td>0</td>\n      <td>0</td>\n    </tr>\n    <tr>\n      <th>9149</th>\n      <td>106813846</td>\n      <td>23</td>\n      <td>1</td>\n      <td>Высшее</td>\n      <td>Не состоял в браке</td>\n      <td>0</td>\n      <td>0</td>\n      <td>1</td>\n      <td>0</td>\n      <td>Кировская область</td>\n      <td>Кировская область</td>\n      <td>Кировская область</td>\n      <td>0</td>\n      <td>0</td>\n    </tr>\n    <tr>\n      <th>4596</th>\n      <td>106805663</td>\n      <td>61</td>\n      <td>0</td>\n      <td>Среднее специальное</td>\n      <td>Состою в браке</td>\n      <td>3</td>\n      <td>0</td>\n      <td>1</td>\n      <td>0</td>\n      <td>Алтайский край</td>\n      <td>Алтайский край</td>\n      <td>Алтайский край</td>\n      <td>0</td>\n      <td>1</td>\n    </tr>\n    <tr>\n      <th>11983</th>\n      <td>106815848</td>\n      <td>43</td>\n      <td>1</td>\n      <td>Среднее специальное</td>\n      <td>Состою в браке</td>\n      <td>2</td>\n      <td>0</td>\n      <td>1</td>\n      <td>0</td>\n      <td>Саратовская область</td>\n      <td>Саратовская область</td>\n      <td>Саратовская область</td>\n      <td>0</td>\n      <td>0</td>\n    </tr>\n    <tr>\n      <th>14750</th>\n      <td>106805174</td>\n      <td>27</td>\n      <td>0</td>\n      <td>Среднее специальное</td>\n      <td>Состою в браке</td>\n      <td>2</td>\n      <td>2</td>\n      <td>1</td>\n      <td>0</td>\n      <td>Воронежская область</td>\n      <td>Воронежская область</td>\n      <td>Воронежская область</td>\n      <td>1</td>\n      <td>0</td>\n    </tr>\n  </tbody>\n</table>\n</div>"
     },
     "execution_count": 9,
     "metadata": {},
     "output_type": "execute_result"
    }
   ],
   "source": [
    "df_clients.sample(5)"
   ],
   "metadata": {
    "collapsed": false,
    "ExecuteTime": {
     "end_time": "2023-12-12T16:46:54.268225700Z",
     "start_time": "2023-12-12T16:46:54.254046100Z"
    }
   }
  },
  {
   "cell_type": "code",
   "execution_count": 43,
   "outputs": [
    {
     "data": {
      "text/plain": "                    GEN_INDUSTRY                    GEN_TITLE  \\\n0                       Торговля                      Рабочий   \n1                       Торговля                      Рабочий   \n2      Информационные технологии                   Специалист   \n3                    Образование  Руководитель среднего звена   \n4         Государственная служба                   Специалист   \n...                          ...                          ...   \n15218              Строительство                   Специалист   \n15219            Здравоохранение                       Другое   \n15220                   Торговля                     Служащий   \n15221                        NaN                          NaN   \n15222                  Транспорт                   Специалист   \n\n                             JOB_DIR  WORK_TIME  ID_CLIENT  \n0        Вспомогательный техперсонал       18.0  106804370  \n1      Участие в основ. деятельности       97.0  106804371  \n2      Участие в основ. деятельности       84.0  106804372  \n3      Участие в основ. деятельности      168.0  106804373  \n4      Участие в основ. деятельности      101.0  106804374  \n...                              ...        ...        ...  \n15218  Участие в основ. деятельности       48.0  106819588  \n15219  Участие в основ. деятельности      156.0  106819589  \n15220  Кадровая служба и секретариат       48.0  106819590  \n15221                            NaN        NaN  106819591  \n15222  Участие в основ. деятельности       36.0  106819592  \n\n[15223 rows x 5 columns]",
      "text/html": "<div>\n<style scoped>\n    .dataframe tbody tr th:only-of-type {\n        vertical-align: middle;\n    }\n\n    .dataframe tbody tr th {\n        vertical-align: top;\n    }\n\n    .dataframe thead th {\n        text-align: right;\n    }\n</style>\n<table border=\"1\" class=\"dataframe\">\n  <thead>\n    <tr style=\"text-align: right;\">\n      <th></th>\n      <th>GEN_INDUSTRY</th>\n      <th>GEN_TITLE</th>\n      <th>JOB_DIR</th>\n      <th>WORK_TIME</th>\n      <th>ID_CLIENT</th>\n    </tr>\n  </thead>\n  <tbody>\n    <tr>\n      <th>0</th>\n      <td>Торговля</td>\n      <td>Рабочий</td>\n      <td>Вспомогательный техперсонал</td>\n      <td>18.0</td>\n      <td>106804370</td>\n    </tr>\n    <tr>\n      <th>1</th>\n      <td>Торговля</td>\n      <td>Рабочий</td>\n      <td>Участие в основ. деятельности</td>\n      <td>97.0</td>\n      <td>106804371</td>\n    </tr>\n    <tr>\n      <th>2</th>\n      <td>Информационные технологии</td>\n      <td>Специалист</td>\n      <td>Участие в основ. деятельности</td>\n      <td>84.0</td>\n      <td>106804372</td>\n    </tr>\n    <tr>\n      <th>3</th>\n      <td>Образование</td>\n      <td>Руководитель среднего звена</td>\n      <td>Участие в основ. деятельности</td>\n      <td>168.0</td>\n      <td>106804373</td>\n    </tr>\n    <tr>\n      <th>4</th>\n      <td>Государственная служба</td>\n      <td>Специалист</td>\n      <td>Участие в основ. деятельности</td>\n      <td>101.0</td>\n      <td>106804374</td>\n    </tr>\n    <tr>\n      <th>...</th>\n      <td>...</td>\n      <td>...</td>\n      <td>...</td>\n      <td>...</td>\n      <td>...</td>\n    </tr>\n    <tr>\n      <th>15218</th>\n      <td>Строительство</td>\n      <td>Специалист</td>\n      <td>Участие в основ. деятельности</td>\n      <td>48.0</td>\n      <td>106819588</td>\n    </tr>\n    <tr>\n      <th>15219</th>\n      <td>Здравоохранение</td>\n      <td>Другое</td>\n      <td>Участие в основ. деятельности</td>\n      <td>156.0</td>\n      <td>106819589</td>\n    </tr>\n    <tr>\n      <th>15220</th>\n      <td>Торговля</td>\n      <td>Служащий</td>\n      <td>Кадровая служба и секретариат</td>\n      <td>48.0</td>\n      <td>106819590</td>\n    </tr>\n    <tr>\n      <th>15221</th>\n      <td>NaN</td>\n      <td>NaN</td>\n      <td>NaN</td>\n      <td>NaN</td>\n      <td>106819591</td>\n    </tr>\n    <tr>\n      <th>15222</th>\n      <td>Транспорт</td>\n      <td>Специалист</td>\n      <td>Участие в основ. деятельности</td>\n      <td>36.0</td>\n      <td>106819592</td>\n    </tr>\n  </tbody>\n</table>\n<p>15223 rows × 5 columns</p>\n</div>"
     },
     "execution_count": 43,
     "metadata": {},
     "output_type": "execute_result"
    }
   ],
   "source": [
    "df_job"
   ],
   "metadata": {
    "collapsed": false,
    "ExecuteTime": {
     "end_time": "2023-12-13T10:13:43.262257600Z",
     "start_time": "2023-12-13T10:13:43.252449100Z"
    }
   }
  },
  {
   "cell_type": "code",
   "execution_count": 12,
   "outputs": [
    {
     "data": {
      "text/plain": "        CREDIT  TERM  FST_PAYMENT  ID_CLIENT\n4198    7100.0    12          0.0  106808568\n13870   4690.0     6          0.0  106818240\n8497    3840.0     6        450.0  106812867\n3960   13900.0     6          0.0  106808330\n4858    6513.0     6       3000.0  106809228",
      "text/html": "<div>\n<style scoped>\n    .dataframe tbody tr th:only-of-type {\n        vertical-align: middle;\n    }\n\n    .dataframe tbody tr th {\n        vertical-align: top;\n    }\n\n    .dataframe thead th {\n        text-align: right;\n    }\n</style>\n<table border=\"1\" class=\"dataframe\">\n  <thead>\n    <tr style=\"text-align: right;\">\n      <th></th>\n      <th>CREDIT</th>\n      <th>TERM</th>\n      <th>FST_PAYMENT</th>\n      <th>ID_CLIENT</th>\n    </tr>\n  </thead>\n  <tbody>\n    <tr>\n      <th>4198</th>\n      <td>7100.0</td>\n      <td>12</td>\n      <td>0.0</td>\n      <td>106808568</td>\n    </tr>\n    <tr>\n      <th>13870</th>\n      <td>4690.0</td>\n      <td>6</td>\n      <td>0.0</td>\n      <td>106818240</td>\n    </tr>\n    <tr>\n      <th>8497</th>\n      <td>3840.0</td>\n      <td>6</td>\n      <td>450.0</td>\n      <td>106812867</td>\n    </tr>\n    <tr>\n      <th>3960</th>\n      <td>13900.0</td>\n      <td>6</td>\n      <td>0.0</td>\n      <td>106808330</td>\n    </tr>\n    <tr>\n      <th>4858</th>\n      <td>6513.0</td>\n      <td>6</td>\n      <td>3000.0</td>\n      <td>106809228</td>\n    </tr>\n  </tbody>\n</table>\n</div>"
     },
     "execution_count": 12,
     "metadata": {},
     "output_type": "execute_result"
    }
   ],
   "source": [
    "df_last_credit.sample(5)"
   ],
   "metadata": {
    "collapsed": false,
    "ExecuteTime": {
     "end_time": "2023-12-12T16:51:28.326569600Z",
     "start_time": "2023-12-12T16:51:28.297446500Z"
    }
   }
  },
  {
   "cell_type": "code",
   "execution_count": 23,
   "outputs": [
    {
     "data": {
      "text/plain": "GEN_INDUSTRY                         Торговля\nGEN_TITLE                Работник сферы услуг\nJOB_DIR         Участие в основ. деятельности\nWORK_TIME                               120.0\nID_CLIENT                           106804420\nName: 50, dtype: object"
     },
     "execution_count": 23,
     "metadata": {},
     "output_type": "execute_result"
    }
   ],
   "source": [
    "df_job.iloc[50,]"
   ],
   "metadata": {
    "collapsed": false,
    "ExecuteTime": {
     "end_time": "2023-12-13T08:15:57.351853400Z",
     "start_time": "2023-12-13T08:15:57.342474900Z"
    }
   }
  },
  {
   "cell_type": "code",
   "execution_count": 24,
   "outputs": [
    {
     "data": {
      "text/plain": "CREDIT             23166.0\nTERM                   5.0\nFST_PAYMENT         2574.0\nID_CLIENT      106804420.0\nName: 50, dtype: float64"
     },
     "execution_count": 24,
     "metadata": {},
     "output_type": "execute_result"
    }
   ],
   "source": [
    "df_last_credit.iloc[50,]"
   ],
   "metadata": {
    "collapsed": false,
    "ExecuteTime": {
     "end_time": "2023-12-13T08:16:36.900652500Z",
     "start_time": "2023-12-13T08:16:36.881817300Z"
    }
   }
  },
  {
   "cell_type": "code",
   "execution_count": 17,
   "outputs": [
    {
     "data": {
      "text/plain": "       AGREEMENT_RK  ID_CLIENT  TARGET\n8460       64887718  106812830       0\n11766      67175778  106816136       0\n11099      66968242  106815469       1\n1249       60456147  106805619       0\n7553       64360641  106811923       0",
      "text/html": "<div>\n<style scoped>\n    .dataframe tbody tr th:only-of-type {\n        vertical-align: middle;\n    }\n\n    .dataframe tbody tr th {\n        vertical-align: top;\n    }\n\n    .dataframe thead th {\n        text-align: right;\n    }\n</style>\n<table border=\"1\" class=\"dataframe\">\n  <thead>\n    <tr style=\"text-align: right;\">\n      <th></th>\n      <th>AGREEMENT_RK</th>\n      <th>ID_CLIENT</th>\n      <th>TARGET</th>\n    </tr>\n  </thead>\n  <tbody>\n    <tr>\n      <th>8460</th>\n      <td>64887718</td>\n      <td>106812830</td>\n      <td>0</td>\n    </tr>\n    <tr>\n      <th>11766</th>\n      <td>67175778</td>\n      <td>106816136</td>\n      <td>0</td>\n    </tr>\n    <tr>\n      <th>11099</th>\n      <td>66968242</td>\n      <td>106815469</td>\n      <td>1</td>\n    </tr>\n    <tr>\n      <th>1249</th>\n      <td>60456147</td>\n      <td>106805619</td>\n      <td>0</td>\n    </tr>\n    <tr>\n      <th>7553</th>\n      <td>64360641</td>\n      <td>106811923</td>\n      <td>0</td>\n    </tr>\n  </tbody>\n</table>\n</div>"
     },
     "execution_count": 17,
     "metadata": {},
     "output_type": "execute_result"
    }
   ],
   "source": [
    "df_target.sample(5)"
   ],
   "metadata": {
    "collapsed": false,
    "ExecuteTime": {
     "end_time": "2023-12-12T16:53:33.920492100Z",
     "start_time": "2023-12-12T16:53:33.912412300Z"
    }
   }
  },
  {
   "cell_type": "code",
   "execution_count": 25,
   "outputs": [
    {
     "data": {
      "text/plain": "AGREEMENT_RK     59916196\nID_CLIENT       106804420\nTARGET                  0\nName: 50, dtype: int64"
     },
     "execution_count": 25,
     "metadata": {},
     "output_type": "execute_result"
    }
   ],
   "source": [
    "df_target.iloc[50,]"
   ],
   "metadata": {
    "collapsed": false,
    "ExecuteTime": {
     "end_time": "2023-12-13T08:18:08.831973400Z",
     "start_time": "2023-12-13T08:18:08.825197200Z"
    }
   }
  },
  {
   "cell_type": "code",
   "execution_count": 16,
   "outputs": [
    {
     "data": {
      "text/plain": "                FAMILY_INCOME  PERSONAL_INCOME  ID_CLIENT\n14433  от 10000 до 20000 руб.          10500.0  106808233\n11265  от 10000 до 20000 руб.          18000.0  106814091\n7692   от 20000 до 50000 руб.          15000.0  106817690\n7211   от 10000 до 20000 руб.           6000.0  106811045\n8854   от 20000 до 50000 руб.          12000.0  106805165",
      "text/html": "<div>\n<style scoped>\n    .dataframe tbody tr th:only-of-type {\n        vertical-align: middle;\n    }\n\n    .dataframe tbody tr th {\n        vertical-align: top;\n    }\n\n    .dataframe thead th {\n        text-align: right;\n    }\n</style>\n<table border=\"1\" class=\"dataframe\">\n  <thead>\n    <tr style=\"text-align: right;\">\n      <th></th>\n      <th>FAMILY_INCOME</th>\n      <th>PERSONAL_INCOME</th>\n      <th>ID_CLIENT</th>\n    </tr>\n  </thead>\n  <tbody>\n    <tr>\n      <th>14433</th>\n      <td>от 10000 до 20000 руб.</td>\n      <td>10500.0</td>\n      <td>106808233</td>\n    </tr>\n    <tr>\n      <th>11265</th>\n      <td>от 10000 до 20000 руб.</td>\n      <td>18000.0</td>\n      <td>106814091</td>\n    </tr>\n    <tr>\n      <th>7692</th>\n      <td>от 20000 до 50000 руб.</td>\n      <td>15000.0</td>\n      <td>106817690</td>\n    </tr>\n    <tr>\n      <th>7211</th>\n      <td>от 10000 до 20000 руб.</td>\n      <td>6000.0</td>\n      <td>106811045</td>\n    </tr>\n    <tr>\n      <th>8854</th>\n      <td>от 20000 до 50000 руб.</td>\n      <td>12000.0</td>\n      <td>106805165</td>\n    </tr>\n  </tbody>\n</table>\n</div>"
     },
     "execution_count": 16,
     "metadata": {},
     "output_type": "execute_result"
    }
   ],
   "source": [
    "df_salary.sample(5)"
   ],
   "metadata": {
    "collapsed": false,
    "ExecuteTime": {
     "end_time": "2023-12-12T16:53:12.278693700Z",
     "start_time": "2023-12-12T16:53:12.266032200Z"
    }
   }
  },
  {
   "cell_type": "code",
   "execution_count": 8,
   "outputs": [
    {
     "data": {
      "text/plain": "   ID  FLAG      COMMENT\n0   1     0     работает\n1   2     1  не работает\n2   3     2  не известно",
      "text/html": "<div>\n<style scoped>\n    .dataframe tbody tr th:only-of-type {\n        vertical-align: middle;\n    }\n\n    .dataframe tbody tr th {\n        vertical-align: top;\n    }\n\n    .dataframe thead th {\n        text-align: right;\n    }\n</style>\n<table border=\"1\" class=\"dataframe\">\n  <thead>\n    <tr style=\"text-align: right;\">\n      <th></th>\n      <th>ID</th>\n      <th>FLAG</th>\n      <th>COMMENT</th>\n    </tr>\n  </thead>\n  <tbody>\n    <tr>\n      <th>0</th>\n      <td>1</td>\n      <td>0</td>\n      <td>работает</td>\n    </tr>\n    <tr>\n      <th>1</th>\n      <td>2</td>\n      <td>1</td>\n      <td>не работает</td>\n    </tr>\n    <tr>\n      <th>2</th>\n      <td>3</td>\n      <td>2</td>\n      <td>не известно</td>\n    </tr>\n  </tbody>\n</table>\n</div>"
     },
     "execution_count": 8,
     "metadata": {},
     "output_type": "execute_result"
    }
   ],
   "source": [
    "df_work"
   ],
   "metadata": {
    "collapsed": false,
    "ExecuteTime": {
     "end_time": "2023-12-12T16:46:42.538451100Z",
     "start_time": "2023-12-12T16:46:42.529879700Z"
    }
   }
  },
  {
   "cell_type": "code",
   "execution_count": 15,
   "outputs": [
    {
     "data": {
      "text/plain": "   ID  FLAG       COMMENT\n0   1     0     пенсионер\n1   2     1  не пенсионер",
      "text/html": "<div>\n<style scoped>\n    .dataframe tbody tr th:only-of-type {\n        vertical-align: middle;\n    }\n\n    .dataframe tbody tr th {\n        vertical-align: top;\n    }\n\n    .dataframe thead th {\n        text-align: right;\n    }\n</style>\n<table border=\"1\" class=\"dataframe\">\n  <thead>\n    <tr style=\"text-align: right;\">\n      <th></th>\n      <th>ID</th>\n      <th>FLAG</th>\n      <th>COMMENT</th>\n    </tr>\n  </thead>\n  <tbody>\n    <tr>\n      <th>0</th>\n      <td>1</td>\n      <td>0</td>\n      <td>пенсионер</td>\n    </tr>\n    <tr>\n      <th>1</th>\n      <td>2</td>\n      <td>1</td>\n      <td>не пенсионер</td>\n    </tr>\n  </tbody>\n</table>\n</div>"
     },
     "execution_count": 15,
     "metadata": {},
     "output_type": "execute_result"
    }
   ],
   "source": [
    "df_pens"
   ],
   "metadata": {
    "collapsed": false,
    "ExecuteTime": {
     "end_time": "2023-12-12T16:52:50.729716700Z",
     "start_time": "2023-12-12T16:52:50.722989800Z"
    }
   }
  },
  {
   "cell_type": "code",
   "execution_count": 22,
   "outputs": [
    {
     "data": {
      "text/plain": "((21126, 2),\n (21126, 2),\n (16000, 14),\n (15223, 4),\n (15223, 5),\n (15223, 3),\n (15523, 3),\n (2, 3),\n (3, 3))"
     },
     "execution_count": 22,
     "metadata": {},
     "output_type": "execute_result"
    }
   ],
   "source": [
    "df_loan.shape, df_close_loans.shape, df_clients.shape, df_last_credit.shape, df_job.shape, df_target.shape, df_salary.shape, df_pens.shape, df_work.shape"
   ],
   "metadata": {
    "collapsed": false,
    "ExecuteTime": {
     "end_time": "2023-12-12T16:59:01.156069500Z",
     "start_time": "2023-12-12T16:59:01.150066700Z"
    }
   }
  },
  {
   "cell_type": "code",
   "execution_count": 78,
   "outputs": [],
   "source": [
    "df_union_15523 = df_target.merge(df_last_credit).merge(df_job).merge(df_salary)"
   ],
   "metadata": {
    "collapsed": false,
    "ExecuteTime": {
     "end_time": "2023-12-13T11:27:19.629787800Z",
     "start_time": "2023-12-13T11:27:19.599332600Z"
    }
   }
  },
  {
   "cell_type": "code",
   "execution_count": 83,
   "outputs": [
    {
     "data": {
      "text/plain": "       AGREEMENT_RK  ID_CLIENT  TARGET    CREDIT  TERM  FST_PAYMENT  \\\n0          59910150  106804370       0   8000.00     6       8650.0   \n1          59910150  106804370       0   8000.00     6       8650.0   \n2          59910230  106804371       0  21650.00     6       4000.0   \n3          59910525  106804372       0  33126.00    12       4000.0   \n4          59910803  106804373       0   8491.82     6       5000.0   \n...             ...        ...     ...       ...   ...          ...   \n15518      75291424  106819588       0  13450.00    10       1500.0   \n15519      75291888  106819589       0   8991.00     6       4000.0   \n15520      75291923  106819590       0   2700.00     6        800.0   \n15521      75291960  106819591       0  24357.00    10      17930.0   \n15522      75292242  106819592       0  10245.00     6       1200.0   \n\n                    GEN_INDUSTRY                    GEN_TITLE  \\\n0                       Торговля                      Рабочий   \n1                       Торговля                      Рабочий   \n2                       Торговля                      Рабочий   \n3      Информационные технологии                   Специалист   \n4                    Образование  Руководитель среднего звена   \n...                          ...                          ...   \n15518              Строительство                   Специалист   \n15519            Здравоохранение                       Другое   \n15520                   Торговля                     Служащий   \n15521                        NaN                          NaN   \n15522                  Транспорт                   Специалист   \n\n                             JOB_DIR  WORK_TIME           FAMILY_INCOME  \\\n0        Вспомогательный техперсонал       18.0  от 10000 до 20000 руб.   \n1        Вспомогательный техперсонал       18.0  от 10000 до 20000 руб.   \n2      Участие в основ. деятельности       97.0  от 10000 до 20000 руб.   \n3      Участие в основ. деятельности       84.0  от 10000 до 20000 руб.   \n4      Участие в основ. деятельности      168.0  от 20000 до 50000 руб.   \n...                              ...        ...                     ...   \n15518  Участие в основ. деятельности       48.0  от 10000 до 20000 руб.   \n15519  Участие в основ. деятельности      156.0  от 20000 до 50000 руб.   \n15520  Кадровая служба и секретариат       48.0   от 5000 до 10000 руб.   \n15521                            NaN        NaN  от 10000 до 20000 руб.   \n15522  Участие в основ. деятельности       36.0  от 20000 до 50000 руб.   \n\n       PERSONAL_INCOME  \n0               5000.0  \n1               5000.0  \n2              12000.0  \n3               9000.0  \n4              25000.0  \n...                ...  \n15518          12000.0  \n15519          10000.0  \n15520           6000.0  \n15521           4500.0  \n15522          20000.0  \n\n[15523 rows x 12 columns]",
      "text/html": "<div>\n<style scoped>\n    .dataframe tbody tr th:only-of-type {\n        vertical-align: middle;\n    }\n\n    .dataframe tbody tr th {\n        vertical-align: top;\n    }\n\n    .dataframe thead th {\n        text-align: right;\n    }\n</style>\n<table border=\"1\" class=\"dataframe\">\n  <thead>\n    <tr style=\"text-align: right;\">\n      <th></th>\n      <th>AGREEMENT_RK</th>\n      <th>ID_CLIENT</th>\n      <th>TARGET</th>\n      <th>CREDIT</th>\n      <th>TERM</th>\n      <th>FST_PAYMENT</th>\n      <th>GEN_INDUSTRY</th>\n      <th>GEN_TITLE</th>\n      <th>JOB_DIR</th>\n      <th>WORK_TIME</th>\n      <th>FAMILY_INCOME</th>\n      <th>PERSONAL_INCOME</th>\n    </tr>\n  </thead>\n  <tbody>\n    <tr>\n      <th>0</th>\n      <td>59910150</td>\n      <td>106804370</td>\n      <td>0</td>\n      <td>8000.00</td>\n      <td>6</td>\n      <td>8650.0</td>\n      <td>Торговля</td>\n      <td>Рабочий</td>\n      <td>Вспомогательный техперсонал</td>\n      <td>18.0</td>\n      <td>от 10000 до 20000 руб.</td>\n      <td>5000.0</td>\n    </tr>\n    <tr>\n      <th>1</th>\n      <td>59910150</td>\n      <td>106804370</td>\n      <td>0</td>\n      <td>8000.00</td>\n      <td>6</td>\n      <td>8650.0</td>\n      <td>Торговля</td>\n      <td>Рабочий</td>\n      <td>Вспомогательный техперсонал</td>\n      <td>18.0</td>\n      <td>от 10000 до 20000 руб.</td>\n      <td>5000.0</td>\n    </tr>\n    <tr>\n      <th>2</th>\n      <td>59910230</td>\n      <td>106804371</td>\n      <td>0</td>\n      <td>21650.00</td>\n      <td>6</td>\n      <td>4000.0</td>\n      <td>Торговля</td>\n      <td>Рабочий</td>\n      <td>Участие в основ. деятельности</td>\n      <td>97.0</td>\n      <td>от 10000 до 20000 руб.</td>\n      <td>12000.0</td>\n    </tr>\n    <tr>\n      <th>3</th>\n      <td>59910525</td>\n      <td>106804372</td>\n      <td>0</td>\n      <td>33126.00</td>\n      <td>12</td>\n      <td>4000.0</td>\n      <td>Информационные технологии</td>\n      <td>Специалист</td>\n      <td>Участие в основ. деятельности</td>\n      <td>84.0</td>\n      <td>от 10000 до 20000 руб.</td>\n      <td>9000.0</td>\n    </tr>\n    <tr>\n      <th>4</th>\n      <td>59910803</td>\n      <td>106804373</td>\n      <td>0</td>\n      <td>8491.82</td>\n      <td>6</td>\n      <td>5000.0</td>\n      <td>Образование</td>\n      <td>Руководитель среднего звена</td>\n      <td>Участие в основ. деятельности</td>\n      <td>168.0</td>\n      <td>от 20000 до 50000 руб.</td>\n      <td>25000.0</td>\n    </tr>\n    <tr>\n      <th>...</th>\n      <td>...</td>\n      <td>...</td>\n      <td>...</td>\n      <td>...</td>\n      <td>...</td>\n      <td>...</td>\n      <td>...</td>\n      <td>...</td>\n      <td>...</td>\n      <td>...</td>\n      <td>...</td>\n      <td>...</td>\n    </tr>\n    <tr>\n      <th>15518</th>\n      <td>75291424</td>\n      <td>106819588</td>\n      <td>0</td>\n      <td>13450.00</td>\n      <td>10</td>\n      <td>1500.0</td>\n      <td>Строительство</td>\n      <td>Специалист</td>\n      <td>Участие в основ. деятельности</td>\n      <td>48.0</td>\n      <td>от 10000 до 20000 руб.</td>\n      <td>12000.0</td>\n    </tr>\n    <tr>\n      <th>15519</th>\n      <td>75291888</td>\n      <td>106819589</td>\n      <td>0</td>\n      <td>8991.00</td>\n      <td>6</td>\n      <td>4000.0</td>\n      <td>Здравоохранение</td>\n      <td>Другое</td>\n      <td>Участие в основ. деятельности</td>\n      <td>156.0</td>\n      <td>от 20000 до 50000 руб.</td>\n      <td>10000.0</td>\n    </tr>\n    <tr>\n      <th>15520</th>\n      <td>75291923</td>\n      <td>106819590</td>\n      <td>0</td>\n      <td>2700.00</td>\n      <td>6</td>\n      <td>800.0</td>\n      <td>Торговля</td>\n      <td>Служащий</td>\n      <td>Кадровая служба и секретариат</td>\n      <td>48.0</td>\n      <td>от 5000 до 10000 руб.</td>\n      <td>6000.0</td>\n    </tr>\n    <tr>\n      <th>15521</th>\n      <td>75291960</td>\n      <td>106819591</td>\n      <td>0</td>\n      <td>24357.00</td>\n      <td>10</td>\n      <td>17930.0</td>\n      <td>NaN</td>\n      <td>NaN</td>\n      <td>NaN</td>\n      <td>NaN</td>\n      <td>от 10000 до 20000 руб.</td>\n      <td>4500.0</td>\n    </tr>\n    <tr>\n      <th>15522</th>\n      <td>75292242</td>\n      <td>106819592</td>\n      <td>0</td>\n      <td>10245.00</td>\n      <td>6</td>\n      <td>1200.0</td>\n      <td>Транспорт</td>\n      <td>Специалист</td>\n      <td>Участие в основ. деятельности</td>\n      <td>36.0</td>\n      <td>от 20000 до 50000 руб.</td>\n      <td>20000.0</td>\n    </tr>\n  </tbody>\n</table>\n<p>15523 rows × 12 columns</p>\n</div>"
     },
     "execution_count": 83,
     "metadata": {},
     "output_type": "execute_result"
    }
   ],
   "source": [
    "df_union_15523"
   ],
   "metadata": {
    "collapsed": false,
    "ExecuteTime": {
     "end_time": "2023-12-13T11:29:41.211674800Z",
     "start_time": "2023-12-13T11:29:41.197187100Z"
    }
   }
  },
  {
   "cell_type": "code",
   "execution_count": 82,
   "outputs": [
    {
     "data": {
      "text/plain": "(15523, 12)"
     },
     "execution_count": 82,
     "metadata": {},
     "output_type": "execute_result"
    }
   ],
   "source": [
    "df_union_15523.shape"
   ],
   "metadata": {
    "collapsed": false,
    "ExecuteTime": {
     "end_time": "2023-12-13T11:29:22.000189900Z",
     "start_time": "2023-12-13T11:29:21.982295Z"
    }
   }
  },
  {
   "cell_type": "code",
   "execution_count": 30,
   "outputs": [
    {
     "data": {
      "text/plain": "ID_LOAN      1753790708\nID_CLIENT     106804411\nName: 50, dtype: int64"
     },
     "execution_count": 30,
     "metadata": {},
     "output_type": "execute_result"
    }
   ],
   "source": [
    "df_loan.iloc[50]"
   ],
   "metadata": {
    "collapsed": false,
    "ExecuteTime": {
     "end_time": "2023-12-13T08:42:41.808128400Z",
     "start_time": "2023-12-13T08:42:41.789497200Z"
    }
   }
  },
  {
   "cell_type": "code",
   "execution_count": 31,
   "outputs": [
    {
     "data": {
      "text/plain": "ID_LOAN      1753790708\nCLOSED_FL             1\nName: 50, dtype: int64"
     },
     "execution_count": 31,
     "metadata": {},
     "output_type": "execute_result"
    }
   ],
   "source": [
    "df_close_loans.iloc[50]"
   ],
   "metadata": {
    "collapsed": false,
    "ExecuteTime": {
     "end_time": "2023-12-13T08:43:00.731121300Z",
     "start_time": "2023-12-13T08:43:00.722285500Z"
    }
   }
  },
  {
   "cell_type": "code",
   "execution_count": 53,
   "outputs": [],
   "source": [
    "df_union_21126 = df_loan.merge(df_close_loans)"
   ],
   "metadata": {
    "collapsed": false,
    "ExecuteTime": {
     "end_time": "2023-12-13T10:50:09.788114800Z",
     "start_time": "2023-12-13T10:50:09.778908100Z"
    }
   }
  },
  {
   "cell_type": "code",
   "execution_count": 84,
   "outputs": [
    {
     "data": {
      "text/plain": "          ID_LOAN  ID_CLIENT  CLOSED_FL\n0      1753790658  106804370          1\n1      1753790659  106804371          1\n2      1753790660  106804372          1\n3      1753790661  106804372          0\n4      1753790662  106804373          1\n...           ...        ...        ...\n21121  1753811779  106819588          1\n21122  1753811780  106819589          0\n21123  1753811781  106819590          0\n21124  1753811782  106819591          0\n21125  1753811783  106819592          0\n\n[21126 rows x 3 columns]",
      "text/html": "<div>\n<style scoped>\n    .dataframe tbody tr th:only-of-type {\n        vertical-align: middle;\n    }\n\n    .dataframe tbody tr th {\n        vertical-align: top;\n    }\n\n    .dataframe thead th {\n        text-align: right;\n    }\n</style>\n<table border=\"1\" class=\"dataframe\">\n  <thead>\n    <tr style=\"text-align: right;\">\n      <th></th>\n      <th>ID_LOAN</th>\n      <th>ID_CLIENT</th>\n      <th>CLOSED_FL</th>\n    </tr>\n  </thead>\n  <tbody>\n    <tr>\n      <th>0</th>\n      <td>1753790658</td>\n      <td>106804370</td>\n      <td>1</td>\n    </tr>\n    <tr>\n      <th>1</th>\n      <td>1753790659</td>\n      <td>106804371</td>\n      <td>1</td>\n    </tr>\n    <tr>\n      <th>2</th>\n      <td>1753790660</td>\n      <td>106804372</td>\n      <td>1</td>\n    </tr>\n    <tr>\n      <th>3</th>\n      <td>1753790661</td>\n      <td>106804372</td>\n      <td>0</td>\n    </tr>\n    <tr>\n      <th>4</th>\n      <td>1753790662</td>\n      <td>106804373</td>\n      <td>1</td>\n    </tr>\n    <tr>\n      <th>...</th>\n      <td>...</td>\n      <td>...</td>\n      <td>...</td>\n    </tr>\n    <tr>\n      <th>21121</th>\n      <td>1753811779</td>\n      <td>106819588</td>\n      <td>1</td>\n    </tr>\n    <tr>\n      <th>21122</th>\n      <td>1753811780</td>\n      <td>106819589</td>\n      <td>0</td>\n    </tr>\n    <tr>\n      <th>21123</th>\n      <td>1753811781</td>\n      <td>106819590</td>\n      <td>0</td>\n    </tr>\n    <tr>\n      <th>21124</th>\n      <td>1753811782</td>\n      <td>106819591</td>\n      <td>0</td>\n    </tr>\n    <tr>\n      <th>21125</th>\n      <td>1753811783</td>\n      <td>106819592</td>\n      <td>0</td>\n    </tr>\n  </tbody>\n</table>\n<p>21126 rows × 3 columns</p>\n</div>"
     },
     "execution_count": 84,
     "metadata": {},
     "output_type": "execute_result"
    }
   ],
   "source": [
    "df_union_21126"
   ],
   "metadata": {
    "collapsed": false,
    "ExecuteTime": {
     "end_time": "2023-12-13T11:30:01.801149500Z",
     "start_time": "2023-12-13T11:30:01.789338Z"
    }
   }
  },
  {
   "cell_type": "code",
   "execution_count": 39,
   "outputs": [
    {
     "data": {
      "text/plain": "              ID  AGE  GENDER            EDUCATION      MARITAL_STATUS  \\\n0      106805103   42       1              Среднее  Не состоял в браке   \n1      106809308   28       1  Среднее специальное      Состою в браке   \n2      106805867   64       0  Среднее специальное      Состою в браке   \n3      106808779   54       1  Среднее специальное      Состою в браке   \n4      106814289   26       0  Среднее специальное      Состою в браке   \n...          ...  ...     ...                  ...                 ...   \n15995  106814680   26       1              Среднее  Не состоял в браке   \n15996  106812464   26       0  Среднее специальное      Состою в браке   \n15997  106809255   30       1  Среднее специальное  Не состоял в браке   \n15998  106814593   25       0  Среднее специальное      Состою в браке   \n15999  106813640   26       1               Высшее  Не состоял в браке   \n\n       CHILD_TOTAL  DEPENDANTS  SOCSTATUS_WORK_FL  SOCSTATUS_PENS_FL  \\\n0                1           0                  1                  0   \n1                1           1                  1                  0   \n2                2           0                  1                  1   \n3                0           0                  1                  0   \n4                1           1                  1                  0   \n...            ...         ...                ...                ...   \n15995            1           1                  1                  0   \n15996            0           0                  1                  0   \n15997            0           0                  1                  0   \n15998            0           0                  1                  0   \n15999            0           0                  1                  0   \n\n        REG_ADDRESS_PROVINCE  FACT_ADDRESS_PROVINCE POSTAL_ADDRESS_PROVINCE  \\\n0         Московская область     Московская область      Московская область   \n1          Читинская область      Читинская область       Читинская область   \n2          Иркутская область      Иркутская область       Иркутская область   \n3      Новосибирская область  Новосибирская область   Новосибирская область   \n4          Красноярский край      Красноярский край       Красноярский край   \n...                      ...                    ...                     ...   \n15995                Чувашия                Чувашия                 Чувашия   \n15996                Карелия                Карелия                 Карелия   \n15997   Белгородская область   Белгородская область    Белгородская область   \n15998     Кабардино-Балкария     Кабардино-Балкария      Кабардино-Балкария   \n15999              Татарстан              Татарстан               Татарстан   \n\n       FL_PRESENCE_FL  OWN_AUTO  \n0                   1         0  \n1                   0         0  \n2                   0         1  \n3                   1         1  \n4                   1         0  \n...               ...       ...  \n15995               0         0  \n15996               0         0  \n15997               0         0  \n15998               0         0  \n15999               1         0  \n\n[16000 rows x 14 columns]",
      "text/html": "<div>\n<style scoped>\n    .dataframe tbody tr th:only-of-type {\n        vertical-align: middle;\n    }\n\n    .dataframe tbody tr th {\n        vertical-align: top;\n    }\n\n    .dataframe thead th {\n        text-align: right;\n    }\n</style>\n<table border=\"1\" class=\"dataframe\">\n  <thead>\n    <tr style=\"text-align: right;\">\n      <th></th>\n      <th>ID</th>\n      <th>AGE</th>\n      <th>GENDER</th>\n      <th>EDUCATION</th>\n      <th>MARITAL_STATUS</th>\n      <th>CHILD_TOTAL</th>\n      <th>DEPENDANTS</th>\n      <th>SOCSTATUS_WORK_FL</th>\n      <th>SOCSTATUS_PENS_FL</th>\n      <th>REG_ADDRESS_PROVINCE</th>\n      <th>FACT_ADDRESS_PROVINCE</th>\n      <th>POSTAL_ADDRESS_PROVINCE</th>\n      <th>FL_PRESENCE_FL</th>\n      <th>OWN_AUTO</th>\n    </tr>\n  </thead>\n  <tbody>\n    <tr>\n      <th>0</th>\n      <td>106805103</td>\n      <td>42</td>\n      <td>1</td>\n      <td>Среднее</td>\n      <td>Не состоял в браке</td>\n      <td>1</td>\n      <td>0</td>\n      <td>1</td>\n      <td>0</td>\n      <td>Московская область</td>\n      <td>Московская область</td>\n      <td>Московская область</td>\n      <td>1</td>\n      <td>0</td>\n    </tr>\n    <tr>\n      <th>1</th>\n      <td>106809308</td>\n      <td>28</td>\n      <td>1</td>\n      <td>Среднее специальное</td>\n      <td>Состою в браке</td>\n      <td>1</td>\n      <td>1</td>\n      <td>1</td>\n      <td>0</td>\n      <td>Читинская область</td>\n      <td>Читинская область</td>\n      <td>Читинская область</td>\n      <td>0</td>\n      <td>0</td>\n    </tr>\n    <tr>\n      <th>2</th>\n      <td>106805867</td>\n      <td>64</td>\n      <td>0</td>\n      <td>Среднее специальное</td>\n      <td>Состою в браке</td>\n      <td>2</td>\n      <td>0</td>\n      <td>1</td>\n      <td>1</td>\n      <td>Иркутская область</td>\n      <td>Иркутская область</td>\n      <td>Иркутская область</td>\n      <td>0</td>\n      <td>1</td>\n    </tr>\n    <tr>\n      <th>3</th>\n      <td>106808779</td>\n      <td>54</td>\n      <td>1</td>\n      <td>Среднее специальное</td>\n      <td>Состою в браке</td>\n      <td>0</td>\n      <td>0</td>\n      <td>1</td>\n      <td>0</td>\n      <td>Новосибирская область</td>\n      <td>Новосибирская область</td>\n      <td>Новосибирская область</td>\n      <td>1</td>\n      <td>1</td>\n    </tr>\n    <tr>\n      <th>4</th>\n      <td>106814289</td>\n      <td>26</td>\n      <td>0</td>\n      <td>Среднее специальное</td>\n      <td>Состою в браке</td>\n      <td>1</td>\n      <td>1</td>\n      <td>1</td>\n      <td>0</td>\n      <td>Красноярский край</td>\n      <td>Красноярский край</td>\n      <td>Красноярский край</td>\n      <td>1</td>\n      <td>0</td>\n    </tr>\n    <tr>\n      <th>...</th>\n      <td>...</td>\n      <td>...</td>\n      <td>...</td>\n      <td>...</td>\n      <td>...</td>\n      <td>...</td>\n      <td>...</td>\n      <td>...</td>\n      <td>...</td>\n      <td>...</td>\n      <td>...</td>\n      <td>...</td>\n      <td>...</td>\n      <td>...</td>\n    </tr>\n    <tr>\n      <th>15995</th>\n      <td>106814680</td>\n      <td>26</td>\n      <td>1</td>\n      <td>Среднее</td>\n      <td>Не состоял в браке</td>\n      <td>1</td>\n      <td>1</td>\n      <td>1</td>\n      <td>0</td>\n      <td>Чувашия</td>\n      <td>Чувашия</td>\n      <td>Чувашия</td>\n      <td>0</td>\n      <td>0</td>\n    </tr>\n    <tr>\n      <th>15996</th>\n      <td>106812464</td>\n      <td>26</td>\n      <td>0</td>\n      <td>Среднее специальное</td>\n      <td>Состою в браке</td>\n      <td>0</td>\n      <td>0</td>\n      <td>1</td>\n      <td>0</td>\n      <td>Карелия</td>\n      <td>Карелия</td>\n      <td>Карелия</td>\n      <td>0</td>\n      <td>0</td>\n    </tr>\n    <tr>\n      <th>15997</th>\n      <td>106809255</td>\n      <td>30</td>\n      <td>1</td>\n      <td>Среднее специальное</td>\n      <td>Не состоял в браке</td>\n      <td>0</td>\n      <td>0</td>\n      <td>1</td>\n      <td>0</td>\n      <td>Белгородская область</td>\n      <td>Белгородская область</td>\n      <td>Белгородская область</td>\n      <td>0</td>\n      <td>0</td>\n    </tr>\n    <tr>\n      <th>15998</th>\n      <td>106814593</td>\n      <td>25</td>\n      <td>0</td>\n      <td>Среднее специальное</td>\n      <td>Состою в браке</td>\n      <td>0</td>\n      <td>0</td>\n      <td>1</td>\n      <td>0</td>\n      <td>Кабардино-Балкария</td>\n      <td>Кабардино-Балкария</td>\n      <td>Кабардино-Балкария</td>\n      <td>0</td>\n      <td>0</td>\n    </tr>\n    <tr>\n      <th>15999</th>\n      <td>106813640</td>\n      <td>26</td>\n      <td>1</td>\n      <td>Высшее</td>\n      <td>Не состоял в браке</td>\n      <td>0</td>\n      <td>0</td>\n      <td>1</td>\n      <td>0</td>\n      <td>Татарстан</td>\n      <td>Татарстан</td>\n      <td>Татарстан</td>\n      <td>1</td>\n      <td>0</td>\n    </tr>\n  </tbody>\n</table>\n<p>16000 rows × 14 columns</p>\n</div>"
     },
     "execution_count": 39,
     "metadata": {},
     "output_type": "execute_result"
    }
   ],
   "source": [
    "df_clients"
   ],
   "metadata": {
    "collapsed": false,
    "ExecuteTime": {
     "end_time": "2023-12-13T10:01:34.405684Z",
     "start_time": "2023-12-13T10:01:34.328352Z"
    }
   }
  },
  {
   "cell_type": "code",
   "execution_count": 87,
   "outputs": [],
   "source": [
    "df_full_union = pd.merge(df_clients, df_union_15523, how='left', left_on='ID', right_on='ID_CLIENT')"
   ],
   "metadata": {
    "collapsed": false,
    "ExecuteTime": {
     "end_time": "2023-12-13T11:30:52.002811900Z",
     "start_time": "2023-12-13T11:30:51.914804300Z"
    }
   }
  },
  {
   "cell_type": "code",
   "execution_count": 101,
   "outputs": [
    {
     "data": {
      "text/plain": "((16000, 14), (15523, 12))"
     },
     "execution_count": 101,
     "metadata": {},
     "output_type": "execute_result"
    }
   ],
   "source": [
    "df_clients.shape, df_union_15523.shape"
   ],
   "metadata": {
    "collapsed": false,
    "ExecuteTime": {
     "end_time": "2023-12-13T11:39:31.582827200Z",
     "start_time": "2023-12-13T11:39:31.570467Z"
    }
   }
  },
  {
   "cell_type": "code",
   "execution_count": 98,
   "outputs": [
    {
     "data": {
      "text/plain": "              ID  AGE  GENDER            EDUCATION      MARITAL_STATUS  \\\n0      106805103   42       1              Среднее  Не состоял в браке   \n1      106809308   28       1  Среднее специальное      Состою в браке   \n2      106805867   64       0  Среднее специальное      Состою в браке   \n3      106808779   54       1  Среднее специальное      Состою в браке   \n4      106814289   26       0  Среднее специальное      Состою в браке   \n...          ...  ...     ...                  ...                 ...   \n16295  106814680   26       1              Среднее  Не состоял в браке   \n16296  106812464   26       0  Среднее специальное      Состою в браке   \n16297  106809255   30       1  Среднее специальное  Не состоял в браке   \n16298  106814593   25       0  Среднее специальное      Состою в браке   \n16299  106813640   26       1               Высшее  Не состоял в браке   \n\n       CHILD_TOTAL  DEPENDANTS  SOCSTATUS_WORK_FL  SOCSTATUS_PENS_FL  \\\n0                1           0                  1                  0   \n1                1           1                  1                  0   \n2                2           0                  1                  1   \n3                0           0                  1                  0   \n4                1           1                  1                  0   \n...            ...         ...                ...                ...   \n16295            1           1                  1                  0   \n16296            0           0                  1                  0   \n16297            0           0                  1                  0   \n16298            0           0                  1                  0   \n16299            0           0                  1                  0   \n\n        REG_ADDRESS_PROVINCE  ... TARGET   CREDIT  TERM  FST_PAYMENT  \\\n0         Московская область  ...    1.0   5588.0   6.0       1000.0   \n1          Читинская область  ...    0.0  19498.0  12.0          0.0   \n2          Иркутская область  ...    0.0  15470.0   3.0      15000.0   \n3      Новосибирская область  ...    0.0  13960.0   6.0       2500.0   \n4          Красноярский край  ...    0.0  11890.0   6.0       8000.0   \n...                      ...  ...    ...      ...   ...          ...   \n16295                Чувашия  ...    0.0  11750.0   4.0       1900.0   \n16296                Карелия  ...    0.0  12350.0   6.0       1380.0   \n16297   Белгородская область  ...    0.0   4915.0  10.0       2000.0   \n16298     Кабардино-Балкария  ...    0.0   5860.0   3.0       2000.0   \n16299              Татарстан  ...    0.0  15700.0   6.0       3000.0   \n\n                 GEN_INDUSTRY                   GEN_TITLE  \\\n0                Другие сферы        Работник сферы услуг   \n1                    Торговля                  Специалист   \n2                Другие сферы  Руководитель высшего звена   \n3      Государственная служба                  Специалист   \n4                Другие сферы                  Специалист   \n...                       ...                         ...   \n16295  Сборочные производства                  Специалист   \n16296                Торговля                  Специалист   \n16297                Торговля                  Специалист   \n16298               Транспорт                  Специалист   \n16299            Другие сферы                     Рабочий   \n\n                             JOB_DIR  WORK_TIME           FAMILY_INCOME  \\\n0      Участие в основ. деятельности        3.0  от 20000 до 50000 руб.   \n1      Участие в основ. деятельности        5.0  от 10000 до 20000 руб.   \n2      Участие в основ. деятельности      360.0  от 20000 до 50000 руб.   \n3      Участие в основ. деятельности        3.0  от 20000 до 50000 руб.   \n4      Участие в основ. деятельности       12.0  от 10000 до 20000 руб.   \n...                              ...        ...                     ...   \n16295  Участие в основ. деятельности       36.0   от 5000 до 10000 руб.   \n16296  Участие в основ. деятельности       24.0  от 20000 до 50000 руб.   \n16297  Участие в основ. деятельности       36.0   от 5000 до 10000 руб.   \n16298  Участие в основ. деятельности       36.0  от 10000 до 20000 руб.   \n16299    Вспомогательный техперсонал       12.0  от 10000 до 20000 руб.   \n\n       PERSONAL_INCOME  \n0              25000.0  \n1              10000.0  \n2              30000.0  \n3              25000.0  \n4              15000.0  \n...                ...  \n16295           8000.0  \n16296          12000.0  \n16297           9000.0  \n16298          12000.0  \n16299          10500.0  \n\n[16300 rows x 26 columns]",
      "text/html": "<div>\n<style scoped>\n    .dataframe tbody tr th:only-of-type {\n        vertical-align: middle;\n    }\n\n    .dataframe tbody tr th {\n        vertical-align: top;\n    }\n\n    .dataframe thead th {\n        text-align: right;\n    }\n</style>\n<table border=\"1\" class=\"dataframe\">\n  <thead>\n    <tr style=\"text-align: right;\">\n      <th></th>\n      <th>ID</th>\n      <th>AGE</th>\n      <th>GENDER</th>\n      <th>EDUCATION</th>\n      <th>MARITAL_STATUS</th>\n      <th>CHILD_TOTAL</th>\n      <th>DEPENDANTS</th>\n      <th>SOCSTATUS_WORK_FL</th>\n      <th>SOCSTATUS_PENS_FL</th>\n      <th>REG_ADDRESS_PROVINCE</th>\n      <th>...</th>\n      <th>TARGET</th>\n      <th>CREDIT</th>\n      <th>TERM</th>\n      <th>FST_PAYMENT</th>\n      <th>GEN_INDUSTRY</th>\n      <th>GEN_TITLE</th>\n      <th>JOB_DIR</th>\n      <th>WORK_TIME</th>\n      <th>FAMILY_INCOME</th>\n      <th>PERSONAL_INCOME</th>\n    </tr>\n  </thead>\n  <tbody>\n    <tr>\n      <th>0</th>\n      <td>106805103</td>\n      <td>42</td>\n      <td>1</td>\n      <td>Среднее</td>\n      <td>Не состоял в браке</td>\n      <td>1</td>\n      <td>0</td>\n      <td>1</td>\n      <td>0</td>\n      <td>Московская область</td>\n      <td>...</td>\n      <td>1.0</td>\n      <td>5588.0</td>\n      <td>6.0</td>\n      <td>1000.0</td>\n      <td>Другие сферы</td>\n      <td>Работник сферы услуг</td>\n      <td>Участие в основ. деятельности</td>\n      <td>3.0</td>\n      <td>от 20000 до 50000 руб.</td>\n      <td>25000.0</td>\n    </tr>\n    <tr>\n      <th>1</th>\n      <td>106809308</td>\n      <td>28</td>\n      <td>1</td>\n      <td>Среднее специальное</td>\n      <td>Состою в браке</td>\n      <td>1</td>\n      <td>1</td>\n      <td>1</td>\n      <td>0</td>\n      <td>Читинская область</td>\n      <td>...</td>\n      <td>0.0</td>\n      <td>19498.0</td>\n      <td>12.0</td>\n      <td>0.0</td>\n      <td>Торговля</td>\n      <td>Специалист</td>\n      <td>Участие в основ. деятельности</td>\n      <td>5.0</td>\n      <td>от 10000 до 20000 руб.</td>\n      <td>10000.0</td>\n    </tr>\n    <tr>\n      <th>2</th>\n      <td>106805867</td>\n      <td>64</td>\n      <td>0</td>\n      <td>Среднее специальное</td>\n      <td>Состою в браке</td>\n      <td>2</td>\n      <td>0</td>\n      <td>1</td>\n      <td>1</td>\n      <td>Иркутская область</td>\n      <td>...</td>\n      <td>0.0</td>\n      <td>15470.0</td>\n      <td>3.0</td>\n      <td>15000.0</td>\n      <td>Другие сферы</td>\n      <td>Руководитель высшего звена</td>\n      <td>Участие в основ. деятельности</td>\n      <td>360.0</td>\n      <td>от 20000 до 50000 руб.</td>\n      <td>30000.0</td>\n    </tr>\n    <tr>\n      <th>3</th>\n      <td>106808779</td>\n      <td>54</td>\n      <td>1</td>\n      <td>Среднее специальное</td>\n      <td>Состою в браке</td>\n      <td>0</td>\n      <td>0</td>\n      <td>1</td>\n      <td>0</td>\n      <td>Новосибирская область</td>\n      <td>...</td>\n      <td>0.0</td>\n      <td>13960.0</td>\n      <td>6.0</td>\n      <td>2500.0</td>\n      <td>Государственная служба</td>\n      <td>Специалист</td>\n      <td>Участие в основ. деятельности</td>\n      <td>3.0</td>\n      <td>от 20000 до 50000 руб.</td>\n      <td>25000.0</td>\n    </tr>\n    <tr>\n      <th>4</th>\n      <td>106814289</td>\n      <td>26</td>\n      <td>0</td>\n      <td>Среднее специальное</td>\n      <td>Состою в браке</td>\n      <td>1</td>\n      <td>1</td>\n      <td>1</td>\n      <td>0</td>\n      <td>Красноярский край</td>\n      <td>...</td>\n      <td>0.0</td>\n      <td>11890.0</td>\n      <td>6.0</td>\n      <td>8000.0</td>\n      <td>Другие сферы</td>\n      <td>Специалист</td>\n      <td>Участие в основ. деятельности</td>\n      <td>12.0</td>\n      <td>от 10000 до 20000 руб.</td>\n      <td>15000.0</td>\n    </tr>\n    <tr>\n      <th>...</th>\n      <td>...</td>\n      <td>...</td>\n      <td>...</td>\n      <td>...</td>\n      <td>...</td>\n      <td>...</td>\n      <td>...</td>\n      <td>...</td>\n      <td>...</td>\n      <td>...</td>\n      <td>...</td>\n      <td>...</td>\n      <td>...</td>\n      <td>...</td>\n      <td>...</td>\n      <td>...</td>\n      <td>...</td>\n      <td>...</td>\n      <td>...</td>\n      <td>...</td>\n      <td>...</td>\n    </tr>\n    <tr>\n      <th>16295</th>\n      <td>106814680</td>\n      <td>26</td>\n      <td>1</td>\n      <td>Среднее</td>\n      <td>Не состоял в браке</td>\n      <td>1</td>\n      <td>1</td>\n      <td>1</td>\n      <td>0</td>\n      <td>Чувашия</td>\n      <td>...</td>\n      <td>0.0</td>\n      <td>11750.0</td>\n      <td>4.0</td>\n      <td>1900.0</td>\n      <td>Сборочные производства</td>\n      <td>Специалист</td>\n      <td>Участие в основ. деятельности</td>\n      <td>36.0</td>\n      <td>от 5000 до 10000 руб.</td>\n      <td>8000.0</td>\n    </tr>\n    <tr>\n      <th>16296</th>\n      <td>106812464</td>\n      <td>26</td>\n      <td>0</td>\n      <td>Среднее специальное</td>\n      <td>Состою в браке</td>\n      <td>0</td>\n      <td>0</td>\n      <td>1</td>\n      <td>0</td>\n      <td>Карелия</td>\n      <td>...</td>\n      <td>0.0</td>\n      <td>12350.0</td>\n      <td>6.0</td>\n      <td>1380.0</td>\n      <td>Торговля</td>\n      <td>Специалист</td>\n      <td>Участие в основ. деятельности</td>\n      <td>24.0</td>\n      <td>от 20000 до 50000 руб.</td>\n      <td>12000.0</td>\n    </tr>\n    <tr>\n      <th>16297</th>\n      <td>106809255</td>\n      <td>30</td>\n      <td>1</td>\n      <td>Среднее специальное</td>\n      <td>Не состоял в браке</td>\n      <td>0</td>\n      <td>0</td>\n      <td>1</td>\n      <td>0</td>\n      <td>Белгородская область</td>\n      <td>...</td>\n      <td>0.0</td>\n      <td>4915.0</td>\n      <td>10.0</td>\n      <td>2000.0</td>\n      <td>Торговля</td>\n      <td>Специалист</td>\n      <td>Участие в основ. деятельности</td>\n      <td>36.0</td>\n      <td>от 5000 до 10000 руб.</td>\n      <td>9000.0</td>\n    </tr>\n    <tr>\n      <th>16298</th>\n      <td>106814593</td>\n      <td>25</td>\n      <td>0</td>\n      <td>Среднее специальное</td>\n      <td>Состою в браке</td>\n      <td>0</td>\n      <td>0</td>\n      <td>1</td>\n      <td>0</td>\n      <td>Кабардино-Балкария</td>\n      <td>...</td>\n      <td>0.0</td>\n      <td>5860.0</td>\n      <td>3.0</td>\n      <td>2000.0</td>\n      <td>Транспорт</td>\n      <td>Специалист</td>\n      <td>Участие в основ. деятельности</td>\n      <td>36.0</td>\n      <td>от 10000 до 20000 руб.</td>\n      <td>12000.0</td>\n    </tr>\n    <tr>\n      <th>16299</th>\n      <td>106813640</td>\n      <td>26</td>\n      <td>1</td>\n      <td>Высшее</td>\n      <td>Не состоял в браке</td>\n      <td>0</td>\n      <td>0</td>\n      <td>1</td>\n      <td>0</td>\n      <td>Татарстан</td>\n      <td>...</td>\n      <td>0.0</td>\n      <td>15700.0</td>\n      <td>6.0</td>\n      <td>3000.0</td>\n      <td>Другие сферы</td>\n      <td>Рабочий</td>\n      <td>Вспомогательный техперсонал</td>\n      <td>12.0</td>\n      <td>от 10000 до 20000 руб.</td>\n      <td>10500.0</td>\n    </tr>\n  </tbody>\n</table>\n<p>16300 rows × 26 columns</p>\n</div>"
     },
     "execution_count": 98,
     "metadata": {},
     "output_type": "execute_result"
    }
   ],
   "source": [
    "df_clients.merge(df_union_15523, how='left', left_on='ID', right_on='ID_CLIENT')"
   ],
   "metadata": {
    "collapsed": false,
    "ExecuteTime": {
     "end_time": "2023-12-13T11:38:39.107658300Z",
     "start_time": "2023-12-13T11:38:39.049584900Z"
    }
   }
  },
  {
   "cell_type": "code",
   "execution_count": 89,
   "outputs": [
    {
     "data": {
      "text/plain": "              ID  AGE  GENDER            EDUCATION      MARITAL_STATUS  \\\n0      106805103   42       1              Среднее  Не состоял в браке   \n1      106809308   28       1  Среднее специальное      Состою в браке   \n2      106805867   64       0  Среднее специальное      Состою в браке   \n3      106808779   54       1  Среднее специальное      Состою в браке   \n4      106814289   26       0  Среднее специальное      Состою в браке   \n...          ...  ...     ...                  ...                 ...   \n15995  106814680   26       1              Среднее  Не состоял в браке   \n15996  106812464   26       0  Среднее специальное      Состою в браке   \n15997  106809255   30       1  Среднее специальное  Не состоял в браке   \n15998  106814593   25       0  Среднее специальное      Состою в браке   \n15999  106813640   26       1               Высшее  Не состоял в браке   \n\n       CHILD_TOTAL  DEPENDANTS  SOCSTATUS_WORK_FL  SOCSTATUS_PENS_FL  \\\n0                1           0                  1                  0   \n1                1           1                  1                  0   \n2                2           0                  1                  1   \n3                0           0                  1                  0   \n4                1           1                  1                  0   \n...            ...         ...                ...                ...   \n15995            1           1                  1                  0   \n15996            0           0                  1                  0   \n15997            0           0                  1                  0   \n15998            0           0                  1                  0   \n15999            0           0                  1                  0   \n\n        REG_ADDRESS_PROVINCE  FACT_ADDRESS_PROVINCE POSTAL_ADDRESS_PROVINCE  \\\n0         Московская область     Московская область      Московская область   \n1          Читинская область      Читинская область       Читинская область   \n2          Иркутская область      Иркутская область       Иркутская область   \n3      Новосибирская область  Новосибирская область   Новосибирская область   \n4          Красноярский край      Красноярский край       Красноярский край   \n...                      ...                    ...                     ...   \n15995                Чувашия                Чувашия                 Чувашия   \n15996                Карелия                Карелия                 Карелия   \n15997   Белгородская область   Белгородская область    Белгородская область   \n15998     Кабардино-Балкария     Кабардино-Балкария      Кабардино-Балкария   \n15999              Татарстан              Татарстан               Татарстан   \n\n       FL_PRESENCE_FL  OWN_AUTO  \n0                   1         0  \n1                   0         0  \n2                   0         1  \n3                   1         1  \n4                   1         0  \n...               ...       ...  \n15995               0         0  \n15996               0         0  \n15997               0         0  \n15998               0         0  \n15999               1         0  \n\n[16000 rows x 14 columns]",
      "text/html": "<div>\n<style scoped>\n    .dataframe tbody tr th:only-of-type {\n        vertical-align: middle;\n    }\n\n    .dataframe tbody tr th {\n        vertical-align: top;\n    }\n\n    .dataframe thead th {\n        text-align: right;\n    }\n</style>\n<table border=\"1\" class=\"dataframe\">\n  <thead>\n    <tr style=\"text-align: right;\">\n      <th></th>\n      <th>ID</th>\n      <th>AGE</th>\n      <th>GENDER</th>\n      <th>EDUCATION</th>\n      <th>MARITAL_STATUS</th>\n      <th>CHILD_TOTAL</th>\n      <th>DEPENDANTS</th>\n      <th>SOCSTATUS_WORK_FL</th>\n      <th>SOCSTATUS_PENS_FL</th>\n      <th>REG_ADDRESS_PROVINCE</th>\n      <th>FACT_ADDRESS_PROVINCE</th>\n      <th>POSTAL_ADDRESS_PROVINCE</th>\n      <th>FL_PRESENCE_FL</th>\n      <th>OWN_AUTO</th>\n    </tr>\n  </thead>\n  <tbody>\n    <tr>\n      <th>0</th>\n      <td>106805103</td>\n      <td>42</td>\n      <td>1</td>\n      <td>Среднее</td>\n      <td>Не состоял в браке</td>\n      <td>1</td>\n      <td>0</td>\n      <td>1</td>\n      <td>0</td>\n      <td>Московская область</td>\n      <td>Московская область</td>\n      <td>Московская область</td>\n      <td>1</td>\n      <td>0</td>\n    </tr>\n    <tr>\n      <th>1</th>\n      <td>106809308</td>\n      <td>28</td>\n      <td>1</td>\n      <td>Среднее специальное</td>\n      <td>Состою в браке</td>\n      <td>1</td>\n      <td>1</td>\n      <td>1</td>\n      <td>0</td>\n      <td>Читинская область</td>\n      <td>Читинская область</td>\n      <td>Читинская область</td>\n      <td>0</td>\n      <td>0</td>\n    </tr>\n    <tr>\n      <th>2</th>\n      <td>106805867</td>\n      <td>64</td>\n      <td>0</td>\n      <td>Среднее специальное</td>\n      <td>Состою в браке</td>\n      <td>2</td>\n      <td>0</td>\n      <td>1</td>\n      <td>1</td>\n      <td>Иркутская область</td>\n      <td>Иркутская область</td>\n      <td>Иркутская область</td>\n      <td>0</td>\n      <td>1</td>\n    </tr>\n    <tr>\n      <th>3</th>\n      <td>106808779</td>\n      <td>54</td>\n      <td>1</td>\n      <td>Среднее специальное</td>\n      <td>Состою в браке</td>\n      <td>0</td>\n      <td>0</td>\n      <td>1</td>\n      <td>0</td>\n      <td>Новосибирская область</td>\n      <td>Новосибирская область</td>\n      <td>Новосибирская область</td>\n      <td>1</td>\n      <td>1</td>\n    </tr>\n    <tr>\n      <th>4</th>\n      <td>106814289</td>\n      <td>26</td>\n      <td>0</td>\n      <td>Среднее специальное</td>\n      <td>Состою в браке</td>\n      <td>1</td>\n      <td>1</td>\n      <td>1</td>\n      <td>0</td>\n      <td>Красноярский край</td>\n      <td>Красноярский край</td>\n      <td>Красноярский край</td>\n      <td>1</td>\n      <td>0</td>\n    </tr>\n    <tr>\n      <th>...</th>\n      <td>...</td>\n      <td>...</td>\n      <td>...</td>\n      <td>...</td>\n      <td>...</td>\n      <td>...</td>\n      <td>...</td>\n      <td>...</td>\n      <td>...</td>\n      <td>...</td>\n      <td>...</td>\n      <td>...</td>\n      <td>...</td>\n      <td>...</td>\n    </tr>\n    <tr>\n      <th>15995</th>\n      <td>106814680</td>\n      <td>26</td>\n      <td>1</td>\n      <td>Среднее</td>\n      <td>Не состоял в браке</td>\n      <td>1</td>\n      <td>1</td>\n      <td>1</td>\n      <td>0</td>\n      <td>Чувашия</td>\n      <td>Чувашия</td>\n      <td>Чувашия</td>\n      <td>0</td>\n      <td>0</td>\n    </tr>\n    <tr>\n      <th>15996</th>\n      <td>106812464</td>\n      <td>26</td>\n      <td>0</td>\n      <td>Среднее специальное</td>\n      <td>Состою в браке</td>\n      <td>0</td>\n      <td>0</td>\n      <td>1</td>\n      <td>0</td>\n      <td>Карелия</td>\n      <td>Карелия</td>\n      <td>Карелия</td>\n      <td>0</td>\n      <td>0</td>\n    </tr>\n    <tr>\n      <th>15997</th>\n      <td>106809255</td>\n      <td>30</td>\n      <td>1</td>\n      <td>Среднее специальное</td>\n      <td>Не состоял в браке</td>\n      <td>0</td>\n      <td>0</td>\n      <td>1</td>\n      <td>0</td>\n      <td>Белгородская область</td>\n      <td>Белгородская область</td>\n      <td>Белгородская область</td>\n      <td>0</td>\n      <td>0</td>\n    </tr>\n    <tr>\n      <th>15998</th>\n      <td>106814593</td>\n      <td>25</td>\n      <td>0</td>\n      <td>Среднее специальное</td>\n      <td>Состою в браке</td>\n      <td>0</td>\n      <td>0</td>\n      <td>1</td>\n      <td>0</td>\n      <td>Кабардино-Балкария</td>\n      <td>Кабардино-Балкария</td>\n      <td>Кабардино-Балкария</td>\n      <td>0</td>\n      <td>0</td>\n    </tr>\n    <tr>\n      <th>15999</th>\n      <td>106813640</td>\n      <td>26</td>\n      <td>1</td>\n      <td>Высшее</td>\n      <td>Не состоял в браке</td>\n      <td>0</td>\n      <td>0</td>\n      <td>1</td>\n      <td>0</td>\n      <td>Татарстан</td>\n      <td>Татарстан</td>\n      <td>Татарстан</td>\n      <td>1</td>\n      <td>0</td>\n    </tr>\n  </tbody>\n</table>\n<p>16000 rows × 14 columns</p>\n</div>"
     },
     "execution_count": 89,
     "metadata": {},
     "output_type": "execute_result"
    }
   ],
   "source": [
    "df_clients"
   ],
   "metadata": {
    "collapsed": false,
    "ExecuteTime": {
     "end_time": "2023-12-13T11:31:33.125459400Z",
     "start_time": "2023-12-13T11:31:33.113400900Z"
    }
   }
  },
  {
   "cell_type": "code",
   "execution_count": 67,
   "outputs": [
    {
     "data": {
      "text/plain": "           LOAN_NUM_TOTAL  LOAN_NUM_CLOSED  LOAN_MEAN_CLOSED\nID_CLIENT                                                   \n106804370               1                1          1.000000\n106804371               1                1          1.000000\n106804372               2                1          0.500000\n106804373               1                1          1.000000\n106804374               2                1          0.500000\n...                   ...              ...               ...\n106819588               3                2          0.666667\n106819589               1                0          0.000000\n106819590               1                0          0.000000\n106819591               1                0          0.000000\n106819592               1                0          0.000000\n\n[15223 rows x 3 columns]",
      "text/html": "<div>\n<style scoped>\n    .dataframe tbody tr th:only-of-type {\n        vertical-align: middle;\n    }\n\n    .dataframe tbody tr th {\n        vertical-align: top;\n    }\n\n    .dataframe thead th {\n        text-align: right;\n    }\n</style>\n<table border=\"1\" class=\"dataframe\">\n  <thead>\n    <tr style=\"text-align: right;\">\n      <th></th>\n      <th>LOAN_NUM_TOTAL</th>\n      <th>LOAN_NUM_CLOSED</th>\n      <th>LOAN_MEAN_CLOSED</th>\n    </tr>\n    <tr>\n      <th>ID_CLIENT</th>\n      <th></th>\n      <th></th>\n      <th></th>\n    </tr>\n  </thead>\n  <tbody>\n    <tr>\n      <th>106804370</th>\n      <td>1</td>\n      <td>1</td>\n      <td>1.000000</td>\n    </tr>\n    <tr>\n      <th>106804371</th>\n      <td>1</td>\n      <td>1</td>\n      <td>1.000000</td>\n    </tr>\n    <tr>\n      <th>106804372</th>\n      <td>2</td>\n      <td>1</td>\n      <td>0.500000</td>\n    </tr>\n    <tr>\n      <th>106804373</th>\n      <td>1</td>\n      <td>1</td>\n      <td>1.000000</td>\n    </tr>\n    <tr>\n      <th>106804374</th>\n      <td>2</td>\n      <td>1</td>\n      <td>0.500000</td>\n    </tr>\n    <tr>\n      <th>...</th>\n      <td>...</td>\n      <td>...</td>\n      <td>...</td>\n    </tr>\n    <tr>\n      <th>106819588</th>\n      <td>3</td>\n      <td>2</td>\n      <td>0.666667</td>\n    </tr>\n    <tr>\n      <th>106819589</th>\n      <td>1</td>\n      <td>0</td>\n      <td>0.000000</td>\n    </tr>\n    <tr>\n      <th>106819590</th>\n      <td>1</td>\n      <td>0</td>\n      <td>0.000000</td>\n    </tr>\n    <tr>\n      <th>106819591</th>\n      <td>1</td>\n      <td>0</td>\n      <td>0.000000</td>\n    </tr>\n    <tr>\n      <th>106819592</th>\n      <td>1</td>\n      <td>0</td>\n      <td>0.000000</td>\n    </tr>\n  </tbody>\n</table>\n<p>15223 rows × 3 columns</p>\n</div>"
     },
     "execution_count": 67,
     "metadata": {},
     "output_type": "execute_result"
    }
   ],
   "source": [
    "df_union_21126_transform = df_union_21126[['ID_CLIENT', 'CLOSED_FL']].groupby(['ID_CLIENT'])['CLOSED_FL'].aggregate(['count', 'sum', 'mean']) \n",
    "df_union_21126_transform.rename(columns={'count': 'LOAN_NUM_TOTAL', 'sum': 'LOAN_NUM_CLOSED', 'mean': 'LOAN_MEAN_CLOSED'}, inplace=True)\n",
    "df_union_21126_transform"
   ],
   "metadata": {
    "collapsed": false,
    "ExecuteTime": {
     "end_time": "2023-12-13T11:12:16.494336Z",
     "start_time": "2023-12-13T11:12:16.471818800Z"
    }
   }
  },
  {
   "cell_type": "code",
   "execution_count": 80,
   "outputs": [],
   "source": [
    "df_full_union = df_full_union.merge(df_union_21126_transform, how='left', on='ID_CLIENT')"
   ],
   "metadata": {
    "collapsed": false,
    "ExecuteTime": {
     "end_time": "2023-12-13T11:28:27.095869600Z",
     "start_time": "2023-12-13T11:28:27.078865100Z"
    }
   }
  },
  {
   "cell_type": "code",
   "execution_count": 81,
   "outputs": [
    {
     "data": {
      "text/plain": "              ID  AGE  GENDER            EDUCATION      MARITAL_STATUS  \\\n0      106805103   42       1              Среднее  Не состоял в браке   \n1      106809308   28       1  Среднее специальное      Состою в браке   \n2      106805867   64       0  Среднее специальное      Состою в браке   \n3      106808779   54       1  Среднее специальное      Состою в браке   \n4      106814289   26       0  Среднее специальное      Состою в браке   \n...          ...  ...     ...                  ...                 ...   \n16295  106814680   26       1              Среднее  Не состоял в браке   \n16296  106812464   26       0  Среднее специальное      Состою в браке   \n16297  106809255   30       1  Среднее специальное  Не состоял в браке   \n16298  106814593   25       0  Среднее специальное      Состою в браке   \n16299  106813640   26       1               Высшее  Не состоял в браке   \n\n       CHILD_TOTAL  DEPENDANTS  SOCSTATUS_WORK_FL  SOCSTATUS_PENS_FL  \\\n0                1           0                  1                  0   \n1                1           1                  1                  0   \n2                2           0                  1                  1   \n3                0           0                  1                  0   \n4                1           1                  1                  0   \n...            ...         ...                ...                ...   \n16295            1           1                  1                  0   \n16296            0           0                  1                  0   \n16297            0           0                  1                  0   \n16298            0           0                  1                  0   \n16299            0           0                  1                  0   \n\n        REG_ADDRESS_PROVINCE  ... FST_PAYMENT            GEN_INDUSTRY  \\\n0         Московская область  ...      1000.0            Другие сферы   \n1          Читинская область  ...         0.0                Торговля   \n2          Иркутская область  ...     15000.0            Другие сферы   \n3      Новосибирская область  ...      2500.0  Государственная служба   \n4          Красноярский край  ...      8000.0            Другие сферы   \n...                      ...  ...         ...                     ...   \n16295                Чувашия  ...      1900.0  Сборочные производства   \n16296                Карелия  ...      1380.0                Торговля   \n16297   Белгородская область  ...      2000.0                Торговля   \n16298     Кабардино-Балкария  ...      2000.0               Транспорт   \n16299              Татарстан  ...      3000.0            Другие сферы   \n\n                        GEN_TITLE                        JOB_DIR  WORK_TIME  \\\n0            Работник сферы услуг  Участие в основ. деятельности        3.0   \n1                      Специалист  Участие в основ. деятельности        5.0   \n2      Руководитель высшего звена  Участие в основ. деятельности      360.0   \n3                      Специалист  Участие в основ. деятельности        3.0   \n4                      Специалист  Участие в основ. деятельности       12.0   \n...                           ...                            ...        ...   \n16295                  Специалист  Участие в основ. деятельности       36.0   \n16296                  Специалист  Участие в основ. деятельности       24.0   \n16297                  Специалист  Участие в основ. деятельности       36.0   \n16298                  Специалист  Участие в основ. деятельности       36.0   \n16299                     Рабочий    Вспомогательный техперсонал       12.0   \n\n                FAMILY_INCOME  PERSONAL_INCOME  LOAN_NUM_TOTAL  \\\n0      от 20000 до 50000 руб.          25000.0             1.0   \n1      от 10000 до 20000 руб.          10000.0             1.0   \n2      от 20000 до 50000 руб.          30000.0             1.0   \n3      от 20000 до 50000 руб.          25000.0             1.0   \n4      от 10000 до 20000 руб.          15000.0             2.0   \n...                       ...              ...             ...   \n16295   от 5000 до 10000 руб.           8000.0             2.0   \n16296  от 20000 до 50000 руб.          12000.0             1.0   \n16297   от 5000 до 10000 руб.           9000.0             1.0   \n16298  от 10000 до 20000 руб.          12000.0             1.0   \n16299  от 10000 до 20000 руб.          10500.0             1.0   \n\n       LOAN_NUM_CLOSED  LOAN_MEAN_CLOSED  \n0                  0.0               0.0  \n1                  0.0               0.0  \n2                  1.0               1.0  \n3                  0.0               0.0  \n4                  2.0               1.0  \n...                ...               ...  \n16295              2.0               1.0  \n16296              0.0               0.0  \n16297              0.0               0.0  \n16298              1.0               1.0  \n16299              1.0               1.0  \n\n[16300 rows x 29 columns]",
      "text/html": "<div>\n<style scoped>\n    .dataframe tbody tr th:only-of-type {\n        vertical-align: middle;\n    }\n\n    .dataframe tbody tr th {\n        vertical-align: top;\n    }\n\n    .dataframe thead th {\n        text-align: right;\n    }\n</style>\n<table border=\"1\" class=\"dataframe\">\n  <thead>\n    <tr style=\"text-align: right;\">\n      <th></th>\n      <th>ID</th>\n      <th>AGE</th>\n      <th>GENDER</th>\n      <th>EDUCATION</th>\n      <th>MARITAL_STATUS</th>\n      <th>CHILD_TOTAL</th>\n      <th>DEPENDANTS</th>\n      <th>SOCSTATUS_WORK_FL</th>\n      <th>SOCSTATUS_PENS_FL</th>\n      <th>REG_ADDRESS_PROVINCE</th>\n      <th>...</th>\n      <th>FST_PAYMENT</th>\n      <th>GEN_INDUSTRY</th>\n      <th>GEN_TITLE</th>\n      <th>JOB_DIR</th>\n      <th>WORK_TIME</th>\n      <th>FAMILY_INCOME</th>\n      <th>PERSONAL_INCOME</th>\n      <th>LOAN_NUM_TOTAL</th>\n      <th>LOAN_NUM_CLOSED</th>\n      <th>LOAN_MEAN_CLOSED</th>\n    </tr>\n  </thead>\n  <tbody>\n    <tr>\n      <th>0</th>\n      <td>106805103</td>\n      <td>42</td>\n      <td>1</td>\n      <td>Среднее</td>\n      <td>Не состоял в браке</td>\n      <td>1</td>\n      <td>0</td>\n      <td>1</td>\n      <td>0</td>\n      <td>Московская область</td>\n      <td>...</td>\n      <td>1000.0</td>\n      <td>Другие сферы</td>\n      <td>Работник сферы услуг</td>\n      <td>Участие в основ. деятельности</td>\n      <td>3.0</td>\n      <td>от 20000 до 50000 руб.</td>\n      <td>25000.0</td>\n      <td>1.0</td>\n      <td>0.0</td>\n      <td>0.0</td>\n    </tr>\n    <tr>\n      <th>1</th>\n      <td>106809308</td>\n      <td>28</td>\n      <td>1</td>\n      <td>Среднее специальное</td>\n      <td>Состою в браке</td>\n      <td>1</td>\n      <td>1</td>\n      <td>1</td>\n      <td>0</td>\n      <td>Читинская область</td>\n      <td>...</td>\n      <td>0.0</td>\n      <td>Торговля</td>\n      <td>Специалист</td>\n      <td>Участие в основ. деятельности</td>\n      <td>5.0</td>\n      <td>от 10000 до 20000 руб.</td>\n      <td>10000.0</td>\n      <td>1.0</td>\n      <td>0.0</td>\n      <td>0.0</td>\n    </tr>\n    <tr>\n      <th>2</th>\n      <td>106805867</td>\n      <td>64</td>\n      <td>0</td>\n      <td>Среднее специальное</td>\n      <td>Состою в браке</td>\n      <td>2</td>\n      <td>0</td>\n      <td>1</td>\n      <td>1</td>\n      <td>Иркутская область</td>\n      <td>...</td>\n      <td>15000.0</td>\n      <td>Другие сферы</td>\n      <td>Руководитель высшего звена</td>\n      <td>Участие в основ. деятельности</td>\n      <td>360.0</td>\n      <td>от 20000 до 50000 руб.</td>\n      <td>30000.0</td>\n      <td>1.0</td>\n      <td>1.0</td>\n      <td>1.0</td>\n    </tr>\n    <tr>\n      <th>3</th>\n      <td>106808779</td>\n      <td>54</td>\n      <td>1</td>\n      <td>Среднее специальное</td>\n      <td>Состою в браке</td>\n      <td>0</td>\n      <td>0</td>\n      <td>1</td>\n      <td>0</td>\n      <td>Новосибирская область</td>\n      <td>...</td>\n      <td>2500.0</td>\n      <td>Государственная служба</td>\n      <td>Специалист</td>\n      <td>Участие в основ. деятельности</td>\n      <td>3.0</td>\n      <td>от 20000 до 50000 руб.</td>\n      <td>25000.0</td>\n      <td>1.0</td>\n      <td>0.0</td>\n      <td>0.0</td>\n    </tr>\n    <tr>\n      <th>4</th>\n      <td>106814289</td>\n      <td>26</td>\n      <td>0</td>\n      <td>Среднее специальное</td>\n      <td>Состою в браке</td>\n      <td>1</td>\n      <td>1</td>\n      <td>1</td>\n      <td>0</td>\n      <td>Красноярский край</td>\n      <td>...</td>\n      <td>8000.0</td>\n      <td>Другие сферы</td>\n      <td>Специалист</td>\n      <td>Участие в основ. деятельности</td>\n      <td>12.0</td>\n      <td>от 10000 до 20000 руб.</td>\n      <td>15000.0</td>\n      <td>2.0</td>\n      <td>2.0</td>\n      <td>1.0</td>\n    </tr>\n    <tr>\n      <th>...</th>\n      <td>...</td>\n      <td>...</td>\n      <td>...</td>\n      <td>...</td>\n      <td>...</td>\n      <td>...</td>\n      <td>...</td>\n      <td>...</td>\n      <td>...</td>\n      <td>...</td>\n      <td>...</td>\n      <td>...</td>\n      <td>...</td>\n      <td>...</td>\n      <td>...</td>\n      <td>...</td>\n      <td>...</td>\n      <td>...</td>\n      <td>...</td>\n      <td>...</td>\n      <td>...</td>\n    </tr>\n    <tr>\n      <th>16295</th>\n      <td>106814680</td>\n      <td>26</td>\n      <td>1</td>\n      <td>Среднее</td>\n      <td>Не состоял в браке</td>\n      <td>1</td>\n      <td>1</td>\n      <td>1</td>\n      <td>0</td>\n      <td>Чувашия</td>\n      <td>...</td>\n      <td>1900.0</td>\n      <td>Сборочные производства</td>\n      <td>Специалист</td>\n      <td>Участие в основ. деятельности</td>\n      <td>36.0</td>\n      <td>от 5000 до 10000 руб.</td>\n      <td>8000.0</td>\n      <td>2.0</td>\n      <td>2.0</td>\n      <td>1.0</td>\n    </tr>\n    <tr>\n      <th>16296</th>\n      <td>106812464</td>\n      <td>26</td>\n      <td>0</td>\n      <td>Среднее специальное</td>\n      <td>Состою в браке</td>\n      <td>0</td>\n      <td>0</td>\n      <td>1</td>\n      <td>0</td>\n      <td>Карелия</td>\n      <td>...</td>\n      <td>1380.0</td>\n      <td>Торговля</td>\n      <td>Специалист</td>\n      <td>Участие в основ. деятельности</td>\n      <td>24.0</td>\n      <td>от 20000 до 50000 руб.</td>\n      <td>12000.0</td>\n      <td>1.0</td>\n      <td>0.0</td>\n      <td>0.0</td>\n    </tr>\n    <tr>\n      <th>16297</th>\n      <td>106809255</td>\n      <td>30</td>\n      <td>1</td>\n      <td>Среднее специальное</td>\n      <td>Не состоял в браке</td>\n      <td>0</td>\n      <td>0</td>\n      <td>1</td>\n      <td>0</td>\n      <td>Белгородская область</td>\n      <td>...</td>\n      <td>2000.0</td>\n      <td>Торговля</td>\n      <td>Специалист</td>\n      <td>Участие в основ. деятельности</td>\n      <td>36.0</td>\n      <td>от 5000 до 10000 руб.</td>\n      <td>9000.0</td>\n      <td>1.0</td>\n      <td>0.0</td>\n      <td>0.0</td>\n    </tr>\n    <tr>\n      <th>16298</th>\n      <td>106814593</td>\n      <td>25</td>\n      <td>0</td>\n      <td>Среднее специальное</td>\n      <td>Состою в браке</td>\n      <td>0</td>\n      <td>0</td>\n      <td>1</td>\n      <td>0</td>\n      <td>Кабардино-Балкария</td>\n      <td>...</td>\n      <td>2000.0</td>\n      <td>Транспорт</td>\n      <td>Специалист</td>\n      <td>Участие в основ. деятельности</td>\n      <td>36.0</td>\n      <td>от 10000 до 20000 руб.</td>\n      <td>12000.0</td>\n      <td>1.0</td>\n      <td>1.0</td>\n      <td>1.0</td>\n    </tr>\n    <tr>\n      <th>16299</th>\n      <td>106813640</td>\n      <td>26</td>\n      <td>1</td>\n      <td>Высшее</td>\n      <td>Не состоял в браке</td>\n      <td>0</td>\n      <td>0</td>\n      <td>1</td>\n      <td>0</td>\n      <td>Татарстан</td>\n      <td>...</td>\n      <td>3000.0</td>\n      <td>Другие сферы</td>\n      <td>Рабочий</td>\n      <td>Вспомогательный техперсонал</td>\n      <td>12.0</td>\n      <td>от 10000 до 20000 руб.</td>\n      <td>10500.0</td>\n      <td>1.0</td>\n      <td>1.0</td>\n      <td>1.0</td>\n    </tr>\n  </tbody>\n</table>\n<p>16300 rows × 29 columns</p>\n</div>"
     },
     "execution_count": 81,
     "metadata": {},
     "output_type": "execute_result"
    }
   ],
   "source": [
    "# final_df = df_full_union.merge(df_salary, how='left', on='ID_CLIENT')\n",
    "df_full_union"
   ],
   "metadata": {
    "collapsed": false,
    "ExecuteTime": {
     "end_time": "2023-12-13T11:28:46.730224900Z",
     "start_time": "2023-12-13T11:28:46.700626Z"
    }
   }
  },
  {
   "cell_type": "code",
   "execution_count": 105,
   "outputs": [
    {
     "name": "stdout",
     "output_type": "stream",
     "text": [
      "Collecting matplotlib\n",
      "  Obtaining dependency information for matplotlib from https://files.pythonhosted.org/packages/26/5a/27fd341e4510257789f19a4b4be8bb90d1113b8f176c3dab562b4f21466e/matplotlib-3.8.2-cp311-cp311-win_amd64.whl.metadata\n",
      "  Downloading matplotlib-3.8.2-cp311-cp311-win_amd64.whl.metadata (5.9 kB)\n",
      "Collecting contourpy>=1.0.1 (from matplotlib)\n",
      "  Obtaining dependency information for contourpy>=1.0.1 from https://files.pythonhosted.org/packages/ca/2a/d197a412ec474391ee878b1218cf2fe9c6e963903755887fc5654c06636a/contourpy-1.2.0-cp311-cp311-win_amd64.whl.metadata\n",
      "  Using cached contourpy-1.2.0-cp311-cp311-win_amd64.whl.metadata (5.8 kB)\n",
      "Collecting cycler>=0.10 (from matplotlib)\n",
      "  Obtaining dependency information for cycler>=0.10 from https://files.pythonhosted.org/packages/e7/05/c19819d5e3d95294a6f5947fb9b9629efb316b96de511b418c53d245aae6/cycler-0.12.1-py3-none-any.whl.metadata\n",
      "  Using cached cycler-0.12.1-py3-none-any.whl.metadata (3.8 kB)\n",
      "Collecting fonttools>=4.22.0 (from matplotlib)\n",
      "  Obtaining dependency information for fonttools>=4.22.0 from https://files.pythonhosted.org/packages/c4/d8/a68085e2da45aad6acebf512fe2d9fe783d6af3efad4a3b0d708783f891b/fonttools-4.46.0-cp311-cp311-win_amd64.whl.metadata\n",
      "  Downloading fonttools-4.46.0-cp311-cp311-win_amd64.whl.metadata (159 kB)\n",
      "     ---------------------------------------- 0.0/159.4 kB ? eta -:--:--\n",
      "     --------- --------------------------- 41.0/159.4 kB 991.0 kB/s eta 0:00:01\n",
      "     ------------------------------------ - 153.6/159.4 kB 1.8 MB/s eta 0:00:01\n",
      "     -------------------------------------- 159.4/159.4 kB 1.6 MB/s eta 0:00:00\n",
      "Collecting kiwisolver>=1.3.1 (from matplotlib)\n",
      "  Obtaining dependency information for kiwisolver>=1.3.1 from https://files.pythonhosted.org/packages/1e/37/d3c2d4ba2719059a0f12730947bbe1ad5ee8bff89e8c35319dcb2c9ddb4c/kiwisolver-1.4.5-cp311-cp311-win_amd64.whl.metadata\n",
      "  Using cached kiwisolver-1.4.5-cp311-cp311-win_amd64.whl.metadata (6.5 kB)\n",
      "Requirement already satisfied: numpy<2,>=1.21 in d:\\onedrive\\it\\projects\\banks-clients\\.venv\\lib\\site-packages (from matplotlib) (1.26.2)\n",
      "Requirement already satisfied: packaging>=20.0 in d:\\onedrive\\it\\projects\\banks-clients\\.venv\\lib\\site-packages (from matplotlib) (23.2)\n",
      "Collecting pillow>=8 (from matplotlib)\n",
      "  Obtaining dependency information for pillow>=8 from https://files.pythonhosted.org/packages/b1/38/31def4109acd4db10672df6f806b175c0d21458f845ddc0890e43238ba7c/Pillow-10.1.0-cp311-cp311-win_amd64.whl.metadata\n",
      "  Downloading Pillow-10.1.0-cp311-cp311-win_amd64.whl.metadata (9.6 kB)\n",
      "Collecting pyparsing>=2.3.1 (from matplotlib)\n",
      "  Obtaining dependency information for pyparsing>=2.3.1 from https://files.pythonhosted.org/packages/39/92/8486ede85fcc088f1b3dba4ce92dd29d126fd96b0008ea213167940a2475/pyparsing-3.1.1-py3-none-any.whl.metadata\n",
      "  Using cached pyparsing-3.1.1-py3-none-any.whl.metadata (5.1 kB)\n",
      "Requirement already satisfied: python-dateutil>=2.7 in d:\\onedrive\\it\\projects\\banks-clients\\.venv\\lib\\site-packages (from matplotlib) (2.8.2)\n",
      "Requirement already satisfied: six>=1.5 in d:\\onedrive\\it\\projects\\banks-clients\\.venv\\lib\\site-packages (from python-dateutil>=2.7->matplotlib) (1.16.0)\n",
      "Downloading matplotlib-3.8.2-cp311-cp311-win_amd64.whl (7.6 MB)\n",
      "   ---------------------------------------- 0.0/7.6 MB ? eta -:--:--\n",
      "   - -------------------------------------- 0.2/7.6 MB 6.3 MB/s eta 0:00:02\n",
      "   - -------------------------------------- 0.2/7.6 MB 6.9 MB/s eta 0:00:02\n",
      "   -- ------------------------------------- 0.6/7.6 MB 5.8 MB/s eta 0:00:02\n",
      "   ----- ---------------------------------- 1.1/7.6 MB 6.2 MB/s eta 0:00:02\n",
      "   ------ --------------------------------- 1.3/7.6 MB 6.0 MB/s eta 0:00:02\n",
      "   -------- ------------------------------- 1.6/7.6 MB 5.9 MB/s eta 0:00:02\n",
      "   --------- ------------------------------ 1.8/7.6 MB 5.7 MB/s eta 0:00:02\n",
      "   ---------- ----------------------------- 2.0/7.6 MB 5.5 MB/s eta 0:00:02\n",
      "   ----------- ---------------------------- 2.2/7.6 MB 5.5 MB/s eta 0:00:01\n",
      "   ------------ --------------------------- 2.5/7.6 MB 5.4 MB/s eta 0:00:01\n",
      "   -------------- ------------------------- 2.7/7.6 MB 5.4 MB/s eta 0:00:01\n",
      "   --------------- ------------------------ 2.9/7.6 MB 5.4 MB/s eta 0:00:01\n",
      "   ---------------- ----------------------- 3.2/7.6 MB 5.3 MB/s eta 0:00:01\n",
      "   ----------------- ---------------------- 3.4/7.6 MB 5.3 MB/s eta 0:00:01\n",
      "   ------------------- -------------------- 3.7/7.6 MB 5.3 MB/s eta 0:00:01\n",
      "   -------------------- ------------------- 3.9/7.6 MB 5.3 MB/s eta 0:00:01\n",
      "   --------------------- ------------------ 4.1/7.6 MB 5.3 MB/s eta 0:00:01\n",
      "   ---------------------- ----------------- 4.4/7.6 MB 5.3 MB/s eta 0:00:01\n",
      "   ------------------------ --------------- 4.6/7.6 MB 5.2 MB/s eta 0:00:01\n",
      "   ------------------------- -------------- 4.8/7.6 MB 5.2 MB/s eta 0:00:01\n",
      "   -------------------------- ------------- 5.0/7.6 MB 5.2 MB/s eta 0:00:01\n",
      "   -------------------------- ------------- 5.0/7.6 MB 5.1 MB/s eta 0:00:01\n",
      "   -------------------------- ------------- 5.0/7.6 MB 5.1 MB/s eta 0:00:01\n",
      "   --------------------------- ------------ 5.3/7.6 MB 4.7 MB/s eta 0:00:01\n",
      "   --------------------------- ------------ 5.3/7.6 MB 4.7 MB/s eta 0:00:01\n",
      "   ---------------------------- ----------- 5.5/7.6 MB 4.6 MB/s eta 0:00:01\n",
      "   ----------------------------- ---------- 5.7/7.6 MB 4.5 MB/s eta 0:00:01\n",
      "   ------------------------------- -------- 5.9/7.6 MB 4.6 MB/s eta 0:00:01\n",
      "   ------------------------------- -------- 6.1/7.6 MB 4.5 MB/s eta 0:00:01\n",
      "   --------------------------------- ------ 6.3/7.6 MB 4.6 MB/s eta 0:00:01\n",
      "   ---------------------------------- ----- 6.6/7.6 MB 4.6 MB/s eta 0:00:01\n",
      "   ----------------------------------- ---- 6.9/7.6 MB 4.6 MB/s eta 0:00:01\n",
      "   ------------------------------------- -- 7.1/7.6 MB 4.6 MB/s eta 0:00:01\n",
      "   -------------------------------------- - 7.4/7.6 MB 4.7 MB/s eta 0:00:01\n",
      "   ---------------------------------------  7.6/7.6 MB 4.7 MB/s eta 0:00:01\n",
      "   ---------------------------------------- 7.6/7.6 MB 4.7 MB/s eta 0:00:00\n",
      "Using cached contourpy-1.2.0-cp311-cp311-win_amd64.whl (187 kB)\n",
      "Using cached cycler-0.12.1-py3-none-any.whl (8.3 kB)\n",
      "Downloading fonttools-4.46.0-cp311-cp311-win_amd64.whl (2.2 MB)\n",
      "   ---------------------------------------- 0.0/2.2 MB ? eta -:--:--\n",
      "   ---- ----------------------------------- 0.2/2.2 MB 6.9 MB/s eta 0:00:01\n",
      "   --------- ------------------------------ 0.5/2.2 MB 6.3 MB/s eta 0:00:01\n",
      "   ----------- ---------------------------- 0.6/2.2 MB 5.7 MB/s eta 0:00:01\n",
      "   ------------------ --------------------- 1.0/2.2 MB 5.7 MB/s eta 0:00:01\n",
      "   --------------------- ------------------ 1.2/2.2 MB 5.2 MB/s eta 0:00:01\n",
      "   ------------------------ --------------- 1.4/2.2 MB 5.1 MB/s eta 0:00:01\n",
      "   ---------------------------- ----------- 1.5/2.2 MB 4.9 MB/s eta 0:00:01\n",
      "   ------------------------------- -------- 1.7/2.2 MB 4.8 MB/s eta 0:00:01\n",
      "   ---------------------------------- ----- 1.9/2.2 MB 4.8 MB/s eta 0:00:01\n",
      "   -------------------------------------- - 2.1/2.2 MB 4.5 MB/s eta 0:00:01\n",
      "   -------------------------------------- - 2.1/2.2 MB 4.5 MB/s eta 0:00:01\n",
      "   ---------------------------------------- 2.2/2.2 MB 4.2 MB/s eta 0:00:00\n",
      "Using cached kiwisolver-1.4.5-cp311-cp311-win_amd64.whl (56 kB)\n",
      "Using cached Pillow-10.1.0-cp311-cp311-win_amd64.whl (2.6 MB)\n",
      "Using cached pyparsing-3.1.1-py3-none-any.whl (103 kB)\n",
      "Installing collected packages: pyparsing, pillow, kiwisolver, fonttools, cycler, contourpy, matplotlib\n",
      "Successfully installed contourpy-1.2.0 cycler-0.12.1 fonttools-4.46.0 kiwisolver-1.4.5 matplotlib-3.8.2 pillow-10.1.0 pyparsing-3.1.1\n"
     ]
    },
    {
     "name": "stderr",
     "output_type": "stream",
     "text": [
      "\n",
      "[notice] A new release of pip is available: 23.2.1 -> 23.3.1\n",
      "[notice] To update, run: python.exe -m pip install --upgrade pip\n"
     ]
    }
   ],
   "source": [
    "!pip install matplotlib"
   ],
   "metadata": {
    "collapsed": false,
    "ExecuteTime": {
     "end_time": "2023-12-13T11:44:25.873031Z",
     "start_time": "2023-12-13T11:44:06.985787Z"
    }
   }
  },
  {
   "cell_type": "code",
   "execution_count": 108,
   "outputs": [
    {
     "data": {
      "text/plain": "<Figure size 640x480 with 1 Axes>",
      "image/png": "[encoded data removed]"
     },
     "metadata": {},
     "output_type": "display_data"
    }
   ],
   "source": [
    "from matplotlib import pyplot as plt\n",
    "df_full_union['TARGET'].hist(bins='auto');"
   ],
   "metadata": {
    "collapsed": false,
    "ExecuteTime": {
     "end_time": "2023-12-13T11:45:05.136309Z",
     "start_time": "2023-12-13T11:45:03.501973500Z"
    }
   }
  },
  {
   "cell_type": "code",
   "execution_count": 109,
   "outputs": [
    {
     "data": {
      "text/plain": "              ID  AGE  GENDER            EDUCATION      MARITAL_STATUS  \\\n0      106805103   42       1              Среднее  Не состоял в браке   \n1      106809308   28       1  Среднее специальное      Состою в браке   \n2      106805867   64       0  Среднее специальное      Состою в браке   \n3      106808779   54       1  Среднее специальное      Состою в браке   \n4      106814289   26       0  Среднее специальное      Состою в браке   \n...          ...  ...     ...                  ...                 ...   \n16295  106814680   26       1              Среднее  Не состоял в браке   \n16296  106812464   26       0  Среднее специальное      Состою в браке   \n16297  106809255   30       1  Среднее специальное  Не состоял в браке   \n16298  106814593   25       0  Среднее специальное      Состою в браке   \n16299  106813640   26       1               Высшее  Не состоял в браке   \n\n       CHILD_TOTAL  DEPENDANTS  SOCSTATUS_WORK_FL  SOCSTATUS_PENS_FL  \\\n0                1           0                  1                  0   \n1                1           1                  1                  0   \n2                2           0                  1                  1   \n3                0           0                  1                  0   \n4                1           1                  1                  0   \n...            ...         ...                ...                ...   \n16295            1           1                  1                  0   \n16296            0           0                  1                  0   \n16297            0           0                  1                  0   \n16298            0           0                  1                  0   \n16299            0           0                  1                  0   \n\n        REG_ADDRESS_PROVINCE  ... TARGET   CREDIT  TERM  FST_PAYMENT  \\\n0         Московская область  ...    1.0   5588.0   6.0       1000.0   \n1          Читинская область  ...    0.0  19498.0  12.0          0.0   \n2          Иркутская область  ...    0.0  15470.0   3.0      15000.0   \n3      Новосибирская область  ...    0.0  13960.0   6.0       2500.0   \n4          Красноярский край  ...    0.0  11890.0   6.0       8000.0   \n...                      ...  ...    ...      ...   ...          ...   \n16295                Чувашия  ...    0.0  11750.0   4.0       1900.0   \n16296                Карелия  ...    0.0  12350.0   6.0       1380.0   \n16297   Белгородская область  ...    0.0   4915.0  10.0       2000.0   \n16298     Кабардино-Балкария  ...    0.0   5860.0   3.0       2000.0   \n16299              Татарстан  ...    0.0  15700.0   6.0       3000.0   \n\n                 GEN_INDUSTRY                   GEN_TITLE  \\\n0                Другие сферы        Работник сферы услуг   \n1                    Торговля                  Специалист   \n2                Другие сферы  Руководитель высшего звена   \n3      Государственная служба                  Специалист   \n4                Другие сферы                  Специалист   \n...                       ...                         ...   \n16295  Сборочные производства                  Специалист   \n16296                Торговля                  Специалист   \n16297                Торговля                  Специалист   \n16298               Транспорт                  Специалист   \n16299            Другие сферы                     Рабочий   \n\n                             JOB_DIR  WORK_TIME           FAMILY_INCOME  \\\n0      Участие в основ. деятельности        3.0  от 20000 до 50000 руб.   \n1      Участие в основ. деятельности        5.0  от 10000 до 20000 руб.   \n2      Участие в основ. деятельности      360.0  от 20000 до 50000 руб.   \n3      Участие в основ. деятельности        3.0  от 20000 до 50000 руб.   \n4      Участие в основ. деятельности       12.0  от 10000 до 20000 руб.   \n...                              ...        ...                     ...   \n16295  Участие в основ. деятельности       36.0   от 5000 до 10000 руб.   \n16296  Участие в основ. деятельности       24.0  от 20000 до 50000 руб.   \n16297  Участие в основ. деятельности       36.0   от 5000 до 10000 руб.   \n16298  Участие в основ. деятельности       36.0  от 10000 до 20000 руб.   \n16299    Вспомогательный техперсонал       12.0  от 10000 до 20000 руб.   \n\n       PERSONAL_INCOME  \n0              25000.0  \n1              10000.0  \n2              30000.0  \n3              25000.0  \n4              15000.0  \n...                ...  \n16295           8000.0  \n16296          12000.0  \n16297           9000.0  \n16298          12000.0  \n16299          10500.0  \n\n[16300 rows x 26 columns]",
      "text/html": "<div>\n<style scoped>\n    .dataframe tbody tr th:only-of-type {\n        vertical-align: middle;\n    }\n\n    .dataframe tbody tr th {\n        vertical-align: top;\n    }\n\n    .dataframe thead th {\n        text-align: right;\n    }\n</style>\n<table border=\"1\" class=\"dataframe\">\n  <thead>\n    <tr style=\"text-align: right;\">\n      <th></th>\n      <th>ID</th>\n      <th>AGE</th>\n      <th>GENDER</th>\n      <th>EDUCATION</th>\n      <th>MARITAL_STATUS</th>\n      <th>CHILD_TOTAL</th>\n      <th>DEPENDANTS</th>\n      <th>SOCSTATUS_WORK_FL</th>\n      <th>SOCSTATUS_PENS_FL</th>\n      <th>REG_ADDRESS_PROVINCE</th>\n      <th>...</th>\n      <th>TARGET</th>\n      <th>CREDIT</th>\n      <th>TERM</th>\n      <th>FST_PAYMENT</th>\n      <th>GEN_INDUSTRY</th>\n      <th>GEN_TITLE</th>\n      <th>JOB_DIR</th>\n      <th>WORK_TIME</th>\n      <th>FAMILY_INCOME</th>\n      <th>PERSONAL_INCOME</th>\n    </tr>\n  </thead>\n  <tbody>\n    <tr>\n      <th>0</th>\n      <td>106805103</td>\n      <td>42</td>\n      <td>1</td>\n      <td>Среднее</td>\n      <td>Не состоял в браке</td>\n      <td>1</td>\n      <td>0</td>\n      <td>1</td>\n      <td>0</td>\n      <td>Московская область</td>\n      <td>...</td>\n      <td>1.0</td>\n      <td>5588.0</td>\n      <td>6.0</td>\n      <td>1000.0</td>\n      <td>Другие сферы</td>\n      <td>Работник сферы услуг</td>\n      <td>Участие в основ. деятельности</td>\n      <td>3.0</td>\n      <td>от 20000 до 50000 руб.</td>\n      <td>25000.0</td>\n    </tr>\n    <tr>\n      <th>1</th>\n      <td>106809308</td>\n      <td>28</td>\n      <td>1</td>\n      <td>Среднее специальное</td>\n      <td>Состою в браке</td>\n      <td>1</td>\n      <td>1</td>\n      <td>1</td>\n      <td>0</td>\n      <td>Читинская область</td>\n      <td>...</td>\n      <td>0.0</td>\n      <td>19498.0</td>\n      <td>12.0</td>\n      <td>0.0</td>\n      <td>Торговля</td>\n      <td>Специалист</td>\n      <td>Участие в основ. деятельности</td>\n      <td>5.0</td>\n      <td>от 10000 до 20000 руб.</td>\n      <td>10000.0</td>\n    </tr>\n    <tr>\n      <th>2</th>\n      <td>106805867</td>\n      <td>64</td>\n      <td>0</td>\n      <td>Среднее специальное</td>\n      <td>Состою в браке</td>\n      <td>2</td>\n      <td>0</td>\n      <td>1</td>\n      <td>1</td>\n      <td>Иркутская область</td>\n      <td>...</td>\n      <td>0.0</td>\n      <td>15470.0</td>\n      <td>3.0</td>\n      <td>15000.0</td>\n      <td>Другие сферы</td>\n      <td>Руководитель высшего звена</td>\n      <td>Участие в основ. деятельности</td>\n      <td>360.0</td>\n      <td>от 20000 до 50000 руб.</td>\n      <td>30000.0</td>\n    </tr>\n    <tr>\n      <th>3</th>\n      <td>106808779</td>\n      <td>54</td>\n      <td>1</td>\n      <td>Среднее специальное</td>\n      <td>Состою в браке</td>\n      <td>0</td>\n      <td>0</td>\n      <td>1</td>\n      <td>0</td>\n      <td>Новосибирская область</td>\n      <td>...</td>\n      <td>0.0</td>\n      <td>13960.0</td>\n      <td>6.0</td>\n      <td>2500.0</td>\n      <td>Государственная служба</td>\n      <td>Специалист</td>\n      <td>Участие в основ. деятельности</td>\n      <td>3.0</td>\n      <td>от 20000 до 50000 руб.</td>\n      <td>25000.0</td>\n    </tr>\n    <tr>\n      <th>4</th>\n      <td>106814289</td>\n      <td>26</td>\n      <td>0</td>\n      <td>Среднее специальное</td>\n      <td>Состою в браке</td>\n      <td>1</td>\n      <td>1</td>\n      <td>1</td>\n      <td>0</td>\n      <td>Красноярский край</td>\n      <td>...</td>\n      <td>0.0</td>\n      <td>11890.0</td>\n      <td>6.0</td>\n      <td>8000.0</td>\n      <td>Другие сферы</td>\n      <td>Специалист</td>\n      <td>Участие в основ. деятельности</td>\n      <td>12.0</td>\n      <td>от 10000 до 20000 руб.</td>\n      <td>15000.0</td>\n    </tr>\n    <tr>\n      <th>...</th>\n      <td>...</td>\n      <td>...</td>\n      <td>...</td>\n      <td>...</td>\n      <td>...</td>\n      <td>...</td>\n      <td>...</td>\n      <td>...</td>\n      <td>...</td>\n      <td>...</td>\n      <td>...</td>\n      <td>...</td>\n      <td>...</td>\n      <td>...</td>\n      <td>...</td>\n      <td>...</td>\n      <td>...</td>\n      <td>...</td>\n      <td>...</td>\n      <td>...</td>\n      <td>...</td>\n    </tr>\n    <tr>\n      <th>16295</th>\n      <td>106814680</td>\n      <td>26</td>\n      <td>1</td>\n      <td>Среднее</td>\n      <td>Не состоял в браке</td>\n      <td>1</td>\n      <td>1</td>\n      <td>1</td>\n      <td>0</td>\n      <td>Чувашия</td>\n      <td>...</td>\n      <td>0.0</td>\n      <td>11750.0</td>\n      <td>4.0</td>\n      <td>1900.0</td>\n      <td>Сборочные производства</td>\n      <td>Специалист</td>\n      <td>Участие в основ. деятельности</td>\n      <td>36.0</td>\n      <td>от 5000 до 10000 руб.</td>\n      <td>8000.0</td>\n    </tr>\n    <tr>\n      <th>16296</th>\n      <td>106812464</td>\n      <td>26</td>\n      <td>0</td>\n      <td>Среднее специальное</td>\n      <td>Состою в браке</td>\n      <td>0</td>\n      <td>0</td>\n      <td>1</td>\n      <td>0</td>\n      <td>Карелия</td>\n      <td>...</td>\n      <td>0.0</td>\n      <td>12350.0</td>\n      <td>6.0</td>\n      <td>1380.0</td>\n      <td>Торговля</td>\n      <td>Специалист</td>\n      <td>Участие в основ. деятельности</td>\n      <td>24.0</td>\n      <td>от 20000 до 50000 руб.</td>\n      <td>12000.0</td>\n    </tr>\n    <tr>\n      <th>16297</th>\n      <td>106809255</td>\n      <td>30</td>\n      <td>1</td>\n      <td>Среднее специальное</td>\n      <td>Не состоял в браке</td>\n      <td>0</td>\n      <td>0</td>\n      <td>1</td>\n      <td>0</td>\n      <td>Белгородская область</td>\n      <td>...</td>\n      <td>0.0</td>\n      <td>4915.0</td>\n      <td>10.0</td>\n      <td>2000.0</td>\n      <td>Торговля</td>\n      <td>Специалист</td>\n      <td>Участие в основ. деятельности</td>\n      <td>36.0</td>\n      <td>от 5000 до 10000 руб.</td>\n      <td>9000.0</td>\n    </tr>\n    <tr>\n      <th>16298</th>\n      <td>106814593</td>\n      <td>25</td>\n      <td>0</td>\n      <td>Среднее специальное</td>\n      <td>Состою в браке</td>\n      <td>0</td>\n      <td>0</td>\n      <td>1</td>\n      <td>0</td>\n      <td>Кабардино-Балкария</td>\n      <td>...</td>\n      <td>0.0</td>\n      <td>5860.0</td>\n      <td>3.0</td>\n      <td>2000.0</td>\n      <td>Транспорт</td>\n      <td>Специалист</td>\n      <td>Участие в основ. деятельности</td>\n      <td>36.0</td>\n      <td>от 10000 до 20000 руб.</td>\n      <td>12000.0</td>\n    </tr>\n    <tr>\n      <th>16299</th>\n      <td>106813640</td>\n      <td>26</td>\n      <td>1</td>\n      <td>Высшее</td>\n      <td>Не состоял в браке</td>\n      <td>0</td>\n      <td>0</td>\n      <td>1</td>\n      <td>0</td>\n      <td>Татарстан</td>\n      <td>...</td>\n      <td>0.0</td>\n      <td>15700.0</td>\n      <td>6.0</td>\n      <td>3000.0</td>\n      <td>Другие сферы</td>\n      <td>Рабочий</td>\n      <td>Вспомогательный техперсонал</td>\n      <td>12.0</td>\n      <td>от 10000 до 20000 руб.</td>\n      <td>10500.0</td>\n    </tr>\n  </tbody>\n</table>\n<p>16300 rows × 26 columns</p>\n</div>"
     },
     "execution_count": 109,
     "metadata": {},
     "output_type": "execute_result"
    }
   ],
   "source": [
    "df_full_union.drop(columns=['ID_CLIENT', 'POSTAL_ADDRESS_PROVINCE'], axis=1, inplace=True)"
   ],
   "metadata": {
    "collapsed": false,
    "ExecuteTime": {
     "end_time": "2023-12-13T11:46:55.996637700Z",
     "start_time": "2023-12-13T11:46:55.960213Z"
    }
   }
  },
  {
   "cell_type": "code",
   "execution_count": 110,
   "outputs": [],
   "source": [
    "df_full_union.to_pickle('df')"
   ],
   "metadata": {
    "collapsed": false,
    "ExecuteTime": {
     "end_time": "2023-12-13T11:50:25.007252800Z",
     "start_time": "2023-12-13T11:50:24.882061600Z"
    }
   }
  },
  {
   "cell_type": "code",
   "execution_count": 112,
   "outputs": [],
   "source": [
    "del df_full_union"
   ],
   "metadata": {
    "collapsed": false,
    "ExecuteTime": {
     "end_time": "2023-12-13T18:49:03.733343900Z",
     "start_time": "2023-12-13T18:49:03.724268200Z"
    }
   }
  },
  {
   "cell_type": "markdown",
   "source": [],
   "metadata": {
    "collapsed": false
   }
  },
  {
   "cell_type": "markdown",
   "source": [
    "### Предобработка датасета"
   ],
   "metadata": {
    "collapsed": false
   }
  },
  {
   "cell_type": "code",
   "execution_count": 111,
   "outputs": [],
   "source": [
    "df = pd.read_pickle('df') "
   ],
   "metadata": {
    "collapsed": false,
    "ExecuteTime": {
     "end_time": "2023-12-13T18:48:52.972398200Z",
     "start_time": "2023-12-13T18:48:52.102466100Z"
    }
   }
  },
  {
   "cell_type": "code",
   "execution_count": 113,
   "outputs": [
    {
     "data": {
      "text/plain": "(16300, 26)"
     },
     "execution_count": 113,
     "metadata": {},
     "output_type": "execute_result"
    }
   ],
   "source": [
    "df.shape"
   ],
   "metadata": {
    "collapsed": false,
    "ExecuteTime": {
     "end_time": "2023-12-13T18:49:29.394094400Z",
     "start_time": "2023-12-13T18:49:28.931628200Z"
    }
   }
  },
  {
   "cell_type": "code",
   "execution_count": 116,
   "outputs": [
    {
     "data": {
      "text/plain": "ID\n106806214    2\n106812090    2\n106819125    2\n106818237    2\n106810348    2\n            ..\n106817073    1\n106806519    1\n106818527    1\n106817803    1\n106813640    1\nName: count, Length: 16000, dtype: int64"
     },
     "execution_count": 116,
     "metadata": {},
     "output_type": "execute_result"
    }
   ],
   "source": [
    "df.ID.value_counts()"
   ],
   "metadata": {
    "collapsed": false,
    "ExecuteTime": {
     "end_time": "2023-12-13T18:52:16.428734500Z",
     "start_time": "2023-12-13T18:52:16.416244Z"
    }
   }
  },
  {
   "cell_type": "code",
   "execution_count": 119,
   "outputs": [],
   "source": [
    "df.drop_duplicates(keep='first', inplace=True, ignore_index=True)"
   ],
   "metadata": {
    "collapsed": false,
    "ExecuteTime": {
     "end_time": "2023-12-13T18:59:30.344201200Z",
     "start_time": "2023-12-13T18:59:29.925026300Z"
    }
   }
  },
  {
   "cell_type": "code",
   "execution_count": 121,
   "outputs": [],
   "source": [
    "df.drop(columns=['ID_CLIENT', 'POSTAL_ADDRESS_PROVINCE', 'REG_ADDRESS_PROVINCE'], inplace=True)"
   ],
   "metadata": {
    "collapsed": false,
    "ExecuteTime": {
     "end_time": "2023-12-13T19:03:20.414100400Z",
     "start_time": "2023-12-13T19:03:20.389866400Z"
    }
   }
  },
  {
   "cell_type": "code",
   "execution_count": 122,
   "outputs": [
    {
     "data": {
      "text/plain": "             ID  AGE  GENDER            EDUCATION      MARITAL_STATUS  \\\n6735  106806924   39       0              Среднее  Не состоял в браке   \n8957  106816373   40       1               Высшее    Гражданский брак   \n5202  106816094   27       0     Неполное среднее      Состою в браке   \n3461  106817723   28       1               Высшее  Не состоял в браке   \n5154  106806594   50       1  Среднее специальное  Не состоял в браке   \n\n      CHILD_TOTAL  DEPENDANTS  SOCSTATUS_WORK_FL  SOCSTATUS_PENS_FL  \\\n6735            0           0                  1                  0   \n8957            2           1                  1                  0   \n5202            0           0                  1                  0   \n3461            0           0                  1                  0   \n5154            5           1                  1                  0   \n\n     FACT_ADDRESS_PROVINCE  ...  TARGET   CREDIT  TERM  FST_PAYMENT  \\\n6735       Санкт-Петербург  ...     0.0  19900.0  12.0       6000.0   \n8957              Калмыкия  ...     0.0  10200.0   6.0       1150.0   \n5202  Владимирская область  ...     1.0   8755.0   6.0       1545.0   \n3461    Московская область  ...     1.0  10448.0   6.0          0.0   \n5154     Красноярский край  ...     1.0  16048.0   6.0       4267.0   \n\n                GEN_INDUSTRY                   GEN_TITLE  \\\n6735               Транспорт                  Специалист   \n8957  Государственная служба                  Специалист   \n5202  Сборочные производства                  Специалист   \n3461                Торговля  Руководитель высшего звена   \n5154                Торговля        Работник сферы услуг   \n\n                            JOB_DIR WORK_TIME           FAMILY_INCOME  \\\n6735  Участие в основ. деятельности      60.0  от 20000 до 50000 руб.   \n8957  Участие в основ. деятельности      36.0  от 20000 до 50000 руб.   \n5202  Участие в основ. деятельности      36.0  от 20000 до 50000 руб.   \n3461  Участие в основ. деятельности      24.0  от 20000 до 50000 руб.   \n5154  Участие в основ. деятельности      36.0  от 10000 до 20000 руб.   \n\n     PERSONAL_INCOME  \n6735         25000.0  \n8957         18000.0  \n5202         17000.0  \n3461         30000.0  \n5154         11000.0  \n\n[5 rows x 23 columns]",
      "text/html": "<div>\n<style scoped>\n    .dataframe tbody tr th:only-of-type {\n        vertical-align: middle;\n    }\n\n    .dataframe tbody tr th {\n        vertical-align: top;\n    }\n\n    .dataframe thead th {\n        text-align: right;\n    }\n</style>\n<table border=\"1\" class=\"dataframe\">\n  <thead>\n    <tr style=\"text-align: right;\">\n      <th></th>\n      <th>ID</th>\n      <th>AGE</th>\n      <th>GENDER</th>\n      <th>EDUCATION</th>\n      <th>MARITAL_STATUS</th>\n      <th>CHILD_TOTAL</th>\n      <th>DEPENDANTS</th>\n      <th>SOCSTATUS_WORK_FL</th>\n      <th>SOCSTATUS_PENS_FL</th>\n      <th>FACT_ADDRESS_PROVINCE</th>\n      <th>...</th>\n      <th>TARGET</th>\n      <th>CREDIT</th>\n      <th>TERM</th>\n      <th>FST_PAYMENT</th>\n      <th>GEN_INDUSTRY</th>\n      <th>GEN_TITLE</th>\n      <th>JOB_DIR</th>\n      <th>WORK_TIME</th>\n      <th>FAMILY_INCOME</th>\n      <th>PERSONAL_INCOME</th>\n    </tr>\n  </thead>\n  <tbody>\n    <tr>\n      <th>6735</th>\n      <td>106806924</td>\n      <td>39</td>\n      <td>0</td>\n      <td>Среднее</td>\n      <td>Не состоял в браке</td>\n      <td>0</td>\n      <td>0</td>\n      <td>1</td>\n      <td>0</td>\n      <td>Санкт-Петербург</td>\n      <td>...</td>\n      <td>0.0</td>\n      <td>19900.0</td>\n      <td>12.0</td>\n      <td>6000.0</td>\n      <td>Транспорт</td>\n      <td>Специалист</td>\n      <td>Участие в основ. деятельности</td>\n      <td>60.0</td>\n      <td>от 20000 до 50000 руб.</td>\n      <td>25000.0</td>\n    </tr>\n    <tr>\n      <th>8957</th>\n      <td>106816373</td>\n      <td>40</td>\n      <td>1</td>\n      <td>Высшее</td>\n      <td>Гражданский брак</td>\n      <td>2</td>\n      <td>1</td>\n      <td>1</td>\n      <td>0</td>\n      <td>Калмыкия</td>\n      <td>...</td>\n      <td>0.0</td>\n      <td>10200.0</td>\n      <td>6.0</td>\n      <td>1150.0</td>\n      <td>Государственная служба</td>\n      <td>Специалист</td>\n      <td>Участие в основ. деятельности</td>\n      <td>36.0</td>\n      <td>от 20000 до 50000 руб.</td>\n      <td>18000.0</td>\n    </tr>\n    <tr>\n      <th>5202</th>\n      <td>106816094</td>\n      <td>27</td>\n      <td>0</td>\n      <td>Неполное среднее</td>\n      <td>Состою в браке</td>\n      <td>0</td>\n      <td>0</td>\n      <td>1</td>\n      <td>0</td>\n      <td>Владимирская область</td>\n      <td>...</td>\n      <td>1.0</td>\n      <td>8755.0</td>\n      <td>6.0</td>\n      <td>1545.0</td>\n      <td>Сборочные производства</td>\n      <td>Специалист</td>\n      <td>Участие в основ. деятельности</td>\n      <td>36.0</td>\n      <td>от 20000 до 50000 руб.</td>\n      <td>17000.0</td>\n    </tr>\n    <tr>\n      <th>3461</th>\n      <td>106817723</td>\n      <td>28</td>\n      <td>1</td>\n      <td>Высшее</td>\n      <td>Не состоял в браке</td>\n      <td>0</td>\n      <td>0</td>\n      <td>1</td>\n      <td>0</td>\n      <td>Московская область</td>\n      <td>...</td>\n      <td>1.0</td>\n      <td>10448.0</td>\n      <td>6.0</td>\n      <td>0.0</td>\n      <td>Торговля</td>\n      <td>Руководитель высшего звена</td>\n      <td>Участие в основ. деятельности</td>\n      <td>24.0</td>\n      <td>от 20000 до 50000 руб.</td>\n      <td>30000.0</td>\n    </tr>\n    <tr>\n      <th>5154</th>\n      <td>106806594</td>\n      <td>50</td>\n      <td>1</td>\n      <td>Среднее специальное</td>\n      <td>Не состоял в браке</td>\n      <td>5</td>\n      <td>1</td>\n      <td>1</td>\n      <td>0</td>\n      <td>Красноярский край</td>\n      <td>...</td>\n      <td>1.0</td>\n      <td>16048.0</td>\n      <td>6.0</td>\n      <td>4267.0</td>\n      <td>Торговля</td>\n      <td>Работник сферы услуг</td>\n      <td>Участие в основ. деятельности</td>\n      <td>36.0</td>\n      <td>от 10000 до 20000 руб.</td>\n      <td>11000.0</td>\n    </tr>\n  </tbody>\n</table>\n<p>5 rows × 23 columns</p>\n</div>"
     },
     "execution_count": 122,
     "metadata": {},
     "output_type": "execute_result"
    }
   ],
   "source": [
    "df.sample(5)"
   ],
   "metadata": {
    "collapsed": false,
    "ExecuteTime": {
     "end_time": "2023-12-13T19:03:30.105524800Z",
     "start_time": "2023-12-13T19:03:30.060044500Z"
    }
   }
  },
  {
   "cell_type": "code",
   "execution_count": 126,
   "outputs": [
    {
     "data": {
      "text/plain": "ID                          0\nAGE                         0\nGENDER                      0\nEDUCATION                   0\nMARITAL_STATUS              0\nCHILD_TOTAL                 0\nDEPENDANTS                  0\nSOCSTATUS_WORK_FL           0\nSOCSTATUS_PENS_FL           0\nFACT_ADDRESS_PROVINCE       0\nFL_PRESENCE_FL              0\nOWN_AUTO                    0\nAGREEMENT_RK              777\nTARGET                    777\nCREDIT                    777\nTERM                      777\nFST_PAYMENT               777\nGEN_INDUSTRY             2144\nGEN_TITLE                2144\nJOB_DIR                  2144\nWORK_TIME                2145\nFAMILY_INCOME             777\nPERSONAL_INCOME           777\ndtype: int64"
     },
     "execution_count": 126,
     "metadata": {},
     "output_type": "execute_result"
    }
   ],
   "source": [
    "df.isna().sum()"
   ],
   "metadata": {
    "collapsed": false,
    "ExecuteTime": {
     "end_time": "2023-12-13T19:04:46.443784500Z",
     "start_time": "2023-12-13T19:04:46.428138Z"
    }
   }
  },
  {
   "cell_type": "markdown",
   "source": [
    "Из 16_000 строк с данными о клиентах, 777 даже не содержат информацию о таргете - эти строки точно подлежат удалению. Дополнительно 1367 строк не содержат данные об отрасли, месте работы и доходе клиента. Я не вижу смысла сохранять и эти строки для последующего обучения модели. Поэтому принято решение просто удалить все строки с отсутствующими данными.  Оставшийся датасет с 13_855 строками кажется вполне достаточным для тренировки и валидации большинства моделей."
   ],
   "metadata": {
    "collapsed": false
   }
  },
  {
   "cell_type": "code",
   "execution_count": 128,
   "outputs": [],
   "source": [
    "??pd.DataFrame.dropna"
   ],
   "metadata": {
    "collapsed": false,
    "ExecuteTime": {
     "end_time": "2023-12-13T19:22:00.973134700Z",
     "start_time": "2023-12-13T19:22:00.739793200Z"
    }
   }
  },
  {
   "cell_type": "code",
   "execution_count": 132,
   "outputs": [],
   "source": [
    "df.dropna(inplace=True)"
   ],
   "metadata": {
    "collapsed": false,
    "ExecuteTime": {
     "end_time": "2023-12-13T19:38:46.775492500Z",
     "start_time": "2023-12-13T19:38:46.766181800Z"
    }
   }
  },
  {
   "cell_type": "code",
   "execution_count": 133,
   "outputs": [],
   "source": [
    "df.to_pickle('df_clean.p')"
   ],
   "metadata": {
    "collapsed": false,
    "ExecuteTime": {
     "end_time": "2023-12-13T19:39:28.095477Z",
     "start_time": "2023-12-13T19:39:27.950734200Z"
    }
   }
  },
  {
   "cell_type": "markdown",
   "source": [
    "## Задание 2\n",
    "\n",
    "При помощи инструмента Streamlit проведите разведочный анализ данных. В него может входить:\n",
    "\n",
    "* построение графиков распределений признаков\n",
    "* построение матрицы корреляций\n",
    "* построение графиков зависимостей целевой переменной и признаков\n",
    "* вычисление числовых характеристик распределения числовых столбцов (среднее, min, max, медиана и так далее)\n",
    "* любые другие ваши идеи приветствуются!\n",
    "\n",
    "[Пример Streamlit-приложения](https://rateyourflight.streamlit.app) с разведочным анализом, прогнозом модели и оценкой ее результатов."
   ],
   "metadata": {
    "id": "I7jn6IYXx6M9"
   }
  },
  {
   "cell_type": "markdown",
   "source": [
    "Вы можете ознакомиться с созданным и равернутым приложением по адресу: https://banks-clients.streamlit.app/https://banks-clients.streamlit.app/"
   ],
   "metadata": {
    "collapsed": false
   }
  }
 ]
}
